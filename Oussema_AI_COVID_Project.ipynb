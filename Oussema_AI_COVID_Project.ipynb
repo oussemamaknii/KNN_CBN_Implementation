{
 "cells": [
  {
   "cell_type": "code",
   "execution_count": 2,
   "metadata": {
    "id": "RUCy08oYImSj"
   },
   "outputs": [],
   "source": [
    "import pandas as pd\n",
    "import numpy as np\n",
    "from sklearn.preprocessing import OrdinalEncoder\n",
    "from sklearn.decomposition import PCA\n",
    "import matplotlib.pyplot as plt\n",
    "from sklearn.linear_model import LinearRegression as lr\n",
    "from sklearn.preprocessing import StandardScaler\n",
    "from sklearn.model_selection import train_test_split\n",
    "from sklearn.metrics import mean_squared_error as mse\n",
    "from sklearn.cluster import KMeans\n",
    "from sklearn.metrics import silhouette_samples, silhouette_score"
   ]
  },
  {
   "cell_type": "markdown",
   "metadata": {
    "id": "l9sWY0TdOXd0"
   },
   "source": [
    "#1-Analysis of the dataset"
   ]
  },
  {
   "cell_type": "code",
   "execution_count": 3,
   "metadata": {
    "colab": {
     "base_uri": "https://localhost:8080/",
     "height": 581
    },
    "id": "N23a8o8EJA9l",
    "outputId": "8e4af772-772d-47e6-c7fe-c9478ff187cb"
   },
   "outputs": [
    {
     "data": {
      "text/html": [
       "<div>\n",
       "<style scoped>\n",
       "    .dataframe tbody tr th:only-of-type {\n",
       "        vertical-align: middle;\n",
       "    }\n",
       "\n",
       "    .dataframe tbody tr th {\n",
       "        vertical-align: top;\n",
       "    }\n",
       "\n",
       "    .dataframe thead th {\n",
       "        text-align: right;\n",
       "    }\n",
       "</style>\n",
       "<table border=\"1\" class=\"dataframe\">\n",
       "  <thead>\n",
       "    <tr style=\"text-align: right;\">\n",
       "      <th></th>\n",
       "      <th>id</th>\n",
       "      <th>case_in_country</th>\n",
       "      <th>reporting date</th>\n",
       "      <th>Unnamed: 3</th>\n",
       "      <th>summary</th>\n",
       "      <th>location</th>\n",
       "      <th>country</th>\n",
       "      <th>gender</th>\n",
       "      <th>age</th>\n",
       "      <th>symptom_onset</th>\n",
       "      <th>...</th>\n",
       "      <th>recovered</th>\n",
       "      <th>symptom</th>\n",
       "      <th>source</th>\n",
       "      <th>link</th>\n",
       "      <th>Unnamed: 21</th>\n",
       "      <th>Unnamed: 22</th>\n",
       "      <th>Unnamed: 23</th>\n",
       "      <th>Unnamed: 24</th>\n",
       "      <th>Unnamed: 25</th>\n",
       "      <th>Unnamed: 26</th>\n",
       "    </tr>\n",
       "  </thead>\n",
       "  <tbody>\n",
       "    <tr>\n",
       "      <th>0</th>\n",
       "      <td>1</td>\n",
       "      <td>NaN</td>\n",
       "      <td>1/20/2020</td>\n",
       "      <td>NaN</td>\n",
       "      <td>First confirmed imported COVID-19 pneumonia pa...</td>\n",
       "      <td>Shenzhen, Guangdong</td>\n",
       "      <td>China</td>\n",
       "      <td>male</td>\n",
       "      <td>66.0</td>\n",
       "      <td>01/03/20</td>\n",
       "      <td>...</td>\n",
       "      <td>0</td>\n",
       "      <td>NaN</td>\n",
       "      <td>Shenzhen Municipal Health Commission</td>\n",
       "      <td>http://wjw.sz.gov.cn/wzx/202001/t20200120_1898...</td>\n",
       "      <td>NaN</td>\n",
       "      <td>NaN</td>\n",
       "      <td>NaN</td>\n",
       "      <td>NaN</td>\n",
       "      <td>NaN</td>\n",
       "      <td>NaN</td>\n",
       "    </tr>\n",
       "    <tr>\n",
       "      <th>1</th>\n",
       "      <td>2</td>\n",
       "      <td>NaN</td>\n",
       "      <td>1/20/2020</td>\n",
       "      <td>NaN</td>\n",
       "      <td>First confirmed imported COVID-19 pneumonia pa...</td>\n",
       "      <td>Shanghai</td>\n",
       "      <td>China</td>\n",
       "      <td>female</td>\n",
       "      <td>56.0</td>\n",
       "      <td>1/15/2020</td>\n",
       "      <td>...</td>\n",
       "      <td>0</td>\n",
       "      <td>NaN</td>\n",
       "      <td>Official Weibo of Shanghai Municipal Health Co...</td>\n",
       "      <td>https://www.weibo.com/2372649470/IqogQhgfa?fro...</td>\n",
       "      <td>NaN</td>\n",
       "      <td>NaN</td>\n",
       "      <td>NaN</td>\n",
       "      <td>NaN</td>\n",
       "      <td>NaN</td>\n",
       "      <td>NaN</td>\n",
       "    </tr>\n",
       "    <tr>\n",
       "      <th>2</th>\n",
       "      <td>3</td>\n",
       "      <td>NaN</td>\n",
       "      <td>1/21/2020</td>\n",
       "      <td>NaN</td>\n",
       "      <td>First confirmed imported cases in Zhejiang: pa...</td>\n",
       "      <td>Zhejiang</td>\n",
       "      <td>China</td>\n",
       "      <td>male</td>\n",
       "      <td>46.0</td>\n",
       "      <td>01/04/20</td>\n",
       "      <td>...</td>\n",
       "      <td>0</td>\n",
       "      <td>NaN</td>\n",
       "      <td>Health Commission of Zhejiang Province</td>\n",
       "      <td>http://www.zjwjw.gov.cn/art/2020/1/21/art_1202...</td>\n",
       "      <td>NaN</td>\n",
       "      <td>NaN</td>\n",
       "      <td>NaN</td>\n",
       "      <td>NaN</td>\n",
       "      <td>NaN</td>\n",
       "      <td>NaN</td>\n",
       "    </tr>\n",
       "    <tr>\n",
       "      <th>3</th>\n",
       "      <td>4</td>\n",
       "      <td>NaN</td>\n",
       "      <td>1/21/2020</td>\n",
       "      <td>NaN</td>\n",
       "      <td>new confirmed imported COVID-19 pneumonia in T...</td>\n",
       "      <td>Tianjin</td>\n",
       "      <td>China</td>\n",
       "      <td>female</td>\n",
       "      <td>60.0</td>\n",
       "      <td>NaN</td>\n",
       "      <td>...</td>\n",
       "      <td>0</td>\n",
       "      <td>NaN</td>\n",
       "      <td>人民日报官方微博</td>\n",
       "      <td>https://m.weibo.cn/status/4463235401268457?</td>\n",
       "      <td>NaN</td>\n",
       "      <td>NaN</td>\n",
       "      <td>NaN</td>\n",
       "      <td>NaN</td>\n",
       "      <td>NaN</td>\n",
       "      <td>NaN</td>\n",
       "    </tr>\n",
       "    <tr>\n",
       "      <th>4</th>\n",
       "      <td>5</td>\n",
       "      <td>NaN</td>\n",
       "      <td>1/21/2020</td>\n",
       "      <td>NaN</td>\n",
       "      <td>new confirmed imported COVID-19 pneumonia in T...</td>\n",
       "      <td>Tianjin</td>\n",
       "      <td>China</td>\n",
       "      <td>male</td>\n",
       "      <td>58.0</td>\n",
       "      <td>NaN</td>\n",
       "      <td>...</td>\n",
       "      <td>0</td>\n",
       "      <td>NaN</td>\n",
       "      <td>人民日报官方微博</td>\n",
       "      <td>https://m.weibo.cn/status/4463235401268457?</td>\n",
       "      <td>NaN</td>\n",
       "      <td>NaN</td>\n",
       "      <td>NaN</td>\n",
       "      <td>NaN</td>\n",
       "      <td>NaN</td>\n",
       "      <td>NaN</td>\n",
       "    </tr>\n",
       "  </tbody>\n",
       "</table>\n",
       "<p>5 rows × 27 columns</p>\n",
       "</div>"
      ],
      "text/plain": [
       "   id  case_in_country reporting date  Unnamed: 3  \\\n",
       "0   1              NaN      1/20/2020         NaN   \n",
       "1   2              NaN      1/20/2020         NaN   \n",
       "2   3              NaN      1/21/2020         NaN   \n",
       "3   4              NaN      1/21/2020         NaN   \n",
       "4   5              NaN      1/21/2020         NaN   \n",
       "\n",
       "                                             summary             location  \\\n",
       "0  First confirmed imported COVID-19 pneumonia pa...  Shenzhen, Guangdong   \n",
       "1  First confirmed imported COVID-19 pneumonia pa...             Shanghai   \n",
       "2  First confirmed imported cases in Zhejiang: pa...             Zhejiang   \n",
       "3  new confirmed imported COVID-19 pneumonia in T...              Tianjin   \n",
       "4  new confirmed imported COVID-19 pneumonia in T...              Tianjin   \n",
       "\n",
       "  country  gender   age symptom_onset  ...  recovered symptom  \\\n",
       "0   China    male  66.0      01/03/20  ...          0     NaN   \n",
       "1   China  female  56.0     1/15/2020  ...          0     NaN   \n",
       "2   China    male  46.0      01/04/20  ...          0     NaN   \n",
       "3   China  female  60.0           NaN  ...          0     NaN   \n",
       "4   China    male  58.0           NaN  ...          0     NaN   \n",
       "\n",
       "                                              source  \\\n",
       "0               Shenzhen Municipal Health Commission   \n",
       "1  Official Weibo of Shanghai Municipal Health Co...   \n",
       "2             Health Commission of Zhejiang Province   \n",
       "3                                           人民日报官方微博   \n",
       "4                                           人民日报官方微博   \n",
       "\n",
       "                                                link  Unnamed: 21  \\\n",
       "0  http://wjw.sz.gov.cn/wzx/202001/t20200120_1898...          NaN   \n",
       "1  https://www.weibo.com/2372649470/IqogQhgfa?fro...          NaN   \n",
       "2  http://www.zjwjw.gov.cn/art/2020/1/21/art_1202...          NaN   \n",
       "3        https://m.weibo.cn/status/4463235401268457?          NaN   \n",
       "4        https://m.weibo.cn/status/4463235401268457?          NaN   \n",
       "\n",
       "   Unnamed: 22 Unnamed: 23 Unnamed: 24 Unnamed: 25 Unnamed: 26  \n",
       "0          NaN         NaN         NaN         NaN         NaN  \n",
       "1          NaN         NaN         NaN         NaN         NaN  \n",
       "2          NaN         NaN         NaN         NaN         NaN  \n",
       "3          NaN         NaN         NaN         NaN         NaN  \n",
       "4          NaN         NaN         NaN         NaN         NaN  \n",
       "\n",
       "[5 rows x 27 columns]"
      ]
     },
     "execution_count": 3,
     "metadata": {},
     "output_type": "execute_result"
    }
   ],
   "source": [
    "data=pd.read_csv('COVID19_line_list_data.csv')\n",
    "data.head()"
   ]
  },
  {
   "cell_type": "code",
   "execution_count": 4,
   "metadata": {
    "id": "4PMoVaTyewFy"
   },
   "outputs": [],
   "source": [
    "#The first row after the headers is empty, we'll drop it\n",
    "data.drop(data.index[[0]], inplace=True)"
   ]
  },
  {
   "cell_type": "markdown",
   "metadata": {
    "id": "zcyRJFkYOtAn"
   },
   "source": [
    "##Text mining and extraction of information from summary"
   ]
  },
  {
   "cell_type": "code",
   "execution_count": 5,
   "metadata": {
    "colab": {
     "base_uri": "https://localhost:8080/"
    },
    "id": "VNGd4BgKPPKn",
    "outputId": "49ccbbac-12d1-4849-b7eb-3388963b179c"
   },
   "outputs": [
    {
     "data": {
      "text/plain": [
       "(1084, 27)"
      ]
     },
     "execution_count": 5,
     "metadata": {},
     "output_type": "execute_result"
    }
   ],
   "source": [
    "#Shape of the data\n",
    "data.shape"
   ]
  },
  {
   "cell_type": "code",
   "execution_count": 6,
   "metadata": {
    "colab": {
     "base_uri": "https://localhost:8080/"
    },
    "id": "W5NKEX_qOdZl",
    "outputId": "d3a01f71-61d7-45b1-e62a-c7cb4c2e3961"
   },
   "outputs": [
    {
     "data": {
      "text/plain": [
       "id                          0\n",
       "case_in_country           196\n",
       "reporting date              1\n",
       "Unnamed: 3               1084\n",
       "summary                     5\n",
       "location                    0\n",
       "country                     0\n",
       "gender                    183\n",
       "age                       242\n",
       "symptom_onset             522\n",
       "If_onset_approximated     525\n",
       "hosp_visit_date           578\n",
       "exposure_start            957\n",
       "exposure_end              744\n",
       "visiting Wuhan              0\n",
       "from Wuhan                  4\n",
       "death                       0\n",
       "recovered                   0\n",
       "symptom                   814\n",
       "source                      0\n",
       "link                        0\n",
       "Unnamed: 21              1084\n",
       "Unnamed: 22              1084\n",
       "Unnamed: 23              1084\n",
       "Unnamed: 24              1084\n",
       "Unnamed: 25              1084\n",
       "Unnamed: 26              1084\n",
       "dtype: int64"
      ]
     },
     "execution_count": 6,
     "metadata": {},
     "output_type": "execute_result"
    }
   ],
   "source": [
    "#Diplaying count of NaN and choosing which columns to eliminate\n",
    "data.isna().sum()"
   ]
  },
  {
   "cell_type": "code",
   "execution_count": 7,
   "metadata": {
    "colab": {
     "base_uri": "https://localhost:8080/"
    },
    "id": "Fyw8nGhrOfjV",
    "outputId": "bb1c2872-09f5-43b1-f2ab-5ea0b4514a1c"
   },
   "outputs": [
    {
     "data": {
      "text/plain": [
       "id                         0\n",
       "case_in_country          196\n",
       "reporting date             1\n",
       "summary                    5\n",
       "location                   0\n",
       "country                    0\n",
       "gender                   183\n",
       "age                      242\n",
       "symptom_onset            522\n",
       "If_onset_approximated    525\n",
       "hosp_visit_date          578\n",
       "exposure_start           957\n",
       "exposure_end             744\n",
       "visiting Wuhan             0\n",
       "from Wuhan                 4\n",
       "death                      0\n",
       "recovered                  0\n",
       "symptom                  814\n",
       "source                     0\n",
       "link                       0\n",
       "dtype: int64"
      ]
     },
     "execution_count": 7,
     "metadata": {},
     "output_type": "execute_result"
    }
   ],
   "source": [
    "#First step is to drop 6 columns that are fully empty\n",
    "list_to_drop=[\"Unnamed: 3\", \"Unnamed: 25\", \"Unnamed: 21\", \"Unnamed: 22\", \"Unnamed: 23\", \"Unnamed: 24\",\"Unnamed: 25\",\"Unnamed: 26\"]\n",
    "data2= data.drop(columns=list_to_drop)\n",
    "data2.isna().sum()"
   ]
  },
  {
   "cell_type": "markdown",
   "metadata": {
    "id": "QR73w3rhP0UQ"
   },
   "source": [
    "Now let's explore content in more depth"
   ]
  },
  {
   "cell_type": "code",
   "execution_count": 8,
   "metadata": {
    "colab": {
     "base_uri": "https://localhost:8080/"
    },
    "id": "-8MNmIHfRI_M",
    "outputId": "24aab4b3-812e-4748-fe99-0fe197964a8f"
   },
   "outputs": [
    {
     "name": "stdout",
     "output_type": "stream",
     "text": [
      "id ######### values:  {2, 3, 4, 5, 6, 7, 8, 9, 10, 11, 12, 13, 14, 15, 16, 17, 18, 19, 20, 21, 22, 23, 24, 25, 26, 27, 28, 29, 30, 31, 32, 33, 34, 35, 36, 37, 38, 39, 40, 41, 42, 43, 44, 45, 46, 47, 48, 49, 50, 51, 52, 53, 54, 55, 56, 57, 58, 59, 60, 61, 62, 63, 64, 65, 66, 67, 68, 69, 70, 71, 72, 73, 74, 75, 76, 77, 78, 79, 80, 81, 82, 83, 84, 85, 86, 87, 88, 89, 90, 91, 92, 93, 94, 95, 96, 97, 98, 99, 100, 101, 102, 103, 104, 105, 106, 107, 108, 109, 110, 111, 112, 113, 114, 115, 116, 117, 118, 119, 120, 121, 122, 123, 124, 125, 126, 127, 128, 129, 130, 131, 132, 133, 134, 135, 136, 137, 138, 139, 140, 141, 142, 143, 144, 145, 146, 147, 148, 149, 150, 151, 152, 153, 154, 155, 156, 157, 158, 159, 160, 161, 162, 163, 164, 165, 166, 167, 168, 169, 170, 171, 172, 173, 174, 175, 176, 177, 178, 179, 180, 181, 182, 183, 184, 185, 186, 187, 188, 189, 190, 191, 192, 193, 194, 195, 196, 197, 198, 199, 200, 201, 202, 203, 204, 205, 206, 207, 208, 209, 210, 211, 212, 213, 214, 215, 216, 217, 218, 219, 220, 221, 222, 223, 224, 225, 226, 227, 228, 229, 230, 231, 232, 233, 234, 235, 236, 237, 238, 239, 240, 241, 242, 243, 244, 245, 246, 247, 248, 249, 250, 251, 252, 253, 254, 255, 256, 257, 258, 259, 260, 261, 262, 263, 264, 265, 266, 267, 268, 269, 270, 271, 272, 273, 274, 275, 276, 277, 278, 279, 280, 281, 282, 283, 284, 285, 286, 287, 288, 289, 290, 291, 292, 293, 294, 295, 296, 297, 298, 299, 300, 301, 302, 303, 304, 305, 306, 307, 308, 309, 310, 311, 312, 313, 314, 315, 316, 317, 318, 319, 320, 321, 322, 323, 324, 325, 326, 327, 328, 329, 330, 331, 332, 333, 334, 335, 336, 337, 338, 339, 340, 341, 342, 343, 344, 345, 346, 347, 348, 349, 350, 351, 352, 353, 354, 355, 356, 357, 358, 359, 360, 361, 362, 363, 364, 365, 366, 367, 368, 369, 370, 371, 372, 373, 374, 375, 376, 377, 378, 379, 380, 381, 382, 383, 384, 385, 386, 387, 388, 389, 390, 391, 392, 393, 394, 395, 396, 397, 398, 399, 400, 401, 402, 403, 404, 405, 406, 407, 408, 409, 410, 411, 412, 413, 414, 415, 416, 417, 418, 419, 420, 421, 422, 423, 424, 425, 426, 427, 428, 429, 430, 431, 432, 433, 434, 435, 436, 437, 438, 439, 440, 441, 442, 443, 444, 445, 446, 447, 448, 449, 450, 451, 452, 453, 454, 455, 456, 457, 458, 459, 460, 461, 462, 463, 464, 465, 466, 467, 468, 469, 470, 471, 472, 473, 474, 475, 476, 477, 478, 479, 480, 481, 482, 483, 484, 485, 486, 487, 488, 489, 490, 491, 492, 493, 494, 495, 496, 497, 498, 499, 500, 501, 502, 503, 504, 505, 506, 507, 508, 509, 510, 511, 512, 513, 514, 515, 516, 517, 518, 519, 520, 521, 522, 523, 524, 525, 526, 527, 528, 529, 530, 531, 532, 533, 534, 535, 536, 537, 538, 539, 540, 541, 542, 543, 544, 545, 546, 547, 548, 549, 550, 551, 552, 553, 554, 555, 556, 557, 558, 559, 560, 561, 562, 563, 564, 565, 566, 567, 568, 569, 570, 571, 572, 573, 574, 575, 576, 577, 578, 579, 580, 581, 582, 583, 584, 585, 586, 587, 588, 589, 590, 591, 592, 593, 594, 595, 596, 597, 598, 599, 600, 601, 602, 603, 604, 605, 606, 607, 608, 609, 610, 611, 612, 613, 614, 615, 616, 617, 618, 619, 620, 621, 622, 623, 624, 625, 626, 627, 628, 629, 630, 631, 632, 633, 634, 635, 636, 637, 638, 639, 640, 641, 642, 643, 644, 645, 646, 647, 648, 649, 650, 651, 652, 653, 654, 655, 656, 657, 658, 659, 660, 661, 662, 663, 664, 665, 666, 667, 668, 669, 670, 671, 672, 673, 674, 675, 676, 677, 678, 679, 680, 681, 682, 683, 684, 685, 686, 687, 688, 689, 690, 691, 692, 693, 694, 695, 696, 697, 698, 699, 700, 701, 702, 703, 704, 705, 706, 707, 708, 709, 710, 711, 712, 713, 714, 715, 716, 717, 718, 719, 720, 721, 722, 723, 724, 725, 726, 727, 728, 729, 730, 731, 732, 733, 734, 735, 736, 737, 738, 739, 740, 741, 742, 743, 744, 745, 746, 747, 748, 749, 750, 751, 752, 753, 754, 755, 756, 757, 758, 759, 760, 761, 762, 763, 764, 765, 766, 767, 768, 769, 770, 771, 772, 773, 774, 775, 776, 777, 778, 779, 780, 781, 782, 783, 784, 785, 786, 787, 788, 789, 790, 791, 792, 793, 794, 795, 796, 797, 798, 799, 800, 801, 802, 803, 804, 805, 806, 807, 808, 809, 810, 811, 812, 813, 814, 815, 816, 817, 818, 819, 820, 821, 822, 823, 824, 825, 826, 827, 828, 829, 830, 831, 832, 833, 834, 835, 836, 837, 838, 839, 840, 841, 842, 843, 844, 845, 846, 847, 848, 849, 850, 851, 852, 853, 854, 855, 856, 857, 858, 859, 860, 861, 862, 863, 864, 865, 866, 867, 868, 869, 870, 871, 872, 873, 874, 875, 876, 877, 878, 879, 880, 881, 882, 883, 884, 885, 886, 887, 888, 889, 890, 891, 892, 893, 894, 895, 896, 897, 898, 899, 900, 901, 902, 903, 904, 905, 906, 907, 908, 909, 910, 911, 912, 913, 914, 915, 916, 917, 918, 919, 920, 921, 922, 923, 924, 925, 926, 927, 928, 929, 930, 931, 932, 933, 934, 935, 936, 937, 938, 939, 940, 941, 942, 943, 944, 945, 946, 947, 948, 949, 950, 951, 952, 953, 954, 955, 956, 957, 958, 959, 960, 961, 962, 963, 964, 965, 966, 967, 968, 969, 970, 971, 972, 973, 974, 975, 976, 977, 978, 979, 980, 981, 982, 983, 984, 985, 986, 987, 988, 989, 990, 991, 992, 993, 994, 995, 996, 997, 998, 999, 1000, 1001, 1002, 1003, 1004, 1005, 1006, 1007, 1008, 1009, 1010, 1011, 1012, 1013, 1014, 1015, 1016, 1017, 1018, 1019, 1020, 1021, 1022, 1023, 1024, 1025, 1026, 1027, 1028, 1029, 1030, 1031, 1032, 1033, 1034, 1035, 1036, 1037, 1038, 1039, 1040, 1041, 1042, 1043, 1044, 1045, 1046, 1047, 1048, 1049, 1050, 1051, 1052, 1053, 1054, 1055, 1056, 1057, 1058, 1059, 1060, 1061, 1062, 1063, 1064, 1065, 1066, 1067, 1068, 1069, 1070, 1071, 1072, 1073, 1074, 1075, 1076, 1077, 1078, 1079, 1080, 1081, 1082, 1083, 1084, 1085}\n",
      "case_in_country ######### values:  {1.0, 2.0, 3.0, 4.0, 5.0, 6.0, 7.0, 8.0, 9.0, 10.0, 11.0, 12.0, 13.0, 14.0, 15.0, 16.0, 17.0, 18.0, 19.0, 20.0, 21.0, 22.0, 23.0, 24.0, 25.0, 26.0, 27.0, 28.0, 29.0, 30.0, 31.0, 32.0, 33.0, 34.0, 35.0, 36.0, 37.0, 38.0, 39.0, 40.0, 41.0, 42.0, 43.0, 44.0, 45.0, 46.0, 47.0, 48.0, 49.0, 50.0, 51.0, 52.0, 53.0, 54.0, 55.0, 56.0, 57.0, 58.0, 59.0, 60.0, 61.0, 62.0, 63.0, 64.0, 65.0, 66.0, 67.0, 68.0, 69.0, 70.0, 71.0, 72.0, 73.0, 74.0, 75.0, 76.0, 77.0, 78.0, 79.0, 80.0, 81.0, 82.0, 83.0, 84.0, 85.0, 86.0, 87.0, 88.0, 89.0, 90.0, 91.0, 92.0, 93.0, 94.0, 95.0, 96.0, 97.0, 98.0, 99.0, 100.0, 101.0, 102.0, 103.0, 104.0, 105.0, 106.0, 107.0, 108.0, 109.0, 110.0, 111.0, 112.0, 113.0, 114.0, 115.0, 116.0, 117.0, 118.0, 119.0, 120.0, 121.0, 122.0, 123.0, 124.0, 125.0, 126.0, 127.0, 128.0, 129.0, 130.0, 131.0, 132.0, 133.0, 134.0, 135.0, 136.0, 137.0, 138.0, 139.0, 140.0, 141.0, 142.0, 143.0, 144.0, 145.0, 146.0, 147.0, 148.0, 149.0, 150.0, 151.0, 152.0, 153.0, 154.0, 155.0, 156.0, 157.0, 158.0, 159.0, 160.0, 161.0, 162.0, 163.0, 164.0, 165.0, 166.0, 167.0, 168.0, 169.0, 170.0, 171.0, 172.0, 173.0, 174.0, 175.0, 176.0, 177.0, 178.0, 179.0, 180.0, 181.0, 182.0, 183.0, 184.0, 185.0, 186.0, 187.0, 188.0, 189.0, 190.0, 'NaN', 286.0, 298.0, 875.0, 365.0, 925.0, 1443.0, 443.0}\n",
      "reporting date ######### values:  {'2/20/2020', '1/24/2020', '1/28/2020', '02/10/20', '2/19/2020', '1/27/2020', '2/23/2020', '1/29/2020', '02/01/20', '2/13/2020', '02/11/20', '2/21/2020', '2/25/2020', '02/06/20', '1/22/2020', '1/31/2020', '2/28/2020', '02/02/20', '1/21/2020', '2/16/2020', '2/22/2020', '1/25/2020', '02/03/20', '1/13/2020', '2/14/2020', '02/09/20', '2/26/2020', '02/07/20', '1/17/2020', '02/04/20', '2/18/2020', '2/17/2020', '2/24/2020', '1/26/2020', 'NaN', '1/30/2020', '1/20/2020', '1/23/2020', '2/27/2020', '1/15/2020', '02/12/20', '02/08/20', '02/05/20', '2/15/2020'}\n",
      "summary ######### values:  {'new confirmed COVID-19 patient in South Korea: male, 25, Korean, confirmed on 1/31/2020, related to sixth patient 1/30-No.2, symptom onset on 1/30/2020 (sore body)', 'new confirmed COVID-19 patient in Germany: wife of a man who tested positive and worked at the company, two children also tested positive', 'new confirmed COVID-19 patient in Germany: female, 24, accompanied case 17 to Milan, Baden-Wurttemberg', 'new confirmed imported COVID-19 pneumonia patient in Yunnan: female, 19, works in Wuhan, visited Kunming, Yunnan on 01/15/2020, hospitalized on 01/24/2020', 'new confirmed COVID-19 patient in Hong Kong: female, 57, mother of 2/9-No.1, had hot pot with him 1/26', 'new confirmed domestic COVID-19 patient in Taiwan: female, married to 1/30-No.1, symptom onset 1/27/2020, hospitalized 1/28/2020, confirmed 1/30/2020', 'new confirmed COVID-19 patient in Singapore: 1/26-No.1, male, 36, Wuhan resident, arrived in Sentosa,Singapore 1/22/2020, symptom onset 1/23/2020 (cough), went to hospital on 1/24/2020.', 'new confirmed COVID-19 patient in South Korea: male, 35, symptom onset 2/2 (cough, fever), Seoul', 'new confirmed COVID-19 patient in Japan: male, 10s, Hokkaido, symptom onset 2/18, went to medical instutition 2/19,', 'new confirmed COVID-19 patient in Vietnam: same flight from Wuhan to Vietnam as three patients detected on 1/30', 'new confirmed COVID-19 patient in UAE: Chinese national', 'new confirmed COVID-19 patient in Malaysia: female, 53, returned to Malaysia from Japan on 2/23', 'new confirmed COVID-19 patient in Singapore: male, 47', 'Death from COVID-19 pneumonia in Wuhan: female, 70, hospitalized on 01/13/2020, death on 01/21/2020.', 'new confirmed COVID-19 patient in Japan: female, 70s, Tokyo, symptom onset 2/1 (fever, cough, malaise)', 'new confirmed COVID-19 patient in UAE: Iranian, traveled from Iran', 'new confirmed COVID-19 patient in Spain: female, 36, Barcelona, visited Bergamo and Milan between 2/12-2/22, contacted authorities 2/24 after experiencing flu-like symptoms', 'new confirmed imported COVID-19 pneumonia patient in Chengdu, Sichuan: male, 48, return to Chengdu from Wuhan on 01/10/2020, symptom onset on 01/18/2020 and hospitalized.', 'new confirmed COVID-19 patient in South Korea: 1/30-No.1, male, 32, visited Wuhan and returned to 1/24/2020, no symptom on arrival', 'new confirmed COVID-19 patient in UAE: from Bangladesh, 39', 'new confirmed COVID-19 patient in Singapore: male, 71, symptom onset 2/1, clinic 2/1, 2/5, went to clinic 2/6, hospital 2/7', 'new confirmed COVID-19 patient in Hong Kong: male, 23, cousin of 2/9-No.1, had hot pot with him 1/26', 'new confirmed COVID-19 patient in Spain: Castile and Leon, male, 30, Iranian, working in Spain', 'new confirmed COVID-19 patient in UK: contracted while in Iran', 'new confirmed COVID-19 patient in Japan: male, 30s, returned to Wuhan on third flight 1/31/2020, no symptoms', 'new confirmed COVID-19 patient in US: male, in his 60s, husband of 1/24-No.1, Chicago, admitted to hospital 1/28/2020, symptom onset 1/28/2020', 'new COVID-19 patient confirmed in Bahrain: returning from Iran', 'new confirmed COVID-19 patient in UAE: male, 8, 1/29-No.4 (son), arrived as tourists 1/16/2020, admitted into hospital', 'new confimed COVID-19 patient in Malaysia: female, 39, from Wuhan, daughter of case 16', 'new confirmed imported COVID-19 pneumonia patient in Hunan: male, 40, symptom onset on 01/05/2020, hospitalized on 01/20/2020, prior exposure to Wuhan.', 'new confirmed COVID-19 patient in Singapore: female, 31, Chinese national, arrived in Singapore from Wuhan 1/22/2020, tested positive 2/1/2020', 'new confirmed COVID-19 patient in South Korea: male, Seoul, 75', 'new confirmed COVID-19 patient in UAE: Filipino national, 34', 'new confirmed COVID-19 patient in Vancouver, Canada: female, 30s, related to case 5, visitors from Wuhan', 'new confirmed COVID-19 patient in Japan: male, 60s, lives in Wakayama, hospitalized 2/11, symptom onset 2/16 (fever)', 'new confirmed COVID-19 pneumonia patient in Yunnan: female, 36, Wuhan resident, arrived in Yunnan on 01/22/2020, hospitalized on 01/24/2020.', 'new confirmed COVID-19 patient in France: Montpellier, male, 31, recently returned from Lombardy, Italy by plane, hospitalized 2/27', 'new confirmed COVID-19 patient in Germany: Baden-Wuerttemberg, male, returned from ski holiday in Italy', 'new confirmed COVID-19 patient in Thailand: female, 31, relative who recently returned from China', 'new confirmed COVID-19 patient in Japan: Hokkaido, male, 40s, visited doctor due to fever and cough 2/24', 'new confirmed COVID-19 patient in Hong Kong: male, 26, son of case 76, fever and cough 2/20, went to hospital 2/21, admitted 2/24', 'new confirmed COVID-19 patient in Japan: female, in her 30s, Wuhan resident, arrived in Japan 01/18/2020, symptom onset on 01/21/2020 (fever, coughing), confirmed 1/23/2020 but not hospitalized (only minor symptoms), visited medical institution in Tokyo on 1/23/2020', 'new confirmed COVID-19 patient in Japan: female, 70s, symptom onset 2/22 (fever), visited doctor 2/22, Nagoya City', 'new confirmed COVID-19 patient in Japan: Hokkaido, male, 30s, fever, headache, malaise, joint pain 2/24, went to doctor 2/25', 'First confirmed imported COVID-19 pneumonia patient in Fujian: male, 70, works in Wuhan, return to Fujian on 01/17/2020, visit clinic on 01/20/2020.', 'new confirmed imported COVID-19 pneumonia patient in Yunnan: female, 68, Wuhan resident, left Wuhan on 01/20/2020, arrived in Ruili, Yunnan on 01/23/2020, hospitalized on 01/24/2020', 'new confirmed COVID-19 patient in Toronto, Canada: male, 56, tested positive at provincial facility days after returning to Toronto from Wuhan via Guangzhou on 1/22/2020, mild symptoms on flight, a day after he went home a family member reported he felt ill, fever, cough, symptom onset 1/23', 'new confirmed COVID-19 patient in South Korea: male, 30', 'new confirmed COVID-19 patient in South Korea: male, 62, died 2/23/20, Cheongdo Daenam Hospital cluster', 'new confirmed COVID-19 patient in Japan: Kanagawa, male, 60s, identified as close contact and tested 2/25, hospitalized 2/26, now has fever, cough, malaise', 'new confirmed imported COVID-19 pneumonia patient in Sichuan: male, 19, visited Chengdu from Wuhan on 01/13/2020, symptoms onset on 01/20/2020.', 'new confirmed COVID-19 patient in France: Annecy, 60s, friend of case 14 and 18', 'confirmed COVID-19 pneumonia patient No.14 in Tianjin: male, 71, Wuhan resident, visited Malaysia from 01/19/2020 to 01/25/2020, arrived in Tianjin on 01/25/2020, symptom onset on 01/25/2020, hospitalized on 01/25/2020, confirmed on 01/26/2020', 'new confirmed COVID-19 patient in Hong Kong: male, 25, lives in Kowloon City, now in hospital, had not travelled outside Hong Kong, symptom onset 1/28/2020 (cough, runny nose, diarrhea), went to hospital 1/29/2020', 'new confirmed imported COVID-19 pneumonia patient in Henan: male, 28, Henan resident, visited Wuhan on 01/09/2020 to treat diabetes, returned to Henan on 01/19/2020.', 'new confirmed COVID-19 patient in Thailand: female, 57, Wuhan resident', 'new confirmed COVID-19 patient in Thailand: 2/5-No.1, Thai, just returned from Japan', 'new confirmed COVID-19 patient in Hong Kong: male, 58, went to Zhongshan and Macau', 'new confirmed COVID-19 patient in Kerala, India: female, student at Wuhan University, isolated in hospital', 'new confirmed imported COVID-19 pneumonia patient in Dazhou, Sichuan: male, 36, return to Dazhou from Wuhan on 01/17/2020, symptom onset on 01/18/2020 and hospitalized.', 'confirmed imported COVID-19 pneumonia patient No.10 in Tianjin: male, 30, Beijing resident, visited Wuhan from 01/18/2020 to 01/20/2020, arrived in Tianjin on 01/24/2020, symptom onset on 01/24/2020, visited fever clinic on 01/24/2020, confirmed on 01/25/2020', 'new confirmed imported COVID-19 pneumonia patient (medical doctor No.3) in Beijing: male, sit next to medical doctor No.2 during a conference on 01/14/2020, symptom onset on 01/18/2020, visited clinic on 01/20/2020, confirmed on 01/25/2020', 'new confirmed imported COVID-19 pneumonia patient in Sichuan: female, 28, visited Chengdu from Wuhan on 01/17/2020, symptoms onset on 01/19/2020.', 'new confirmed COVID-19 patient in South Korea: female, 28, Korean, informed as the contact of fifth patient 1/30-No.1, confirmed 1/30/2020, stayed home after onset of symptom', 'new confirmed COVID-19 patient in Nepal: male, 32, studying in Wuhan, arrived in Nepal 1/13/2020 from China, visited Kathmandu hospital (fever, breathing problems) 1/13/2020, discharged, symptom onset 1/3 (cough), discharged 1/17', 'new confirmed COVID-19 patient in Hong Kong: female, 56, married to 2/4-No.1, sent to hospital in Kwun Tong, symptom onset 2/4/2020 (fever)', 'Death from COVID-19 pneumonia in Wuhan: male, 65, symptom onset on 01/05/2020, hospitalized on 01/11/2020, death on 01/21/2020.', 'new death from COVID-19 pneumonia, male, 81, symptom onset on 01/09/2020, hospitalized on 01/13/2020, death on 01/21/2020', \"new confirmed COVID-19 patient in Taiwan: female, 60, symptom onset 1/22 (fever, cough), went to doctor's four times before being diagnosed with pneumonia 1/29, hospitalized 1/30, moved to negative-pressure isolation room on 2/17, positive 2/19\", 'new confimed COVID-19 patient in Singapore: male, 41, Singapore citizen, no recent travel history, admitted to hospital on 2/3, symptom onset 1/28/2020 (fever), visited clinic 1/29/2020 and 1/30/2020', 'new confirmed COVID-19 patient in Japan: male, 80s, lives in Sagamihara City', 'new confirmed COVID-19 patient in Japan: male, 30s, went to party 1/18, from Tokyo, symptom onset 2/3 (fever, malaise), home medical treatment 2/4, visited again 2/5, again on 2/8,', 'new confirmed COVID-19 patient in Singapore: 35, male, contact of case 50, symptom onset 2/10, went to clinic 2/10 and 2/11, went to hospital 2/12, transferred to NCID 2/12', 'new confirmed COVID-19 patient in South Korea: male, 41, died 2/22', 'new confirmed COVID-19 patient in South Korea: male, 62, symptom onset 2/2 (fever, headache), hospitalized 2/5-2/22', 'new confirmed COVID-19 patient in Japan: Kanagawa Prefecture, male, 50s, symptom onset 2/14 (fever), went to doctor 2/17, visited second doctor 2/19, fever, respiratory distress, and malaise increased 2/23, went to second doctor 2/23, transferred to third institution and hospitalized', 'new confirmed COVID-19 pneumonia patient in Macau: female, 21, Wuhan resident, visited Macao on 01/23/2020, symptom onset on 01/25/2020, hospitalized on 01/25/2020, confirmed on 01/26/2020', 'First confirmed imported COVID-19 pneumonia patient in Jilin: female, 36, return to Changchun, Jilin from Wuhan on 01/19/2020 and visit clinic due to symptom onset.', 'First confirmed imported COVID-19 pneumonia patient in Guizhou: male, 51, lives in Wuhan, symptom onset on 01/14/2020, visit clinic on 01/14/2020.', 'new confirmed COVID-19 patient in South Korea: male, 64', 'new confirmed COVID-19 patient in Spain: Andalusia, Seville, 58, male, doctor who had contact with case 12', 'new confirmed COVID-19 patient in Japan: male, 50s, Hokkaido, symptom onset 1/31 (fever, cough, malaise), visited medical instutition on 2/3, returned 2/4, hospitalized 2/11', 'new confirmed COVID-19 patient in Hong Kong: 1/24-No.1, married to 1/27-No.1, female, 62, lives in Wuhan, travelled from Wuhan to Shenzhenbei and then Hong Kong by train on 1/19/2020, symptom onset 1/20/2020 (fever, cough), hospitalized 1/23/2020, admitted for isolation 1/24/2020', 'new confirmed COVID-19 patient in Hong Kong: 1/29-No.2, married to 1/29-No.1, male, 72, live in Wuhan, arrived by flight 1/22/2020, admitted to hospital 1/28/2020', 'new confirmed COVID-19 patient in South Korea: female, 26', 'new confirmed COVID-19 patient in Japan: male, in his 50s, arrived on first evacuation flight from China on 1/29/2020 from Wuhan, treated in special medical faculity, symptoms (throat pain, fever), Wuhan resident, symptom onset 1/29/2020', 'First confirmed imported COVID-19 pneumonia patient in Shanghai (from Wuhan): female, 56, Wuhan residence, arrived in Shanghai from Wuhan on 01/12/2020, symptom onset and visited fever clinic on 01/15/2020, laboratory confirmed on 01/20/2020', 'new confirmed COVID-19 patient in Japan: Ishikawa Prefecture, male, 60s, symptom onset 2/16 (fever, sore throat), visited doctor 2/17, visited another doctor 2/19 and 2/22, visited fourth doctor 2/23', 'new confirmed COVID-19 patient in South Korea: female, 54, same cluster as case 31', 'new confirmed COVID-19 patient in Taiwan: female, 50s', 'new confirmed COVID-19 patient in Singapore: female, 54, linked to Grace Assembly of God, symptom onset 2/10, went to clinic 2/11, went to NCID 2/12', 'new confirmed COVID-19 patient in Japan: 1/28-No.1, male, in his 60s, lives in Nara Prefecture, did not travel to Wuhan but drove buses with tour groups from Wuhan from 1/8/2020-1/16/2020, first Japanese confirmed, diagnosed with pneumonia 1/25/2020 and hospitalized on 1/17/2020, symptom onset 1/14/2020 (cough, chills, joint pain)', 'new confirmed COVID-19 patient in South Korea: male, 28, evacuated from Wuhan and quarantined with sore throat', 'new confirmed COVID-19 patient in Singapore: male, 55, symptom onset 2/10, went to NCID 2/12, linked to cluster at Grace Assemly of God', 'new confirmed COVID-19 patient in Malaysia: female, 67, from Wuhan, mother of a friend of 2/6-No.1, arrived for holiday on 1/25', 'new confirmed COVID-19 patient in Japan: Tokyo, male, 80s, symptom onset 2/22 (fever, cough, sputum, dyspnea)', 'new confirmed imported COVID-19 pneumonia patient in Guangxi: female, 62, Wuhan resident, symptom onset on 01/09/2020, arrived in Beihai, Guangxi on 01/15/2020, hospitalized on 01/21/2020, tested postive on 01/22/2020.', 'Death from COVID-19 pneumonia in Wuhan: male, 55, symptom onset on 01/09/2020, hospitalized on 01/19/2020, death on 01/24/2020', 'new confirmed COVID-19 patient in Singapore: 71, female, family member of case 41, under quarantine since 2/7', 'new confirmed COVID-19 patient in Japan: Hokkaido, female, 20s, sore throat 2/19, fever 2/21, went to doctor 2/24, traveling to Osaka early February', 'new confirmed COVID-19 patient in Malaysia: 2/4-No.1, male, 41, Malaysian citizen, travelled to Singapore from 1/16-1/23 with colleagues from China, including one from Wuhan, from Selangor, went to hospital 1/29 for fever and cough, referred to hospital on 2/2', 'new confirmed COVID-19 patient in France: Annecy, 30s, female, daughter of case 14 and 18', 'new confirmed COVID-19 patient in Singapore: female, 54, linked to Grace Assembly of God, symptom onset 2/10, went to clinic on 2/13, send to NCID', 'new confirmed COVID-19 patient in Japan: Hokkaido, symptom onset 2/16 (cough), hospitalized 2/17, died 2/25', 'new confirmed COVID-19 patient in Singapore: male, 28, linked to cluster at Grace Assemly of God, symptom onset 1/29, went to clinic on 2/2, 2/5, 2/12, referred to NCID 2/12', 'new confirmed COVID-19 patient in Japan: Hokkaido, male, 70s, fatigue 2/16, fever 2/18, went to doctor 2/20, consulted second doctor 2/24, close contact with other infected patients', 'new confirmed COVID-19 patient in Japan: Hokkaido, female, 60s', 'new confirmed imported COVID-19 pneumonia patient in Liaoning: male, 42, arrived in Liaoning from Wuhan on 01/18/2020, symptom onset on 01/19/2020, hospitalized on 01/22/2020.', 'new confirmed COVID-19 patient in Japan: Sagamihara City, female, 20s, symptom onset 2/21 (cough, sneeze), father diagnosed 2/22', 'new confirmed COVID-19 patient in Hong Kong: male, 35, symptom onset 2/19 (fever, cough), went to hospital 2/21, went to Shenzhen between 2/3-2/7', 'new COVID-19 patient confirmed in Bahrain:', 'new confirmed COVID-19 patient in Singapore: 50, male, linked to cluster at Grace Assembly of God, symptom onset 2/16, went to NCID on 2/17', 'new confirmed COVID-19 patient in Hong Kong: female, 51, aunt of 2/9-No.1, had hot pot with him 1/26', 'new confirmed imported COVID-19 pneumonia patient in Yunnan: male, 49, resident of Huangshi, Hubei, arrived in Qunming, Yunnan on 01/21/2020, hospitalized on 01/23/2020.', 'new confirmed COVID-19 patient in Hong Kong: male, 58, lives in Zhuhai, developed fever and cough 2/4, returned to HK 2/5, consulted doctor 2/6, went to hospital 2/6, traveled from Zhuhai to Macao back and forth during incubation period', 'new confirmed COVID-19 pneumonia patient No.17 in Tianjin: male, 49, Tianjin resident, close contact with patient No. 5, fever on 01/26/2020, visited clinic on 01/26/2020', 'new confirmed COVID-19 patient in France: Lyon, male, 50, hospitalized 2/26', 'new confirmed COVID-19 patient in South Australia: male, 60, from Wuhan, now hospitalized, arrived on 1/21/2020', 'new confirmed COVID-19 patient in Hong Kong: female, 83, mother-in-law of case 57, mother of case 60, symptom onset 2/14 (runny nose), suffered from fractures caused by a fall on 2/15 and admitted to hospital, surgery on 2/16', 'Death from COVID-19 pneumonia in Wuhan: female, 66, symptom onset on 01/09/2020, hospitalized on 01/19/2020, death on 01/21/2020', 'new confirmed COVID-19 patient in France: 9, in contact with Briton who had been in Singapore and was positive', 'new confirmed COVID-19 patient in Hong Kong: female, 89, cough since 2/25, went to clinic 2/26', 'new confirmed COVID-19 patient in London, UK: male, doctor part of group skiing with 2/6-No.1 from 1/24-1/28', 'new confirmed COVID-19 patient in Hong Kong: 1/24-No.2, married to 1/24-No.3, female, 62, took train from Wuhan to Hong Kong on 1/22/2020, symptom onset 1/23/2020 (fever), went to hospital 1/23/2020 and admitted for isolation', 'new confirmed COVID-19 patient in Singapore: 29, male, linked to cluster at Grace Assembly of God, symptom onset 2/12, went to urgent care center 2/12 and 2/15', 'new confirmed COVID-19 patient in Japan: Nagoya, male, 60s, fever, cough, headache, went to doctor 2/26', 'new confirmed COVID-19 patient in Japan: male, 60s, symptom onset 2/6 (fever, malaise), visited medical instutition 2/7, 2/10, 2/12, 2/13', 'new confirmed COVID-19 patient in Japan: male, in his 30s, Kanagawa resident, symptom onset 1/3/2020 in Wuhan (fever), returned to Japan 1/6/2020 and hospitalized, went to medical institution on 1/6/2020 and hospitalized 1/10/2020, recovered and discharged on 1/15/2020, in close contact with infected people', 'new confirmed imported COVID-19 pneumonia patient in Beijing: male, 42, visited Wuhan on 01/11/2020 and 01/18/2020 twice, returned to Beijing on 01/19/2020, symptom onset on 01/20/2020.', 'new confirmed COVID-19 patient in Japan: female, 60s, lives in Okinawa Prefecture, symptom onset 2/5 (cough, joint pain), visited medical institution 2/12', 'new confirmed COVID-19 patient in Japan: Tokyo, male, 40s, symptom onset 2/13 (Fever, malaise)', 'new confirmed COVID-19 patient in Hong Kong: female, 68, symptom onset 2/19 (cough), went to doctor 2/23', 'new confirmed COVID-19 patient in Hong Kong: female, 96, symptom onset 2/13 (fever, cough), went to hospital 2/22 and admitted', 'new confirmed imported COVID-19 pneumonia patient 01/25-No.4 in Shaanxi: male, 46, Wuhan resident, arrived in Shanxi on 01/20/2020, symptom onset on 01/23/2020, confirmed on 01/25/2020', 'new confirmed COVID-19 patient in Japan: female, 70s, Hokkaido, symptom onset 2/6 (cough, sputum), fever 2/9, sore throat and malaise 2/10, hospitalized 2/10', 'new confirmed COVID-19 patient in Japan: male, 70s, symptom onset 2/1 (cold, fever), visited medical institution 2/6', 'new confirmed COVID-19 patient in Japan: male, 50s, Hokkaido, symptom onset 2/17 (fever, difficulty breathing), went to doctor 2/18 and 2/19, fever 2/21 so visited second doctor, third doctor 2/21', 'new confirmed COVID-19 patient in Japan: Hokkaido, female, 20s, symptom onset 2/18 (fever), went to doctor 2/23', 'new confirmed COVID-19 patient in South Korea: 2/4-No.1, female, 42, flew back to South Korea on 1/19/2020 after traveling for five days in Thailand, symptom onset 1/25/2020 (chills)', 'new confirmed COVID-19 patient in Japan: Sapporo City, female, 70s, symptom onset 2/21 (fever, cough), visited medical institution 2/22, visited hospital 2/23', 'new confirmed COVID-19 patient in South Korea: female, 37, family member of 25th confirmed case, visited Guangdong from November 2019-January 31', 'new confirmed COVID-19 patient in Singapore: female, 42, Chinese national, arrived in Singapore from Wuhan on 1/21/2020, daughter of 1/30-No.1,', 'Death from COVID-19 pneumonia in Wuhan: female, 80, symptom onset on 01/11/2020, hospitalized on 01/18/2020, death on 01/22/2020.', 'new confirmed COVID-19 patient in Japan: female, 70s, Tokyo, symptom onset 2/3 (cough, sputum, dyspnea)', 'new confirmed COVID-19 patient in Singapore: 38, female, linked to case 66, symptom onset 2/4, went to clinic 2/4 and 2/10', 'new confirmed COVID-19 patient in Hong Kong: male, 57, Diamond Princess cruise from 1/25-2/21, returned by flight on 2/22', 'new confirmed COVID-19 patient in Japan: female, in her 40s, Wuhan resident, diagnosed with pneumonia at medical institution in Hokkaido on 1/27/2020, arrived in Japan 1/21/2020, developed fever, confirmed 1/28/2020, symptom onset 1/26/2020 (cough, fever)', 'new confirmed COVID-19 patient in Singapore: 35, female, linked to case 66, symptom onset 2/4, went to clinic 2/4 and 2/5, referred to NCID on 2/18', 'new confirmed COVID-19 patient in Spain: Madrid, 50', 'new confirmed imported COVID-19 pneumonia patient in Guangxi: male, 63, Wuhan resident, symptom onset on 01/14/2020, arrived in Beihai, Guangxi on 01/20/2020, hospitalized on 01/21/2020, tested postive on 01/22/2020.', 'new confirmed COVID-19 patient in Japan: male, in his 40s, symptom onset 1/26/2020 (fever, coughing), evacuated from Wuhan 1/29/2020, hospitalized 1/29/2020', 'new confirmed COVID-19 patient in Hong Kong: female, 58, Diamond Princess cruise from 1/25-2/21, returned by flight on 2/22, symptom onset 2/4 (throat discomfort)', 'new confirmed COVID-19 patient in Japan: Hokkaido, female, 30s', 'new confirmed COVID-19 patient in NSW, Australia: female, 21, recently travelled back to Sydney from Wuhan, arrived 1/23/2020, symptom onset 1/24/2020 then went to an emergency department', 'new confirmed COVID-19 patient in Germany: Baden-Wuerttemberg, male, attended business meeting in Munich where they had contact with an Italian participant who tested positive in Italy', 'new confirmed COVID-19 patient in Japan: female, 10s, Hokkaido, symptom onset 2/6 (fever), went to doctor 2/7, another doctor 2/10, fever, sore throat, and malaise 2/18, visited another doctor 2/20, went to Tokyo 2/3-2/6', 'new confirmed COVID-19 patient in Singapore: 57, female, symptom onset 2/9, went to clinic 2/10 and 2/14 and 2/12, hospital on 2/13 and 2/15, admitted 2/15', 'new confirmed COVID-19 patient in Thailand: female, 73, Wuhan resident', 'new confirmed COVID-19 patient in Victoria, Australia: male, in his 50s, recently spent two weeks in Wuhan, arrived in Melbourne from Guangzhou 1/19/2020, symptom onset 1/23/2020, put in isolation 1/24/2020', 'new confirmed COVID-19 patient in Hong Kong: 1/24-No.3, married to 1/24-No.2, male, 63, took train from Wuhan to Hong Kong on 1/22/2020, symptom onset 1/23/2020 (fever and cough), went to hospital 1/23/2020 and admitted for isolation', 'new confirmed COVID-19 patient in Hong Kong: male, 62, symptom onset 2/10 (fever, cough), went to two private doctors 2/13-2/18, went to hospital 2/22 and admitted for treatment', 'new confirmed COVID-19 patient in Thailand: male, 25, tour guide who returned recently from South Korea, sought treatment for fever and cough on 2/25', 'Death from COVID-19 pneumonia in Wuhan: male, 70, symptom onset on 01/15/2020, hospitalized on 01/19/2020, death on 01/23/2020', 'new confirmed COVID-19 patient in Japan: female, 80s, lives in Wakayama, contact of case 40, inspected as contact 2/16, hospitalized 2/17', 'new confirmed COVID-19 patient in Singapore: male, 56, arrived in Singapore 1/20/2020, warded, symptom onset 1/21/2020, admitted to NCID 1/28/2020, confirmed 1/29/2020.', 'new confirmed COVID-19 patient in South Korea: male, 28, brought back from Wuhan on 1/31/2020, no symptoms upon arrival, symptom onset 2/1/2020, transported to hospital for quarantine', 'new confirmed COVID-19 patient in France: male, 55, hospitalized in Amiens', 'new confirmed COVID-19 patient in Malaysia: 1/29-No.1, male, 52, hospitalized in Johor', 'First confirmed imported COVID-19 pneumonia patient in Chongqing (from Wuhan): female, age 44, symptoms onset on 01/15/2020, laboratory confirmed on 01/21/2020.', 'new confirmed COVID-19 patient in Thailand: female, 61, Wuhan resident, symptom onset 1/5/2020 (fever, chills, sore throat, headache), arrived 1/8/2020, hospitalized on arrival, tested positive 1/12/2020, discharged and returned to China', 'new confirmed COVID-19 patient in South Korea: male, 49, same cluster as case 31', 'new confirmed COVID-19 patient in Japan: Osaka, male, 40s, fever, cough 2/20, headache 2/21, visited doctor 2/26,', 'new confirmed COVID-19 patient in Japan: female, 70s, Tokyo, symptom onset 2/4 (cough, malaise, shortness of breath)', 'new confirmed COVID-19 patient in Japan: male, 40s, lives in Saitama, returned to Japan on second charter flight 1/30, returned home 2/1, symptom onset 2/8 (fever), went to medical instutition 2/10', 'new confirmed COVID-19 patient in Japan: male, in his 50s, foreign national, lives in Mie, stayed in Wuhan from 12/24/2020, returned to Japan 1/13/2020, symptom onset 1/25/2020 (fever), requested medical help on 1/27/2020', 'new confirmed COVID-19 patient in Japan: female, 50s, Nagoya City, symptom onset 2/17 (fever, malaise), went to medical instutition 2/17, again 2/18 and hospitalized, has traveled to Wuhan before onset', 'new confirmed COVID-19 patient in Thailand: female, 33, arrived from Wuhan on 1/21/2020 and visited hospital for fever, coughing, and muscle aches on 1/23/2020', 'new confirmed imported COVID-19 pneumonia patient in Yunnan: female, 42, Works in Wuhan, returned to Yunnan on 01/18/2020, visited clinic on 01/23/2020', 'new confirmed COVID-19 patient in Japan: Nagoya City, female, 70s, fever, cough, sore throat, runny nose and went to doctor 2/24', 'new confirmed COVID-19 patient in Japan: male, 30s, Kanagawa Prefecture, symptom onset 2/11 (fever), hospitalized 2/10,', 'new confirmed COVID-19 patient in Japan:', 'new confirmed COVID-19 patient in Japan: male, 40s, Wakayama, symptom onset 2/2 (fever, fatigue, cough, diarrhea), went to doctor 2/2, again 2/3, again 2/6, 2/17', 'new confirmed COVID-19 patient in Hong Kong: female, 59, Diamond Princess cruise from 1/25-2/21, returned by flight on 2/22, symptom onset 2/24 (fever, headache)', 'new confirmed COVID-19 patient in South Korea: female, 34', 'new confirmed COVID-19 patient in South Korea: male, 36, died 2/25/2020', 'new confirmed COVID-19 patient in London, UK: female, part of group skiing with 2/6-No.1 from 1/24-1/28', 'new confirmed imported COVID-19 pneumonia patient 01/24-No.1 in Shanxi: male, 49, works in Wuhan, arrived in Ankang, Shanxi from Wuhan on 01/19/2020, symptom onset on 01/19/2020 hospitalized on 01/19/2020.', 'new confirmed COVID-19 patient in France: male, 63, recently travelled to Lombardy, Italy, hospitalized in Annecy', 'new confirmed COVID-19 patient in Japan: Ishikawa Prefecture, male, 50s, fever 2/16, visited doctor 2/17, visited another doctor 2/22', 'new confirmed COVID-19 patient in Malaysia: female, 83, American, passenger of cruise ship that docked in Cambodia 2/13, flew to Malaysia 2/14', 'new confirmed COVID-19 patient in South Korea: female, 20', 'new confirmed COVID-19 patient in Singapore: male, 62, symptom onset 2/7, went to clinics on 2/7, 2/10, 2/11, admitted to NCID 2/11', 'new confirmed COVID-19 patient in Germany: contact of cases 21 and 22, NRW, employee of case 21', 'new confirmed COVID-19 patient in South Korea: male, 24', 'new confirmed COVID-19 patient in Singapore: male, 39, symptom onset 2/6, went to clinic 2/7, NCID 2/10, works at same location as case 42', 'new confirmed COVID-19 patient in Thailand: Chinese, related to someone who was previously confirmed', 'new confirmed COVID-19 patient in UK: passenger on Diamond Princess cruise ship', 'new confirmed COVID-19 patient in South Korea: male, 58, linked with Shincheonji religious sect, died 2/24', 'new confirmed COVID-19 patient in Philippines: male, 44, from Wuhan, admitted to hospital on 1/25/2020 in Manila with fever, cough, and sore throat, died 2/1/2020, arrived 1/21/2020', 'new confirmed COVID-19 patient in Singapore: male, 54, symptom onset 2/10, went to NCID 2/12', 'new confirmed COVID-19 patient in Hong Kong: female, 83, mother-in-law of engineer who contracted the disease', 'new confirmed COVID-19 patient in Hong Kong: female, 37, lives in Yau Ma Tei, daughter of 1/29-No.1 and 1/29-No.2, symptom onset 1/28/2020 (cough), hospitalized 1/30/2020, stayed with parents 1/22/2020-1/28/2020', 'new confirmed COVID-19 patient in Malaysia: male, 27, Chinese national, found to have a fever on 2/13/2020, referred to hospital 2/13', 'new confirmed imported COVID-19 pneumonia patient 01/26-No.3 in Shaanxi: male, 44, lives in Jingzhou, Hubei. symptom onset on 01/18/2020, visited Wuhan from 01/20/2020 to 01/21/2020, visited clinic on 01/24/2020, confirmed on 01/26/2020.', 'new confirmed COVID-19 patient in Germany: Rhineland-Palatinate, male, 41, infected in North Rhine-Westphalia on 2/15, admitted to hospital on 2/26, symptom onset 2/20', 'new confirmed COVID-19 patient in Japan: Nagoya City, male, 70s, fever, cough, runny nose 2/24, went to doctor 2/25', 'new confirmed COVID-19 patient in South Korea: female, 68, married to case 29, symptom onset 2/6 (cough, chill, muscle pain)', 'new confirmed COVID-19 patient in Japan: male, 80s, Nagoya, symptom onset 2/19 (fever), medical consultation 2/19, hospitalized,', 'new confirmed COVID-19 patient in Malaysia: 2/6-No.1, female, 37, tourist from Wuhan, arrived on 1/25, visited hospital 2/1 (mild fever), went to hospital 2/5', 'new confirmed COVID-19 patient in South Korea: female, 11, daughter of case 15, contact of case 15 and case 20, self-quarantine since 2/2, symptom onset 2/8', 'new confirmed COVID-19 patient in Japan: Chiba Prefecture, male, 70s, fever 2/12, on Diamond Princess and tested negative 2/14, disembarked 2/21, fever 2/21 during follow-up at health center, visited doctor 2/25 and hospitalized', 'new confirmed COVID-19 patient in Hong Kong: 2/4-No.1, male, 60, visited four private clinics before taken to hospital, no recent travel to China, lives in Kwun Tong, symptom onset 1/22/2020 (fever, myalgia, shortness of breath), first went to hospital on 1/30', 'new confirmed COVID-19 patient in Germany: female, 46, wife of case 21, NRW', 'new confirmed COVID-19 patient in Taiwan: male, 60s, symptom onset 1/27 (cough, shortness of breath), went to hospital 2/3, diagnosed with pneumonia, hospitalized 2/3, died 2/15', 'new confirmed COVID-19 patient in UAE: male, 41, 1/29-No.3 (father), arrived as tourists 1/16/2020, admitted into hospital', 'new confirmed COVID-19 patient in Japan: Hokkaido, male, 70s', 'new confirmed COVID-19 pneumonia patient in Yunnan: female, 55, Wuhan resident, arrived in Yunnan on 01/22/2020, hospitalized on 01/24/2020.', 'new confirmed COVID-19 patient in Malaysia: female, 65, mother-in-law of 2/4-No.1, exposed 1/26-1/28', 'new death from COVID-19 pneumonia, female, 65, hospitalized on 01/15/2020, death on 01/23/2020', 'new confirmed COVID-19 patient in Japan: male, in his 40s, evacuated from Wuhan 1/31/2020', 'Death from COVID-19 pneumonia in Wuhan: male, 72, symptom onset on 01/11/2020, hospitalized on 01/18/2020, death on 01/23/2020', 'new confirmed COVID-19 pneumonia patient No.16 in Tianjin: male, 78, Tianjin resident, close contact with patient No. 5, fever on 01/21/2020, visited clinic on 01/23/2020 and 01/24/2020 seperately, tested negative, fever again on 01/26/2020, visited clinic on 01/26/2020, tested positive.', 'new confirmed COVID-19 patient in Japan: female, in her 40s, living in Osaka Prefecture, tour guide on bus driven by 1/28-No.1 full of Wuhan tourists from 1/12/2020-1/17/2020, never went to Wuhan herself, symptom onset 1/20/2020 (fever), first visited medical institution 1/20/2020', 'new confirmed COVID-19 patient in Malaysia: male, 11, grandson of Singapore 1/24-No.1, treated in isolation wards in Selangor, light symptoms (dry cough), took plane from Guangzhou to Singapore on 1/20/2020.', 'new confirmed COVID-19 patient in South Korea: female, 58', 'new confirmed COVID-19 patient in Tyumen, Russia: Chinese citizens', 'new confirmed imported COVID-19 pneumonia patient in Xinjiang: male, 53, Wuhan resident, visited Kunming on 01/16/2020, symptom onset after return.', 'new COVID-19 patient confirmed in Bahrain: female, Saudi national, returning from Iran', 'new confirmed COVID-19 patient in Singapore: 35, female, family member of case 72, symptom onset 2/12, home quarantine 2/15, went to NCID 2/17', 'First confirmed imported COVID-19 pneumonia patient in Sichuan (from Wuhan): Male, 34 years old, works in Wuhan, symptoms onset on 01/11/2020 in Chengdu.', 'new confirmed COVID-19 patient in Japan: male, 70s, symptom onset 2/21 (fever, cough), visited doctor 2/22, Nagoya City', 'new confirmed COVID-19 patient in South Korea: female, 72', 'new confirmed imported COVID-19 pneumonia patient 01/27-No.6 in Shaanxi: female, 47, Xian resident, lives in Wuhan, symptom onset on 01/21/2020 in Wuhan, visited Xian, Shanxi on 01/23/2020, visit clinic on 01/23/2020, confirmed on 01/27/2020', 'new confirmed COVID-19 patient in Thailand: Thai, exposed to tourists', 'new confirmed COVID-19 patient in France: Dijon, male, elderly person returning from a trip from Egypt', 'new confirmed COVID-19 patient in Hong Kong: female, 63, symptom onset 1/26/2020 (cough, malaise), went to private doctor on 2/5/2020 and sought treatment at hospital where admitted the same day', 'new confirmed COVID-19 patient in Singapore: male, 48, symptom onset 2/3, went to clinic 2/5, 2/10', 'new confirmed COVID-19 patient in Japan: under 10 years, Saitama Prefecture, returned home with father on 2nd charter flight out of Wuhan on 1/30, negative on arrival, returned home with father 2/1, father had fever 2/8, 2/10-2/19 symptom onset (cough, fever)', 'confirmed imported COVID-19 pneumonia patient No.3 in Tianjin: female, 68, works in Wuhan, symptom onset on 01/14/2020, confirmed on 01/21/2020', 'new confirmed COVID-19 patient in Japan: male, 60s, Chiba, symptom onset 2/6 (fatigue, loss of appetite), went to check-up on 2/9, visited another medical instutition 2/19, re-examined 2/20, admitted 2/21', 'new confirmed COVID-19 patient in Hong Kong: 2/5-No.1, male, 56, tested positive at hospital in Kwai Chung, symptom onset 1/30/2020 (fever, cough, sore throat), consulted private doctor 2/1/2020, went to hospital on 2/4/2020 when admitted, worked in Shenzhen and visited onn 1/21, visited Tokyo 1/28-2/1', 'new confirmed COVID-19 patient in Philippines: female, 38, from Wuhan, arrived 1/21/2020, admitted to hospital in Manila, arrived 1/21/2020', 'new confirmed COVID-19 patient in Victoria, Australia: female, in her 20s, resident of Melbourne, recovering at home, returned from Wuhan on 1/25/2020, symptom onset 1/27/2020, seen by doctors in hospital on 1/30/2020 but assessed as well enough to stay at home', 'new confirmed COVID-19 patient in Japan: female, 50s, Hokkaido, symptom onset 2/17, went to doctor 2/19', 'new confirmed COVID-19 patient in US: male, Wuhan resident, traveling through LAX on way to China on 1/22/2020 reported feeling unwell to airport staff, taken to hospital', 'new confirmed COVID-19 patient in Hong Kong: female, 29, domestic helper of case 85, fever 2/16, consulted same private doctor 2/20 and 2/24, admitted to hospital 2/25', 'new confirmed COVID-19 patient in South Korea: female, 26, same cluster as case 31', \"new confirmed COVID-19 patient in Hong Kong: 2/10-No.1, male, 69, lives in Sai Wan Ho, symptom onset 1/30 (cough), went to doctor's on 2/7, went to hospital on 2/9 for shortness of breath and admitted for isolation\", 'new confirmed COVID-19 patient in South Korea: female, 48', 'new confirmed COVID-19 patient in Spain: Villarrealin, Castellon, recent trip to Milan, male, 31,', 'new confirmed COVID-19 patient in Japan: male, 60s, Hokkaido, symptom onset 2/3 (fever, sore throat), visited medical instutition 2/7, 2/13, 2/14, hospitalized 2/18', 'new confirmed COVID-19 patient in Thailand: Thai, driver who had driven Chinese tourists', 'new confirmed COVID-19 patient in South Korea: male, 36, attended conference in Singapore 1/18-1/23 with 2/5-No.1 where contacted Malaysian man infected with virus, self-quarantine 2/4/2020, now quarantined at medical center', 'new confirmed COVID-19 patient in Japan: Nagoya City, female, 70s, fever 2/20, hospitalized 2/21', 'new confirmed COVID-19 patient in Malaysia: female, 40, sister of 2/4-No.1, symptom onset 2/1 (fever, sore throat, cough), visited clinic', 'new confirmed COVID-19 patient in Germany: Baden-Wuerttemberg, male', 'confirmed imported COVID-19 pneumonia patient No.8 in Tianjin: male, 29, works on Tianjin high speed railroad, visited Wuhan from 01/19/2020 to 01/22/2020. and symptom onset on 01/23/2020, hospitalized on 01/24/2020, confirmed on 01/24/2020.', 'new confirmed COVID-19 patient in Singapore: male, 31, Chinese national, evacuated from Wuhan on 1/26/2020, asymptomatic on flight by symptom onset 1/28/2020, went to clinic on 1/30/2020', 'new confirmed COVID-19 patient in Spain: Valencia, male, student from Italy, currently studying in Valencia', 'new confirmed COVID-19 patient in Israel: female, returned 1/21 after being quarantined on cruise ship', 'new confirmed COVID-19 patient in Japan: male, in his 40s, Wuhan resident, arrived in Japan 1/22/2020, symptom onset 1/23/2020 (fever), hospitalized 1/24/2020, Aichi Prefecture', 'new confirmed imported COVID-19 pneumonia patient in Yunnan: male, 34, resident of Wuhan, arrived in Yunnan on 01/20/2020, visited clinic on 01/23/2020', 'new confirmed COVID-19 patient in South Korea: female, 29, same cluster as case 31', 'new confirmed COVID-19 patient in South Korea: male, 55', \"new confirmed COVID-19 patient in Taiwan: male, 40s, son of case 27, throat discomfort from 1/29-1/30 but didn't seek medical attention\", 'new confirmed imported COVID-19 pneumonia patient in Jiangxi: male, 56, visited Wuhan on 12/20/2019, return to Jiangxi on 01/09/2020, symptoms onset on 01/10/2020.', 'new confirmed COVID-19 patient in Germany: wife of a man who tested positive and worked at the company', 'new confirmed COVID-19 patient in Hong Kong: female, 67, had dinner with case 46, 48, 49 on 1/26, sister in law of case 46, symptom onset 1/31 (cough, fever, chill), went to doctors on 1/31, 2/3, 2/7, went to hospital on 2/12', 'Death from COVID-19 pneumonia in Wuhan: male, 79, symptom onset on 01/11/2020, hospitalized on 01/17/2020, death on 01/24/2020', 'new COVID-19 patient confirmed in Austria: 24, Innsbruck', 'new confirmed COVID-19 patient in Malaysia: male, 2, grandson of Singapore 1/24-No.1, treated in isolation wards in Selangor, light symptoms (dry cough), took plane from Guangzhou to Singapore on 1/20/2020.', 'new confirmed COVID-19 patient in South Korea: male, 60', 'new confirmed COVID-19 patient in Singapore: male, 41, symptom onset 2/3, went to clinics 2/3, 2/7, 2/10, 2/17, 2/21', 'Death from COVID-19 pneumonia in Wuhan: male, 82, symptom onset on 01/09/2020, hospitalized on 01/14/2020, death on 01/21/2020.', 'Second confirmed imported COVID-19 pneumonia patient in Liaoning: male, 40, works in Wuhan, visit Fushun, Liaoning on 01/12/2020, symptom onset on 01/14/2020, visit clinic in Fushun Dalian on 01/19/2020.', 'new confirmed COVID-19 patient in Thailand: male, 68, tourist visiting from Wuhan, detected with a fever on 1/19/2020', 'new confirmed imported COVID-19 pneumonia patient in Yunnan: male, 24, Works in Wuhan, returned to Yunnan on 01/21/2020, visited clinic on 01/22/2020', 'new confirmed COVID-19 patient in Singapore: male, 53, symptom onset 1/30, visited clinic 2/1, 2/3, admitted to hospital 2/6, transferred to NCID 2/8', 'new confirmed COVID-19 patient in South Korea: female, 58, Chinese, visited Korea from Wuhan for travel on 1/23', 'new confirmed imported COVID-19 pneumonia in Tianjin: male, age 58, visited fever clinic on 01/14/2020.', 'new confirmed COVID-19 patient in Japan: Kumamoto City, female, 60s, symptom onset 2/25 (fever), went to health center 2/25', 'new confirmed COVID-19 patient in Spain: female, Tenerife, traveled to Italy between 2/4-2/8', 'new confirmed COVID-19 patient in Singapore: male, 35, Wuhan resident, arrived in Singapore 1/23/2020, symptom onset 1/24/2020, hospitalized 1/24/2020, tested positive 1/27/2020, discharged 2/4/2020', 'new confirmed COVID-19 patient in Hong Kong: 1/31-No.1, male, 39, lives in Kowloon, symptom onset 1/31/2020 (myalgia, fever), hospitalized 1/31/2020 and admitted for isolation and treatment, took train from Hong Kong to Wuhan on 1/21/2020 and from Changsha to Hong Kong on 1/23/2020, died 2/4/2020', 'new confirmed COVID-19 patient in France: in contact with Briton who had been in Singapore and was positive', 'new confirmed COVID-19 patient in Singapore: male, 6 months, son of 2/4-No.1, now in isolation room in hospital', 'new confirmed COVID-19 patient in Japan: Hokkaido, female, 40s', 'new confirmed COVID-19 patient in Japan: Hokkaido, male, 40s, vomiting 2/15, cough symptoms 2/16, fever and sore throat 2/17, went to doctor 2/17 and 2/18, consulted second and third doctors 2/24', 'new confirmed COVID-19 patient in Singapore: 57, female, linked to cluster at Grace Assembly of God, symptom onset 2/9, went to clinics 2/10 and 2/17, went to NCID 2/17', 'new confirmed COVID-19 patient in US: California, evacuated from Wuhan 2/7', 'new confirmed COVID-19 patient in Kerala, India: student who returned from Wuhan last month, in hospital', 'Death from COVID-19 pneumonia in Wuhan: male, 66, hospitalized on 01/11/2020, death on 01/21/2020', 'new confirmed COVID-19 patient in Hong Kong: female, 21, passengers of DP cruise 1/25-2/22, returned to HK by flight 2/23, went to hospital 2/25, fever 2/12', 'new confirmed COVID-19 pneumonia patient in Jilin: male, Jilin resident, stopped in Wuhan on 01/19/2020 (connection flight), symptom onset on 01/25/2020, visited hospital on 01/25/2020', 'new confirmed COVID-19 patient in Malaysia: female, 49, hospitalized in Johor, married to 1/29-No.1', 'new confirmed COVID-19 patient in Singapore: 40, male, non-medical contact of case 59, symptom onset 2/10, treatment at clinic 2/11 and 2/13, sent to NCID 2/14', 'new confirmed COVID-19 patient in Japan: male, 60s, symptoms (fatigue, difficulty breathing), went to party 1/18, from Tokyo', 'new confirmed COVID-19 patient in Japan: male, 50s, Ishikawa, symptom onset 2/16 (fever), went to medical institution 2/16, again on 2/17, 2/19, 2/20', 'new confirmed COVID-19 patient in Singapore: male, 25, contact of case 66 and 70, symptom onset 2/1, went to clinic 2/10, went to hospital 2/13, NCID 2/15', 'new recovered COVID-19 pneumonia patient in Shandong, male, 37, resident of Wuhan, works in Qingdao, Shandong, symptom onset on 01/17/2020, hospitalized on 01/17/2020, recovered on 01/21/2020.', 'new confirmed COVID-19 patient in Germany: Hesse, male, 31, returned from a trip to Lombardy', 'new confirmed COVID-19 patient in South Korea: female, 30, chinese, acquaintance of 3rd case', 'new confirmed COVID-19 patient in Hong Kong: female, 32, worked for case 52, symptom onset 2/2 (fever, cough)', 'new confirmed COVID-19 patient in Iran: Qom', 'new confirmed imported COVID-19 pneumonia patient 01/23-No.2 in Shanxi: female, 32, resident of Xian, Shanxi, visited Wuhan from 01/12/2020 to 01/14/2020, returned to Xian, Shanxi on 01/14/2020, symptom onset on 01/16/2020, visited clinic on 01/20/2020.', 'new confirmed COVID-19 patient in Japan: male, 70s, lives in Tokyo, symptom onset 1/29 (fever), went to medical instution 1/29, returned 2/3, went to other medical instutition 2/6 and hospitalized', 'First confirmed imported cases in Zhejiang: patient is male, 46, lives in Wuhan, self-driving from Wuhan to Hangzhou on 01/03/2020, symptom onset 01/04/2020, hospitalized on 01/17/2020, sample deliver to China CDC for testing on 01/20/2020, test positive on 01/21/2020.', 'new confirmed COVID-19 patient in UAE: Indian national who had been in contact with another case', 'new confirmed COVID-19 patient in Taiwan: 2/7-No.1, male, in his 50s, traveled to Italy 1/22, returned 2/1, fever on arrival, went to see doctor 2/1, went again on 2/4', 'new confirmed COVID-19 patient in Japan: Hokkaido, female, 20s', 'new confirmed COVID-19 patient in Germany: Baden-Wuerttemberg, female, attended business meeting in Munich where they had contact with an Italian participant who tested positive in Italy', 'new confirmed COVID-19 patient in Malaysia: female, 65, wife of Singapore 1/24-No.1, treated in isolation wards in Selangor, light symptoms (dry cough), took plane from Guangzhou to Singapore on 1/20/2020.', 'new confirmed imported COVID-19 pneumonia patient 01/27-No.4 in Shaanxi: female, 40, wife of patient 01/27-No.3, resident of Hanzhong, Wuhan, visited Wuhan from 01/13/2020 to 01/17/2020, symptom onset on 01/18/2020, visit clinic on 01/22/2020, confirmed on 01/27/2020', 'new confirmed COVID-19 patient in France: Brest, male, 72, returning from cruise in Egypt', 'new confirmed COVID-19 patient in Germany: male, 32, Baden-Wurttemberg, returned on 2/23 from Codogno, Italy', 'new confirmed COVID-19 patient in Japan: female, in her 20s, tour guide, no symptoms, on a bus driven by 1/28-No.1, lives in Chiba Prefecture, symptom onset 1/20/2020 (cough, runny nose), went to medical instution on 1/29/2020, joined tour on 1/17-1/22 as bus guide', 'new confirmed COVID-19 patient in South Korea: male, 36', 'new confirmed COVID-19 patient in Spain: Madrid, admitted to hospital 2/28, 66', 'new confirmed imported COVID-19 pneumonia patient 01/27-No.10 in Shaanxi: female, 41, return from Wuhan on 01/18/2020, lives in Xian, symptom onset on 01/22/2020, visited clinic on 01/22/2020, confirmed on 01/27/2020.', 'new confirmed COVID-19 patient in Japan: Hokkaido, male, 30s', 'new confirmed COVID-19 patient in NSW, Australia: male, 35, arrived in Sydney from Shenzhen on 1/6/2020, symptom onset 1/15/2020, did not visit Wuhan but had contact with a person from Wuhan diagnosed with the coronavirus', 'new COVID-19 patient confirmed in Austria: 24, Innsbruck, from Lombardy', 'new confirmed COVID-19 patient in Singapore: female, 44, symptom onset 2/9, clinic on 2/9, went to hospital on 2/12', 'new confirmed COVID-19 patient in Singapore: female, 61, family member of case 50 and case 55, sent to NCID on 2/12', 'new confirmed COVID-19 patient in South Korea: female, 30', 'new confirmed COVID-19 patient in Japan: male, 20s, symptom onset 2/7 (fever), Tokyo', 'new confirmed COVID-19 patient in Vietnam: male, 28, son of 1/23-No.1, symptom onset 1/20/2020 (fever), contracted from father', 'new confirmed imported COVID-19 pneumonia patient in Beijing: female, 18, visited Wuhan on 01/12/2020, return to Beijing on 01/17/2020, symptoms onset on 01/19/2020, hospitalized on 01/20/2020.', 'new confirmed COVID-19 patient in Japan: female, 20s, Kumamoto city, symptom onset 2/17 (cough, fever, headache, nausea, vomiting, diarrhea), visited doctor 2/18, another doctor 2/19', 'new confirmed COVID-19 patient in France: Lille, male, contact of case 15', 'new confirmed COVID-19 patient in Thailand: Chinese tourist', 'new recovered COVID-19 pneumonia patient in Hubei, Huanggang: female, 28, HCW, symptom onset on 01/07/2020, hospitalized on 01/10/2020, recovered on 01/23/2020.', 'new confirmed imported COVID-19 pneumonia patient in Beijing: male, 39, visited Wuhan on 01/03/2020, return to Beijing on 01/04/2020, symptoms onset on 01/09/2020, hospitalized on 01/14/2020.', 'new confirmed COVID-19 patient in Vietnam: male, 66, 1/23-No.1, arrived from Wuhan on 1/13/2020, symptom onset 1/17/2020 (fever), hospitalized 1/17/2020', 'new confirmed COVID-19 patient in Taiwan: female, 70, Wuhan resident, arrived in Taiwan 1/22/2020, symptom onset 1/25/2020 (fever), hospitalized 1/25/2020, confirmed 1/28/2020', 'new confirmed COVID-19 patient in Vancouver, Canada: male, 40s, close contact of case 9', 'new confirmed COVID-19 patient in Kuwait: returned from Iran', 'new confirmed COVID-19 patient in Japan: male, 80s, Hokkaido, symptom onset 2/3 (difficulty breathing), hospitalized 2/3', 'new confirmed COVID-19 patient in US: California, evacuated from Wuhan', 'new confirmed COVID-19 patient in UK: male, first transmission in UK', 'new confirmed COVID-19 patient in Japan: male, 70s, lives in Sagamihara City, admitted to medical instutution 2/10, surgery 2/12, symptom onset 2/14 (fever, cough), infection found in same room 2/18', 'new confirmed COVID-19 patient in Japan: male, 80s, Sagamihara City, admitted to medical institution 1/27, symptoms relieved and discharged 2/5, symptom onset 2/18, transported 2/19', 'new confirmed COVID-19 patient in Singapore: 26, male, linked to cluster at Seletar Aerospace Heights construction site, close contact of cases 42, 47, 52, 56, quarantined from 2/11, symptom onset 2/11, went to NCID 2/14', 'new confirmed COVID-19 patient in Vietnam: Hanoi, recently returned from Wuhan', 'new confirmed COVID-19 patient in Japan: male, 70s, lives in Tokyo, symptom onset 1/20 (fever, loss of appetite), visited doctor on 1/21, home medical treatment 1/22-1/26, symptoms worsened 1/27, contacted tourist from Wuhan on 1/15', 'new confirmed COVID-19 patient in Singapore: male, 24, linked to case 82, symptom onset 2/14, went to clinics 2/16, 2/18, hospital on 2/19', 'new confirmed COVID-19 patient in UAE: Bahraini, traveled from Iran', 'new confirmed COVID-19 patient in Hong Kong: female, 86, mother-in-law of 2/10-No.1, symptom onset 1/28, transferred to hospital 2/9', 'new confirmed COVID-19 patient in US: female, recently traveled to Wuhan from Santa Clara County on 1/23/2020, never sick enough to be hospitalized', 'new confirmed COVID-19 patient in Japan: Hokkaido, male, 20s', 'Second confirmed imported COVID-19 pneumonia patient in Guangxi: male, 46, in contact with individuals from Wuhan before symptom onset. symptom onset on 01/20/2020.', 'new confirmed COVID-19 patient in South Korea: female, 40, married to 2/1-No.1, admitted to Seoul hospital', 'new confirmed COVID-19 patient in Hong Kong: female, 38, symptom onset 2/10 (fever, cough), went to doctor on 2/10, again on 2/14 and went to hospital and admitted on 2/19', 'new confirmed COVID-19 patient in Singapore: female, 56, linked to cluster at Grace Assembly of God, family member of case 61, symptom onset 2/9, sent to NCID on 2/13', 'new confirmed COVID-19 patient in Hong Kong: female, 80, symptom onset 2/8 (sore throat, cough), went to hospital 2/22 and admitted', 'new confirmed COVID-19 patient in South Korea: female, 52, Korean, confirmed on 1/31/2020, related to sixth patient 1/30-No.2, symptom onset on 1/29/2020 (headache)', 'new confirmed COVID-19 patient in Vietnam: 16, Vietnamese national from Vinh Phuc', 'new confirmed COVID-19 patient in Hong Kong: 1/29-No.1, married to 1/29-No.2, female, 73, live in Wuhan, arrived by flight 1/22/2020, admitted to hospital 1/28/2020', 'new confirmed COVID-19 patient in Japan: female, 80s, lives in Kanagawa, symptom onset 1/22 (fatigue), visited doctor 1/28, died 2/13', 'new confirmed COVID-19 patient in France: Dijon, contact of case 15', 'new confirmed COVID-19 patient in Singapore: male, 30, linked to cluster at Aerospace Heights construction site, close contact of case 47, symptom onset 2/12', 'new confirmed imported COVID-19 pneumonia patient in Beijing: male, 37, visited Wuhan on 01/10/2020, return to Beijing on 01/11/2020, symptoms onset on 01/14/2020, hospitalized on 01/20/2020.', 'new confirmed COVID-19 patient in NSW, Australia: male, 53, arrived in Sydney from Wuhan on 1/20/2020, symptom onset 1/20/2020', 'new confirmed COVID-19 patient in Japan: Nagoya, female, 60s, fever and went to doctor 2/26', 'new confirmed COVID-19 patient in South Korea: female, 57, linked with Shincheonji religious sect, died 2/23', 'new death from COVID-19 pneumonia, female, 69, symptom onset on 01/14/2020, hospitalized on 01/20/2020, death on 01/22/2020', 'new confirmed COVID-19 patient in Vancouver, Canada: female, 50s', 'new confirmed COVID-19 patient in London, UK: infected by coming into contact with known carrier in France', 'new confirmed COVID-19 patient in South Korea: male, 77, symptom onset 2/11 (cough)', 'new confirmed COVID-19 patient in Taiwan: male, 80s, father of case 28', 'new confirmed COVID-19 patient in Japan: male, 80s, Sagamihara, hospitalized 1/11, symptom onset 2/14 (fever)', 'new confirmed COVID-19 patient in Thailand: Thai, just returned from Japan, married to 2/5-No.1', 'new confirmed COVID-19 patient in Spain: Tenerife, accompanied case 3 and 4', 'new confirmed COVID-19 patient in UAE: Italian participant in UAE Tour', 'new confirmed COVID-19 patient in UK: contracted in Italy, lives in Wales, female', 'new confirmed COVID-19 patient in Taiwan: male, grandson of case 27 and son of case 28, visited case 27 in hospital 2/11 and 2/19', 'new confirmed COVID-19 patient in Japan: male, 60s, Hokkaido, symptom onset 2/10 (fever), went to doctor 2/10, fever 2/17, went to another doctor 2/19', 'First confirmed imported COVID-19 pneumonia patient in Inner Mongolia: male, 30, Wuhan resident, arrived in Inner Mongolia from Wuhan on 01/21/2020, hospitalized on 01/20/2020.', 'new COVID-19 patient confirmed in Afghanistan: 35, recently returned from Qom', 'new confirmed COVID-19 patient in Hong Kong: male, 39, tourist from Wuhan, arrived 1/21/2020 via high-speed rail from Shenzhen and detected having fever at the border, quarantined 1/22/2020 at hospital', 'new confirmed COVID-19 patient in Germany: NRW', 'new confirmed COVID-19 patient in UAE: female, 73, 1/29-No.1 (grandmother), arrived as tourists 1/16/2020, symptom onset 1/23/2020, sought medical help', 'new confirmed imported COVID-19 pneumonia patient in Yunnan: female, 34, Wuhan resident, visited Lijiang, Yunnan on 01/20/2020, hospitalized on 01/23/2020.', 'new confirmed COVID-19 patient in Taiwan: male, in his 40s, went to Wuhan for work in December 2019 and left for Liaoning China on 1/17, returned to Taiwan on 2/2, symptom onset 2/3 (fever, cough, headache), hospitalized on 2/4/2020', 'new confirmed imported COVID-19 pneumonia patient 01/25-No.2 in Shaanxi: male, 28, works in Wuhan, visited Shanxi from Wuhan on 01/20/2020, symptom onset on 01/21/2020, visited clinic on 01/23/2020, confirmed on 01/25/2020', 'new confirmed COVID-19 patient in South Korea:', 'new confirmed COVID-19 patient in Rome, Italy: male, 30s, Italian national, evacuated from Wuhan 2/3', 'new confirmed COVID-19 patient in London, UK: male, part of group skiing with 2/6-No.1 from 1/24-1/28', 'new confirmed COVID-19 patient in Taiwan: female, 55, works in Wuhan, arrived in Taiwan 1/20/2020, symptomatic (fever, cough, shortness of breath) on arrival, symptom onset 1/11/2020, confirmed 1/21/2020', 'new confirmed COVID-19 patient in Vietnam: 49, Vietnamese national from Vinh Phuc', 'new confirmed COVID-19 patient in Thailand: female, 73, Thai citizen, visited Wuhan late 2019, arrived in Thailand 1/13/2020, quarantined on arrival with a fever, returned home to China 1/21/2020', 'new confirmed COVID-19 patient in South Australia: female, 60, from Wuhan, now hospitalized, arrived on 1/21/2020', 'new confirmed COVID-19 patient in Hong Kong: male, 68, symptom onset 2/12 (cough), went to doctor on 2/18, admitted to hospital', 'new death from COVID-19 pneumonia, female, 70, symptom onset on 01/15/2020, hospitalized on 01/18/2020, death on 01/22/2020', 'new confirmed COVID-19 patient in Germany: Baden-Wuerttemberg, male, 32, was in Milan on 2/21, symptom onset 2/23', 'new confirmed COVID-19 patient in Japan: Nagoya City, male, 70s, fever, cough, malaise 2/23, went to doctor 2/25', 'Death from COVID-19 pneumonia in Wuhan: male, 81, symptom onset on 01/15/2020, hospitalized on 01/18/2020, death on 01/22/2020.', 'new confirmed COVID-19 patient in France: Nantes, female, 58, doctor of case 15, hospitalized during journey that she spent in La Baule-Escoublac', 'new confirmed COVID-19 patient in Japan: male, in his 40s, Wuhan resident, developed pneumonia and in hospital in Aichi, arrived 1/20/2020, symptom onset 1/22/2020 (fever), visited medical institution in Aichi Prefecture on 1/26/2020', 'new confirmed imported COVID-19 pneumonia patient (medical doctor No.2) in Beijing: male, traveled to Wuhan from 01/10/2020 to 01/11/2020, symptom onset on 01/14/2020, visited clinic on 01/20/2020, confirmed on 01/21/2020', 'new confirmed COVID-19 patient in Singapore: male, 37, son of 1/24-No.1, suspected case 1/23/2020, Wuhan resident, arrived in Singapore 1/20/2020, confirmed 1/24/2020, in isolation.', 'new confirmed COVID-19 patient in South Korea: female, 61', 'new confirmed COVID-19 pneumonia in Tianjin, male, 46.', 'new confirmed COVID-19 patient in Thailand: male, 8', 'new confirmed COVID-19 patient in Victoria, Australia: male, in his 60s, unwell on 1/23/2020, travelled to Wuhan, returned from China 1/21/2020', 'new confirmed COVID-19 patient in UAE: male, 37', 'new confirmed COVID-19 patient in Germany: 1/28-No.1 male, 33, caught from Chinese colleague during conference in Munich from 1/20-1/21, first human-to-human transmission in Europe, confirmed 1/27/2020, isolated, contracted 1/21/2020, symptom onset on 1/24/2020 (sore throat, chills, myalgias, fever, cough)', 'new confirmed COVID-19 patient in Toronto, Canada: female, in her 20s, arrived on 1/23/2020 from Wuhan, went to hospital on 1/24/2020 but tested negative, symptom onset 1/24/2020', 'new confirmed COVID-19 patient in Hong Kong: male, 69, symptom onset 2/8 (cough, ,shortness of breath), went to doctor between 2/8-2/13, went to clinic on 2/15 and 2/16', 'new confirmed COVID-19 patient in Toronto, Canada: female, 60s, travel history to Iran, went to hospital on 2/24', 'new confirmed COVID-19 patient in Singapore: female, 53, Wuhan resident, arrived in Singapore 1/21/2020, symptom onset 1/21/2020 (fever, cough, chills), hospitalized 1/22/2020, confirmed 1/23/2020.', 'new confirmed COVID-19 patient in UAE: Chinese, traveled from Iran', 'new confirmed imported COVID-19 pneumonia patient 01/23-No.1 in Shanxi: male, 42, lives in Xianyang, Shanxi, visited Wuhan from 01/12/2020 to 01/15/2020, returned to Xian, Shanxi on 01/15/2020, symptom onset on 01/20/2020, visited clinic on 01/21/2020', 'Death from COVID-19 pneumonia in Wuhan: male, 69, symptom onset on 12/30/2020, hospitalized on 01/03/2020, death on 01/15/2020.', 'new confirmed COVID-19 patient in Spain: Andalusia, male, 55, recently traveled to Emilia-Romagna', 'new confirmed COVID-19 patient in Toronto, Canada: female, in her 50s, has been in self-isolation at home since husband confirmed, arrived on 1/22/2020 after visiting Wuhan', 'new confirmed COVID-19 patient in Japan: female, 60s, returned home after disembarking from Diamond Princess 2/19, symptom onset 2/21 (fever), visited center 2/22, Tochigi prefecture', 'new confirmed COVID-19 patient in Singapore: male, 34, in Malaysia on 1/26, symptom onset 2/1, went to clinic on 2/2, 2/4, 2/7, 2/9, 2/10, went to NCID 2/10', 'new confirmed COVID-19 patient in South Korea: female, 38', 'new confirmed COVID-19 patient in Vancouver, Canada: male, in his 40s, home isolation and not hospitalized, was in Wuhan for work, returned to Vancouver last week, onset of symptoms after return, contacted primary care physician 1/26/2020', 'new COVID-19 patient confirmed in Bahrain: female, returning from Iran', 'Death from COVID-19 pneumonia in Wuhan: male, 61, symptom onset on 12/20/2019, hospitalized on 12/27/2019, death on 01/09/2020.', 'new confirmed COVID-19 patient in Singapore: female, 47, Singaporean, evacuated from Wuhan on 1/30/2020, found to have a fever on arrival at Changi airport, tested positive 1/31/2020, now in isolation', 'new confirmed COVID-19 patient in UAE: Filipino national', 'new confirmed COVID-19 patient in Rome, Italy: female, married to 1/31-No.1, Chinese tourist, arrived in Milan over a week ago', 'new confirmed COVID-19 patient in South Korea: male, 76', 'Death from COVID-19 pneumonia in Wuhan: female, 76, symptom onset on 01/08/2020, death on 01/24/2020', 'new confirmed imported COVID-19 pneumonia patient 01/26-No.6 in Shaanxi: female, 32, Xian, Shanxi resident. visited Hangzhou from 01/12/2020 to 01/14/2020, have contact with patient from Wuhan while in Hangzhou, returned to Xihan on 01/14/2020, symptom onset on 01/17/2020, visited clinic on 01/22/2020, confirmed on 01/26/2020.', 'new confirmed COVID-19 patient in Singapore: female, 51, linked to cluster at Grace Assembly of God, symptom onset 2/8, clinic on 2/8, went to NCID on 2/12', 'new confirmed imported COVID-19 pneumonia patient 01/23-No.3 in Shanxi: male, 22, resident of Xian, Shanxi, visited Wuhan from 01/15/2020 to 01/17/2020, returned to Xian, Shanxi on 01/17/2020, symptom onset on 01/20/2020, visited clinic on 01/21/2020.', 'new confirmed imported COVID-19 pneumonia patient in Wuhan: female, 49, returned to Guangxi from Wuhan on 01/15/2020, symptom onset on 01/21/2020, hospitalized on 01/22/2020.', 'new confirmed imported COVID-19 pneumonia patient 01/26-No.7 in Shaanxi: male, 33, Xian, Shanxi resident. close contact with 01/23-No.2 symptom onset during quarantine, confirmed on 01/26/2020', 'new confirmed COVID-19 patient in Japan: female, 60s, went to Hawaii 1/28-2/7, symptom onset 2/13 (fever, headache), went to medical instutition 2/14, lives in Aichi Prefecture, contact of case 35 and 44', 'new confirmed COVID-19 patient in Taiwan: 1/27-No.1, female, 50, arrived in Taiwan 1/25/2020, reported condition to airport officers and immediately hospitalized, visited Wuhan 1/13/2020-1/15/2020, symptom onset 1/22/2020 (no fever, mild symptoms of pneumonia, cough), confirmed 1/26/2020', 'new confirmed COVID-19 patient in Singapore: male, 39, symptom onset 2/1, clinic 2/3, hospital 2/5', 'new confirmed COVID-19 patient in Hong Kong: male, 66, symptom onset 1/31 (sore throat, chills, cough, fever), went to doctors on 2/1 and 2/10, went to hospital 2/10', 'new confirmed COVID-19 patient in Alappuzha, India: student from Wuhan, returned to Kerala on 1/24/2020, now in hospital', 'Death from COVID-19 pneumonia in Wuhan: male, 58, symptom onset on 12/23/2019, hospitalized on 01/01/2020, death on 01/23/2020', 'new confirmed COVID-19 patient in Japan: male, 60s, lives in Aichi Prefecture, symptom onset 2/17 (fever, malaise), consulted medical instutition 2/17, contact of case 44', 'new confirmed COVID-19 patient in Hong Kong: male, 70, lives in Ngau Chi Wan, cough, chills, shortness of breath 1/30, diarrhea since 2/1, went to doctors 2/1-2/7, attended hospital on 2/8 for chills and shortness of breath', 'Death from COVID-19 pneumonia in Wuhan: male, 53, symptom onset on early January, hospitalized on 01/13/2020, death on 01/21/2020.', 'new confirmed COVID-19 patient in US: California, first case of community transmission, went to medical center 2/19, arrived from another hospital', 'new confirmed COVID-19 patient in Singapore: female, 27, family member of case 66, symptom onset 2/3, treatment at clinic 2/3, NCID 2/14', 'new confirmed COVID-19 patient in Taiwan: female, 30s, caregivers who cared for case 27 in the hospital from 2/11-2/16', 'new confirmed COVID-19 patient in Zabaikalsky, Russia: Chinese citizens', 'new confirmed COVID-19 patient in Iran: Tehran', 'new confirmed COVID-19 patient in US: Texas, returned from Wuhan 2/7', 'new confirmed COVID-19 patient in Hong Kong: male, 75, living in Tsing Yi, symptom onset 1/22/2020 (cough, shortness of breath), hospitalized 1/24/2020, visited Guangdong 12/30/2019-1/7/2020, day trips to Macau 1/10/2020-1/14/2020', 'new confirmed COVID-19 patient in Taiwan: male, 50s', 'new confirmed COVID-19 patient in US: male, in his 20s, University of Massachusetts student who recently traveled from Wuhan, returned on 1/29/2020, sought medical care afterwards, quarantined at his home', 'new confirmed imported COVID-19 pneumonia patient in Xinjiang: male, 52, works in Wuhan, returned to Xinjiang on 01/19/2020, symptom onset around return, tested positive on 01/23/2020.', 'new confirmed COVID-19 patient in Lebanon: female, 45, arrived from Qom, Iran 1/20', 'new confirmed imported COVID-19 pneumonia patient in Hunan: female, 66, symptom onset on 01/17/2020, hospitalized on 01/21/2020, prior exposure to Wuhan.', 'new confirmed COVID-19 patient in Thailand: male, 29, taxi driver', 'new confirmed COVID-19 patient in Japan: Chiba Prefecture, male, 60s, fever 2/22, went to doctor 2/24, hospitalized 2/25, passenger on cruise ship diamond princess, tested negative 2/16, disembarked 2/20', 'new confirmed COVID-19 patient in Thailand: female, returned from Hokkaido, contacted case 40 (grandson)', 'new confirmed COVID-19 patient in Hong Kong: male, 48, symptom onset 2/18 (fever, cough), went to health center 2/19', 'new confirmed COVID-19 patient in South Korea: female, 61, same cluster as case 31', 'new confirmed COVID-19 patient in Hong Kong: female, 55, sister of case 76, symptom onset 2/17 (cough), went to hospital and admitted 2/24', 'new confirmed COVID-19 patient in Hong Kong: female, 70, cough with sputum 2/13, went to doctor 2/13, 2/23, admitted to hospital 2/26', 'new confirmed COVID-19 patient in Hong Kong: female, 60, symptom onset 2/12 (cough), went to doctor several times, admitted to hospital on 2/24', 'new confirmed COVID-19 patient in Hong Kong: male, 80, husband of case 74, fever and cough 2/25 and admitted to hospital 2/25', 'new confirmed imported COVID-19 pneumonia patient 01/25-No.6 in Shaanxi: female, 9, daughter of patient 01/25-No.4 and 01/25-No.5, Wuhan resident, arrived in Shanxi on 01/20/2020, symptom onset on 01/21/2020, confirmed on 01/25/2020', 'new confirmed COVID-19 patient in Japan: female, in her 20s, Chinese student who lives in Kyoto, arrived in Japan 1/22/2020 from Wuhan, hospitalized 1/28/2020 (fever), stayed in Wuhan 1/16-1/22 and contacted person with cough on 1/17-1/18, symptom onset 1/23/2020 (cough, fever)', 'new confirmed COVID-19 patient in Singapore: male, 26, symptom onset 2/11, NCID on 2/11', 'new confirmed COVID-19 patient in Thailand: female, 35, contacted patient', 'confirmed imported COVID-19 pneumonia patient No.5 in Tianjin: male, 46, works on Tianjin high speed railroad, symptom onset on 01/15/2020, visit clinic on 01/17/2020, confirmed on 01/23/2020', 'Death from COVID-19 pneumonia in Wuhan: male, 66, coughing on 12/22/2019, hospitalized on 12/31/2019, death on 01/21/2020.', 'new confirmed COVID-19 patient in Rome, Italy: male, Chinese tourist, arrived in Milan over a week ago', 'new confirmed imported COVID-19 pneumonia patient in Beijing: male, 45, visited Wuhan on 01/11/2020, returned to Beijing on 01/14/2020, symptom onset on 01/19/2020, visit clinic on 01/21/2020.', 'new confirmed COVID-19 patient in Kuwait: female, returned from Iran', 'new confirmed COVID-19 patient in Japan: male, 40s, Sapporo, symptom onset 2/8 (fatigue, muscle pain, joint pain, fever), visited medical instutition 2/13, 2/15, 2/17, admitted 2/19', 'Death from COVID-19 pneumonia in Wuhan: male, 78, symptom onset on 01/13/2020, hospitalized on 01/23/2020, death on 01/24/2020', 'First confirmed imported COVID-19 pneumonia patient in Guangxi: female, 66, lives in Wuhan. arrived in Beihai, Guangxi on 01/16/2020, and visited clinic on 01/17/2020 due to symptoms.', 'new confirmed COVID-19 patient in South Korea: 1/27-No.1, male, 55, visited Wuhan, arrived in Korea on 1/20/2020, treated at clinic on 1/21/2020 for cold symptoms, symptom onset 1/25/2020 (high fever, aching muscles).', 'new confirmed COVID-19 patient in Taiwan: female, 40s, daughter of case 24, went to doctor 2/3 and 2/6 due to reflux', 'new confirmed COVID-19 patient in Germany: male, worked at same company', 'new confirmed COVID-19 patient in Spain: Barcelona, male, 22, recently spent time in northern Italy, went to hospital 2/25 with sore throat and fever', 'new confirmed COVID-19 patient in Japan: male, 40s, Hokkaido,', 'new confirmed COVID-19 patient in Japan: male, 50s, lives in Wakayama Prefecture, symptom onset 2/4 (fever), went to doctor 2/6, hospitalized 2/14, worked at medical instution where case 29 worked', 'new confirmed COVID-19 patient in Japan: Hokkaido, male, 60s, fever, malaise, sore throat 2/22, went to doctor 2/22 and 2/25,', 'new confirmed COVID-19 patient in Japan: male, 60s, symptom onset 2/20 (fever), went to doctor 2/21, Nagoya City', 'new confirmed COVID-19 patient in Spain: Valencia, male, sportswriter who watched game in Milan on 2/19', 'new confirmed COVID-19 patient in Spain: male, German tourist diagnosed on La Gomera in Canary islands, came into contact with a man diagnosed in Germany, recovering in hospital,', 'new confirmed COVID-19 patient in South Korea: male, 28', 'new confirmed COVID-19 patient in Queensland, Australia: female, 42, Chinese national from Wuhan, member of tour group travelling with 1/29-No.1 confirmed with virus, flew into country 1/27/2020', 'new COVID-19 patient confirmed in Bahrain: male, returning from Iran', 'new confirmed COVID-19 patient in UK: Northern Ireland, recently traveled to northern Italy and Dublin', 'new confirmed imported COVID-19 pneumonia patient 01/27-No.9 in Shaanxi: male, 39, return from Wuhan on 01/22/2020, lives in Xian, symptom onset on 01/23/2020, visited clinic on 01/23/2020, confirmed on 01/27/2020.', 'new confirmed COVID-19 patient in Hong Kong: female, 41, attended family dinner on 1/26 that five others confirmed were at', 'new confirmed COVID-19 patient in South Korea: male, 49', 'new confirmed COVID-19 patient in Hong Kong: male, 71, symptom onset 2/5 (fever, cough, shortness of breath), went to hospital on 2/10', 'new confirmed COVID-19 patient in Hong Kong: male, 37, son of 2/10-No.2, symptom onset 1/30 (fever, cough), went to doctor 1/30, 2/3, 2/5', 'new confirmed COVID-19 patient in Japan: female, 50s, Hokkaido, symptom onset 2/13 (sore throat), cough and fever 2/15, went to doctor 2/15, again 2/17, another doctor 2/20, a third doctor 2/21', 'new confirmed COVID-19 patient in Hong Kong: female, 28, daughter of 2/4-No.1, sent to hospital in Kwun Tong 2/4/2020, symptom onset 1/30 (cough, sore throat, fever)', 'new confirmed COVID-19 patient in Bordeaux, France: 1/25-No.1, male, 48, French citizen of Chinese origin, visited Wuhan as part of business trip, took plane from Wuhan to Netherlands to France on 1/22/2020, symptom onset on 1/23/2020, went to clinic 1/23/2020, confirmed 1/24/2020. report date 1/25/2020.', 'new confirmed COVID-19 patient in Taiwan: female, in her 50s, arrived in Taiwan 1/21/2020, came from tour in Wuhan, hospitalized due to fever 1/23/2020', 'new confirmed COVID-19 patient in Japan: Hokkaido, female, 40s, cough and sore throat 2/24, close contact with another patient in Hokkaido', 'new confirmed COVID-19 patient in Malaysia: male, 63, Chinese national from Wuhan, been in Malaysia since 1/18, symptom onset 1/23 (fever), went to hospital, still fever on 2/2, admitted into hospital', 'new confirmed COVID-19 patient in Thailand: male, Chinese tourist, screened for high fever on 1/19/2020', 'new confirmed COVID-19 patient in Malaysia: male, 9, flown back from Wuhan on 2/4, now in hospital', 'new confirmed COVID-19 patient in South Korea: female, 41, related to 2/2-No.1, in hospital', 'new confirmed COVID-19 patient in Taiwan: male, in his 50s, evacuated from Wuhan on 2/4, hospitalized', 'new confirmed COVID-19 patient in Hong Kong: male, 42, lives in Fo Tan, developed fever and cough 2/3, went to hospital on 2/3, went to international airport from hong kong on 1/22 for flight to Hebei, returned from Hebei to Guangzhou 1/26, visited Macao 1/26, returned to HK 2/2', 'new confirmed COVID-19 patient in Singapore: male, 56, married to 1/29-No.1, arrived in Singapore 1/19/2020, warded in isolation rooms, symptom onset 1/24/2020, went to hospital 1/27/2020, confirmed 1/29/2020, church cluster', 'new recovered COVID-19 pneumonia patient in Hubei, Huanggang: female, 51, hospitalized on 01/11/2020, recovered on 01/22/2020.', 'new confirmed COVID-19 patient in Japan: male, 70s, Hokkaido, symptom onset 2/16 (fever, cough, malaise), fever 2/17, fever 2/19, went to doctor 2/20', 'new confirmed imported COVID-19 pneumonia patient in Beijing: male, 56, visited Wuhan on 01/08/2020, return to Beijing on 01/16/2020, symptoms onset on 01/16/2020, hospitalized on 01/20/2020.', 'new confirmed COVID-19 patient in Hong Kong: male, 75, married to case 63, symptom onset 1/25 (cough, shortness of breath), went to two doctors from 1/31-2/7, transferred to hospital on 2/18, made several day trips to Guangdong from 1/12-1/25', 'new confirmed COVID-19 patient in Hong Kong: male, 24, son of case 83, asymptomatic', 'new COVID-19 patient confirmed in Algeria: male, Italian who arrived in the country on 2/17', 'new confirmed COVID-19 patient in Japan: male, 60s, lives in Aichi Prefecture, contact with case 44 and case 53', 'new confirmed COVID-19 patient in South Korea: male, 67, died 2/24, Cheongdo Daenam hospital cluster', 'new confirmed COVID-19 patient in Thailand: Thai, evacuated on 2/4 from Wuhan', 'new confirmed COVID-19 patient in Germany: contact of cases 21 and 22, NRW', 'new confirmed COVID-19 patient in Japan: male, 40s, symptom onset 2/12 (joint pain, muscle pain), business trip to Hiroshima 2/12, business trip to Gifu 2/13, cough and malaise 2/14, returned home from Gifu 2/14, worked in Tokyo 2/17-2/18, fever 2/18, visited doctor 2/18, re-examined 2/19, visited another hospital and hospitalized 2/21, Chiba', 'first confirmed human-to-human COVID-19 patient in Thailand: male, 50, taxi driver infected by traveller, no history of travel to China, discharged 2/5/2020, symptom onset 1/20 (fever, cough, myalgia), went to local pharmacy 1/20, visited clinic 1/23, hospital at 1/28', 'new confirmed COVID-19 pneumonia patient in Guizhou: male, Guizhou resident, 34, travel history to Wuhan', 'new confirmed COVID-19 patient in Hong Kong: female, 70, symptom onset 2/12 (cough), went to doctor on 2/18, admitted to hospital, married to case 64', 'new confirmed COVID-19 patient in Singapore: Singaporeans, evacuated from Wuhan 1/30/2020, no symptoms on boarding, tested positive 2/3/2020 despite having no symptoms', 'First confirmed imported COVID-19 pneumonia patient in Hebei: male, 72, Wuhan resident. visited relative in Shijiazhuang, Hebei on 01/18/2020, symptom onset on 01/19/2020 and hospitalized, 6 contacts traced.', 'new confirmed COVID-19 patient in Japan: Nagoya City, female, 40s, fever and runny nose 2/23, went to doctor 2/23', 'Death from COVID-19 pneumonia in Wuhan: female, 82, hospitalized on 01/06/2020, death on 01/22/2020.', 'new confirmed COVID-19 patient in York, UK: Chinese national, taken to infirmary, related to 1/31-No.1', 'new confirmed COVID-19 patient in Japan: Hokkaido, male, 40s, fever 2/21, went to doctor 2/21, consulted second doctor 2/22, third doctor 2/23 and 2/25, hospitalized 2/27', 'new confirmed COVID-19 patient in US: male, in his 30s, confirmed sick in Sohomish County, Washington, visited Wuhan, returned to the US on 1/15/2020, sought treatment at urgent care center 1/23/2020', 'new confirmed COVID-19 patient in Vancouver, Canada: male, 30s, related to case 5, visitors from Wuhan', 'new confirmed imported COVID-19 pneumonia patient in Chengdu, Sichuan: male, 50, return to Chengdu from Wuhan on 01/12/2020, symptom onset on 01/18/2020 and hospitalized.', 'new confirmed COVID-19 patient in Taiwan: male, in his 50s, arrived in Taiwan 1/21/2020, works in Wuhan, saw doctor in Wuhan, developed influenza symptoms and hospitalized 1/23/2020', 'confirmed imported COVID-19 pneumonia patient No.7 in Tianjin: female, 29, works in Wuhan, visited Tianjin on 01/23/2020, symptom onset on 01/24/2020, visit clinic on 01/24/2020, confirmed on 01/24/2020', 'new confirmed COVID-19 patient in Hong Kong: 2/9-No.1, male, 24, lives in Wan Chai, fever cough 1/30, doctor 1/30, 2/4, hospital 2/6, 2/8', 'new confirmed COVID-19 pneumonia patient in Macau: female, 39, Wuhan resident, visited Macao on 01/22/2020, symptom onset on 01/25/2020, hospitalized on 01/25/2020, confirmed on 01/26/2020', 'new confirmed COVID-19 patient in South Korea: female, 69, died 2/24', 'Death from COVID-19 pneumonia in Wuhan: male, 86, symptom onset on 01/02/2020, hospitalized on 01/09/2020, death on 01/21/2020.', 'new confirmed COVID-19 patient in Thailand: Chinese, tourist from \"risky area\" in China', \"new confirmed COVID-19 patient in Finland: female, 32, Chinese traveler from Wuhan, in isolation at Lapland's hospital, arrived in Finland 1/23/2020 and left Wuhan 1/22/2020, symptom onset 1/26/2020 (fever), hospitalized 1/28/2020\", 'new confirmed COVID-19 patient in Egypt: \"foreigner\"', 'new confirmed COVID-19 patient in Japan: Hokkaido, female, 70s, fever and malaise 2/17, went to doctor 2/20, emergency transport to hospital 2/24', 'new confirmed COVID-19 patient in South Korea: 1/30-No.2, male, 56, in contact with third confirmed patient 1/25-No.1 on 1/22/2020, did not travel to Wuhan, receiving treatment at hospital', 'First confirmed imported COVID-19 pneumonia patient in Shandong: male, 37, visited clinic on 01/17/2020, travelled to Wuhan within to weeks of symptom onset.', 'new confirmed COVID-19 patient in Singapore: male, 56, Wuhan resident, arrived in Singapore 1/19/2020, symptom onset 1/25/2020 (cough), hospitalized 1/26/2020, tested positive 1/27/2020.', 'new confirmed COVID-19 patient in Hong Kong: male, 47, worked in Wuhan, returned to HK on 1/23/2020, symptom onset 1/20/2020 (fever), sought treatment at hospital in Wuhan on 1/21/2020, left for Hong Kong on 1/23/2020', 'new confirmed COVID-19 patient in Japan: male, 60s, lives in Aichi Prefecture, symptom onset 2/15 (fever), went to get medical help 2/15, contact of case 43 and 53', 'new confirmed COVID-19 patient in South Korea: 2/1-No.1, male, 48, male, worked as tour guide in Japan, came into contact with Japanese national also diagnosed, arrived 1/19/2020 at Gimpo airport, symptom-free upon arrival, hospitalized 2/1/2020,', 'new confirmed imported COVID-19 pneumonia patient 01/26-No.4 in Shaanxi: female, 70, Wuhan resident. have contact with 01/25-No.4, 01/25-No.5, 01/25-No.6, symptom onset on 01/23/2020, confirmed on 01/26/2020.', 'new confirmed COVID-19 patient in France: Paris, contact of case 15', 'new confirmed COVID-19 patient in Japan: Hokkaido, male, 50s, symptom onset 2/17 (cough), fever 2/20, went to doctor 2/20, went to second doctor 2/23', 'new confirmed COVID-19 patient in South Korea: female, 73, stayed with family who visited Guangdong from November 2019 to 1/31/2020, symptom onset fever, cough, sore throat, now in hospital', 'new confirmed COVID-19 patient in Japan: Hokkaido, male, under 10, fever 2/21, cough 2/22, went to doctor 2/24 and 2/25', 'new confirmed COVID-19 patient in Germany: Bavaria, male, came into contact in Germany with an Italian who tested positive on his return to Italy', 'new confirmed COVID-19 patient in Germany: caught from 1/28-No.1 during contacts on 1/20 and 1/21, symptom onset 1/26/2020', 'Death from COVID-19 pneumonia in Wuhan: female, 48, symptom onset on 12/10/2019, death on 01/20/2020.', 'new confirmed COVID-19 patient in Japan: female, 20s, Nagoya City, symptom onset 2/20 (fever, cough, breathlessness), visited medical center 2/21', 'new confirmed COVID-19 patient in Singapore: 35, male, lives in Johor Bahru, symptom onset 2/5, went to clinic 2/9, transferred to hospital 2/9', 'new confirmed COVID-19 patient in Hong Kong: 1/27-No.1, married to 1/24-No.1, male, 64, wife was third imported case, traveled with wife to Hong Kong by train 1/19/2020, put into quarantine 1/24/2020 due to wife, developed fever 1/25/2020 and transferred to hospital', 'new confirmed COVID-19 patient in Singapore: male, 46, symptom onset 2/3, went to clinic 2/8, ED on 2/8, 2/10', 'new confirmed COVID-19 pneumonia patient in Ningxia: male, 33, visited Wuhan from 01/11/2020 to 01/22/2020, returned to Ningxia on 01/22/2020, symptom onset on 01/22/2020, hospitalized on 01/24/2020, confirmed on 01/25/2020.', 'new confirmed COVID-19 patient in South Korea: male, 28, Korean, entered Incheon airport 1/23/2020 from Qingdao, Wuhan, symptom onset 1/26/2020 (cough), worked at \"The Place\" clothing store', 'new confirmed imported COVID-19 pneumonia patient in Liaoning: female, 50, return to Shenyang, Liaoning from Wuhan on 01/15/2020, symptom onset on 01/16/2020 and hospitalized, 37 contacts traced.', 'new confirmed COVID-19 patient in Japan: female, 50s, Tokyo, symptom onset 2/10 (fever, cough, sputum)', 'new confirmed COVID-19 patient in Japan: Gifu Prefecture, male, 50s, malaise and fever 2/14, went to doctor 2/15, went back to doctor due to headache 2/20, visited another doctor 2/21, visited doctor again 2/25', 'new confirmed COVID-19 patient in Japan: Nagoya City, male, 50s, fever and thirst 2/24, went to doctor 2/25', 'new confirmed COVID-19 patient in South Korea: female, 23', 'new confirmed COVID-19 patient in Vietnam: 3 months old, infected by grandma 2/9-No.1,', 'new confirmed COVID-19 patient in Japan: male, 30s, lives in Wakayama, symptom onset 2/16 (fever), hospitalized 2/17', 'new confirmed COVID-19 patient in Germany: family member of another employee of the company', 'new confirmed COVID-19 patient in Hong Kong: male, 52, uncle of 2/9-No.1, had hot pot with him on 1/26, wife and children tested positive on 2/9, lives in Wan Chai, symptom onset 2/8 (cough, sore throat, dry mouth), admitted to hospital on 2/9', 'confirmed imported COVID-19 pneumonia patient No.6 in Tianjin: male, 56, works on Tianjin high speed railroad, symptom onset on 01/19/2020, visit clinic on 01/23/2020, confirmed on 01/24/2020.', 'new confirmed imported COVID-19 pneumonia patient in Wuhan: female, 2, returned to Guangxi from Wuhan on 01/21/2020, symptom onset on 01/22/2020, hospitalized on 01/23/2020.', 'new confirmed COVID-19 patient in Japan: female, 50s, lives in Wakayama, inspected as contact 2/16, hospitalized 2/17', 'new confirmed COVID-19 patient in Taiwan: female, 80s, related to case 19 and 20, symptom onset 2/6', 'new death from COVID-19 pneumonia, male, 73, symptom onset on 12/29/2019, hospitalized on 01/05/2020, death on 01/22/2020', 'First confirmed imported COVID-19 pneumonia patient in Macau: female, 52, Wuhan resident, symptom onset one week before 01/21/2020, hospitalized on 01/22/2020', 'new confirmed COVID-19 patient in South Korea: male, 24, same cluster as case 31', 'Death from COVID-19 pneumonia in Wuhan: male, 89, symptom onset on 01/13/2020, hospitalized on 01/13/2020, death on 01/19/2020.', 'new confirmed COVID-19 patient in Singapore: female, 58, linked to case 66, symptom onset 1/23, went to clinic on 2/1, 2/6, 2/10, referred to NCID on 2/18', 'new confirmed COVID-19 patient in US: California, recently traveled from China, returned on 2/2', 'new confirmed COVID-19 patient in South Korea: female, 59', 'new confirmed COVID-19 patient in Singapore: male, 50, symptom onset 2/3, went to clinics on 2/5, 2/7, 2/10, 2/13, ED on 2/13', 'new confirmed COVID-19 patient in Spain: Andalusia, male, 42, contact of case 12', 'new confirmed COVID-19 patient in Japan: Hokkaido, male, 30s, fever 2/17, went to doctor 2/18, went to another doctor 2/20, went back to first doctor 2/22, admitted to hospital 2/24', 'Death from COVID-19 pneumonia in Wuhan: male, 89, pneumonia confirmed on 01/08/2020, death on 01/18/2020.', 'NaN', 'new confirmed COVID-19 patient in Japan: female, 50s, lives in Chiba prefecture, returned to Japan on 1/30 on second charter flight, symptom onset 1/31/2020 (fever, cough) at consultation, left for Wuhan 1/10/2020, had dinner with relative with cough on 1/19/2020', 'new confirmed COVID-19 patient in Japan: Gifu Prefecture, female, 50s, throat pain and chills 2/23, sample collected as close contact with another patient 2/26, contact with case 168 from 2/20-2/24, on 2/24 left for Osaka by train and returned to Gifu on 2/25', 'new confirmed COVID-19 patient in South Korea: female, 22', 'new confirmed COVID-19 patient in Vancouver, Canada: female, 30s, returned from Iran', 'new confirmed COVID-19 patient in Japan: male, 50s, lives in Wakayama, symptom onset 2/7 (fever), went to medical institution 2/7, 2/14', 'new confirmed COVID-19 patient in Hong Kong: female, 68, lives in Shenzhen, traveled to Hong Kong on 1/25/2020 with a fever, immediately taken to hospital for isolation, visited family members in Wuhan , symptom onset 1/21/2020 (fever, cough), had visited family member in Wuhan', 'new confirmed COVID-19 patient in Hong Kong: 2/11-No.1, female, 37, daughter-in-law of 2/10-No.2, symptom onset 2/2 (fever, cough, sore throat), went to doctor 2/3', 'new confirmed COVID-19 patient in Paris, France: male, 31, Wuhan resident, arrived in France 01/18/2020, symptom onset on 01/19/2020, hospitalized 01/25/2020.', 'new confirmed COVID-19 patient in Singapore: female, 40, symptom onset 1/27, visited clinic 1/27, 2/1, close contact of 2/4-No.1 and 2/4-No.2, home quarantine 2/4, admitted to NCID 2/6', 'new confirmed COVID-19 patient in Singapore: 75, female, linked to cluster at The Life Church and Missions Singapore, symptom onset 2/9, went to clinic 2/9, 2/17, 2/23, went to hospital 2/23', 'new confirmed COVID-19 patient in South Korea: 2/5-No.1, male, 37, attended conference in Singapore 1/18-1/23 where contacted Malaysian man infected with virus, symptom onset 1/26/2020, went to three different hospitals, lives in Guri, quarantined on hospital, visited clinic on 2/4/2020', 'new confirmed COVID-19 patient in Hong Kong: female, 57, Diamond Princess cruise from 1/25-2/21, returned by flight on 2/22', 'new confirmed COVID-19 patient in Japan: male, 50s, lives in Sagamihara City, symptom onset 2/16 (fever), visited doctor 2/17 for fever and headache, fever 2/18, returned 2/19, visited another doctor 2/21 and hospitalized', 'new confirmed COVID-19 patient in Malaysia: female, 4, hospitalized in Langkawi, arrived on 1/20, developed fever, cough, flu, went to hospital 1/26', 'new confirmed COVID-19 patient in Taiwan: male, 30s, traveled with 21 other tourists to Osaka from 2/17-2/22, after returning, developed a cough and itchy throat on 2/25', 'Death from COVID-19 pneumonia in Wuhan: male, 66, symptom onset on 01/10/2020, hospitalized on 01/16/2020, death on 01/20/2020.', 'new confirmed COVID-19 patient in Japan: male, in his 20s, in Kyoto, hospitalized 1/31/2020 after symptom onset 1/24/2020 (fever), quarantined at hospital, had not traveled to China, went to hospital 1/27/2020 and 1/29/2020 but no symptoms of pneumonia', 'new confirmed COVID-19 patient in Japan: male, 70s, Tokyo, symptom onset 2/4 (cough, malaise, shortness of breath)', 'new confirmed COVID-19 patient in US: 1/24-No.1, female, 61, treated in Chicago, traveled to Wuhan in December, returned on 1/13/2020, called doctor a few days after returning to report feeling unwell, sent to hospital', 'new confirmed COVID-19 patient in Hong Kong: male, 22, cousin of 2/9-No.1, had hot pot with him 1/26', 'new confirmed domestic COVID-19 patient in Taiwan: man, in his 50s, contracted virus from wife 1/27-No.1, symptom onset 1/26/2020 (cough), tested positive 1/28/2020', 'new confirmed COVID-19 pneumonia patient in Yunnan: male, 65, Wuhan resident, arrived in Yunnan on 01/13/2020, hospitalized on 01/21/2020.', 'new confirmed COVID-19 patient in Germany: another child of employee', 'new confirmed COVID-19 patient in Hong Kong: male, 33, son of case 72, symptom onset 2/20 (fever), went to doctor on 2/22, cough on 2/24, transferred to hospital and admitted on 2/24', 'new recovered imported COVID-19 pneumonia patient in Beijing: female, returned to Beijing from Wuhan on 01/08/2020, symptom onset afterwards, recovered on 01/24/2020.', 'new confirmed COVID-19 patient in Japan: Hokkaido, male, 30s, cough symptoms 2/20, fever and joint pain 2/23, went to doctor 2/23 and 2/25', 'new confirmed COVID-19 patient in Thailand: male, 70, moved to infectious diseases institute,Thai, driver who had driven Chinese tourists', 'new confirmed COVID-19 patient in Japan: male, 80s, Okinawa, symptom onset 2/6 (fever, malaise, diarrhea, cough), hospitalized 2/17', 'new confirmed COVID-19 patient in South Korea: female, 46, same cluster as case 31', 'First confirmed COVID-19 pneumonia patient in Gansu: male, 43, lives in Lanzhou, Gansu, visited Hunan, Jiangxi since 01/11/2020, met with individual from Wuhan during the visit, return to Lanzhou Gansu on 01/17/2020, symptom onset on 01/18/2020, visit clinic on 01/21/2020, tested positive on 01/23/2020.', 'new confirmed COVID-19 patient in Singapore: female, 39, no recent travel, went to Malaysia 1/22-1/29, now in hospital, symptom onset 1/30, went to ER 2/2, church cluster', 'new confirmed COVID-19 patient in Japan: male, 70s, Sapporo City', 'new confirmed COVID-19 patient in Hong Kong: male, 75, father of 2/11-No.1, symptom onset 2/3 (fever, cough), went to doctors on 2/3, 2/7, 2/10', 'new confirmed COVID-19 pneumonia patient No.15 in Tianjin: male, 50, Tianjin resident, arrived in Tianjin from Wuhan on 01/23/2020, symptom onset on 01/25/2020, visited clinic on 01/26/2020, confirmed on 01/26/2020', 'new confirmed COVID-19 patient in South Korea: male, 75, died 2/27', 'new confirmed imported COVID-19 pneumonia patient 01/27-No.12 in Shaanxi: male, 27, works in Wuhan, visited Shanxi on 01/18/2020, symptom onset on 01/22/2020, visit hospital on 01/24/2020, confirmed on 01/27/2020', 'new confirmed COVID-19 patient in Germany: contact of cases 21 and 22, NRW, partner of case 24', 'new confirmed imported COVID-19 pneumonia patient in Sichuan: male, 37, visited Chengdu from Wuhan on 01/18/2020, symptoms onset on 01/20/2020.', 'new confirmed COVID-19 patient in Singapore: male, 53, Singapore citizen, no recent travel history to China, but went to Malaysia on 1/6, 1/11, 1/17, currently in isolation roomin hospital, symptom onset 1/23, visited clinic 1/23, visited another clinic 1/28, admitted to hospital 2/1, Church cluster', 'new confirmed COVID-19 patient in South Korea: male, 82, admitted to hospital for chest discomfort, first visited local hospital on 2/15', 'new confirmed imported COVID-19 pneumonia patient in Shandong: male, 38, works in Zhejiang (not Wuhan!), have close contact with COVID-19 patients in Zhejiang, visit relative in Weihai, Shandong on 01/18/2020, symptom onset on 01/20/2020 and hospitalized.', 'new confirmed imported COVID-19 pneumonia patient 01/24-No.2 in Shanxi: male, 23, studied in Wuhan, arrived in Yanan, Shanxi from Wuhan on 01/22/2020, hospitalized on 01/22/2020.', 'new confirmed COVID-19 patient in Japan: Hokkaido, male, 20s, headache and fever 2/17, fever and malaise 2/18, went to doctor 2/18, again 2/20, hospitalized 2/24', 'new confirmed COVID-19 patient in Vietnam: female, 42, lives in Vinh Phuc, exposed 1/22 and 1/28, symptom onset 1/31 (fever), went to clinic', 'new confirmed COVID-19 patient in Japan: male, 50s, lives in Hubei, came to Japan on 1/22/2020, symptom onset 1/25/2020 (fever), went to medical instutition on 1/26/2020, returned to China on 1/30, same bus tour as fourth confirmed case in Japan', 'new confirmed COVID-19 pneumonia patient 01/27-No.8 in Shaanxi: male, 48, lives in Xian, symptom onset on 01/17/2020, visited clinic on 01/19/2020, confirmed on 01/27/2020', 'new confirmed COVID-19 patient in France: male, 60, hospitalized in Paris, died 2/26', 'new confirmed imported COVID-19 pneumonia patient in Tianjin: female, 29, works in Wuhan, arrived in Tianjin from Wuhan on 01/23/2020, symptom onset on 01/24/2020 hospitalized on 01/24/2020.', 'new confirmed COVID-19 patient in Malaysia: male, 40, Wuhan resident, arrived in Johor from Singapore on 1/22/2020, symptom onset 1/23/2020 (fever and cough), hospitalized 1/23/2020', 'new confirmed COVID-19 patient in Vancouver, Canada: female, 30s, returned from Shanghai', 'new confirmed COVID-19 patient in Toronto, Canada: female, 20s, travelled to Wuhan before it was quarantined, then went elsewhere before returning 2/21', 'new confirmed COVID-19 patient in US: 2/3-No.1, male, 57, San Benito County, recently traveled back from Wuhan on 1/18/2020, isolated in home, arrived in San Francisco 1/24/2020 as healthy, but symptom onset 1/25/2020 (cough, fever), hospitalized', 'new confirmed COVID-19 patient in Thailand: Chinese national, part of a family aged 6-60, traveling from Hubei province, one passenger taken to hospital after showing symptoms on arrival and other four members quarantined after showing symptoms following monitoring', 'new confirmed COVID-19 patient in Japan: male, 50s, lives in Wuhan, returned to Japan on first charter flight 1/30, symptom onset 2/7 (fever, cough), hospitalized 2/7', 'new confirmed COVID-19 patient in South Korea: female, 59, aquaintance of 1/30-No.2, in hospital', 'new confirmed COVID-19 patient in France: female, 33, Chinese woman who recently returned from China, hospitalized in Paris', 'new confirmed COVID-19 patient in South Korea: female, 62, Korean, developed symptoms during stay in Wuhan on 1/21/2020', 'new confirmed COVID-19 patient in Germany: 52, male, works at same company as patients 1-5', 'new confirmed imported COVID-19 pneumonia in Tianjin: female, age 60, recently visited Wuhan, visited fever clinic on 01/19/2020 in Tianjin then quarantined immediately.', 'new confirmed COVID-19 patient in Singapore: male, 57, symptom onset 2/6, went to clinic on 2/6 and 2/8, went to hospital on 2/9 and 2/11 and 2/12', 'new confirmed COVID-19 patient in Singapore: 2/4-No.2, female, 32, no recent travel history to China, tour guide for group of Chinese tourists, in Singapore 1/22-1/23 and 1/27, asymptomatic on arrival to NCID', 'new confirmed COVID-19 patient in Thailand: female, 60, family members infected,', 'new confirmed COVID-19 patient in Singapore: male, 54, in Malaysia 1/26, symptom onset 1/30, visited clinics on 1/30, 2/5, 2/6, hospital 2/6', 'new confirmed imported COVID-19 pneumonia patient in Beijing: female,33, Wuhan resident, visiting Beijing on 01/18/2020, seek care on 01/20/2020 after symptom onset.', 'new confirmed imported COVID-19 pneumonia patient in Hunan: male, 59, symptom onset on 01/16/2020, hospitalized on 01/21/2020, prior exposure to Wuhan.', 'new confirmed COVID-19 patient in Germany: evacuated from Wuhan, now in hospital in Frankfurt, arrived on 2/1/2020', 'new confirmed COVID-19 patient in UAE: female, 36, 1/29-No.2 (mother), arrived as tourists 1/16/2020, admitted into hospital', 'new confirmed COVID-19 patient in Thailand: Chinese national', 'new confirmed COVID-19 patient in UAE: male, 70', 'new confirmed imported COVID-19 pneumonia patient in Yunnan: male, 58, resident of Guangdong, visited Wuhan from 01/09/2020 to 01/20/2020, visited clinic on 01/24/2020', 'new confirmed COVID-19 patient in South Korea: male, 57, Cheongdo Daenam hospital cluster', 'new confirmed COVID-19 patient in Japan: Hokkaido, female, 70s, fever and cough 2/16, went to doctor 2/16, returned 2/25', 'new confirmed COVID-19 patient in South Korea: female, 58, same cluster as case 31', 'new confirmed COVID-19 patient in South Korea: 2/2-No.1 male, 43, went to Wuhan, returned 1/20/2020, worked as aircraft contactor of 1/27-No.1, self-isolating since 1/29/2020', 'new confirmed COVID-19 patient in Iran: Guilan', 'new confirmed COVID-19 patient in NSW, Australia: male, 43, arrived in Sydney from Wuhan on 1/18/2020, symptom onset 1/24/2020, hospitalized 1/24/2020', 'Death from COVID-19 pneumonia in Wuhan: male, 87, symptom onset on 01/12/2020, hospitalized on 01/19/2020, death on 01/23/2020', 'new confirmed COVID-19 patient in Singapore: 2, female, evacuated from Wuhan on 1/30, without symptoms on board, quarantined upon landing, went to hospital on 2/7', 'new confirmed COVID-19 patient in Hong Kong: female, 91, maternal grandmother of 2/9-No.1, had hot pot with him 1/26', 'new confirmed imported COVID-19 pneumonia patient in Henan: male, 68, lives in Wuhan, visited Henan on 01/11/2020, went to clinic on 01/13/2020.', 'new confirmed COVID-19 patient in Japan: Hokkaido, male, 80s, fever and cough 2/24, went to doctor 2/24', 'new confirmed COVID-19 patient in Singapore: female, 31, from Wuhan, arrived in Singapore 1/22/2020, travelling companion of 1/26-No.1, no symptoms on flight, quarantined from 1/26/2020, symptom onset 1/27/2020, confirmed 1/29/2020', 'new confirmed COVID-19 patient in Japan: male, 60s, kumamoto prefecture, symptom onset 2/15 (fatigue, cold, fever, vomiting), visited doctor 2/19, went again 2/21, visited Hokkaido 2/2-2/10', 'Death from COVID-19 pneumonia in Wuhan: female, 67, symptom onset on 01/05/2020, hospitalized on 01/12/2020, death on 01/23/2020', 'new confirmed imported COVID-19 pneumonia patient in Yunnan: female, 32, lives in Wuhan, returned to Yunnan on 01/16/2020, visited clinic on 01/24/2020', 'new confirmed COVID-19 patient in Japan: female, 50s, symptom onset 2/16 (fatigue, joint pain, fever), came home 2/18, went to doctor 2/19, moved to another hospital 2/21', 'new confirmed COVID-19 patient in South Korea: female, 65', 'new confirmed COVID-19 patient in France: female, 23, Nice, from Cannes, infected after journey in Milan', 'new confirmed COVID-19 patient in Hong Kong: female, 63, wife of 2/10-No.1, symptom onset 1/30, ,transferred to hospital 2/9, went to clinic on 1/31', 'new confirmed imported COVID-19 pneumonia patient 01/25-No.7 in Shaanxi: male, 40, Xian resident, works in Wuhan, arrived in Shanxi from Wuhan on 01/23/2020, symptom onset on 01/23/2020, visit clinic on 01/23/2020, confirmed on 01/25/2020', 'new confirmed COVID-19 patient in Japan: female, 50s, Tokyo, symptom onset 2/4 (fatigue)', 'new confirmed COVID-19 patient in South Korea: male, 58', 'new confirmed COVID-19 patient in Hong kong: male, 54, went to doctor on 2/7, hospital on 2/10', 'new confirmed COVID-19 patient in Spain: Zaragoza, 27 female, had traveled to Milan', 'new confirmed COVID-19 patient in Hong Kong: male, 56, went to Wuhan 1/10/2020-1/19/2020, visited hospital on 1/19/2020 but no fever or pneumonia, returned to hospital 1/21/2020, sent to isolation ward, symptom onset 1/18/2020 (fever)', 'new confirmed imported COVID-19 pneumonia patient 01/25-No.3 in Shaanxi: male, 41, resident of Ankang, Shanxi, visited Wuhan from 01/06/2020 to 01/07/2020, symptom onset on 01/14/2020, visited clinic on 01/23/2020, confirmed on 01/25/2020', 'new confirmed COVID-19 patient in Singapore: male, 45, married fo 2/4-No.1, warded in isolationi at NCID, symptom onset 2/1, visited clinic 2/2, isolated 2/4', 'new confirmed COVID-19 patient in London, UK: female, flew from China a few days ago,', 'new confirmed COVID-19 patient in Singapore: female, 37, from Wuhan, arrived in Singapore 1/22/2020 with family, also asymptomatic during flight, symptom onset 1/26/2020, went to hospital on 1/29/2020', 'new confirmed COVID-19 patient in Singapore: male, 36, symptom onset 1/30, visited clinic 1/30, close contact of case 19 and 20 (2/4-No.1 and 2), placed under home quarantine on 2/4, admitted to NCID 2/7', 'new confirmed COVID-19 patient in South Korea: female, 57', 'new confirmed COVID-19 patient in Malaysia: male, 45, flown back from Wuhan on 2/4, now in hospital', 'new confirmed COVID-19 patient in Japan: Kumamoto City, male, 50s, sore throat since 2/20, went to public health center 2/24', 'new confirmed imported COVID-19 pneumonia patient 01/26-No.5 in Shaanxi: female, 52, Tongchuan, Shanxi resident. have contact with 01/26-No.4, confirmed on 01/26/2020.', 'new confirmed imported COVID-19 pneumonia patient 01/27-No.2 in Shaanxi: male, 18, student in Wuhan and resident in Yanan, Shanxi, symptom onset on 01/20/2020, flight to Xian, Shanxi on 01/22/2020 from Wuhan, visit hosipital on 01/23/2020, confirmed on 01/27/2020', \"new confirmed COVID-19 patient in Vietnam: 2/9-No.1, female, 55, Vinh Phuc, neighbor of a worker who went to Wuhan, ,went to worker's house on 1/28, symptom onset 2/2 (fever, headache, runny nose)\", 'new confirmed COVID-19 patient in South Korea: female, 63', 'new confirmed COVID-19 patient in Hong Kong: male, 43, relative of case 47, symptom onset 1/29 (cough, diarrhea, vomiting), went to doctors on 1/31-2/8, went to hospital 2/12, attended banquet on 1/30 with case 47', 'new confirmed COVID-19 patient in Malaysia: male, 31, travelled to Macau for work then returned to Malaysia on 2/1, symptom onset 2/3 (cough), went to clinic, referred to hospital 2/7', 'new confirmed COVID-19 patient in Singapore: 36, male, symptom onset 2/14, went to clinic 2/14, 2/16, 2/19, went to hospital 2/19', 'new confirmed imported COVID-19 pneumonia patient in Yunnan: male, 63, resident of Wuhan, arrived in Yunnan on 01/21/2020, visited clinic on 01/23/2020', 'new recovered COVID-19 pneumonia patient in Jiangxi: male, 38, Jiangxi resident, visited Wuhan from 01/03/2020 to 01/05/2020, symptom onset afterwards, hospitalized and confirmed on 01/23/2020', 'new confirmed COVID-19 patient in Singapore: 1/24-No.1, male, 66, Wuhan resident, arrived in Singapore 1/20/2020, symptom onset 1/21/2020 (fever and cough), hospitalized 1/22/2020, confirmed 1/23/2020.', 'new confirmed COVID-19 patient in South Korea: 1/25-No.1, male, 54, visited Wuhan, arrived on 1/20/2020, symptom onset 1/22/2020 (fever, chills, muscle cramps), contacted health authorities and placed in isolation 1/25/2020, worked at \"The Place\" clothing store', 'new confirmed COVID-19 patient in Cambodia: male, 60, arrived from Wuhan 1/23/2020, Chinese national, symptom onset 1/25/2020 (fever and runny nose), confirmed 1/27/2020', 'new confirmed COVID-19 patient in Germany: Baden-Wuerttemberg, male, travelled to Bergamo, Italy', 'new confirmed COVID-19 patient in Hong Kong: female, husband had visited son in Guangdong from 1/23-1/28 but neither infected', 'new confirmed COVID-19 patient in Japan: male, 40s, Tokyo, contact of case 45', 'new confirmed COVID-19 patient in South Korea: female, 50', 'new confirmed COVID-19 patient in Japan: female, 60s, Tokyo, contact of case 28', 'new confirmed COVID-19 patient in Hong Kong: married to 2/5-No.1, female, 55, in hospital in Kwai Chung, in Japan 1/28 and returned 2/1, symptom onset 2/1 (sore throat, fever, diarrhea), consulted private doctor on 2/2/2020, visited hospital on 2/4 with husband, admitted 2/5', 'new confirmed COVID-19 patient in Japan: Hokkaido, male, 50s, detected as close contact of another case 2/24, cough and malaise 2/25, health observation started 2/25', 'new confirmed imported COVID-19 pneumonia patient 01/25-No.1 in Shaanxi: female, 24, works in Wuhan, symptom onset on 01/19/2020, returned to Shanxi from Wuhan on 01/21/2020, confirmed on 01/25/2020', 'confirmed imported COVID-19 pneumonia patient in Gansu: female, 20, lives in Wuhan, arrived in Gansu on 01/18/2020, symptom onset on 01/19/2020, visit clinic on 01/24/2020, hospitalized on 01/24/2020.', 'new confirmed COVID-19 patient in Japan: Tokyo, male, 30s, symptom onset 2/18 (fever, sore throat)', 'new confirmed COVID-19 patient in Hong Kong: male, 59, lives in Siu Sai Wan, symptom onset 2/2 (fever, cough, shortness of breath), went to doctor on 2/6, went to hospital on 2/9 and 2/10', 'new confirmed COVID-19 patient in Thailand: female, 74, Wuhan resident, quarantined since 1/13/2020 on arrival, discharged and returned to China', 'confirmed COVID-19 pneumonia patient No.11 in Tianjin: female, 55, symptom onset on 01/23/2020, hospitalized on 01/23/2020, confirmed on 01/26/2020', 'new confirmed COVID-19 patient in Spain: Andalusia, male, 28, travelled to Milan', 'new confirmed COVID-19 patient in Singapore: female, 52, symptom onset 2/3, visited clinic 2/4, admitted to NCID 2/7', 'new confirmed COVID-19 patient in Japan: female, in her 30s, Hunan resident, stayed in Wuhan 1/19/2020, arrived in Japan 1/20/2020, symptom onset 1/24/2020 (fever, cough), consulted medical institution on 1/24/2020, returned on 1/27/2020, hospitalized 1/30/2020', 'new confirmed COVID-19 patient in Taiwan: male, 50s, related to case 19', 'new confirmed COVID-19 patient in Japan: male, 80s, lives in Tokyo, symptom onset 2/9 (fever, pneumonia)', 'new confirmed COVID-19 patient in Spain: Andalusia, 81, family member of previous infected case', \"new confirmed COVID-19 patient in Germany: Hamburg, male, employee of children's medical department, called in sick 2/26/2020, went to hospital 2/27, had been on vacation in Trentino\", 'new confirmed imported COVID-19 pneumonia patient (medical doctor No.1) in Beijing: male, traveled to Wuhan from 01/08/2020 to 01/16/2020, symptom onset on 01/16/2020, visited clinic on 01/20/2020, confirmed on 01/21/2020', 'new confirmed COVID-19 patient in Hong Kong: female, 65, symptom onset 1/28/2020 (fever, cough), went to private doctor on 1/29 and 2/1, sought treatment at hospital on 2/5', 'new confirmed COVID-19 patient in Japan: male, 60s, Okinawa, symptom onset 2/11 (fever, breathlessness, malaise), consultation 2/18', 'new confirmed COVID-19 patient in Singapore: male, 64, in hospital, symptom onset 1/30, visited clinic 1/31, admitted to hospital 2/6', 'new confirmed COVID-19 patient in Germany: Baden-Wuerttemberg, male, was in Karlsruhe on business, family member also sick', 'new confirmed COVID-19 patient in US: Arizona, recently traveled to Wuhan', 'new confirmed COVID-19 patient in Hong Kong: male, 37, son of case 52, had dinner with patients of case 46, 48, 49 on 1/26, symptom onset 2/8 (fever), went to doctor on 2/9, hospital on 2/12', 'new confirmed imported COVID-19 pneumonia patient 01/25-No.10 in Shaanxi: male, 15, Shangluo resident, symptom onset in Wuhan on 01/21/2020, returned to Shanxi and visit clinic on 01/23/2020, confirmed on 01/25/2020', 'new confirmed COVID-19 patient in US: California', 'new confirmed imported COVID-19 pneumonia patient in Guizhou: female, 50, contact individuals from Wuhan in Changsha, hunan between 01/10/2020 and 01/12/2020, symptom onset on 01/14/2020, hospitalized on 01/22/2020.', 'new confirmed COVID-19 pneumonia patient in Heilongjiang: male, 49, lives in Heilongjiang, returned from Wuhan to Heilongjiang on 01/23/2020, symptom onset on 01/23/2020.', 'Death from COVID-19 pneumonia in Wuhan: male, 84, symptom onset on 01/06/2020, hospitalized on 01/09/2020, death on 01/22/2020.', 'Death from COVID-19 pneumonia in Wuhan: male, 65, symptom onset on 01/12/2020, hospitalized on 01/16/2020, death on 01/23/2020', 'new confirmed COVID-19 patient in Japan: male, 50s, lives in Wakayama, symptom onset 2/3 (fever), went to medical institution 2/4, 2/13', 'new confirmed COVID-19 patient in Spain: male, Italian, on Canary Island of Tenerife, 69, from Lombardy', 'new confirmed COVID-19 patient in France: female, 60, married to case 14', \"new confirmed COVID-19 patient in Victoria, Australia: female, in her 40s, visitor from Hubei, went to doctor's and was referred to hospital immediately, been in Australia for about a week and showed symptoms for two or three days\", 'new confirmed COVID-19 patient in Queensland, Australia: male, 8, Chinese citizen from Wuhan, traveling with 1/29-No.1, isolated at hospital', 'new confirmed COVID-19 patient in Belgium: evacuated from Wuhan on 2/2', 'new confirmed COVID-19 patient in Paris, France: 1/28-No.1, male, 80, hospitalized in Paris on 1/25/2020 for fever, \"severe\", visiting France from Hubei province, arrived on 1/23/2020', 'new confirmed COVID-19 patient in Japan: Tokyo, female, 60, fever, cough, sputum 2/10', 'First confirmed imported COVID-19 pneumonia patient in Liaoning: male, 33, works in Wuhan, symptom onset on 01/11/2020, visit clinic in Liaoning Dalian on 01/17/2020.', 'Death from COVID-19 pneumonia in Wuhan: male, 58, symptom onset on 01/03/2020, hospitalized on 01/18/2020, death on 01/24/2020', 'new confirmed COVID-19 patient in Singapore: female, 79, family member of case 66, symptom onset 1/30, went to NCID 2/14', 'new confirmed COVID-19 patient in Japan: Sagamihara City, female, 20s, symptom onset 2/19, visited doctor 2/19, re-examined 2/20 due to fever, chills, joint pain, heavy head, throat discomfort', 'new confirmed COVID-19 patient in Malaysia: female, daughter-in-law of Singapore 1/24-No.1,', 'new confirmed COVID-19 patient in South Korea: male, 22', 'new confirmed COVID-19 patient in Queensland, Australia: 1/29-No.1, 44, Chinese National, currently in hospital, travelled from Melbourne to the Gold Coast 1/27/2020, symptom onset and hospitalized 1/28/2020', 'new confirmed imported COVID-19 pneumonia patient in Yunnan: female, 39, visited Wuhan from 12/17/2019 to 01/15/2020, returned to Xishuangbannan, Yunnan on 01/15/2020, hospitalized on 01/22/2020.', 'new confirmed COVID-19 patient in Hong Kong: female, 64, worked at clothing store in Kowloon, symptom onset 1/23/2020 (cough) and consulted private doctor 1/23/2020, shortness of breath on 2/1/2020, sought treatment at hospital, no recent travel to China', 'new confirmed COVID-19 patient in Singapore: 2/6-No.1, male, 27, Singapore citizen, no recent travel history, attended business meeting 1/20-1/22 with people from Hubei and confirmed cases from Malaysia and South Korea, now in NCID, symptom onset 1/21, visited clinic 1/28, another clinic 2/3, admitted to NCID 2/6', 'new recovered imported COVID-19 pneumonia patient in Beijing: male, returned to Beijing from Wuhan on 01/08/2020, symptom onset afterwards, recovered on 01/25/2020.', 'new confirmed COVID-19 patient in Taiwan: 1/30-No.1, male, experiencing symptoms on arrival 1/12/2020 (cough, runny nose, no fever), recently returned from business in Wuhan', 'new confirmed COVID-19 patient in Japan: male, 60s, Wakayama Prefecture, contact of case 29, 50, 51', 'new confirmed COVID-19 patient in Japan: Tokyo, male, 70s, symptom onset 2/14 (fever, cough, sputum)', 'new confirmed COVID-19 patient in Japan: male, 50s, lives in Wuhan', 'new confirmed COVID-19 patient in Spain: Barcelona, female, 22, traveled to Italy from 2/19-2/25', 'new confirmed COVID-19 patient in Spain: Madrid, 77', 'new confirmed COVID-19 patient in South Korea: male, 46, related to 2/4-No.1, in hospital', 'new confirmed imported COVID-19 pneumonia patient 01/27-No.1 in Shaanxi: female, 36, Wuhan resident, flight to Xian, Shanxi on 01/21/2020, symptom onset on the plane, visited hospital on 01/25/2020, confirmed on 01/27/2020.', 'new confirmed COVID-19 patient in US: Wisconsin, came into contact with someone infected while traveling in China', 'new confirmed COVID-19 patient in Sri Lanka: female, 40, from Hubei, tested positive at a screening, arrived on 1/19/2020, symptom onset 1/25/2020 (fever), confirmed 1/27/2020, admitted to hospital 1/25/2020', 'new confirmed COVID-19 patient in Hong Kong: male, 45, colleague of case 57, ,symptom onset 2/12 (fever, sore throat), went to doctor 2/13, went to hospital 2/16, went to Vietnam from 1/30-2/1', 'First confirmed imported COVID-19 pneumonia patient in Ningxia: male, 29, works in Wuhan. Ningxia and visit clinic on 01/19/2020.', 'First confirmed imported COVID-19 pneumonia patient in Heilongjiang: male, 69, returned to Mudanjiang, Heilongjiang from Wuhan on 01/12/2020, symptom onset after return and has been hospitalized.', 'new confirmed COVID-19 patient in France: Saint-Mande, contact of case 15', 'new confirmed COVID-19 patient in Japan: female, 60s, Chiba, symptom onset 2/12 (nausea), went to doctor, worked 2/13-2/19, cough appeared 2/18, went back to doctor 2/18, fever 2/21', 'new confirmed COVID-19 patient in Singapore: male, 30, family member of case 50, symptom onset 1/30, went to clinic on 1/30, 2/3, NCID on 2/12', 'new confirmed COVID-19 patient in Singapore: female, 56, Wuhan resident, arrived in Singapore 1/18/2020 asymptomatic, symptom onset 1/24/2020, hospitalized 1/26/2020.', 'new confirmed COVID-19 patient in Hong Kong: female, 72, no recent history of travel, caught from son 1/31-No.1, quarantined since 2/1/2020, symptom onset 2/1/2020 (fever, cough), sent to hospital', 'new confirmed COVID-19 patient in Malaysia: female, 32, Chinese national, went to China 1/22-1/30 to visit family, symptom onset 2/13 (sore throat), referred to hospital', 'new confirmed COVID-19 patient in Japan: Tokyo, male, 70s, symptom onset 2/12 (fever, cough, sputum, dyspnea)', 'new confirmed COVID-19 patient in Japan: male, 50s, Kumamoto city, symptom onset 2/20 (cough, fever), admitted to infectious disease institution 2/21', 'new confirmed COVID-19 patient in Japan: Nagoya City, female, 70s, fever and cough 2/23, went to doctor 2/23', 'new confirmed COVID-19 patient in Thailand: male, returned from Hokkaido, contacted case 40 (grandson), came into hospital 2/23 with cough and fever', 'First confirmed imported COVID-19 pneumonia patient in Yunnan: male, 51, Wuhan resident, visited Yunan on 01/15/2020, symptom onset on 01/16/2020 and hospitalized.', 'new confirmed COVID-19 patient in Japan: male, 60s, Aichi Prefecture, symptoms 2/3 (fever), visited doctor 2/8, went to medical instutition 2/13, went to Hawaii 1/28-2/7', 'new confirmed COVID-19 patient in Japan: Nagoya City, male, 60s, fever and went to doctor 2/25', 'new confirmed COVID-19 pneumonia patient in Macau: female, 58, Wuhan resident, visited Macao on 01/23/2020, symptom onset on 01/23/2020, hospitalized on 01/23/2020, confirmed on 01/26/2020', 'new confirmed COVID-19 patient in Japan: male, 60s, Fukuoka Prefecture, symptom onset 2/13 (fever, pneumonia), went to medical institution 2/13, returned 2/19', 'new confirmed COVID-19 patient in Singapore: female, 42, Singapore citizen, no recent travel, warded in NCID, symptom onset 2/2, admitted to hospital 2/5', 'new confirmed COVID-19 patient in South Korea: male, 55, arrived at Gimpo International Airport 1/22/2020, works in Wuhan, visited Chinese clinic 1/19/2020 after suffering from sore throat and other symptoms, symptom onset 1/10/2020, confirmed 1/23/2020, recovered 2/4/2020', 'new confirmed COVID-19 patient in Japan: Chiba Prefecture, male, 50s, fever 2/22, visited doctor 2/25, on Diamond Princess 2/12-2/18 as part of diaster team doctor', 'Death from COVID-19 pneumonia in Wuhan: male, 67, symptom onset on 01/10/2020, hospitalized on 01/15/2020, death on 01/24/2020', 'new confirmed COVID-19 patient in Hong Kong: male, 51, symptom onset 2/3 (fever), hospitalized 2/10, coworker of case 37', 'new confirmed COVID-19 patient in Sweden: female, in her 20s, in Jonkoping county who had visited Wuhan, landed in Sweden 1/24/2020, a few days later developed cough and contacted local hospital,', 'new confirmed imported COVID-19 pneumonia patient in Jiangxi: male, 50, visited Wuhan for poultry trading, return to Jiangxi on 01/02/2020, symptoms onset on 01/10/2020.', 'new confirmed COVID-19 patient in Japan: female, 40s, Hokkaido, symptom onset 2/16 (fever), went to medical instutition 2/18', 'new confirmed COVID-19 patient in Germany: caught from same Chinese colleague as 1/28-No.1, symptom onset 1/25/2020', 'new confirmed COVID-19 patient in Hong Kong: female, 76, symptom onset 2/13 (muscle pain, fever), went to two private doctors and sought medical attention at hospital on 2/22, admitted for treatment', 'new confirmed imported COVID-19 pneumonia patient 01/27-No.3 in Shaanxi: male, 50, resident of Hanzhong, Wuhan, visited Wuhan from 01/13/2020 to 01/17/2020, symptom onset on 01/18/2020, visit clinic on 01/22/2020, confirmed on 01/27/2020', 'new confirmed COVID-19 patient in Singapore: 2/8-No.2, male, 51, travelled to malaysia from 1/23 to 2/2, symptom onset 1/29, visited clinic 2/3, 2/5, admitted to NCID 2/6, attended same private business meeting as case 30 (2/6-No.1) and 36 (2/8-No.2) from 1/20 to 1/22', 'new confirmed imported COVID-19 pneumonia patient in Henan: female, 32, Wuhan resident, visited Sanmenxi, Henan on 01/18/2020.', 'new confirmed COVID-19 patient in Japan: Ishikawa Prefecture, female, 50s', 'new confirmed COVID-19 patient in Vietnam: female, 29, in Vinh Phuc, sent to train for two months in Wuhan, returned 1/17', 'new confirmed COVID-19 patient in Vietnam: male, 50, Vinh Phuc, lives with daughter who was sent to Wuhan for training and confirmed to be infected, symptom onset 2/11 (tired)', 'new confirmed COVID-19 patient in Hong Kong: male, 70, returned from day trip to mainland China on 1/22, visited hospital on 2/12, shortness of breath for more than 10 days, symptom onset 2/2', 'new confirmed COVID-19 patient in Hong Kong: male, 58, symptom onset 2/8 (fever, cough), went to private doctor 2/10 and 2/17, went to hospital on 2/18 and admitted 2/19', 'new confirmed COVID-19 patient in Queensland, Australia: female, 37, hospital, same member of tour group as four other people in the state', 'new confirmed COVID-19 patient in Hong Kong: female, 49, cough and sputum and sore throat 2/18, went to hospital 2/22, admitted 2/23', 'new confirmed imported COVID-19 pneumonia patient in Henan: male, 55, lives in Wuhan, visited Henan on 01/11/2020, symptom onset durnig the visit.', 'new confirmed imported COVID-19 pneumonia patient in Guangxi: male, 49, lives in Wuhan,arrived in Liuzhou, Guangxi on 01/20/2020, symptom onset on 01/21/2020, hospitalized on 01/21/2020, tested postive on 01/22/2020.', 'new confirmed COVID-19 patient in Japan: female, 30s, lives in Wuhan, symptom onset 1/30 (fever, runny nose), consulted medical instution in Chiba prefecture 1/31/2020, hospitalized', 'new confirmed imported COVID-19 pneumonia patient in Yunnan: male, 31, Wuhan resident, visited Kunming, Yunnan on 01/20/2020, screened and isolated by local health authorities on 01/24/2020, hospitalized on 01/24/2020', 'new confirmed COVID-19 patient in Japan: female, 40s, lives in Kanagawa Prefecture symptom onset 2/14 (fever, vomiting, diarrhea), went to medical consultation 2/14, worked at a hospital where infected patient was from 2/1-2/5', 'new confirmed COVID-19 patient in South Korea: female, 35, Wuhan resident, arrived in Incheon international airport on 1/19/2020, isolated on entering South Korea with symptoms, symptom onset 1/18/2020 (high fever, chills, muscle pain), discharged 2/6', 'new confirmed COVID-19 patient in Spain: Andalusia, male, 53, contact of case 12', 'new confirmed COVID-19 patient in Paris, France: female, daughter of 1/28-No.1, hospitalized, arrived in Paris 1/23/2020', 'new confirmed COVID-19 patient in Taiwan: female, in her 20s, lived in Wuhan, on 1/21/2020 left Wuhan to Taiwan, symptom onset 2/1/2020 (cough, chest pain), hospitalized 2/4/2020', 'new confirmed COVID-19 patient in UAE: arrived from Wuhan', 'First confirmed imported COVID-19 pneumonia patient in Shanxi: male, visited Wuhan from 01/12/2020 to 01/15/2020, symptom onset on 01/19/2020, visit clinic on 01/20/2020, 6 contacts traced.', 'new confirmed imported COVID-19 pneumonia patient in Xinjiang: male, 47, visited Wuhan on 01/15/2020, returned to Xinjiang on 01/20/2020, symptom onset around return, tested positive on 01/23/2020.', 'new confirmed COVID-19 patient in France: male, stayed in Munich from 2/18-2/22, in solitary confinement at home, symptom onset 2/24, Bois-Guillaume', 'new confirmed COVID-19 patient in Iran: died, in Qom', 'new confirmed COVID-19 patient in Japan: female, 50s, Hokkaido, symptom onset 2/15 (fatigue), visited doctor 2/16 due to malaise and headache, another doctor 2/19', 'Death from COVID-19 pneumonia in Wuhan: male, 75, symptom onset on 01/06/2020, hospitalized on 01/11/2020, death on 01/20/2020.', 'new confirmed COVID-19 patient in Japan: female, 40s, symptom onset 2/20 (fever), went to doctor 2/21, Nagoya City', 'new confirmed COVID-19 patient in Japan: male, 50s, lives in Wakayama Prefecture, symptom onset 1/31 (fever, abdominal pain, diarrhea), visited doctor 2/8, hospitalization 2/10', 'new confirmed COVID-19 patient in Japan: female, 50s, lives in Tokyo, symptom onset 2/4 (vomiting, diarrhea, fever, cough), went to medical instutition on 2/7', 'new confirmed COVID-19 patient in South Korea: female, 39', 'Death from COVID-19 pneumonia in Wuhan: female, 82, symptom onset on 01/10/2020, hospitalized on 01/17/2020, death on 01/23/2020', 'confirmed imported COVID-19 pneumonia patient No.2 in Tianjin: male, 57, works on Tianjin high speed railroad, travel history to Wuhan, symptom onset on 01/18/2020, confirmed on 01/21/2020', 'new confirmed COVID-19 patient in Hong Kong: female, 60, colleague of case 30, lives in Ap Lei Chau, symptom onset 2/1 (cough), went to doctor on 2/2, ,went to hospital on 2/10', 'new COVID-19 patient confirmed in Switzerland: male, 70, infected in Milan during an event 2/15, symptom onset 2/17', 'new confirmed COVID-19 patient in Japan: Hokkaido, male, 70s, during hospitalization, fever 2/23', 'new confirmed COVID-19 patient in Singapore: male, 32, evacuated from Wuhan 2/9', 'new confirmed COVID-19 patient in Germany: 33, male, works at same company', 'new confirmed COVID-19 patient in US: Orange County, at local hospital, recently traveled to Wuhan, confirmed 1/25/2020', 'new confirmed COVID-19 patient in Germany: male, 58, employee of the same company', 'new confirmed COVID-19 patient in Japan: male, 20s, lives in Wuhan', 'new confirmed COVID-19 patient in Paris, France: female, 30, Wuhan resident, arrived in France 01/18/2020, symptom onset on 01/23/2020, hospitalized 01/25/2020.', 'new confirmed COVID-19 patient in Singapore: 2/8-No.1, female, 38, in isolation, symptom onset 1/24, visited clinic 2/1, admitted to hospital 2/4, attended same private business meeting as case 30 (2/6-No.1)and 39 (2/8-No.2) from 1/20-1/22', 'new confirmed COVID-19 pneumonia patient in Xinjiang: male, 49, have contacted friend from Wuhan before infection, symptom onset on 01/21/2020, visit clinic on 01/21/2020, confirmed on 01/25/2020', 'new COVID-19 patient confirmed in Croatia: male, recently returned from Milan, was there from 2/19-2/21', 'new confirmed COVID-19 patient in Hong Kong: female, 46, wife of case 57, symptom onset 2/8 (runny nose, cough), went to doctor 2/10, hospital 2/16', 'new confirmed COVID-19 patient in Hong Kong: male, 16, brother of case 87, passengers of DP cruise 1/25-2/22, returned to HK by flight 2/23, went to hospital 2/25, runny nose since 2/17', 'new confirmed COVID-19 patient in Japan: Hokkaido, male, under 10, fever and cough 2/21, went to doctor 2/22, 2/24, 2/25', 'confirmed imported COVID-19 pneumonia patient No.4 in Tianjin: male, 40, works in Wuhan, symptom onset on 01/14/2020, confirmed on 01/21/2020', 'new confirmed COVID-19 patient in Japan: Sagamihara City, male, 50s, symptom onset 2/16, went to doctor 2/17 due to fever and headache, went to doctor again on 2/19 due to fever and malaise, went to another doctor 2/21 due to severe fever and headache', 'new confirmed COVID-19 patient in Singapore: 38, male, Chinese national, arrived in Singapore from Wuhan 1/22/2020, asymptomatic during flight, symptom onset 1/23/2020, stayed home until 1/29/2020 when he took a taxi to SGH, conformed 1/31/2020', 'new confirmed COVID-19 patient in Hong Kong: female, 50, aunt of 2/9-No.1, had hot pot with him 1/26', 'new confirmed COVID-19 patient in Japan: male, 60s, lives in Kanagawa Prefecture, symptom onset 2/3 (fever), went to medical instutition 2/5, again 2/8, 2/10, hospitalized 2/13', 'new confirmed COVID-19 patient in York, UK: 1/31-No.1, Chinese national, taken to infirmary', 'confirmed imported COVID-19 pneumonia patient No.9 in Tianjin: male, 57, return to Tianjin from Wuhan on 01/17/2020, symptom onset on 01/24/2020, visited clinic on 01/24/2020, hospitalized on 01/25/2020. Have close contact with patient No. 3, confirmed on 01/25/2020.', 'First confirmed imported COVID-19 pneumonia patient in Jiangsu: male,37, returned to Jiangsu from Wuhan on 01/10/2020.', 'Second confirmed imported COVID-19 pneumonia patient in Sichuan: male, 57, Wuhan resident, visited Sichuan on 01/15/2020, symptom onset on 01/16/2020 and hospitalized.', 'new confirmed COVID-19 patient in South Korea: female, 69, same cluster as case 31', 'new confirmed COVID-19 patient in Singapore: male, 61, symptom onset 2/7, went to clinic 2/10, hospital on 2/12, NCID on 2/13', 'new confirmed COVID-19 patient in Japan: Tokyo, male, 50s, symptom onset 2/19 (Fever, malaise)', 'new confirmed COVID-19 patient in Taiwan: female, 20s, granddaughter of case 24, symptom onset 1/28 (cough, fever), went to doctor on 1/30, 2/4, 2/11', 'new confirmed COVID-19 patient in Japan: female, 60s, Fukuoka Prefecture', 'new confirmed COVID-19 patient in South Korea: female, 56', 'new confirmed COVID-19 patient in Japan: male, 20s, lives in Chiba Prefecture, symptom onset 2/2 (fever, cough), visited medical instutition 2/10, hospitalized for pneumonia 2/10', 'new confirmed COVID-19 patient in Hong Kong: female, 57, symptom onset 2/8 (sore throat), fever on 2/10, went to hospital between 2/12-2/16 and admitted on 2/16 and 2/17, went to hospital again on 2/23 and admitted, went to Osaka in Japan 1/26-1/30, returned 1/31', 'new confirmed COVID-19 patient in Spain: Valencia, male, 44, went to Pisa by plane and Milan by car to watch game on 2/19, sports journalist,', 'new confirmed COVID-19 patient in France: male, 36, back from Lombardy, hospitalized in Strasbourg', 'new confirmed COVID-19 patient in Japan: Kanagawa Prefecture, male, 50s, visited doctor 2/20 with fever, headache, malaise, re-examined 2/21 and 2/25', 'new confirmed COVID-19 patient in Spain: Castile and Leon, 18, student from Italy studying in Spain', 'new confirmed imported COVID-19 pneumonia patient 01/26-No.2 in Shaanxi: female, 64, healthcare worker in Wuhan, symptom onset on 01/10/2020 in Wuhan, arrived in Xian on 01/14/2020, visited clinic on 01/20/2020, confirmed on 01/26/2020', 'new confirmed imported COVID-19 pneumonia patient in Yunnan: female, 48, Wuhan resident, visited Tengchong, Yunnan on 01/22/2020, screened and isolated by local health authorities on 01/23/2020, hospitalized on 01/24/2020', 'new confirmed COVID-19 patient in Vietnam: male, 30, Vinh Phuc, returned from Wuhan for training, returned 1/17', 'new confirmed COVID-19 patient in South Korea: male, 74, Shincheonji cluster, died 2/26/2020', 'new confirmed COVID-19 patient in South Korea: male, 59, Cheongdo Daenam hospital cluster', 'new confirmed imported COVID-19 pneumonia patient 01/27-No.11 in Shaanxi: male, 31, lives in Hubei, symptom onset at the end of December, visited Shanxi on 01/21/2020, visited clinic on 01/21/2020, confirmed on 01/27 2020.', 'new confirmed imported COVID-19 pneumonia patient in Beijing: female, 32, visited Wuhan on 01/13/2020, return to Beijing on 01/17/2020, symptoms onset while in Wuhan, hospitalized on 01/20/2020.', 'confirmed imported COVID-19 pneumonia patient in Gansu: female, 33, works in Wuhan, arrived in Gansu on 01/18/2020, symptom onset on 01/18/2020, visit clinic on 01/23/2020, hospitalized on 01/23/2020.', 'new confirmed COVID-19 patient in Iran: Araq, doctor', 'new confirmed COVID-19 patient in South Korea: female, 40, contact of case 31', 'new confirmed COVID-19 patient in Singapore: male, 38', 'new confirmed COVID-19 patient in Japan: female, 70s, Chiba, symptom onset 2/14 (fever), went to medical instutition 2/15, transferred to airport 2/16, went to tour 2/16-2/18, visited medical instution 2/18, visited other instutition 2/19, hospitalized 2/20', 'new confirmed COVID-19 patient in Spain: male, Seville (Andalusia), 62', 'new confirmed COVID-19 patient in US: male, from Santa Clara County, traveled to Wuhan and Shanghai before returning on 1/24/2020, never sick enough to be hospitalized and \"self-isolated\" at home, left twice to seek care at local clinic and hospital', 'new confirmed COVID-19 patient in France: Paris, returning from Italy', 'new confirmed COVID-19 patient in Spain: male, British, in Mallorca, under observation in hospital on 2/7 after came into contact with Brit holidaying in France who was then diagnosed', 'new confirmed COVID-19 patient in Hong Kong: female, 25, cousin of 2/9-No.1, had hot pot with him 1/26', 'new confirmed COVID-19 patient in Japan: male, under 10 years, Hokkaido, symptom onset 2/15 (fever), medical consultation 2/17, 2/18, 2/19', 'First recovered imported COVID-19 pneumonia patient in Shanghai: female, 56, lives in Wuhan, symptom onset on 01/10/2020 while in Wuhan, arrived in Shanghai on 01/12/2020, visit clinic on 01/15/2020.', 'new confirmed COVID-19 patient in Germany: male, 25, took trip to Milan, admitted to hospital 2/24, Baden-Wurttemberg', 'new confirmed COVID-19 patient in Germany: male, 47, North Rhine-Westphalia, isolated 2/24 with symptoms of severe pneumonia, symptom onset 2/16 (fever, cough)', 'confirmed COVID-19 pneumonia patient No.13 in Tianjin: female, 19, symptom onset on 01/19/2020, hospitalized on 01/20/2020, confirmed on 01/26/2020', 'new confirmed imported COVID-19 pneumonia patient 01/25-No.8 in Shaanxi: male, 28, Xian resident, visited Wuhan from 01/09/2020 to 01/22/2020, symptom onset on 01/20/2020, visit clinic on 01/23/2020, confirmed on 01/25/2020', 'new confirmed COVID-19 patient in Japan: Hokkaido, male, 80s', 'new confirmed COVID-19 patient in Japan: Hokkaido, male, 60s, fever 2/18, went to doctor 2/22, sore throat, joint pain, dyspnea 2/23, hospitalized 2/24', 'new confirmed COVID-19 patient in Malaysia: female, 59, from Wuhan, holidaying in Johor Baru, arrived in Singapore on 1/17, went to Johor Baru 1/21, symptom onset 1/26 (fever)', 'new confirmed COVID-19 patient in Singapore: female, 44, Indonesian national, symptom onset 2/2/2020, did not leave house until admitted to hospital 2/3/2020, no recent travel history to China, domestic helpers of 2/4-No.1', 'new confirmed COVID-19 patient in Taiwan: 2/7-No.2, female, in her 50s, married to 2/7-No.1, traveled to Italy 1/22, returned 2/1, diagnosed with common cold 2/3', 'new confirmed COVID-19 patient in US: female, 57, married to 2/3-No.1, San Benito County, symptom onset 1/29/2020, hospitalized', 'new confirmed COVID-19 patient in Hong Kong: female, 55, aunt of 2/9-No.1, had hot pot with him on 1/26, lives in Sha Tin, symptom onset 1/30 (fever, cough, runny nose), went to doctor 1/30, admitted to hospital 2/9', 'new confirmed imported COVID-19 pneumonia patient in Tianjin: male, 39, visited Wuhan recently.', 'new confirmed COVID-19 patient in South Korea: female, 48, same cluster as case 31', 'new confirmed COVID-19 patient in Japan: male, 60s, symptom onset 2/12 (fever, cough), Tokyo', 'new confirmed COVID-19 patient in Germany: child of employee at same company', 'new confirmed COVID-19 patient in Spain: Madrid, returned from trip to northern Italy', 'new confirmed COVID-19 patient in Singapore: male, husband of 2/4-No.2, had not been to China recently, at NCID, symptom onset 1/24/2020 (fever), visited clinic with wife on 1/30/2020, went to NCID on 2/3/2020', 'new confirmed imported COVID-19 pneumonia patient in Beijing: female,33, Wuhan resident, visiting Beijing, seek care on 01/20/2020 after symptom onset.', 'new confirmed COVID-19 patient in South Korea: female, 21, daughter of 2/4-No.1', 'new confirmed COVID-19 patient in Singapore: female, 30, symptom onset 2/16, went to clinic 2/17, identified as contact of case 66, went to NCID 2/21', 'new confirmed imported COVID-19 pneumonia patient 01/25-No.9 in Shaanxi: male, 27, Xianyang resident, works in Wuhan, returned to Shanxi on 01/18/2020, symptom onset on 01/21/2020, visit clinic on 01/21/2020, confirmed on 01/25/2020', 'new confirmed COVID-19 patient in South Korea: female, 61, symptom onset 2/7 (fever, chill), tested on 2/17, hospitalized 2/17', 'new confirmed COVID-19 patient in Japan: male, 60s, symptom onset 2/20 (fever, cough, malaise), went to doctor 2/21, Nagoya City', 'new confirmed COVID-19 patient in Germany: caught from 1/28-No.1 during contacts from 1/21-1/24, symptom onset 1/27/2020', 'new confirmed COVID-19 patient in Singapore: 2/4-No.1, female, 28, Singaporean, symptom onset 1/29/2020 (fever, sore throat), went to clinic 1/29/2020, hospital 1/30/2020 but discharged after found to not have pneumonia, stayed at home from 1/31/2020 to 2/2/2020 before being admitted to hospital on 2/3/3030, no recent travel history to China, work at shop tour group visited, group visited store 1/23', 'new confirmed COVID-19 patient in Japan: Hokkaido, male, 50s, close contact of another case, detected as contact 2/24, fever 2/25, health observation started 2/25', 'new confirmed COVID-19 patient in Taiwan: male, 20s, son of 2/7-No.1 and 2/7-No.2, traveled to Italy with parents from 1/22 to 1/31, transited through HK for Taiwan on 2/1, symptom onset 1/27 while in Italy', 'new death from COVID-19 pneumonia, female, 85, death on 01/21/2020', 'new confirmed COVID-19 patient in Thailand: Chinese national, from Chongqing province in China', 'new confirmed COVID-19 patient in Singapore: 43, male, linked to cluster at Grace Assembly of God, symptom onset 2/9, went to clinic 2/10, close contact of cases 51, home quarantine order on 2/13', 'new confirmed COVID-19 patient in Germany: Baden-Wuerttemberg, male, directly related to case 17', 'new confirmed COVID-19 patient in Japan: Osaka, female, 40s, went to doctor 2/6 with cough, again 2/13, 2/19 throat discomfort and chest pain, went to doctor 2/21, 2/22, 2/25', 'new confirmed COVID-19 patient in London, UK: 2/6-No.1, male, 53, caught in Singapore from 1/20-1/22, stayed at French resort between 1/24-1/28', 'new confirmed COVID-19 patient in Singapore: 1, male, evacuated from Wuhan 2/9', 'new confirmed COVID-19 patient in Singapore: 37, male, symptom onset 1/31/2020, clinic 2/2, hospital 2/6', 'new confirmed COVID-19 patient in UK: contracted virus in Tenerife', 'new death from COVID-19 pneumonia, male, 36, symptom onset on 01/06/2020, hospitalized on 01/09/2020, death on 01/23/2020', 'new confirmed COVID-19 patient in Japan: Sagamihara City, female, 50s, symptom onset 2/20 (mild cough, sputum, throat discomfort), husband diagnosed 2/22', 'new confirmed COVID-19 patient in UK: contracted virus in Italy', 'new confirmed COVID-19 patient in Vietnam: Thanh Hoa, recently returned from Wuhan', 'new confirmed COVID-19 patient in Philippines: female, 60, Chinese woman, arrived from Wuhan via HK on 1/20,', 'new confirmed COVID-19 patient in Japan: Sapporo City, male, 50s, symptom onset 2/14 (chills), visited doctor 2/17, slight fever, runny nose, nausea 2/17, re-examined 2/19 and 2/21, went to hospital 2/23', 'new confirmed COVID-19 patient in Japan: Sapporo City, female, 60s, symptom onset 2/17 (fever), visited doctor 2/17, re-examined 2/18, visited again 2/21, medical examination 2/24', 'new confirmed COVID-19 patient in Germany: male, 49, employee of Starnberf', 'new confirmed COVID-19 patient in Spain: female, on Canary Island of Tenerife', 'new confirmed COVID-19 patient in South Korea: male, 51, family member of 25th confirmed case, visited Guangdong from November 2019-January 31, 2020', 'new confirmed COVID-19 patient in Spain: Andalusia, female, 25, nurse who treated a coronavirus positive patient', 'new confirmed imported COVID-19 pneumonia patient 01/27-No.5 in Shaanxi: female, 63, lives in Wuhan, symptom onset on 01/10/2020, visited Xian, Shanxi on 01/15/2020, visit clinic on 01/24/2020, confirmed on 01/27/2020', 'new confirmed COVID-19 patient in Japan: Nagano Prefecture, male, 60s, stayed in Hokkaido 2/14-2/17, stayed in Tokyo 2/17-2/19, symptom onset 2/20 (fatigue), fever on 2/21, went to doctor on 2/21, went to health center 2/23, fever 2/24, hospitalized 2/24', 'confirmed COVID-19 pneumonia patient No.12 in Tianjin: female, 79, symptom onset on 01/24/2020, hospitalized on 01/24/2020, confirmed on 01/26/2020', 'new confirmed COVID-19 patient in Japan: male, 70s, Nagoya City, symptom onset 2/19 (fever, cough), went to medical consultation 2/21', 'new confirmed COVID-19 patient in Spain: Valencia, male, contact of case 14', 'new confirmed COVID-19 patient in Germany: male, 60, father of case 19, Baden-Wurttemberg', 'new confirmed COVID-19 patient in Japan: female, 60s, symptom onset 2/19 (fever, nasal discharge, headache), went to doctor 2/21, Nagoya City', 'new confirmed COVID-19 patient in Paris, France: doctor infected by patient 1/25-No.1, hospitalized', 'new confirmed COVID-19 patient in Queensland, Australia: male, 37, Chinese national from Wuhan, isolated in hospital, part of same tour group as 1/29-No.1', 'new confirmed imported COVID-19 pneumonia patient in Hunan: female, 23, symptom onset on 01/16/2020, hospitalized on 01/21/2020, prior exposure to Wuhan.', 'new confirmed COVID-19 patient in Japan: male, in his 40s, from Chiba prefecture, resident of Wuhan, wife (17th case) tested positive earlier, visited medical institution on 2/4/2020, arrived in Japan 1/21/2020 (no symptoms), symptom onset 1/24/2020 (fever, cough), went to medical institution 1/27/2020', 'new confirmed COVID-19 patient in Singapore: male, 37, Bangladesh national, symptom onset 2/7, close contact of cases 42, 47, went to hospital on 2/11', 'new confirmed COVID-19 patient in Singapore: 1/30-No.1, female, 73, from Wuhan, arrived in Singapore with family 1/21/2020, tested positive on 1/30/2020, symptom onset 1/28/2020', 'new confirmed imported COVID-19 pneumonia patient 01/27-No.7 in Shaanxi: female, 42, Xian resident, lives in Xian, visited Wuhan on 01/19/2020, symptom onset on 01/23/2020 in Xiaogan, Hubei, visited clinic there, returned to Xian, Shanxi on 01/24/2020, visit clinic on 01/24/2020, confirmed on 01/27/2020.', 'new confirmed COVID-19 patient in Taiwan: female, 60, younger sister of case 19, attended event on 1/27', 'new confirmed COVID-19 patient in Taiwan: male, 30s, related to case 19 and 20, symptom onset 1/28-2/6 (fever, cough), attended 1/27', 'new confirmed COVID-19 patient in Spain: Madrid, 24, also visited Italy', 'new confirmed COVID-19 patient in Hong Kong: male, 68, father of 2/9-No.1, had hot pot with him 1/26', 'new confirmed COVID-19 patient in Hong Kong: 2/10-No.2, female, 62, lives in same building as case 12 in Tsing Yi, symptom onset 2/3 (cough), went to doctor on 2/3, 2/5, 2/7 went to hospital 2/9, visited Macao from 1/18-1/19', 'new confirmed COVID-19 patient in South Korea: female, 52', 'new confirmed COVID-19 patient in Japan: male, 50s, lives in Wuhan, charter flight 2/17 to Japan', 'new confirmed COVID-19 patient in Singapore: 2/4-No.2, female, 48, Singaporean, symptom onset 1/25/2020, admitted 2/3/2020 to NCID, no recent travel history to China, work at shop tour group visited, group visited store 1/23', 'new confirmed COVID-19 patient in Japan: male, in his 40s, Wuhan resident, arrived in Japan 1/19/2020, symptom onset 1/14/2020 (fever, sore throat), went to medical institution on 1/15 and 1/17, hospitalized 1/22/2020, confirmed 1/24/2020', 'new confirmed COVID-19 patient in Japan: male, 50s, symptom onset 2/5 (fever, cough, sputum, malaise), Tokyo', 'new confirmed COVID-19 patient in Singapore: 54, male, travels frequently to Malaysia, symptom onset 1/28, went to clinic on 2/1, 2/5, 2/6, 2/10, NCID 2/18', 'new confirmed imported COVID-19 pneumonia patient 01/25-No.5 in Shaanxi: female, 45, wife of patient 01/25-No.4 Wuhan resident, arrived in Shanxi on 01/20/2020, symptom onset on 01/23/2020, confirmed on 01/25/2020', 'new confirmed COVID-19 patient in Taiwan: female, in her 40s, traveled to Macau 1/21-1/24, symptom onset 2/1 (fever, chills, sore throat, runny nose, shortness of breath), medical attention on 2/3', 'new confirmed COVID-19 patient in Japan: Hokkaido, male, 80s, cough 2/22, fever 2/23, hospitalized 2/24', 'new confirmed COVID-19 patient in Taiwan: female, 50, working in Wuhan since October 2019 and returned to Taiwan 1/20/2020, hospitalized 1/25/2020 after developing a fever and muscle aches, confirmed 1/27/2020', 'new confirmed COVID-19 patient in Taiwan: male, 20s, son of 2/7-No.1 and 2/7-No.2, traveled to Italy with parents from 1/22 to 1/31, transited through HK for Taiwan on 2/1', 'new confirmed COVID-19 patient in Spain: Valencia, female, travelled to Milan', 'new confirmed imported COVID-19 pneumonia patient 01/26-No.1 in Shaanxi: female, 30, Xian resident, close contact with 01/23-No.2 symptom onset during quarantine, confirmed on 01/26/2020', 'new confirmed COVID-19 patient in South Korea: male, 29', 'new confirmed COVID-19 patient in Germany: NRW, female, attended carnival event in Gangelt on 2/15', 'new confirmed COVID-19 patient in UAE: female, 64', 'new COVID-19 patient confirmed in Bahrain: female, Saudi Arabian, returning from Iran', 'new confirmed COVID-19 patient in Singapore: female, 56, married to 1/29-No.2, arrived in Singapore 1/19/2020, warded in isolation rooms, symptom onset 1/24/2020, went to hospital on 1/27/2020, confirmed 1/28/2020, Church cluster', 'new confirmed COVID-19 patient in Taiwan: female, 70s, wife of case 27, physical discomfort on 2/6 and saw doctor on 2/6, sought medical attentio four times for respiratory symptoms from 2/10-2/19', 'new confirmed COVID-19 patient in Thailand: female, 54, Chinese tourist from Wuhan, admitted to hospital on 2/6', 'new confirmed COVID-19 patient in Japan: female, 50s, Wakayama, symptom onset 2/7 (fever, cough), married to case 38', 'new confirmed COVID-19 patient in Hong Kong: male, 80, visited Shenzhen for a few hours on 1/10/2020, flight to Japan on 1/17/2020 and returned to HK on cruise on 1/25/2020, symptom onset 1/19/2020, hospitalized on 1/30/2020 for high fever', 'new confirmed imported COVID-19 pneumonia patient in Hunan: male, 45, symptom onset on 01/16/2020, hospitalized on 01/21/2020, prior exposure to Wuhan.', 'new confirmed COVID-19 patient in Hong Kong: male, 68, passenger of Diamond Princess cruise, stayed on cruise from 1/25-2/20, returned to Hong Kong by chartered flight on 2/20, symptom onset 2/20 (cough, fever), transferred to hospital 2/22 and admitted', 'confirmed imported COVID-19 pneumonia patient No.1 in Tianjin: female, 59, travel history to Wuhan, symptom onset on 01/14/2020, confirmed on 01/21/2020', 'new confirmed COVID-19 patient in Germany: Rhineland-Palatinate, doctor who was infected by case 21'}\n",
      "location ######### values:  {'Fukuoka Prefecture', 'Tsing Yi', 'Preah Sihanouk Province', 'Tehran', 'Henan', 'Guizhou', 'Strasbourg', 'Zhejiang', 'Shaanxi', 'Zabaikalsky', 'Rhineland-Palatinate', 'Sichuan', 'Belgium', 'Japan', 'Vancouver', 'Valencia', 'France', 'Paris', 'Mallorca', 'Washington', 'Manila', 'Wan Chai', 'Jonkoping', 'Liaoning', 'Kwai Chung', 'Ho Chi Minh City', 'Shanxi (陕西)', 'Osaka Prefecture', 'Lebanon', 'Hokkaido', 'Hunan', 'Bern', 'Kowloon', 'Johor', 'Chongqing', 'Malaysia', 'Alappuzha', 'Araq', 'Bavaria', 'Toronto', 'Nortern Ireland', 'Kathmandu', 'Arizona', 'NSW', 'Wales', 'Tenerife', 'Nagano Prefecture', 'Thanh Hoa', 'Tyumen', 'Singapore', 'Qom', 'Amiens', 'Wuhan, Hubei', 'Hechi, Guangxi', 'Nantes', 'Nagoya City', 'Wisconsin', 'Mie', 'Lyon', 'Vinh Phuc', 'Nara Prefecture', 'Kumamoto City', 'Kyoto', 'Gansu', 'Shandong', 'Shanghai', 'Heilongjiang', 'Seoul', 'Kuwait', 'Massachusetts', 'North Rhine-Westphalia', 'Rome', 'California', 'South Korea', 'Phillipines', 'Annecy', 'Guilan', 'Yau Ma Tei', 'Gifu Prefecture', 'Innsbruck', 'Hamburg', 'Fujian', 'Xinjiang', 'Hebei', 'Castile and Leon', 'Queensland', 'Algeria', 'Ningxia', 'Montpellier', 'Kumamoto Prefecture', 'Tianjin', 'Canary Islands', 'York', 'Hong Kong', 'Lapland', 'Chiba Prefecture', 'Zaragoza', 'Egypt', 'Kerala', 'Bois-Guillaume', 'Jilin', 'Ngau Chi Wan', 'Victoria', 'Texas', 'Dijon', 'UAE', 'Bahrain', 'Hanoi', 'Thailand', 'Castellon', 'Andalusia', 'Nice', 'South Australia', 'Kwun Tong', 'Langkawi', 'Wakayama Prefecture', 'Baden-Wuerttemberg', 'Fo Tan', 'Sapporo', 'Taiwan', 'Croatia', 'London', 'Zhuhai', 'Hubei', 'Bordeaux', 'Aichi Prefecture', 'Vietnam', 'Guangxi', 'Sagamihara', 'Yunnan', 'Lile', 'Brest', 'Tubingen', 'Frankfurt', 'Sri Lanka', 'Beijing', 'Illinois', 'Jiangsu', 'Macau', 'Shanxi', 'Inner Mongolia', 'Madrid', 'Saitama Prefecture', 'Hesse', 'Afghanistan', 'Okinawa Prefecture', 'Haneda', 'Saint-Mande', 'UK', 'Jiangxi', 'Kanagawa', 'Barcelona', 'Tokyo', 'Ishikawa', 'Israel'}\n",
      "country ######### values:  {'Malaysia', 'Australia', 'Sweden', 'Finland', 'Russia', 'USA', 'Algeria', 'Taiwan', 'Italy', 'Iran', 'Cambodia', 'Croatia', 'Spain', 'Belgium', 'Japan', 'France', 'Hong Kong', 'Austria', 'Singapore', 'Vietnam', 'Egypt', 'Switzerland', 'Germany', 'Sri Lanka', 'Nepal', 'Canada', 'India', 'Afghanistan', 'Kuwait', 'UAE', 'Bahrain', 'Thailand', 'UK', 'China', 'South Korea', 'Phillipines', 'Lebanon', 'Israel'}\n",
      "gender ######### values:  {'male', 'NaN', 'female'}\n",
      "age ######### values:  {0.5, 1.0, 2.0, 0.25, 4.0, 5.0, 6.0, 8.0, 9.0, 11.0, 15.0, 16.0, 18.0, 19.0, 20.0, 21.0, 22.0, 23.0, 24.0, 25.0, 26.0, 27.0, 28.0, 29.0, 30.0, 31.0, 32.0, 33.0, 34.0, 35.0, 36.0, 37.0, 38.0, 39.0, 40.0, 41.0, 42.0, 43.0, 44.0, 45.0, 46.0, 47.0, 48.0, 49.0, 50.0, 51.0, 52.0, 53.0, 54.0, 55.0, 56.0, 57.0, 58.0, 59.0, 60.0, 61.0, 62.0, 63.0, 64.0, 65.0, 66.0, 67.0, 68.0, 69.0, 70.0, 71.0, 72.0, 73.0, 74.0, 75.0, 76.0, 77.0, 78.0, 79.0, 80.0, 81.0, 82.0, 83.0, 84.0, 85.0, 86.0, 87.0, 89.0, 91.0, 96.0, 'NaN'}\n",
      "symptom_onset ######### values:  {'2/20/2020', '1/24/2020', '01/10/20', '01/05/20', '01/21/2020', '02/10/20', '1/28/2020', '2/19/2020', '12/23/2019', '12/22/2019', '01/20/2020', '01/17/2020', '01/03/20', '2/23/2020', '01/13/2020', '01/08/20', '1/29/2020', '01/11/20', '02/01/20', '02/11/20', '2/13/2020', '2/21/2020', '2/25/2020', '02/06/20', '1/22/2020', '1/19/2020', '1/31/2020', '1/16/2020', '01/04/20', '01/12/20', '01/02/20', '02/02/20', '1/21/2020', '2/16/2020', '1/27/2020', '2/22/2020', '1/25/2020', '01/22/2020', '02/03/20', '12/10/19', '1/13/2020', '01/15/2020', '2/14/2020', '01/23/2020', '01/07/20', '02/09/20', '01/18/2020', '2/26/2020', '12/20/2019', '1/17/2020', '1/18/2020', '02/07/20', '02/04/20', '2/18/2020', '2/17/2020', '01/06/20', '1/26/2020', 'NaN', '2/24/2020', '01/09/20', '1/14/2020', '1/30/2020', '1/20/2020', '1/15/2020', '1/23/2020', '02/12/20', '02/08/20', '02/05/20', '12/29/2019', '2/15/2020', '12/30/2019'}\n",
      "If_onset_approximated ######### values:  {0.0, 1.0, 'NaN'}\n",
      "hosp_visit_date ######### values:  {'2/20/2020', '12/27/2019', '1/24/2020', '01/10/20', '01/05/20', '1/28/2020', '02/10/20', '2/19/2020', '1/27/2020', '01/03/20', '2/23/2020', '1/29/2020', '02/01/20', '01/08/20', '01/11/20', '2/13/2020', '02/11/20', '2/21/2020', '12/31/2019', '2/25/2020', '02/06/20', '1/22/2020', '1/19/2020', '1/31/2020', '2/28/2020', '1/16/2020', '01/12/20', '02/02/20', '1/21/2020', '2/16/2020', '2/22/2020', '1/25/2020', '02/03/20', '1/13/2020', '2/14/2020', '02/09/20', '2/26/2020', '1/18/2020', '1/17/2020', '02/07/20', '02/04/20', '2/18/2020', '2/17/2020', '2//2020', '01/06/20', '1/26/2020', 'NaN', '2/24/2020', '01/09/20', '1/14/2020', '2/27/2020', '1/20/2020', '1/15/2020', '1/23/2020', '1/30/2020', '02/12/20', '02/08/20', '2/22/20', '02/05/20', '01/01/20', '2/15/2020'}\n",
      "exposure_start ######### values:  {'2/20/2020', '1/24/2020', '01/10/20', '02/10/20', '1/28/2020', '2/19/2020', '1/27/2020', '01/03/20', '01/13/2020', '01/08/20', '01/11/20', '12/17/2019', '12/24/2019', '02/11/20', '2/21/2020', '1/22/2020', '1/19/2020', '01/12/20', '1/16/2020', '1/21/2020', '1/25/2020', '1/13/2020', '12/20/2019', '1/18/2020', '1/17/2020', '02/04/20', '01/19/2020', '2/17/2020', '01/06/20', '1/26/2020', 'NaN', '01/09/20', '1/14/2020', '1/30/2020', '1/20/2020', '1/15/2020', '1/23/2020', '02/12/20', '2/15/2020'}\n",
      "exposure_end ######### values:  {'2/20/2020', '1/24/2020', '01/10/20', '01/05/20', '1/28/2020', '2/19/2020', '1/27/2020', '01/03/20', '2/23/2020', '01/08/20', '1/29/2020', '02/01/20', '01/11/20', '2/13/2020', '2/21/2020', '2/25/2020', '1/22/2020', '1/19/2020', '1/31/2020', '01/12/20', '01/04/20', '1/16/2020', '01/02/20', '02/02/20', '1/21/2020', '2/16/2020', '2/22/2020', '01/22/2020', '1/25/2020', '02/03/20', '1/13/2020', '01/07/20', '02/09/20', '01/18/2020', '1/18/2020', '1/17/2020', '02/04/20', '2/18/2020', '02/07/20', '2/17/2020', '01/06/20', '2/24/2020', 'NaN', '1/26/2020', '01/09/20', '1/14/2020', '1/30/2020', '1/20/2020', '1/15/2020', '1/23/2020', '02/08/20', '02/05/20', '2/15/2020'}\n",
      "visiting Wuhan ######### values:  {0, 1}\n",
      "from Wuhan ######### values:  {0.0, 1.0, 'NaN'}\n",
      "death ######### values:  {'2/24/2020', '2/25/2020', '0', '2/27/2020', '2/14/2020', '2/28/2020', '2/19/2020', '2/22/2020', '2/23/2020', '02/01/20', '2/26/2020', '2/13/2020', '2/21/2020', '1'}\n",
      "recovered ######### values:  {'2/20/2020', '2/19/2020', '2/23/2020', '2/13/2020', '02/11/20', '2/21/2020', '2/25/2020', '02/06/20', '1/31/2020', '2/28/2020', '02/02/20', '2/16/2020', '1', '2/22/2020', '0', '2/14/2020', '02/09/20', '2/26/2020', '02/07/20', '1/17/2020', '02/04/20', '2/18/2020', '2/17/2020', '2/24/2020', '12/30/1899', '2/27/2020', '1/30/2020', '1/15/2020', '02/12/20', '02/08/20', '02/05/20', '2/15/2020'}\n",
      "symptom ######### values:  {'throat discomfort', 'fatigue, malaise, headache', 'cough, malaise', 'fever, cough', 'reflux', 'fever, runny nose', 'cough, sore throat', 'fever, nasal discharge, headache', 'mild cough, sputum, throat discomfort', 'throat pain, chills', 'fever, fatigue, cough, diarrhea', 'malaise, fever, headache', 'cough, sputum, dyspnea', 'difficulty breathing', 'cough, joint pain', 'fever, vomiting, diarrhea', 'fever, abdominal pain, diarrhea', 'vomiting, diarrhea, fever, cough', 'fever, sore throat', 'sore throat, fever', 'cough, fever, chills', 'fever, sore throat, cough', 'joint pain, muscle pain, cough, malaise', 'fever, muscle aches', 'fever, breathlessness, malaise', 'fever, thirst', 'cold, fever, pneumonia', 'fever, chills, muscle cramps', 'cough, chills, shortness of breath, diarrhea', 'fever, loss of appetite', 'fever, malaise', 'fever, respiratory distress', 'fever, cough, chills', 'fever, cough, sore throat, runny nose', 'nausea', 'fatigue, joint pain, fever', 'fever', 'headache', 'cough, fever, headache, nausea, vomiting, diarrhea', 'cough, shortness of breath', 'fever, cough, malaise', 'fever, cough, sputum', 'sore throat, fever, joint pain, dyspnea', 'cough, runny nose', 'cough, diarrhea, vomiting', 'fever, headache', 'fever, headache, malaise, joint pain', 'runny nose', 'NaN', 'tired', 'chills', 'cough, fever', 'fever, cough, sore throat', 'throat pain, fever', 'cough', 'fatigue, difficulty breathing', 'fever, cough, breathlessness', 'sore throat', 'fever, malaise, diarrhea, cough', 'cough, chill, muscle pain', 'cough, chills, joint pain', 'feaver, cough, difficult in breathing', 'fatigue, fever', 'high fever, chills, muscle pain', 'sore body', 'vomiting, cough, fever, sore throat', 'high fever, aching muscles', 'fever, malaise, sore throat', 'sore throat, fever, diarrhea', 'cough, fever, joint pain', 'cough, runny nose, diarrhea', 'cough, sputum, sore throat', 'fever, chills, sore throat, headache', 'throat discomfort, cough, chest pain', 'fever, chills, joint pain, heavy head', 'cough, malaise, shortness of breath', 'mild fever', 'fatigue, loss of appetite', 'cough, chest pain', 'fatigue', 'headache, fever, malaise', 'fever, myalgia, shortness of breath', 'sore throat, cough, fever', 'fatigue, cold, fever, vomiting', 'flu symptoms', 'cough, sputum', 'fever, cough, sputum, dyspnea', 'fever, difficulty breathing', 'fever, cough, sputum, malaise', 'fever, coughing, muscle aches', 'fever, chills, sore throat, runny nose, shortness of breath', 'fever, headache, malaise', 'fever, pneumonia', 'fever, cough, headache', 'fever, sore throat, malaise', 'cough, sneeze', 'cough, itchy throat', 'fever, cough, shortness of breath', 'fever, cough, flu', 'fatigue, muscle pain, joint pain, fever', 'sore throat, chills, myalgias, fever, cough', 'myalgia, fever', 'runny nose, cough', 'physical discomfort', 'chest discomfort', 'fever, headache, runny nose', 'fever, cough, runny nose', 'feve\\\\', 'cough with sputum'}\n",
      "source ######### values:  {'KCDC', 'Gulf News', 'NBC', 'Korea Bio Med', 'Nikkei Asian Review', 'rthk.hk', 'National Health Commission', 'Bangkok Post', 'BBC', 'Shine', '人民日报官方微博', 'Gov.UK', 'South China Morning Post', 'Aljazeera', 'NYT', 'Metro', 'Channel News Asia', 'Beijing Municipal Health Commission', 'Health Commission of Shanxi', 'Taiwan News', 'Fox News', 'Health Commission of Zhejiang Province', 'The National', 'Ministry of Health Singapore', 'China Daily HK', 'CGTN', 'Jakarta Post', 'The Economic Times', 'The Hill', 'Nippon', 'Vietnam Insider', 'SBS', 'CNN', 'National Post', 'Global News', 'Daily HK', '新浪', 'The Daily Beast', 'Washington Examiner', 'Straits Times', 'The Guardian', '央视新闻', 'The Star Online', 'The Times of Israel', 'Reuters', 'LA Times', 'Kyodo News', 'Government HK', 'Xin Hua Net', 'ABC News', 'Fortune', 'Channel 3000', 'CDC', 'Al Arabiya', 'Suede Deutsche', 'The Local', 'nice matin', 'Wa.de', 'Taiwan MOH', 'Yahoo News', 'Levante', 'CNBC', 'NHK World-Japan', 'Thomson Reuters Foundation News', 'Politico', 'Yonnhap News Agency', 'Vietnam News', 'Department of Health', '人民日报', 'US News', 'Ministry of Health', 'Taiwan CDC', 'Line Today', 'French Ministry of Health', 'ABC', 'HBL', 'The Japan Times', 'The Mirror', 'Bavaria Health Ministry', 'HK World-Japan', 'Chongqing Municipal Health Commission', 'Iran Ministry of Health', 'Official Weibo of Shanghai Municipal Health Commission', 'Bloomberg'}\n",
      "link ######### values:  {'https://www.cdc.go.kr/board/board.es?mid=a20501000000&bid=0015', 'https://www.channelnewsasia.com/news/singapore/wuhan-virus-singapore-new-confirmed-cases-10-total-12364558', 'https://www.cdc.go.kr/board/board.es?mid=a30402000000&bid=0030&act=view&list_no=366261&tag=&nPage=4', 'https://www.cdc.gov.tw/En/Bulletin/Detail/wn02wbpI_2YrRLcxS_pZnA?typeid=159', 'https://m.weibo.cn/status/4464630291922122?', 'https://www.chinadailyhk.com/article/119881', 'https://www.cdc.go.kr/board/board.es?mid=a30402000000&bid=0030&act=view&list_no=366261&tag=&nPage=12', 'https://www.cdc.go.kr/board/board.es?mid=a30402000000&bid=0030&act=view&list_no=366261&tag=&nPage=50', 'https://www.taiwannews.com.tw/en/news/3866003', 'https://www.reuters.com/article/uk-switzerland-coronavirus/swiss-authorities-confirm-first-case-of-coronavirus-idUSKBN20J1ZO', 'https://www.washingtonexaminer.com/news/first-case-of-coronavirus-in-belgium-confirmed', 'https://www.cdc.go.kr/board/board.es?mid=a20501000000&bid=0022', 'https://m.weibo.cn/status/4464215920401389?', 'http://www.zjwjw.gov.cn/art/2020/1/21/art_1202101_41786033.html', 'https://www.abc.net.au/news/2020-02-01/coronavirus-confirmed-in-south-australia-and-victoria/11920755', 'https://www.cdc.go.kr/board/board.es?mid=a30402000000&bid=0030&act=view&list_no=366261&tag=&nPage=57', 'https://www.channelnewsasia.com/news/asia/wuhan-virus-thailand-first-human-coronavirus-transmission-12374360', 'https://www.nicematin.com/sante/un-premier-cas-de-coronavirus-confirme-dans-les-alpes-maritimes-471505', 'https://solidarites-sante.gouv.fr/soins-et-maladies/maladies/maladies-infectieuses/coronavirus/coronavirus-questions-reponses', 'https://www.cdc.go.kr/board/board.es?mid=a30402000000&bid=0030&act=view&list_no=366261&tag=&nPage=33', 'https://www.cdc.go.kr/board/board.es?mid=a30402000000&bid=0030&act=view&list_no=366261&tag=&nPage=30', 'https://www.cdc.go.kr/board/board.es?mid=a30402000000&bid=0030&act=view&list_no=366261&tag=&nPage=45', 'https://www.scmp.com/news/china/diplomacy/article/3050845/egypt-reports-first-case-coronavirus-africa-amid-fears-poorer', 'https://www.foxnews.com/health/canadas-coronavirus-cases-husband-wife', 'https://fortune.com/2020/02/03/coronavirus-death-hong-kong/', 'https://m.weibo.cn/status/4463841306422942?', 'https://m.weibo.cn/status/4464573899858585?', 'https://www.thenational.ae/uae/health/coronavirus-uae-tour-cancelled-and-dozens-quarantined-as-two-participants-test-positive-1.985667', 'https://m.weibo.cn/status/4464245485576951?， https://m.weibo.cn/status/4464629113599955?', 'https://m.weibo.cn/status/4465385308652598?', 'https://metro.co.uk/2020/02/15/sixth-brit-visited-french-ski-chalet-tests-positive-coronavirus-12247228/', 'https://www.foxnews.com/health/afghanistan-first-coronavirus-case-iran', 'https://www.channelnewsasia.com/news/world/germany-wuhan-virus-workers-confirm-cases-infected-mild-symptoms-12365778', 'https://www.taiwannews.com.tw/en/news/3866006', 'https://www.cdc.go.kr/board/board.es?mid=a30402000000&bid=0030&act=view&list_no=366261&tag=&nPage=66', 'https://today.line.me/hk/pc/article/Coronavirus+three+new+cases+in+Hong+Kong+include+wife+and+daughter+of+man+who+already+has+disease-E0NpJa', 'https://www.scmp.com/news/hong-kong/health-environment/article/3050681/coronavirus-hong-kong-confirms-three-news-cases', 'https://www.info.gov.hk/gia/general/202002/09/P2020020900704.htm?fontSize=9', 'https://www.sueddeutsche.de/panorama/coronavirus-deutschland-infizierte-insgesamt-news-aktuell-anzahl-wo-1.4823951', 'https://www.channelnewsasia.com/news/singapore/wuhan-virus-pneumonia-cases-outbreak-singapore-confirmed-cases-12319273', 'https://www.thenational.ae/uae/health/coronavirus-uae-tour-cancelled-and-dozens-quarantined-as-two-participants-test-positive-1.985664', 'https://www.channel3000.com/these-are-the-countries-where-novel-coronavirus-cases-have-been-confirmed-worldwide/', 'https://www.info.gov.hk/gia/general/202002/09/P2020020900704.htm?fontSize=5', 'https://www.channelnewsasia.com/news/asia/wuhan-pneumonia-outbreak-thailand-second-case-coronavirus-12272494', 'https://www.scmp.com/news/china/society/article/3047625/china-coronavirus-nepal-reports-first-case-infection-virus', 'https://www.channelnewsasia.com/news/singapore/wuhan-virus-singapore-new-confirmed-cases-10-total-12364556', 'https://m.weibo.cn/status/4464681265155125?', 'https://www.taiwannews.com.tw/en/news/3866005', 'https://www.scmp.com/news/world/russia-central-asia/article/3048483/russia-reports-first-two-coronavirus-cases-evacuate', 'https://www.google.com/search?rlz=1C1GCEA_enUS884US884&sxsrf=ACYBGNRdMvO0fuV77TKGKyRufrIz56lrRg%3A1580930610509&ei=MhY7XqfcHpiDytMPteawqAc&q=thailand+coronavirus+cases+tourists+25&oq=thailand+coronavirus+cases+tourists+25&gs_l=psy-ab.3..33i160l2j33i299.9848.10231..10337...0.0..0.149.382.2j2......0....1..gws-wiz.......35i39.Ah0XtHSdjxs&ved=0ahUKEwinvdC7kbvnAhWYgXIEHTUzDHUQ4dUDCAs&uact=8', 'https://www.channelnewsasia.com/news/asia/wuhan-virus-coronavirus-thailand-cases-12410694', 'https://www.cdc.gov.tw/En/Bulletin/Detail/MtvPSPzlksx8B_zvdcNdBw?typeid=158', 'https://www.bangkokpost.com/thailand/general/1856074/local-virus-cases-stable-at-33', 'https://nationalpost.com/news/canada/wuhan-china-coronavirus-outbreak-latest-news-updates', 'https://www.chinadailyhk.com/article/120696', 'https://www.reuters.com/article/us-china-health-hongkong/hong-kong-confirms-first-case-of-new-wuhan-virus-local-media-idUSKBN1ZL10A?il=0', 'https://www.taiwannews.com.tw/en/news/3866009', 'https://www.nicematin.com/sante/un-premier-cas-de-coronavirus-confirme-dans-les-alpes-maritimes-471501', 'https://m.weibo.cn/status/4464933322145082?', 'https://www.bbc.com/news/uk-51481471', 'https://www.cdc.go.kr/board/board.es?mid=a30402000000&bid=0032', 'https://www.chinadailyhk.com/article/119880', 'https://www.cnn.com/asia/live-news/coronavirus-outbreak-02-12-20-intl-hnk/index.html', 'https://www.cdc.gov.tw/En/Bulletin/Detail/ijxi3l3JEYqfNtV2aRGzVg?typeid=159', 'https://www.moh.gov.sg/news-highlights/details/seven-more-confirmed-cases-of-novel-coronavirus-infection-in-singapore', 'https://www.thenational.ae/uae/health/coronavirus-uae-tour-cancelled-and-dozens-quarantined-as-two-participants-test-positive-1.985668', 'https://www.channelnewsasia.com/news/asia/wuhan-virus-thailand-first-human-coronavirus-transmission-12374358', 'https://vietnamnews.vn/society/591803/viet-nam-confirms-9th-coronavirus-case-hong-kong-reports-first-death-from-infection.html', 'https://m.weibo.cn/status/4464377615340049?', 'https://www.mirror.co.uk/news/uk-news/breaking-two-more-brits-catch-21587177', 'https://www.cdc.go.kr/board/board.es?mid=a30402000000&bid=0030&act=view&list_no=366261&tag=&nPage=3', 'https://www.mhlw.go.jp/stf/newpage_09713.html', 'https://www.channelnewsasia.com/news/asia/wuhan-virus-thailand-first-human-coronavirus-transmission-12374359', 'https://www.cdc.go.kr/board/board.es?mid=a30402000000&bid=0030&act=view&list_no=366261&tag=&nPage=54', 'https://www.weibo.com/2803301701/IqIgXzszS?filter=hot&root_comment_id=0&type=comment#_rnd1579733299141', 'https://m.weibo.cn/status/4463686238777844?', 'https://gulfnews.com/world/gulf/bahrain/bahrain-announces-23-cases-of-new-coronavirus-infection-1.1582636110979', 'https://www.moh.gov.sg/news-highlights/details/two-more-cases-discharged-two-new-cases-of-novel-coronavirus-infection-confirmed', 'https://www.sueddeutsche.de/panorama/coronavirus-deutschland-infizierte-insgesamt-news-aktuell-anzahl-wo-1.4823940', 'https://www.weibo.com/2803301701/IqGV4lCay?from=page_1002062803301701_profile&wvr=6&mod=weibotime&type=comment#_rnd1579701703144', 'https://www.mirror.co.uk/news/uk-news/breaking-two-more-brits-catch-21587178', 'https://m.weibo.cn/status/4464259805726673?', 'https://www.cdc.go.kr/board/board.es?mid=a30402000000&bid=0030&act=view&list_no=366261&tag=&nPage=9', 'https://www.cdc.go.kr/board/board.es?mid=a30402000000&bid=0030&act=view&list_no=366261&tag=&nPage=70', 'https://m.weibo.cn/status/4464954491480577?', 'https://www.cdc.go.kr/board/board.es?mid=a30402000000&bid=0030&act=view&list_no=366261&tag=&nPage=22', 'https://m.weibo.cn/status/4464187650423052?', 'https://www.cdc.go.kr/board/board.es?mid=a20501000000&bid=0021', 'https://www.politico.eu/article/coronavirus-case-confirmed-in-finland-as-who-reconvenes-panel/', 'https://www.scmp.com/news/hong-kong/health-environment/article/3051077/coronavirus-domestic-helper-tests-positive-taking', 'https://www.usnews.com/news/world/articles/2020-02-21/lebanon-confirms-first-case-of-coronavirus-two-more-suspected', 'http://behdasht.gov.ir/news/%DA%A9%D8%B1%D9%88%D9%86%D8%A7+%D9%88%DB%8C%D8%B1%D9%88%D8%B3/199807/%D8%AF%D8%B1+%D8%B1%D9%88%D8%B2%D9%87%D8%A7%DB%8C+%DA%AF%D8%B0%D8%B4%D8%AA%D9%87+735+%D8%A8%DB%8C%D9%85%D8%A7%D8%B1+%D8%A8%D8%A7+%D8%B9%D9%84%D8%A7%D8%A6%D9%85+%D8%B4%D8%A8%D9%87+%D8%A2%D9%86%D9%81%D9%84%D9%88%D8%A2%D9%86%D8%B2%D8%A7+%D8%AF%D8%B1+%DA%A9%D8%B4%D9%88%D8%B1+%D8%A8%D8%B3%D8%AA%D8%B1%DB%8C+%D8%B4%D8%AF%D9%86%D8%AF+%D8%A8%D8%B1+%D8%A7%D8%B3%D8%A7%D8%B3+%D8%A2%D8%AE%D8%B1%DB%8C%D9%86+%D9%86%D8%AA%D8%A7%DB%8C%D8%AC+%D8%A2%D8%B2%D9%85%D8%A7%DB%8C%D8%B4+%D9%87%D8%A7+%D8%A7%D8%A8%D8%AA%D9%84%D8%A7%DB%8C+13+%D9%85%D9%88%D8%B1%D8%AF+%D8%AF%DB%8C%DA%AF%D8%B1+%D8%A8%D9%87+%DA%A9%D9%88%D9%88%DB%8C%D8%AF19+%D9%82%D8%B7%D8%B9%DB%8C+%D8%A8%D9%87+%D9%86%D8%B8%D8%B1+%D9%85%DB%8C+%D8%B1%D8%B3%D8%AF', 'https://www.cdc.go.kr/board/board.es?mid=a30402000000&bid=0030&act=view&list_no=366261&tag=&nPage=71', 'https://www.google.com/search?rlz=1C1GCEA_enUS884US884&sxsrf=ACYBGNRdMvO0fuV77TKGKyRufrIz56lrRg%3A1580930610509&ei=MhY7XqfcHpiDytMPteawqAc&q=thailand+coronavirus+cases+tourists+25&oq=thailand+coronavirus+cases+tourists+25&gs_l=psy-ab.3..33i160l2j33i299.9848.10231..10337...0.0..0.149.382.2j2......0....1..gws-wiz.......35i39.Ah0XtHSdjxs&ved=0ahUKEwinvdC7kbvnAhWYgXIEHTUzDHUQ4dUDCAs&uact=9', 'https://www.info.gov.hk/gia/general/202002/25/P2020022500772.htm', 'https://www.abc.net.au/news/2020-02-01/coronavirus-confirmed-in-south-australia-and-victoria/11920756', 'https://www.sueddeutsche.de/panorama/coronavirus-deutschland-infizierte-insgesamt-news-aktuell-anzahl-wo-1.4823954', 'https://www.cdc.go.kr/board/board.es?mid=a30402000000&bid=0030&act=view&list_no=366261&tag=&nPage=2', 'https://www.sueddeutsche.de/panorama/coronavirus-deutschland-infizierte-insgesamt-news-aktuell-anzahl-wo-1.4823957', 'https://www.cnbc.com/2020/01/25/reuters-america-update-2-coronavirus-patients-arrived-in-france-without-symptoms.html', 'https://m.weibo.cn/status/4465066470424159?', 'https://www.cdc.go.kr/board/board.es?mid=a30402000000&bid=0030&act=view&list_no=366261&tag=&nPage=72', 'https://www.thenational.ae/uae/health/coronavirus-uae-tour-cancelled-and-dozens-quarantined-as-two-participants-test-positive-1.985671', 'https://www.channelnewsasia.com/news/world/germany-wuhan-virus-workers-confirm-cases-infected-mild-symptoms-12365777', 'https://www.straitstimes.com/asia/se-asia/woman-from-wuhan-is-latest-coronavirus-case-in-malaysia-bringing-total-to-18', 'https://www.dh.gov.hk/textonly/eindex.html', 'http://wsjkw.cq.gov.cn/tzgg/20200121/249730.html', 'https://www.cdc.go.kr/board/board.es?mid=a30402000000&bid=0030&act=view&list_no=366261&tag=&nPage=19', 'https://www.japantimes.co.jp/news/2020/01/25/national/japan-confirms-third-case-new-coronavirus/#.Xi9IJs5Kg2w', 'https://www.cdc.go.kr/board/board.es?mid=a30402000000&bid=0030&act=view&list_no=366261&tag=&nPage=56', 'https://globalnews.ca/news/6517559/bc-top-doctor-health-minister-coronavirus-update/', 'https://www.sueddeutsche.de/panorama/coronavirus-deutschland-infizierte-insgesamt-news-aktuell-anzahl-wo-1.4823942', 'https://www.cdc.go.kr/board/board.es?mid=a30402000000&bid=0030&act=view&list_no=366261&tag=&nPage=11', 'https://www.sueddeutsche.de/panorama/coronavirus-deutschland-infizierte-insgesamt-news-aktuell-anzahl-wo-1.4823945', 'https://www.channelnewsasia.com/news/singapore/wuhan-virus-pneumonia-cases-outbreak-singapore-confirmed-cases-12319274', 'https://www.cdc.go.kr/board/board.es?mid=a30402000000&bid=0030&act=view&list_no=366261&tag=&nPage=38', 'https://www.channelnewsasia.com/news/singapore/wuhan-virus-coronavirus-singapore-community-spread-tourists-12389314', 'https://www.reuters.com/article/us-china-health-australia/australia-confirms-fifth-coronavirus-case-from-last-flight-out-of-wuhan-idUSKBN1ZQ0D2', 'https://www.sbs.com.au/news/chinese-woman-in-queensland-confirmed-as-15th-australian-coronavirus-case', 'https://www.scmp.com/news/hong-kong/health-environment/article/3051312/second-hongkonger-dies-after-becoming-infected', 'https://www.mhlw.go.jp/stf/houdou/houdou_list_202001.html', 'https://www.cdc.go.kr/board/board.es?mid=a30402000000&bid=0030&act=view&list_no=366261&tag=&nPage=16', 'https://www.cdc.go.kr/board/board.es?mid=a30402000000&bid=0030&act=view&list_no=366261&tag=&nPage=20', 'https://nationalpost.com/news/canada/canadian-coronavirus-patient-showed-symptoms-on-flight-back-to-wuhan-officials-say', 'https://www.sueddeutsche.de/panorama/coronavirus-deutschland-infizierte-insgesamt-news-aktuell-anzahl-wo-1.4823944', 'https://www.cdc.gov.tw/En/Bulletin/Detail/ijxi3l3JEYqfNtV2aRGzVg?typeid=160', 'https://www.abc.net.au/news/2020-02-05/queensland-confirms-fourth-coronavirus-case-man-from-wuhan-china/11934390', 'https://www.bbc.com/news/uk-51481470', 'https://www.straitstimes.com/asia/se-asia/malaysia-confirms-first-cases-of-wuhan-coronavirus-infection', 'https://www.cdc.go.kr/board/board.es?mid=a30402000000&bid=0030&act=view&list_no=366261&tag=&nPage=61', 'https://www.info.gov.hk/gia/general/202002/05/P2020020500690.htm', 'https://www.theguardian.com/world/live/2020/feb/28/coronavirus-live-updates-latest-news-china-wuhan-stock-markets-update', 'http://sxwjw.shaanxi.gov.cn/art/2020/1/27/art_9_67483.html', 'https://www.cdc.go.kr/board/board.es?mid=a30402000000&bid=0030&act=view&list_no=366261&tag=&nPage=5', 'https://www.channelnewsasia.com/news/asia/wuhan-pneumonia-outbreak-thailand-second-case-coronavirus-12272499', 'https://www.sueddeutsche.de/panorama/coronavirus-deutschland-infizierte-insgesamt-news-aktuell-anzahl-wo-1.4823963', 'https://www.cdc.gov.tw/En/Bulletin/Detail/wn02wbpI_2YrRLcxS_pZnA?typeid=158', 'https://m.weibo.cn/status/4465271752620554?', 'https://www.channelnewsasia.com/news/asia/wuhan-virus-coronavirus-thailand-cases-12410691', 'https://www.cdc.go.kr/board/board.es?mid=a30402000000&bid=0030&act=view&list_no=366261&tag=&nPage=10', 'https://www.reuters.com/article/us-china-health-malaysia/malaysia-confirms-fourth-case-of-coronavirus-infection-idUSKBN1ZO065', 'https://nationalpost.com/health/who-says-covid-19-coronavirus-not-yet-a-pandemic-while-canada-diagnoses-11th-case', 'https://www.cdc.go.kr/board/board.es?mid=a30402000000&bid=0030&act=view&list_no=366261&tag=&nPage=60', 'https://www.nicematin.com/sante/un-premier-cas-de-coronavirus-confirme-dans-les-alpes-maritimes-471506', 'https://www.cdc.go.kr/board/board.es?mid=a30402000000&bid=0030&act=view&list_no=366261&tag=&nPage=69', 'https://m.weibo.cn/status/4463323540564718?', 'https://m.weibo.cn/status/4465317616829488?', 'https://www.sueddeutsche.de/panorama/coronavirus-deutschland-infizierte-insgesamt-news-aktuell-anzahl-wo-1.4823952', 'https://www.moh.gov.sg/news-highlights/details/one-more-case-discharged-three-new-cases-of-covid-19-infection-confirmed', 'https://www.cdc.gov.tw/En/Bulletin/Detail/jrD8pZG1_vGt1Gb8ficN3g?typeid=158', 'https://m.weibo.cn/status/4463876156726203?', 'https://www.sueddeutsche.de/panorama/coronavirus-deutschland-infizierte-insgesamt-news-aktuell-anzahl-wo-1.4823939', 'https://www.thenational.ae/uae/health/uae-s-fifth-coronavirus-case-man-s-family-tests-negative-1.972741', 'https://www.cdc.go.kr/board/board.es?mid=a30402000000&bid=0030&act=view&list_no=366261&tag=&nPage=51', 'https://m.weibo.cn/status/4463235401268457?', 'https://www.cdc.go.kr/board/board.es?mid=a30402000000&bid=0030&act=view&list_no=366261&tag=&nPage=34', 'https://www.cdc.go.kr/board/board.es?mid=a30402000000&bid=0030&act=view&list_no=366261&tag=&nPage=17', 'https://www.moh.gov.sg/news-highlights/details/five-more-cases-discharged-two-new-cases-of-covid-19-infection-confirmed', 'https://www.cdc.go.kr/board/board.es?mid=a20501000000&bid=0017', 'https://www.hbl.fi/artikel/ett-fall-av-coronavirus-bekraftat-i-finland/', 'https://www.weibo.com/2372649470/IqogQhgfa?from=page_1001062372649470_profile&wvr=6&mod=weibotime&type=comment', 'https://m.weibo.cn/status/4463874360972840?', 'https://www.cdc.go.kr/board/board.es?mid=a30402000000&bid=0030&act=view&list_no=366261&tag=&nPage=43', 'https://m.weibo.cn/status/4464576223073059?', 'https://m.weibo.cn/status/4465313322604123?', 'https://www.taiwannews.com.tw/en/news/3867321', 'https://m.weibo.cn/status/4464354512805408?', 'https://www.weibo.com/2656274875/IqDIS0pET?from=page_1002062656274875_profile&wvr=6&mod=weibotime&type=comment#_rnd1579670405515', 'https://www.scmp.com/news/world/united-states-canada/article/3051735/sentinel-event-new-canadian-coronavirus-patient', 'https://www.thejakartapost.com/news/2020/02/25/austria-reports-first-two-coronavirus-cases-after-italy-outbreak.html', 'https://www.straitstimes.com/asia/se-asia/wuhan-virus-chinese-father-and-son-identified-as-vietnams-first-two-cases', 'https://m.weibo.cn/status/4464334383801217?', 'https://www.sueddeutsche.de/panorama/coronavirus-deutschland-infizierte-insgesamt-news-aktuell-anzahl-wo-1.4823958', 'https://www.weibo.com/2656274875/IqGCB0OTO?from=page_1002062656274875_profile&wvr=6&mod=weibotime&type=comment#_rnd1579700655907', 'https://gulfnews.com/world/gulf/bahrain/bahrain-announces-23-cases-of-new-coronavirus-infection-1.1582636110973', 'https://m.weibo.cn/status/4463886797528385?', 'https://www.info.gov.hk/gia/general/202002/09/P2020020900704.htm?fontSize=3', 'https://www.doh.gov.ph/press-release/DOH-reveals-more-negative-2019-COVID-19-cases-confirms-first-COVID-19-ARD-death-in-PH', 'https://www.cdc.go.kr/board/board.es?mid=a20501000000&bid=0018', 'https://www.straitstimes.com/asia/se-asia/woman-from-wuhan-is-latest-coronavirus-case-in-malaysia-bringing-total-to-16', 'https://www.nicematin.com/sante/un-premier-cas-de-coronavirus-confirme-dans-les-alpes-maritimes-471511', 'https://www3.nhk.or.jp/nhkworld/en/news/20200124_14/', 'https://www.channelnewsasia.com/news/singapore/wuhan-virus-pneumonia-cases-outbreak-singapore-confirmed-cases-12319272', 'https://gulfnews.com/world/gulf/bahrain/bahrain-announces-23-cases-of-new-coronavirus-infection-1.1582636110974', 'https://www.cnn.com/asia/live-news/coronavirus-outbreak-02-01-20-intl-hnk/index.html', 'https://www.straitstimes.com/asia/se-asia/woman-from-wuhan-is-latest-coronavirus-case-in-malaysia-bringing-total-to-23', 'https://m.weibo.cn/status/4464694486320817?', 'https://gulfnews.com/world/gulf/bahrain/bahrain-announces-23-cases-of-new-coronavirus-infection-1.1582636110980', 'https://www.cdc.go.kr/board/board.es?mid=a30402000000&bid=0030&act=view&list_no=366261&tag=&nPage=55', 'https://www.moh.gov.sg/news-highlights/details/five-more-cases-discharged-three-new-cases-of-covid-19-infection-confirmed', 'https://www.thenational.ae/uae/health/coronavirus-uae-tour-cancelled-and-dozens-quarantined-as-two-participants-test-positive-1.985669', 'https://www.channelnewsasia.com/news/asia/wuhan-pneumonia-outbreak-thailand-second-case-coronavirus-12272496', 'https://www.weibo.com/2656274875/IqAcyp3Jr?from=page_1002062656274875_profile&wvr=6&mod=weibotime&type=comment#_rnd1579669997545', 'https://www.thelocal.es/20200226/covid-19-what-we-know-so-far-about-the-coronavirus-in-spain', 'https://www.cdc.gov.tw/En/Bulletin/Detail/MtvPSPzlksx8B_zvdcNdBw?typeid=162', 'https://www.shine.cn/news/nation/2001290843/', 'https://www.mirror.co.uk/news/uk-news/breaking-two-more-brits-catch-21587176', 'https://www.chinadailyhk.com/article/119879', 'https://wap.peopleapp.com/article/5068189/4962549', 'https://www.info.gov.hk/gia/general/202002/07/P2020020700760.htm?fontSize=2', 'https://www.thestar.com.my/news/nation/2020/02/16/three-more-covid-19-positive-cases', 'https://www.channelnewsasia.com/news/asia/wuhan-pneumonia-outbreak-thailand-second-case-coronavirus-12272497', 'https://www.cdc.go.kr/board/board.es?mid=a30402000000&bid=0030&act=view&list_no=366261&tag=&nPage=39', 'https://www.nicematin.com/sante/un-premier-cas-de-coronavirus-confirme-dans-les-alpes-maritimes-471514', 'https://m.weibo.cn/status/4465268958842261?', 'https://www.reuters.com/article/us-china-health-vietnam/vietnam-says-three-new-cases-of-coronavirus-detected-state-media-idUSKBN1ZT12Y', 'https://www.aljazeera.com/news/2020/01/uae-confirms-cases-coronavirus-200129063305587.html', 'https://www.bbc.com/news/uk-51481472', 'https://www.bbc.com/news/uk-51481473', 'https://www.chinadailyhk.com/article/119882', 'https://www.cdc.go.kr/board/board.es?mid=a30402000000&bid=0030&act=view&list_no=366261&tag=&nPage=32', 'https://www.nicematin.com/sante/un-premier-cas-de-coronavirus-confirme-dans-les-alpes-maritimes-471498', 'https://www.straitstimes.com/asia/se-asia/malaysia-confirms-1st-case-of-coronavirus-with-travel-history-to-japan', 'https://www.moh.gov.sg/covid-19', 'https://www.moh.gov.sg/covid-21', 'https://www.thelocal.es/20200228/covid-19-what-we-know-so-far-about-the-coronavirus-in-spain', 'https://www.cdc.go.kr/board/board.es?mid=a30402000000&bid=0030&act=view&list_no=366261&tag=&nPage=52', 'https://www.cdc.go.kr/board/board.es?mid=a30402000000&bid=0030&act=view&list_no=366261&tag=&nPage=14', 'https://www.cdc.go.kr/board/board.es?mid=a30402000000&bid=0030&act=view&list_no=366261&tag=&nPage=35', 'https://www.straitstimes.com/asia/east-asia/wuhan-virus-south-korea-reports-fourth-coronavirus-case', 'http://www.xinhuanet.com/english/2020-01/27/c_138737583.htm', 'https://www.channelnewsasia.com/news/asia/wuhan-virus-thailand-first-human-coronavirus-transmission-12374357', 'https://www.channelnewsasia.com/news/singapore/wuhan-virus-singapore-new-confirmed-cases-13-12369840', 'https://www.sueddeutsche.de/panorama/coronavirus-deutschland-infizierte-insgesamt-news-aktuell-anzahl-wo-1.4823961', 'https://www.weibo.com/2656274875/IqGRMsgUh?from=page_1002062656274875_profile&wvr=6&mod=weibotime&type=comment#_rnd1579701110319', 'https://www.weibo.com/2656274875/IqFFYc2Gv?from=page_1002062656274875_profile&wvr=6&mod=weibotime&type=comment#_rnd1579699253938', 'https://www.channelnewsasia.com/news/asia/wuhan-pneumonia-outbreak-thailand-second-case-coronavirus-12272498', 'https://www.thestar.com.my/news/regional/2020/02/09/singapore-confirms-three-more-coronavirus-cases-total-now-at-43-says-singapore-health-ministry', 'https://www.info.gov.hk/gia/general/202002/09/P2020020900704.htm?fontSize=10', 'https://www.cdc.go.kr/board/board.es?mid=a30402000000&bid=0030&act=view&list_no=366261&tag=&nPage=68', 'https://www.straitstimes.com/singapore/health/coronavirus-4-more-confirmed-cases-in-singapore-28-cases-so-far', 'https://www.cdc.gov.tw/En/Bulletin/Detail/QMZlqDJORsFvH6k9GJHB2Q?typeid=158', 'https://gulfnews.com/world/gulf/bahrain/bahrain-announces-23-cases-of-new-coronavirus-infection-1.1582636110983', 'https://www.sueddeutsche.de/panorama/coronavirus-deutschland-infizierte-insgesamt-news-aktuell-anzahl-wo-1.4823941', 'https://vietnaminsider.vn/vietnam-confirms-16th-coronavirus-patient/', 'https://en.yna.co.kr/view/AEN20200126000754320', 'https://www.cdc.go.kr/board/board.es?mid=a30402000000&bid=0030&act=view&list_no=366261&tag=&nPage=27', 'https://www.stmgp.bayern.de/ministerium/presse/pressemitteilungen/', 'https://www.thelocal.es/20200210/british-father-in-mallorca-becomes-second-confirmed-case-of-coronavirus-in-spain', 'https://www.cdc.go.kr/board/board.es?mid=a30402000000&bid=0030&act=view&list_no=366261&tag=&nPage=64', 'https://www.abc.net.au/news/2020-02-01/coronavirus-confirmed-in-south-australia-and-victoria/11920754', 'https://news.rthk.hk/rthk/en/component/k2/1508878-20200216.htm', 'https://www.sueddeutsche.de/panorama/coronavirus-deutschland-infizierte-insgesamt-news-aktuell-anzahl-wo-1.4823950', 'http://www.nhc.gov.cn/yjb/s3578/202001/5d19a4f6d3154b9fae328918ed2e3c8a.shtml', 'https://www.theguardian.com/science/2020/jan/25/coronavirus-five-people-in-nsw-being-tested-for-deadly-disease', 'https://www.straitstimes.com/singapore/wuhan-virus-singapore-confirms-5th-case-patient-from-wuhan-stayed-at-her-familys-home-in', 'https://www.channelnewsasia.com/news/asia/wuhan-virus-coronavirus-thailand-cases-12410695', 'https://www.nicematin.com/sante/un-premier-cas-de-coronavirus-confirme-dans-les-alpes-maritimes-471502', 'https://www.nicematin.com/sante/un-premier-cas-de-coronavirus-confirme-dans-les-alpes-maritimes-471508', 'https://www.cdc.go.kr/board/board.es?mid=a30402000000&bid=0030&act=view&list_no=366261&tag=&nPage=31', 'https://www.scmp.com/news/asia/southeast-asia/article/3052466/coronavirus-thailand-criticises-patient-who-concealed', 'https://www.info.gov.hk/gia/general/202002/20/P2020022000773.htm', 'https://news.trust.org/item/20200225200141-gy7jv/', 'https://english.kyodonews.net/news/2020/01/e8f47252a245-urgent-japan-sees-1st-coronavirus-case-not-linked-to-recent-travel-to-china.html', 'https://www.info.gov.hk/gia/general/202002/13/P2020021300700.htm?fontSize=1', 'https://www.info.gov.hk/gia/general/202002/09/P2020020900704.htm?fontSize=2', 'https://www.nicematin.com/sante/un-premier-cas-de-coronavirus-confirme-dans-les-alpes-maritimes-471497', 'https://www.sueddeutsche.de/panorama/coronavirus-deutschland-infizierte-insgesamt-news-aktuell-anzahl-wo-1.4823948', 'https://m.weibo.cn/status/4465089497103961?', 'https://m.weibo.cn/status/4464091609170082?', 'https://economictimes.indiatimes.com/news/politics-and-nation/third-coronavirus-case-reported-from-india/articleshow/73895001.cms', 'https://www.cdc.go.kr/board/board.es?mid=a30402000000&bid=0030&act=view&list_no=366261&tag=&nPage=37', 'https://www.channelnewsasia.com/news/asia/thailand-covid19-coronavirus-cases-12468314', 'https://www.cdc.go.kr/board/board.es?mid=a30402000000&bid=0030', 'https://www.mhlw.go.jp/stf/newpage_09643.html', 'https://www.bbc.com/news/uk-51481469', 'https://www.taiwannews.com.tw/en/news/3866004', 'https://www.google.com/search?rlz=1C1GCEA_enUS884US884&sxsrf=ACYBGNRdMvO0fuV77TKGKyRufrIz56lrRg%3A1580930610509&ei=MhY7XqfcHpiDytMPteawqAc&q=thailand+coronavirus+cases+tourists+25&oq=thailand+coronavirus+cases+tourists+25&gs_l=psy-ab.3..33i160l2j33i299.9848.10231..10337...0.0..0.149.382.2j2......0....1..gws-wiz.......35i39.Ah0XtHSdjxs&ved=0ahUKEwinvdC7kbvnAhWYgXIEHTUzDHUQ4dUDCAs&uact=6', 'https://www.timesofisrael.com/israel-confirms-first-coronavirus-case-as-cruise-ship-returnee-diagnosed/', 'https://www.cdc.go.kr/board/board.es?mid=a30402000000&bid=0030&act=view&list_no=366261&tag=&nPage=67', 'https://abcnews.go.com/International/wireStory/iran-reports-cases-coronavirus-69065372', 'https://www.sueddeutsche.de/panorama/coronavirus-deutschland-infizierte-insgesamt-news-aktuell-anzahl-wo-1.4823947', 'https://www.reuters.com/article/us-china-health-australia/australia-confirms-fifth-coronavirus-case-from-last-flight-out-of-wuhan-idUSKBN1ZQ0D1', 'https://www.moh.gov.sg/news-highlights/details/three-more-confirmed-cases-of-novel-coronavirus-infection-in-singapore', 'https://www.moh.gov.sg/covid-20', 'https://www.moh.gov.sg/news-highlights/details/two-more-confirmed-imported-cases-of-novel-coronavirus-infection-in-singapore', 'https://www.cdc.gov.tw/En/Bulletin/Detail/ijxi3l3JEYqfNtV2aRGzVg?typeid=158', 'https://www.bangkokpost.com/thailand/general/1867844/thai-tour-guide-41st-virus-patient', 'https://www.sueddeutsche.de/panorama/coronavirus-deutschland-infizierte-insgesamt-news-aktuell-anzahl-wo-1.4823953', 'https://www.cdc.go.kr/board/board.es?mid=a30402000000&bid=0030&act=view&list_no=366261&tag=&nPage=42', 'https://gulfnews.com/world/gulf/bahrain/bahrain-announces-23-cases-of-new-coronavirus-infection-1.1582636110975', 'https://www3.nhk.or.jp/nhkworld/en/news/20200126_31/', 'https://au.news.yahoo.com/toddler-among-16-possible-new-cases-of-coronavirus-nsw-052558683.html', 'https://www.reuters.com/article/us-china-health-italy/third-case-of-coronavirus-confirmed-in-italy-health-ministry-idUSKBN2002X8', 'https://gulfnews.com/world/gulf/bahrain/bahrain-announces-23-cases-of-new-coronavirus-infection-1.1582636110968', 'https://www.nicematin.com/sante/un-premier-cas-de-coronavirus-confirme-dans-les-alpes-maritimes-471510', 'https://www.mohw.gov.tw/cp-4638-51567-2.html', 'https://www.sueddeutsche.de/panorama/coronavirus-deutschland-infizierte-insgesamt-news-aktuell-anzahl-wo-1.4823956', 'https://gulfnews.com/world/gulf/bahrain/bahrain-announces-23-cases-of-new-coronavirus-infection-1.1582636110977', 'https://www.taiwannews.com.tw/en/news/3879311', 'https://www.info.gov.hk/gia/general/202002/26/P2020022600842.htm', 'https://www.taiwannews.com.tw/en/news/3866007', 'https://www.cdc.go.kr/board/board.es?mid=a30402000000&bid=0030&act=view&list_no=366261&tag=&nPage=46', 'https://www.sueddeutsche.de/panorama/coronavirus-deutschland-infizierte-insgesamt-news-aktuell-anzahl-wo-1.4823960', 'https://www.thenational.ae/uae/health/coronavirus-uae-tour-cancelled-and-dozens-quarantined-as-two-participants-test-positive-1.985665', 'https://www.cdc.gov.tw/En/Bulletin/Detail/MtvPSPzlksx8B_zvdcNdBw?typeid=159', 'https://www.channelnewsasia.com/news/singapore/wuhan-virus-singapore-new-confirmed-cases-10-total-12364557', 'https://www.abc.net.au/news/2020-02-05/queensland-confirms-fourth-coronavirus-case-man-from-wuhan-china/11934391', 'https://www.nytimes.com/2020/02/26/health/coronavirus-cdc-usa.html', 'https://www.nicematin.com/sante/un-premier-cas-de-coronavirus-confirme-dans-les-alpes-maritimes-471515', 'https://www.reuters.com/article/us-croatia-coronavirus/croatia-confirms-its-first-case-of-coronavirus-infection-idUSKBN20J1OB', 'https://www.weibo.com/2656274875/IqzRU3150?from=page_1002062656274875_profile&wvr=6&mod=weibotime&type=comment#_rnd1579669764455', 'https://news.sina.com.cn/o/2020-01-24/doc-iihnzahk6106154.shtml', 'https://www.straitstimes.com/asia/se-asia/woman-from-wuhan-is-latest-coronavirus-case-in-malaysia-bringing-total-to-15', 'https://www.cdc.go.kr/board/board.es?mid=a20501000000&bid=0019', 'https://www.scmp.com/news/hong-kong/health-environment/article/3047193/china-coronavirus-first-case-confirmed-hong-kong', 'https://www.weibo.com/2803301701/IqGtrCQPF?from=page_1002062803301701_profile&wvr=6&mod=weibotime&type=comment#_rnd1579700189479', 'https://www.thenational.ae/uae/health/coronavirus-uae-confirms-ninth-case-1.979894', 'https://www.weibo.com/2656274875/IqPPzg76l?ref=home&rid=3_0_202_2667274531628325700_0_0_0&type=comment#_rnd1579802134846', 'https://www.weibo.com/2803301701/IqPMidEzh?from=page_1002062803301701_profile&wvr=6&mod=weibotime&type=comment#_rnd1579799658694', 'https://www.bangkokpost.com/world/1846939/three-japanese-returnees-from-wuhan-infected-with-coronavirus', 'https://www.cdc.go.kr/board/board.es?mid=a30402000000&bid=0030&act=view&list_no=366261&tag=&nPage=59', 'https://www.channelnewsasia.com/news/singapore/wuhan-virus-singapore-new-confirmed-cases-13-12369839', 'https://www.channelnewsasia.com/news/asia/wuhan-pneumonia-outbreak-thailand-second-case-coronavirus-12272489', 'https://asia.nikkei.com/Spotlight/Coronavirus-outbreak/South-Korea-confirms-first-case-of-new-coronavirus-in-Chinese-visitor', 'https://www.cdc.go.kr/board/board.es?mid=a30402000000&bid=0030&act=view&list_no=366261&tag=&nPage=21', 'https://www.taiwannews.com.tw/en/news/3866002', 'https://www.cdc.go.kr/board/board.es?mid=a20501000000&bid=0016', 'https://www3.nhk.or.jp/nhkworld/en/news/20200131_01/', 'https://www.thelocal.fr/20200131/coronavirus-in-france-what-you-need-to-know', 'https://www.cdc.go.kr/board/board.es?mid=a30402000000&bid=0030&act=view&list_no=366261&tag=&nPage=49', 'https://www.cdc.go.kr/board/board.es?mid=a20501000000&bid=0023', 'https://www.cdc.go.kr/board/board.es?mid=a30402000000&bid=0031', 'https://www.channelnewsasia.com/news/asia/wuhan-virus-coronavirus-thailand-cases-12410690', 'https://www.taiwannews.com.tw/en/news/3867322', 'https://www.cdc.gov.tw/En/Bulletin/Detail/ijxi3l3JEYqfNtV2aRGzVg?typeid=161', 'https://www.cdc.go.kr/board/board.es?mid=a30402000000&bid=0030&act=view&list_no=366261&tag=&nPage=25', 'https://www.channelnewsasia.com/news/world/germany-wuhan-virus-workers-confirm-cases-infected-mild-symptoms-12365776', 'https://www.nicematin.com/sante/un-premier-cas-de-coronavirus-confirme-dans-les-alpes-maritimes-471499', 'https://www.reuters.com/article/us-china-health-usa/us-cdc-confirms-53-coronavirus-cases-including-repatriated-citizens-idUSKCN20I22G', 'https://www.sueddeutsche.de/panorama/coronavirus-deutschland-infizierte-insgesamt-news-aktuell-anzahl-wo-1.4823965', 'https://www.cdc.go.kr/board/board.es?mid=a30402000000&bid=0030&act=view&list_no=366261&tag=&nPage=1', 'https://www.gov.uk/government/news/cmo-confirms-cases-of-coronavirus-in-england', 'https://m.weibo.cn/status/4463300522087848?', 'https://m.weibo.cn/status/4464047963266414?', 'https://m.weibo.cn/status/4464913298579676', 'https://www.channelnewsasia.com/news/asia/wuhan-pneumonia-outbreak-thailand-second-case-coronavirus-12272491', 'https://www.channelnewsasia.com/news/world/germany-wuhan-virus-workers-confirm-cases-infected-mild-symptoms-12365779', 'https://www.cdc.go.kr/board/board.es?mid=a20501000000&bid=0020', 'https://www.sueddeutsche.de/panorama/coronavirus-deutschland-infizierte-insgesamt-news-aktuell-anzahl-wo-1.4823943', 'https://www.nicematin.com/sante/un-premier-cas-de-coronavirus-confirme-dans-les-alpes-maritimes-471516', 'https://www.channelnewsasia.com/news/asia/wuhan-pneumonia-outbreak-thailand-second-case-coronavirus-12272488', 'https://www.gov.uk/guidance/wuhan-novel-coronavirus-information-for-the-public#history', 'https://www.reuters.com/article/us-china-health-uae/uae-says-total-of-seven-cases-diagnosed-with-coronavirus-as-two-more-cases-detected-idUSKBN20209A', 'https://m.weibo.cn/status/4465271530230929?', 'https://www.cdc.go.kr/board/board.es?mid=a30402000000&bid=0030&act=view&list_no=366261&tag=&nPage=18', 'https://www.sueddeutsche.de/panorama/coronavirus-deutschland-infizierte-insgesamt-news-aktuell-anzahl-wo-1.4823964', 'https://m.weibo.cn/status/4465361728673224?', 'https://www.cdc.gov/media/releases/2020/s0213-15th-coronavirus-case.html', 'https://www.wa.de/nordrhein-westfalen/corona-virus-nrw-coronavirus-covid19-heinsberg-epidemie-ticker-news-13560300.html', 'https://www.channelnewsasia.com/news/asia/wuhan-pneumonia-outbreak-thailand-second-case-coronavirus-12272495', 'https://www.channelnewsasia.com/news/asia/wuhan-virus-thailand-first-human-coronavirus-transmission-12374356', 'https://www.bangkokpost.com/thailand/general/1859434/thailand-records-1-new-case-of-coronavirus', 'https://www.nicematin.com/sante/un-premier-cas-de-coronavirus-confirme-dans-les-alpes-maritimes-471507', 'https://www.google.com/search?rlz=1C1GCEA_enUS884US884&sxsrf=ACYBGNRdMvO0fuV77TKGKyRufrIz56lrRg%3A1580930610509&ei=MhY7XqfcHpiDytMPteawqAc&q=thailand+coronavirus+cases+tourists+25&oq=thailand+coronavirus+cases+tourists+25&gs_l=psy-ab.3..33i160l2j33i299.9848.10231..10337...0.0..0.149.382.2j2......0....1..gws-wiz.......35i39.Ah0XtHSdjxs&ved=0ahUKEwinvdC7kbvnAhWYgXIEHTUzDHUQ4dUDCAs&uact=7', 'https://www.levante-emv.com/comunitat-valenciana/2020/02/27/coronavirus-valencia-nuevos-casos-infectados/1983062.html', 'https://m.weibo.cn/status/4463892727709344?', 'https://m.weibo.cn/status/4464865911441959?', 'https://www.cdc.go.kr/board/board.es?mid=a30402000000&bid=0030&act=view&list_no=366261&tag=&nPage=65', 'https://www.thestar.com.my/news/nation/2020/01/29/coronavirus-three-new-cases-confirmed-bringing-total-to-seven-cases-in-m039sia', 'https://www.sueddeutsche.de/panorama/coronavirus-deutschland-infizierte-insgesamt-news-aktuell-anzahl-wo-1.4823946', 'https://m.weibo.cn/status/4463681624289721?', 'https://www.cdc.go.kr/board/board.es?mid=a30402000000&bid=0030&act=view&list_no=366261&tag=&nPage=62', 'http://www.koreabiomed.com/news/articleView.html?idxno=7256', 'https://www.cdc.go.kr/board/board.es?mid=a30402000000&bid=0030&act=view&list_no=366261&tag=&nPage=29', 'https://www.cdc.go.kr/board/board.es?mid=a30402000000&bid=0030&act=view&list_no=366261&tag=&nPage=58', 'https://www.sueddeutsche.de/panorama/coronavirus-deutschland-infizierte-insgesamt-news-aktuell-anzahl-wo-1.4823962', 'https://www.straitstimes.com/asia/se-asia/woman-from-wuhan-is-latest-coronavirus-case-in-malaysia-bringing-total-to-22', 'https://www.info.gov.hk/gia/general/202002/09/P2020020900704.htm?fontSize=7', 'https://m.weibo.cn/status/4463540671056698?', 'https://www.bbc.com/news/uk-51481474', 'https://www.cdc.go.kr/board/board.es?mid=a30402000000&bid=0030&act=view&list_no=366261&tag=&nPage=36', 'https://thehill.com/policy/healthcare/public-global-health/481136-us-coronavirus-cases-count-jumps-to-11-with-three-more', 'https://www.channelnewsasia.com/news/asia/wuhan-virus-coronavirus-thailand-cases-12410696', 'https://m.weibo.cn/status/4464922761558095?', 'https://m.weibo.cn/status/4464245485576951?', 'https://www.nicematin.com/sante/un-premier-cas-de-coronavirus-confirme-dans-les-alpes-maritimes-471509', 'https://www.mhlw.go.jp/stf/houdou/houdou_list_202002.html', 'https://m.weibo.cn/status/4464497211305006?', 'https://www.scmp.com/news/china/society/article/3052457/algeria-reports-first-coronavirus-case-italian-citizen', 'https://www.info.gov.hk/gia/general/202002/09/P2020020900704.htm?fontSize=8', 'https://www.reuters.com/article/us-china-health-japan/japan-confirms-three-more-citizens-evacuated-from-wuhan-test-positive-for-coronavirus-idUSKBN1ZW03V', 'https://www.thedailybeast.com/italy-confirms-two-cases-of-coronavirus', 'https://www.scmp.com/news/asia/east-asia/article/3049091/coronavirus-south-korea-confirms-two-new-cases-including-man', 'https://www.weibo.com/2656274875/IqJdjB2oy?from=page_1002062656274875_profile&wvr=6&mod=weibotime&type=comment#_rnd1579750975842', 'https://www.thenational.ae/uae/health/coronavirus-uae-tour-cancelled-and-dozens-quarantined-as-two-participants-test-positive-1.985670', 'https://gulfnews.com/world/gulf/bahrain/bahrain-announces-23-cases-of-new-coronavirus-infection-1.1582636110984', 'https://gulfnews.com/world/gulf/bahrain/bahrain-announces-23-cases-of-new-coronavirus-infection-1.1582636110976', 'https://www.straitstimes.com/asia/se-asia/woman-from-wuhan-is-latest-coronavirus-case-in-malaysia-bringing-total-to-24', 'https://www.info.gov.hk/gia/general/202002/09/P2020020900704.htm?fontSize=4', 'https://www.cdc.gov.tw/En/Bulletin/Detail/MtvPSPzlksx8B_zvdcNdBw?typeid=160', 'http://wjw.beijing.gov.cn/xwzx_20031/wnxw/202001/t20200121_1620353.html', 'https://www.thelocal.de/20200128/number-of-german-coronavirus-patients-jumps-to-four', 'https://gulfnews.com/world/gulf/bahrain/bahrain-announces-23-cases-of-new-coronavirus-infection-1.1582636110978', 'https://www.channelnewsasia.com/news/singapore/wuhan-virus-singapore-new-confirmed-cases-13-12369838', 'https://www.info.gov.hk/gia/general/202002/09/P2020020900704.htm?fontSize=6', 'https://www3.nhk.or.jp/nhkworld/en/news/20200116_23/', 'https://www.cdc.go.kr/board/board.es?mid=a30402000000&bid=0030&act=view&list_no=366261&tag=&nPage=23', 'https://www.weibo.com/2656274875/IqGDxbyp4?from=page_1002062656274875_profile&wvr=6&mod=weibotime&type=comment#_rnd1579700789935', 'https://www.straitstimes.com/asia/se-asia/woman-from-wuhan-is-latest-coronavirus-case-in-malaysia-bringing-total-to-20', 'https://www.cdc.go.kr/board/board.es?mid=a30402000000&bid=0030&act=view&list_no=366261&tag=&nPage=7', 'https://www.mhlw.go.jp/stf/newpage_09652.html', 'https://www.reuters.com/article/us-health-china-sri-lanka/sri-lanka-confirms-first-case-of-coronavirus-health-official-idUSKBN1ZQ1WF', 'https://www.channelnewsasia.com/news/asia/wuhan-virus-thailand-first-human-coronavirus-transmission-12374361', 'https://www.cdc.go.kr/board/board.es?mid=a30402000000&bid=0030&act=view&list_no=366261&tag=&nPage=73', 'https://www.moh.gov.sg/news-highlights/details/two-more-confirmed-cases-of-novel-coronavirus-infection-in-singapore#_ftn1', 'https://www.channelnewsasia.com/news/asia/wuhan-pneumonia-outbreak-thailand-second-case-coronavirus-12272492', 'https://www.cdc.go.kr/board/board.es?mid=a30402000000&bid=0030&act=view&list_no=366261&tag=&nPage=48', 'https://www.moh.gov.sg/news-highlights/details/one-more-case-discharged-two-new-cases-of-novel-coronavirus-infection-confirmed-10feb', 'https://gulfnews.com/world/gulf/bahrain/bahrain-announces-23-cases-of-new-coronavirus-infection-1.1582636110981', 'https://www.straitstimes.com/asia/se-asia/woman-from-wuhan-is-latest-coronavirus-case-in-malaysia-bringing-total-to-19', 'https://www.cdc.go.kr/board/board.es?mid=a30402000000&bid=0030&act=view&list_no=366261&tag=&nPage=24', 'https://www.cdc.go.kr/board/board.es?mid=a30402000000&bid=0030&act=view&list_no=366261&tag=&nPage=63', 'https://www.cdc.go.kr/board/board.es?mid=a20501000000&bid=0025', 'https://m.weibo.cn/status/4464403249912789?', 'https://newseu.cgtn.com/news/2020-01-26/Coronavirus-patients-treated-in-hospital-in-France-doing-well--Nyjdge1t96/index.html', 'https://m.weibo.cn/status/4464629113599955?', 'https://www.taiwannews.com.tw/en/news/3866008', 'https://www.cdc.go.kr/board/board.es?mid=a30402000000&bid=0030&act=view&list_no=366261&tag=&nPage=13', 'https://www.cdc.go.kr/board/board.es?mid=a30402000000&bid=0030&act=view&list_no=366261&tag=&nPage=26', 'https://gulfnews.com/uae/iranian-couple-diagnosed-with-covid-19-in-uae-taking-number-of-cases-to-13-1.69875492', 'https://www.channelnewsasia.com/news/asia/wuhan-pneumonia-outbreak-thailand-second-case-coronavirus-12272490', 'https://www.cdc.go.kr/board/board.es?mid=a30402000000&bid=0033', 'https://www.info.gov.hk/gia/general/202002/09/P2020020900704.htm?fontSize=1', 'https://m.weibo.cn/status/4463700323132715?', 'https://www.weibo.com/2803301701/IqGTwh0C1?from=page_1002062803301701_profile&wvr=6&mod=weibotime&type=comment#_rnd1579701274138', 'https://www.nicematin.com/sante/un-premier-cas-de-coronavirus-confirme-dans-les-alpes-maritimes-471504', 'https://gulfnews.com/world/gulf/bahrain/bahrain-announces-23-cases-of-new-coronavirus-infection-1.1582636110971', 'https://www.cdc.go.kr/board/board.es?mid=a30402000000&bid=0030&act=view&list_no=366261&tag=&nPage=44', 'https://m.weibo.cn/status/4463860260361454?', 'https://www.sueddeutsche.de/panorama/coronavirus-deutschland-infizierte-insgesamt-news-aktuell-anzahl-wo-1.4823955', 'https://www.nicematin.com/sante/un-premier-cas-de-coronavirus-confirme-dans-les-alpes-maritimes-471496', 'https://www.moh.gov.sg/covid-22', 'https://www.sueddeutsche.de/panorama/coronavirus-deutschland-infizierte-insgesamt-news-aktuell-anzahl-wo-1.4823959', 'https://www.bloomberg.com/news/articles/2020-02-08/five-britons-on-ski-holiday-in-french-alps-contract-coronavirus', 'https://www.moh.gov.sg/news-highlights/details/two-more-cases-discharged-nine-new-cases-of-covid-19-infection-confirmed', 'https://www.cdc.go.kr/board/board.es?mid=a30402000000&bid=0030&act=view&list_no=366261&tag=&nPage=53', 'https://www.cdc.go.kr/board/board.es?mid=a30402000000&bid=0030&act=view&list_no=366261&tag=&nPage=40', 'https://www.cdc.go.kr/board/board.es?mid=a30402000000&bid=0030&act=view&list_no=366261&tag=&nPage=8', 'https://www.straitstimes.com/asia/se-asia/woman-from-wuhan-is-latest-coronavirus-case-in-malaysia-bringing-total-to-17', 'https://www.cdc.go.kr/board/board.es?mid=a20501000000&bid=0024', 'https://www.channelnewsasia.com/news/world/wuhan-virus-coronavirus-spain-first-case-12377104', 'https://www.bbc.com/news/uk-51481475', 'https://m.weibo.cn/status/4463853884470907?', 'https://gulfnews.com/world/gulf/bahrain/bahrain-announces-23-cases-of-new-coronavirus-infection-1.1582636110969', 'https://m.weibo.cn/status/4463859978946325?', 'https://www.channelnewsasia.com/news/asia/wuhan-pneumonia-outbreak-thailand-second-case-coronavirus-12272486', 'https://gulfnews.com/world/gulf/bahrain/bahrain-announces-23-cases-of-new-coronavirus-infection-1.1582636110982', 'https://www.cdc.go.kr/board/board.es?mid=a30402000000&bid=0030&act=view&list_no=366261&tag=&nPage=6', 'https://www.nicematin.com/sante/un-premier-cas-de-coronavirus-confirme-dans-les-alpes-maritimes-471495', 'https://www.moh.gov.sg/news-highlights/details/five-more-cases-discharged-four-new-cases-of-covid-19-infection-confirmed', 'https://www.thenational.ae/uae/health/coronavirus-uae-tour-cancelled-and-dozens-quarantined-as-two-participants-test-positive-1.985666', 'https://www.sueddeutsche.de/panorama/coronavirus-deutschland-infizierte-insgesamt-news-aktuell-anzahl-wo-1.4823937', 'http://www.xinhuanet.com/english/2020-01/31/c_138745266.htm', 'https://m.weibo.cn/status/4465382079294013?', 'https://www.scmp.com/news/asia/southeast-asia/article/3047663/china-coronavirus-singapore-and-malaysia-both-report', 'https://www.sueddeutsche.de/panorama/coronavirus-deutschland-infizierte-insgesamt-news-aktuell-anzahl-wo-1.4823938', 'https://www.weibo.com/2803301701/IqGpc5njk?from=page_1002062803301701_profile&wvr=6&mod=weibotime&type=comment#_rnd1579700150699', 'https://www.nbcnews.com/health/health-news/conoravirus-case-confirmed-wisconsin-12th-case-u-s-n1130946', 'https://www.channelnewsasia.com/news/asia/wuhan-pneumonia-outbreak-thailand-second-case-coronavirus-12272493', 'https://www.sueddeutsche.de/panorama/coronavirus-deutschland-infizierte-insgesamt-news-aktuell-anzahl-wo-1.4823949', 'https://gulfnews.com/world/gulf/bahrain/bahrain-announces-23-cases-of-new-coronavirus-infection-1.1582636110972', 'https://www.nicematin.com/sante/un-premier-cas-de-coronavirus-confirme-dans-les-alpes-maritimes-471513', 'https://m.weibo.cn/search?containerid=231522type%3D1%26t%3D10%26q%3D%23%E5%A4%A9%E6%B4%A5%E7%B4%AF%E8%AE%A1%E7%A1%AE%E8%AF%8A6%E4%BE%8B%23&extparam=%23%E5%A4%A9%E6%B4%A5%E7%B4%AF%E8%AE%A1%E7%A1%AE%E8%AF%8A6%E4%BE%8B%23&luicode=10000011&lfid=1076032803301701', 'https://www.channelnewsasia.com/news/asia/wuhan-virus-coronavirus-thailand-cases-12410693', 'https://www.nicematin.com/sante/un-premier-cas-de-coronavirus-confirme-dans-les-alpes-maritimes-471512', 'https://www.nippon.com/en/news/ntv20200131003/coronavirus-3-new-cases-in-japan-total-now-17.html?cx_recs_click=true', 'https://www.nicematin.com/sante/un-premier-cas-de-coronavirus-confirme-dans-les-alpes-maritimes-471503', 'https://www.moh.gov.sg/covid-23', 'https://www.cdc.go.kr/board/board.es?mid=a30402000000&bid=0030&act=view&list_no=366261&tag=&nPage=41', 'https://m.weibo.cn/status/4463321081961974?', 'https://www.latimes.com/california/story/2020-01-25/los-angeles-area-prepared-for-coronavirus', 'https://www.straitstimes.com/asia/se-asia/woman-from-wuhan-is-latest-coronavirus-case-in-malaysia-bringing-total-to-21', 'https://www.cdc.gov.tw/En/Bulletin/Detail/MtvPSPzlksx8B_zvdcNdBw?typeid=161', 'http://english.alarabiya.net/en/News/gulf/2020/02/25/Number-of-Kuwait-coronavirus-cases-rises-to-eight-KUNA.html', 'https://www.google.com/search?rlz=1C1GCEA_enUS884US884&sxsrf=ACYBGNRdMvO0fuV77TKGKyRufrIz56lrRg%3A1580930610509&ei=MhY7XqfcHpiDytMPteawqAc&q=thailand+coronavirus+cases+tourists+25&oq=thailand+coronavirus+cases+tourists+25&gs_l=psy-ab.3..33i160l2j33i299.9848.10231..10337...0.0..0.149.382.2j2......0....1..gws-wiz.......35i39.Ah0XtHSdjxs&ved=0ahUKEwinvdC7kbvnAhWYgXIEHTUzDHUQ4dUDCAs&uact=5', 'https://www.scmp.com/news/asia/east-asia/article/3050917/coronavirus-chinese-students-south-korea-advised-take-leave', 'https://www.cdc.gov.tw/En/Bulletin/Detail/ijxi3l3JEYqfNtV2aRGzVg?typeid=162', 'https://gulfnews.com/world/gulf/bahrain/bahrain-announces-23-cases-of-new-coronavirus-infection-1.1582636110970', 'https://www.cdc.go.kr/board/board.es?mid=a30402000000&bid=0030&act=view&list_no=366261&tag=&nPage=15', 'https://www3.nhk.or.jp/nhkworld/en/news/20200130_02/', 'https://www.cdc.go.kr/board/board.es?mid=a30402000000&bid=0030&act=view&list_no=366261&tag=&nPage=47', 'https://www.cdc.go.kr/board/board.es?mid=a30402000000&bid=0030&act=view&list_no=366261&tag=&nPage=28', 'https://www.nicematin.com/sante/un-premier-cas-de-coronavirus-confirme-dans-les-alpes-maritimes-471500', 'https://www.info.gov.hk/gia/general/202002/11/P2020021100773.htm', 'https://www.channelnewsasia.com/news/asia/wuhan-virus-coronavirus-thailand-cases-12410692', 'https://www.channelnewsasia.com/news/asia/wuhan-pneumonia-outbreak-thailand-second-case-coronavirus-12272487', 'https://www.info.gov.hk/gia/general/202002/07/P2020020700760.htm?fontSize=1', 'https://www.cdc.gov.tw/En/Bulletin/Detail/DVaJkPoWj0jFxnjAvUeqjA?typeid=158'}\n"
     ]
    }
   ],
   "source": [
    "#we'll replace np.nan with \"NaN\" in order to display sets of values for each column\n",
    "data2.fillna(\"NaN\", inplace=True)\n",
    "for col in data2.columns:\n",
    "  print(col, \"######### values: \", set(data2[col]))"
   ]
  },
  {
   "cell_type": "code",
   "execution_count": 9,
   "metadata": {
    "colab": {
     "base_uri": "https://localhost:8080/"
    },
    "id": "1Ox0IxYiRef1",
    "outputId": "03dbc404-f8bc-4945-d81c-29ff2e6d5bbf"
   },
   "outputs": [
    {
     "name": "stdout",
     "output_type": "stream",
     "text": [
      "case_in_country ######### values:  {1.0, 2.0, 3.0, 4.0, 5.0, 6.0, 7.0, 8.0, 9.0, 10.0, 11.0, 12.0, 13.0, 14.0, 15.0, 16.0, 17.0, 18.0, 19.0, 20.0, 21.0, 22.0, 23.0, 24.0, 25.0, 26.0, 27.0, 28.0, 29.0, 30.0, 31.0, 32.0, 33.0, 34.0, 35.0, 36.0, 37.0, 38.0, 39.0, 40.0, 41.0, 42.0, 43.0, 44.0, 45.0, 46.0, 47.0, 48.0, 49.0, 50.0, 51.0, 52.0, 53.0, 54.0, 55.0, 56.0, 57.0, 58.0, 59.0, 60.0, 61.0, 62.0, 63.0, 64.0, 65.0, 66.0, 67.0, 68.0, 69.0, 70.0, 71.0, 72.0, 73.0, 74.0, 75.0, 76.0, 77.0, 78.0, 79.0, 80.0, 81.0, 82.0, 83.0, 84.0, 85.0, 86.0, 87.0, 88.0, 89.0, 90.0, 91.0, 92.0, 93.0, 94.0, 95.0, 96.0, 97.0, 98.0, 99.0, 100.0, 101.0, 102.0, 103.0, 104.0, 105.0, 106.0, 107.0, 108.0, 109.0, 110.0, 111.0, 112.0, 113.0, 114.0, 115.0, 116.0, 117.0, 118.0, 119.0, 120.0, 121.0, 122.0, 123.0, 124.0, 125.0, 126.0, 127.0, 128.0, 129.0, 130.0, 131.0, 132.0, 133.0, 134.0, 135.0, 136.0, 137.0, 138.0, 139.0, 140.0, 141.0, 142.0, 143.0, 144.0, 145.0, 146.0, 147.0, 148.0, 149.0, 150.0, 151.0, 152.0, 153.0, 154.0, 155.0, 156.0, 157.0, 158.0, 159.0, 160.0, 161.0, 162.0, 163.0, 164.0, 165.0, 166.0, 167.0, 168.0, 169.0, 170.0, 171.0, 172.0, 173.0, 174.0, 175.0, 176.0, 177.0, 178.0, 179.0, 180.0, 181.0, 182.0, 183.0, 184.0, 185.0, 186.0, 187.0, 188.0, 189.0, 190.0, 'NaN', 286.0, 298.0, 875.0, 365.0, 925.0, 1443.0, 443.0}\n",
      "reporting date ######### values:  {'2/20/2020', '1/24/2020', '1/28/2020', '02/10/20', '2/19/2020', '1/27/2020', '2/23/2020', '1/29/2020', '02/01/20', '2/13/2020', '02/11/20', '2/21/2020', '2/25/2020', '02/06/20', '1/22/2020', '1/31/2020', '2/28/2020', '02/02/20', '1/21/2020', '2/16/2020', '2/22/2020', '1/25/2020', '02/03/20', '1/13/2020', '2/14/2020', '02/09/20', '2/26/2020', '02/07/20', '1/17/2020', '02/04/20', '2/18/2020', '2/17/2020', '2/24/2020', '1/26/2020', 'NaN', '1/30/2020', '1/20/2020', '1/23/2020', '2/27/2020', '1/15/2020', '02/12/20', '02/08/20', '02/05/20', '2/15/2020'}\n",
      "summary ######### values:  {'new confirmed COVID-19 patient in South Korea: male, 25, Korean, confirmed on 1/31/2020, related to sixth patient 1/30-No.2, symptom onset on 1/30/2020 (sore body)', 'new confirmed COVID-19 patient in Germany: wife of a man who tested positive and worked at the company, two children also tested positive', 'new confirmed COVID-19 patient in Germany: female, 24, accompanied case 17 to Milan, Baden-Wurttemberg', 'new confirmed imported COVID-19 pneumonia patient in Yunnan: female, 19, works in Wuhan, visited Kunming, Yunnan on 01/15/2020, hospitalized on 01/24/2020', 'new confirmed COVID-19 patient in Hong Kong: female, 57, mother of 2/9-No.1, had hot pot with him 1/26', 'new confirmed domestic COVID-19 patient in Taiwan: female, married to 1/30-No.1, symptom onset 1/27/2020, hospitalized 1/28/2020, confirmed 1/30/2020', 'new confirmed COVID-19 patient in Singapore: 1/26-No.1, male, 36, Wuhan resident, arrived in Sentosa,Singapore 1/22/2020, symptom onset 1/23/2020 (cough), went to hospital on 1/24/2020.', 'new confirmed COVID-19 patient in South Korea: male, 35, symptom onset 2/2 (cough, fever), Seoul', 'new confirmed COVID-19 patient in Japan: male, 10s, Hokkaido, symptom onset 2/18, went to medical instutition 2/19,', 'new confirmed COVID-19 patient in Vietnam: same flight from Wuhan to Vietnam as three patients detected on 1/30', 'new confirmed COVID-19 patient in UAE: Chinese national', 'new confirmed COVID-19 patient in Malaysia: female, 53, returned to Malaysia from Japan on 2/23', 'new confirmed COVID-19 patient in Singapore: male, 47', 'Death from COVID-19 pneumonia in Wuhan: female, 70, hospitalized on 01/13/2020, death on 01/21/2020.', 'new confirmed COVID-19 patient in Japan: female, 70s, Tokyo, symptom onset 2/1 (fever, cough, malaise)', 'new confirmed COVID-19 patient in UAE: Iranian, traveled from Iran', 'new confirmed COVID-19 patient in Spain: female, 36, Barcelona, visited Bergamo and Milan between 2/12-2/22, contacted authorities 2/24 after experiencing flu-like symptoms', 'new confirmed imported COVID-19 pneumonia patient in Chengdu, Sichuan: male, 48, return to Chengdu from Wuhan on 01/10/2020, symptom onset on 01/18/2020 and hospitalized.', 'new confirmed COVID-19 patient in South Korea: 1/30-No.1, male, 32, visited Wuhan and returned to 1/24/2020, no symptom on arrival', 'new confirmed COVID-19 patient in UAE: from Bangladesh, 39', 'new confirmed COVID-19 patient in Singapore: male, 71, symptom onset 2/1, clinic 2/1, 2/5, went to clinic 2/6, hospital 2/7', 'new confirmed COVID-19 patient in Hong Kong: male, 23, cousin of 2/9-No.1, had hot pot with him 1/26', 'new confirmed COVID-19 patient in Spain: Castile and Leon, male, 30, Iranian, working in Spain', 'new confirmed COVID-19 patient in UK: contracted while in Iran', 'new confirmed COVID-19 patient in Japan: male, 30s, returned to Wuhan on third flight 1/31/2020, no symptoms', 'new confirmed COVID-19 patient in US: male, in his 60s, husband of 1/24-No.1, Chicago, admitted to hospital 1/28/2020, symptom onset 1/28/2020', 'new COVID-19 patient confirmed in Bahrain: returning from Iran', 'new confirmed COVID-19 patient in UAE: male, 8, 1/29-No.4 (son), arrived as tourists 1/16/2020, admitted into hospital', 'new confimed COVID-19 patient in Malaysia: female, 39, from Wuhan, daughter of case 16', 'new confirmed imported COVID-19 pneumonia patient in Hunan: male, 40, symptom onset on 01/05/2020, hospitalized on 01/20/2020, prior exposure to Wuhan.', 'new confirmed COVID-19 patient in Singapore: female, 31, Chinese national, arrived in Singapore from Wuhan 1/22/2020, tested positive 2/1/2020', 'new confirmed COVID-19 patient in South Korea: male, Seoul, 75', 'new confirmed COVID-19 patient in UAE: Filipino national, 34', 'new confirmed COVID-19 patient in Vancouver, Canada: female, 30s, related to case 5, visitors from Wuhan', 'new confirmed COVID-19 patient in Japan: male, 60s, lives in Wakayama, hospitalized 2/11, symptom onset 2/16 (fever)', 'new confirmed COVID-19 pneumonia patient in Yunnan: female, 36, Wuhan resident, arrived in Yunnan on 01/22/2020, hospitalized on 01/24/2020.', 'new confirmed COVID-19 patient in France: Montpellier, male, 31, recently returned from Lombardy, Italy by plane, hospitalized 2/27', 'new confirmed COVID-19 patient in Germany: Baden-Wuerttemberg, male, returned from ski holiday in Italy', 'new confirmed COVID-19 patient in Thailand: female, 31, relative who recently returned from China', 'new confirmed COVID-19 patient in Japan: Hokkaido, male, 40s, visited doctor due to fever and cough 2/24', 'new confirmed COVID-19 patient in Hong Kong: male, 26, son of case 76, fever and cough 2/20, went to hospital 2/21, admitted 2/24', 'new confirmed COVID-19 patient in Japan: female, in her 30s, Wuhan resident, arrived in Japan 01/18/2020, symptom onset on 01/21/2020 (fever, coughing), confirmed 1/23/2020 but not hospitalized (only minor symptoms), visited medical institution in Tokyo on 1/23/2020', 'new confirmed COVID-19 patient in Japan: female, 70s, symptom onset 2/22 (fever), visited doctor 2/22, Nagoya City', 'new confirmed COVID-19 patient in Japan: Hokkaido, male, 30s, fever, headache, malaise, joint pain 2/24, went to doctor 2/25', 'First confirmed imported COVID-19 pneumonia patient in Fujian: male, 70, works in Wuhan, return to Fujian on 01/17/2020, visit clinic on 01/20/2020.', 'new confirmed imported COVID-19 pneumonia patient in Yunnan: female, 68, Wuhan resident, left Wuhan on 01/20/2020, arrived in Ruili, Yunnan on 01/23/2020, hospitalized on 01/24/2020', 'new confirmed COVID-19 patient in Toronto, Canada: male, 56, tested positive at provincial facility days after returning to Toronto from Wuhan via Guangzhou on 1/22/2020, mild symptoms on flight, a day after he went home a family member reported he felt ill, fever, cough, symptom onset 1/23', 'new confirmed COVID-19 patient in South Korea: male, 30', 'new confirmed COVID-19 patient in South Korea: male, 62, died 2/23/20, Cheongdo Daenam Hospital cluster', 'new confirmed COVID-19 patient in Japan: Kanagawa, male, 60s, identified as close contact and tested 2/25, hospitalized 2/26, now has fever, cough, malaise', 'new confirmed imported COVID-19 pneumonia patient in Sichuan: male, 19, visited Chengdu from Wuhan on 01/13/2020, symptoms onset on 01/20/2020.', 'new confirmed COVID-19 patient in France: Annecy, 60s, friend of case 14 and 18', 'confirmed COVID-19 pneumonia patient No.14 in Tianjin: male, 71, Wuhan resident, visited Malaysia from 01/19/2020 to 01/25/2020, arrived in Tianjin on 01/25/2020, symptom onset on 01/25/2020, hospitalized on 01/25/2020, confirmed on 01/26/2020', 'new confirmed COVID-19 patient in Hong Kong: male, 25, lives in Kowloon City, now in hospital, had not travelled outside Hong Kong, symptom onset 1/28/2020 (cough, runny nose, diarrhea), went to hospital 1/29/2020', 'new confirmed imported COVID-19 pneumonia patient in Henan: male, 28, Henan resident, visited Wuhan on 01/09/2020 to treat diabetes, returned to Henan on 01/19/2020.', 'new confirmed COVID-19 patient in Thailand: female, 57, Wuhan resident', 'new confirmed COVID-19 patient in Thailand: 2/5-No.1, Thai, just returned from Japan', 'new confirmed COVID-19 patient in Hong Kong: male, 58, went to Zhongshan and Macau', 'new confirmed COVID-19 patient in Kerala, India: female, student at Wuhan University, isolated in hospital', 'new confirmed imported COVID-19 pneumonia patient in Dazhou, Sichuan: male, 36, return to Dazhou from Wuhan on 01/17/2020, symptom onset on 01/18/2020 and hospitalized.', 'confirmed imported COVID-19 pneumonia patient No.10 in Tianjin: male, 30, Beijing resident, visited Wuhan from 01/18/2020 to 01/20/2020, arrived in Tianjin on 01/24/2020, symptom onset on 01/24/2020, visited fever clinic on 01/24/2020, confirmed on 01/25/2020', 'new confirmed imported COVID-19 pneumonia patient (medical doctor No.3) in Beijing: male, sit next to medical doctor No.2 during a conference on 01/14/2020, symptom onset on 01/18/2020, visited clinic on 01/20/2020, confirmed on 01/25/2020', 'new confirmed imported COVID-19 pneumonia patient in Sichuan: female, 28, visited Chengdu from Wuhan on 01/17/2020, symptoms onset on 01/19/2020.', 'new confirmed COVID-19 patient in South Korea: female, 28, Korean, informed as the contact of fifth patient 1/30-No.1, confirmed 1/30/2020, stayed home after onset of symptom', 'new confirmed COVID-19 patient in Nepal: male, 32, studying in Wuhan, arrived in Nepal 1/13/2020 from China, visited Kathmandu hospital (fever, breathing problems) 1/13/2020, discharged, symptom onset 1/3 (cough), discharged 1/17', 'new confirmed COVID-19 patient in Hong Kong: female, 56, married to 2/4-No.1, sent to hospital in Kwun Tong, symptom onset 2/4/2020 (fever)', 'Death from COVID-19 pneumonia in Wuhan: male, 65, symptom onset on 01/05/2020, hospitalized on 01/11/2020, death on 01/21/2020.', 'new death from COVID-19 pneumonia, male, 81, symptom onset on 01/09/2020, hospitalized on 01/13/2020, death on 01/21/2020', \"new confirmed COVID-19 patient in Taiwan: female, 60, symptom onset 1/22 (fever, cough), went to doctor's four times before being diagnosed with pneumonia 1/29, hospitalized 1/30, moved to negative-pressure isolation room on 2/17, positive 2/19\", 'new confimed COVID-19 patient in Singapore: male, 41, Singapore citizen, no recent travel history, admitted to hospital on 2/3, symptom onset 1/28/2020 (fever), visited clinic 1/29/2020 and 1/30/2020', 'new confirmed COVID-19 patient in Japan: male, 80s, lives in Sagamihara City', 'new confirmed COVID-19 patient in Japan: male, 30s, went to party 1/18, from Tokyo, symptom onset 2/3 (fever, malaise), home medical treatment 2/4, visited again 2/5, again on 2/8,', 'new confirmed COVID-19 patient in Singapore: 35, male, contact of case 50, symptom onset 2/10, went to clinic 2/10 and 2/11, went to hospital 2/12, transferred to NCID 2/12', 'new confirmed COVID-19 patient in South Korea: male, 41, died 2/22', 'new confirmed COVID-19 patient in South Korea: male, 62, symptom onset 2/2 (fever, headache), hospitalized 2/5-2/22', 'new confirmed COVID-19 patient in Japan: Kanagawa Prefecture, male, 50s, symptom onset 2/14 (fever), went to doctor 2/17, visited second doctor 2/19, fever, respiratory distress, and malaise increased 2/23, went to second doctor 2/23, transferred to third institution and hospitalized', 'new confirmed COVID-19 pneumonia patient in Macau: female, 21, Wuhan resident, visited Macao on 01/23/2020, symptom onset on 01/25/2020, hospitalized on 01/25/2020, confirmed on 01/26/2020', 'First confirmed imported COVID-19 pneumonia patient in Jilin: female, 36, return to Changchun, Jilin from Wuhan on 01/19/2020 and visit clinic due to symptom onset.', 'First confirmed imported COVID-19 pneumonia patient in Guizhou: male, 51, lives in Wuhan, symptom onset on 01/14/2020, visit clinic on 01/14/2020.', 'new confirmed COVID-19 patient in South Korea: male, 64', 'new confirmed COVID-19 patient in Spain: Andalusia, Seville, 58, male, doctor who had contact with case 12', 'new confirmed COVID-19 patient in Japan: male, 50s, Hokkaido, symptom onset 1/31 (fever, cough, malaise), visited medical instutition on 2/3, returned 2/4, hospitalized 2/11', 'new confirmed COVID-19 patient in Hong Kong: 1/24-No.1, married to 1/27-No.1, female, 62, lives in Wuhan, travelled from Wuhan to Shenzhenbei and then Hong Kong by train on 1/19/2020, symptom onset 1/20/2020 (fever, cough), hospitalized 1/23/2020, admitted for isolation 1/24/2020', 'new confirmed COVID-19 patient in Hong Kong: 1/29-No.2, married to 1/29-No.1, male, 72, live in Wuhan, arrived by flight 1/22/2020, admitted to hospital 1/28/2020', 'new confirmed COVID-19 patient in South Korea: female, 26', 'new confirmed COVID-19 patient in Japan: male, in his 50s, arrived on first evacuation flight from China on 1/29/2020 from Wuhan, treated in special medical faculity, symptoms (throat pain, fever), Wuhan resident, symptom onset 1/29/2020', 'First confirmed imported COVID-19 pneumonia patient in Shanghai (from Wuhan): female, 56, Wuhan residence, arrived in Shanghai from Wuhan on 01/12/2020, symptom onset and visited fever clinic on 01/15/2020, laboratory confirmed on 01/20/2020', 'new confirmed COVID-19 patient in Japan: Ishikawa Prefecture, male, 60s, symptom onset 2/16 (fever, sore throat), visited doctor 2/17, visited another doctor 2/19 and 2/22, visited fourth doctor 2/23', 'new confirmed COVID-19 patient in South Korea: female, 54, same cluster as case 31', 'new confirmed COVID-19 patient in Taiwan: female, 50s', 'new confirmed COVID-19 patient in Singapore: female, 54, linked to Grace Assembly of God, symptom onset 2/10, went to clinic 2/11, went to NCID 2/12', 'new confirmed COVID-19 patient in Japan: 1/28-No.1, male, in his 60s, lives in Nara Prefecture, did not travel to Wuhan but drove buses with tour groups from Wuhan from 1/8/2020-1/16/2020, first Japanese confirmed, diagnosed with pneumonia 1/25/2020 and hospitalized on 1/17/2020, symptom onset 1/14/2020 (cough, chills, joint pain)', 'new confirmed COVID-19 patient in South Korea: male, 28, evacuated from Wuhan and quarantined with sore throat', 'new confirmed COVID-19 patient in Singapore: male, 55, symptom onset 2/10, went to NCID 2/12, linked to cluster at Grace Assemly of God', 'new confirmed COVID-19 patient in Malaysia: female, 67, from Wuhan, mother of a friend of 2/6-No.1, arrived for holiday on 1/25', 'new confirmed COVID-19 patient in Japan: Tokyo, male, 80s, symptom onset 2/22 (fever, cough, sputum, dyspnea)', 'new confirmed imported COVID-19 pneumonia patient in Guangxi: female, 62, Wuhan resident, symptom onset on 01/09/2020, arrived in Beihai, Guangxi on 01/15/2020, hospitalized on 01/21/2020, tested postive on 01/22/2020.', 'Death from COVID-19 pneumonia in Wuhan: male, 55, symptom onset on 01/09/2020, hospitalized on 01/19/2020, death on 01/24/2020', 'new confirmed COVID-19 patient in Singapore: 71, female, family member of case 41, under quarantine since 2/7', 'new confirmed COVID-19 patient in Japan: Hokkaido, female, 20s, sore throat 2/19, fever 2/21, went to doctor 2/24, traveling to Osaka early February', 'new confirmed COVID-19 patient in Malaysia: 2/4-No.1, male, 41, Malaysian citizen, travelled to Singapore from 1/16-1/23 with colleagues from China, including one from Wuhan, from Selangor, went to hospital 1/29 for fever and cough, referred to hospital on 2/2', 'new confirmed COVID-19 patient in France: Annecy, 30s, female, daughter of case 14 and 18', 'new confirmed COVID-19 patient in Singapore: female, 54, linked to Grace Assembly of God, symptom onset 2/10, went to clinic on 2/13, send to NCID', 'new confirmed COVID-19 patient in Japan: Hokkaido, symptom onset 2/16 (cough), hospitalized 2/17, died 2/25', 'new confirmed COVID-19 patient in Singapore: male, 28, linked to cluster at Grace Assemly of God, symptom onset 1/29, went to clinic on 2/2, 2/5, 2/12, referred to NCID 2/12', 'new confirmed COVID-19 patient in Japan: Hokkaido, male, 70s, fatigue 2/16, fever 2/18, went to doctor 2/20, consulted second doctor 2/24, close contact with other infected patients', 'new confirmed COVID-19 patient in Japan: Hokkaido, female, 60s', 'new confirmed imported COVID-19 pneumonia patient in Liaoning: male, 42, arrived in Liaoning from Wuhan on 01/18/2020, symptom onset on 01/19/2020, hospitalized on 01/22/2020.', 'new confirmed COVID-19 patient in Japan: Sagamihara City, female, 20s, symptom onset 2/21 (cough, sneeze), father diagnosed 2/22', 'new confirmed COVID-19 patient in Hong Kong: male, 35, symptom onset 2/19 (fever, cough), went to hospital 2/21, went to Shenzhen between 2/3-2/7', 'new COVID-19 patient confirmed in Bahrain:', 'new confirmed COVID-19 patient in Singapore: 50, male, linked to cluster at Grace Assembly of God, symptom onset 2/16, went to NCID on 2/17', 'new confirmed COVID-19 patient in Hong Kong: female, 51, aunt of 2/9-No.1, had hot pot with him 1/26', 'new confirmed imported COVID-19 pneumonia patient in Yunnan: male, 49, resident of Huangshi, Hubei, arrived in Qunming, Yunnan on 01/21/2020, hospitalized on 01/23/2020.', 'new confirmed COVID-19 patient in Hong Kong: male, 58, lives in Zhuhai, developed fever and cough 2/4, returned to HK 2/5, consulted doctor 2/6, went to hospital 2/6, traveled from Zhuhai to Macao back and forth during incubation period', 'new confirmed COVID-19 pneumonia patient No.17 in Tianjin: male, 49, Tianjin resident, close contact with patient No. 5, fever on 01/26/2020, visited clinic on 01/26/2020', 'new confirmed COVID-19 patient in France: Lyon, male, 50, hospitalized 2/26', 'new confirmed COVID-19 patient in South Australia: male, 60, from Wuhan, now hospitalized, arrived on 1/21/2020', 'new confirmed COVID-19 patient in Hong Kong: female, 83, mother-in-law of case 57, mother of case 60, symptom onset 2/14 (runny nose), suffered from fractures caused by a fall on 2/15 and admitted to hospital, surgery on 2/16', 'Death from COVID-19 pneumonia in Wuhan: female, 66, symptom onset on 01/09/2020, hospitalized on 01/19/2020, death on 01/21/2020', 'new confirmed COVID-19 patient in France: 9, in contact with Briton who had been in Singapore and was positive', 'new confirmed COVID-19 patient in Hong Kong: female, 89, cough since 2/25, went to clinic 2/26', 'new confirmed COVID-19 patient in London, UK: male, doctor part of group skiing with 2/6-No.1 from 1/24-1/28', 'new confirmed COVID-19 patient in Hong Kong: 1/24-No.2, married to 1/24-No.3, female, 62, took train from Wuhan to Hong Kong on 1/22/2020, symptom onset 1/23/2020 (fever), went to hospital 1/23/2020 and admitted for isolation', 'new confirmed COVID-19 patient in Singapore: 29, male, linked to cluster at Grace Assembly of God, symptom onset 2/12, went to urgent care center 2/12 and 2/15', 'new confirmed COVID-19 patient in Japan: Nagoya, male, 60s, fever, cough, headache, went to doctor 2/26', 'new confirmed COVID-19 patient in Japan: male, 60s, symptom onset 2/6 (fever, malaise), visited medical instutition 2/7, 2/10, 2/12, 2/13', 'new confirmed COVID-19 patient in Japan: male, in his 30s, Kanagawa resident, symptom onset 1/3/2020 in Wuhan (fever), returned to Japan 1/6/2020 and hospitalized, went to medical institution on 1/6/2020 and hospitalized 1/10/2020, recovered and discharged on 1/15/2020, in close contact with infected people', 'new confirmed imported COVID-19 pneumonia patient in Beijing: male, 42, visited Wuhan on 01/11/2020 and 01/18/2020 twice, returned to Beijing on 01/19/2020, symptom onset on 01/20/2020.', 'new confirmed COVID-19 patient in Japan: female, 60s, lives in Okinawa Prefecture, symptom onset 2/5 (cough, joint pain), visited medical institution 2/12', 'new confirmed COVID-19 patient in Japan: Tokyo, male, 40s, symptom onset 2/13 (Fever, malaise)', 'new confirmed COVID-19 patient in Hong Kong: female, 68, symptom onset 2/19 (cough), went to doctor 2/23', 'new confirmed COVID-19 patient in Hong Kong: female, 96, symptom onset 2/13 (fever, cough), went to hospital 2/22 and admitted', 'new confirmed imported COVID-19 pneumonia patient 01/25-No.4 in Shaanxi: male, 46, Wuhan resident, arrived in Shanxi on 01/20/2020, symptom onset on 01/23/2020, confirmed on 01/25/2020', 'new confirmed COVID-19 patient in Japan: female, 70s, Hokkaido, symptom onset 2/6 (cough, sputum), fever 2/9, sore throat and malaise 2/10, hospitalized 2/10', 'new confirmed COVID-19 patient in Japan: male, 70s, symptom onset 2/1 (cold, fever), visited medical institution 2/6', 'new confirmed COVID-19 patient in Japan: male, 50s, Hokkaido, symptom onset 2/17 (fever, difficulty breathing), went to doctor 2/18 and 2/19, fever 2/21 so visited second doctor, third doctor 2/21', 'new confirmed COVID-19 patient in Japan: Hokkaido, female, 20s, symptom onset 2/18 (fever), went to doctor 2/23', 'new confirmed COVID-19 patient in South Korea: 2/4-No.1, female, 42, flew back to South Korea on 1/19/2020 after traveling for five days in Thailand, symptom onset 1/25/2020 (chills)', 'new confirmed COVID-19 patient in Japan: Sapporo City, female, 70s, symptom onset 2/21 (fever, cough), visited medical institution 2/22, visited hospital 2/23', 'new confirmed COVID-19 patient in South Korea: female, 37, family member of 25th confirmed case, visited Guangdong from November 2019-January 31', 'new confirmed COVID-19 patient in Singapore: female, 42, Chinese national, arrived in Singapore from Wuhan on 1/21/2020, daughter of 1/30-No.1,', 'Death from COVID-19 pneumonia in Wuhan: female, 80, symptom onset on 01/11/2020, hospitalized on 01/18/2020, death on 01/22/2020.', 'new confirmed COVID-19 patient in Japan: female, 70s, Tokyo, symptom onset 2/3 (cough, sputum, dyspnea)', 'new confirmed COVID-19 patient in Singapore: 38, female, linked to case 66, symptom onset 2/4, went to clinic 2/4 and 2/10', 'new confirmed COVID-19 patient in Hong Kong: male, 57, Diamond Princess cruise from 1/25-2/21, returned by flight on 2/22', 'new confirmed COVID-19 patient in Japan: female, in her 40s, Wuhan resident, diagnosed with pneumonia at medical institution in Hokkaido on 1/27/2020, arrived in Japan 1/21/2020, developed fever, confirmed 1/28/2020, symptom onset 1/26/2020 (cough, fever)', 'new confirmed COVID-19 patient in Singapore: 35, female, linked to case 66, symptom onset 2/4, went to clinic 2/4 and 2/5, referred to NCID on 2/18', 'new confirmed COVID-19 patient in Spain: Madrid, 50', 'new confirmed imported COVID-19 pneumonia patient in Guangxi: male, 63, Wuhan resident, symptom onset on 01/14/2020, arrived in Beihai, Guangxi on 01/20/2020, hospitalized on 01/21/2020, tested postive on 01/22/2020.', 'new confirmed COVID-19 patient in Japan: male, in his 40s, symptom onset 1/26/2020 (fever, coughing), evacuated from Wuhan 1/29/2020, hospitalized 1/29/2020', 'new confirmed COVID-19 patient in Hong Kong: female, 58, Diamond Princess cruise from 1/25-2/21, returned by flight on 2/22, symptom onset 2/4 (throat discomfort)', 'new confirmed COVID-19 patient in Japan: Hokkaido, female, 30s', 'new confirmed COVID-19 patient in NSW, Australia: female, 21, recently travelled back to Sydney from Wuhan, arrived 1/23/2020, symptom onset 1/24/2020 then went to an emergency department', 'new confirmed COVID-19 patient in Germany: Baden-Wuerttemberg, male, attended business meeting in Munich where they had contact with an Italian participant who tested positive in Italy', 'new confirmed COVID-19 patient in Japan: female, 10s, Hokkaido, symptom onset 2/6 (fever), went to doctor 2/7, another doctor 2/10, fever, sore throat, and malaise 2/18, visited another doctor 2/20, went to Tokyo 2/3-2/6', 'new confirmed COVID-19 patient in Singapore: 57, female, symptom onset 2/9, went to clinic 2/10 and 2/14 and 2/12, hospital on 2/13 and 2/15, admitted 2/15', 'new confirmed COVID-19 patient in Thailand: female, 73, Wuhan resident', 'new confirmed COVID-19 patient in Victoria, Australia: male, in his 50s, recently spent two weeks in Wuhan, arrived in Melbourne from Guangzhou 1/19/2020, symptom onset 1/23/2020, put in isolation 1/24/2020', 'new confirmed COVID-19 patient in Hong Kong: 1/24-No.3, married to 1/24-No.2, male, 63, took train from Wuhan to Hong Kong on 1/22/2020, symptom onset 1/23/2020 (fever and cough), went to hospital 1/23/2020 and admitted for isolation', 'new confirmed COVID-19 patient in Hong Kong: male, 62, symptom onset 2/10 (fever, cough), went to two private doctors 2/13-2/18, went to hospital 2/22 and admitted for treatment', 'new confirmed COVID-19 patient in Thailand: male, 25, tour guide who returned recently from South Korea, sought treatment for fever and cough on 2/25', 'Death from COVID-19 pneumonia in Wuhan: male, 70, symptom onset on 01/15/2020, hospitalized on 01/19/2020, death on 01/23/2020', 'new confirmed COVID-19 patient in Japan: female, 80s, lives in Wakayama, contact of case 40, inspected as contact 2/16, hospitalized 2/17', 'new confirmed COVID-19 patient in Singapore: male, 56, arrived in Singapore 1/20/2020, warded, symptom onset 1/21/2020, admitted to NCID 1/28/2020, confirmed 1/29/2020.', 'new confirmed COVID-19 patient in South Korea: male, 28, brought back from Wuhan on 1/31/2020, no symptoms upon arrival, symptom onset 2/1/2020, transported to hospital for quarantine', 'new confirmed COVID-19 patient in France: male, 55, hospitalized in Amiens', 'new confirmed COVID-19 patient in Malaysia: 1/29-No.1, male, 52, hospitalized in Johor', 'First confirmed imported COVID-19 pneumonia patient in Chongqing (from Wuhan): female, age 44, symptoms onset on 01/15/2020, laboratory confirmed on 01/21/2020.', 'new confirmed COVID-19 patient in Thailand: female, 61, Wuhan resident, symptom onset 1/5/2020 (fever, chills, sore throat, headache), arrived 1/8/2020, hospitalized on arrival, tested positive 1/12/2020, discharged and returned to China', 'new confirmed COVID-19 patient in South Korea: male, 49, same cluster as case 31', 'new confirmed COVID-19 patient in Japan: Osaka, male, 40s, fever, cough 2/20, headache 2/21, visited doctor 2/26,', 'new confirmed COVID-19 patient in Japan: female, 70s, Tokyo, symptom onset 2/4 (cough, malaise, shortness of breath)', 'new confirmed COVID-19 patient in Japan: male, 40s, lives in Saitama, returned to Japan on second charter flight 1/30, returned home 2/1, symptom onset 2/8 (fever), went to medical instutition 2/10', 'new confirmed COVID-19 patient in Japan: male, in his 50s, foreign national, lives in Mie, stayed in Wuhan from 12/24/2020, returned to Japan 1/13/2020, symptom onset 1/25/2020 (fever), requested medical help on 1/27/2020', 'new confirmed COVID-19 patient in Japan: female, 50s, Nagoya City, symptom onset 2/17 (fever, malaise), went to medical instutition 2/17, again 2/18 and hospitalized, has traveled to Wuhan before onset', 'new confirmed COVID-19 patient in Thailand: female, 33, arrived from Wuhan on 1/21/2020 and visited hospital for fever, coughing, and muscle aches on 1/23/2020', 'new confirmed imported COVID-19 pneumonia patient in Yunnan: female, 42, Works in Wuhan, returned to Yunnan on 01/18/2020, visited clinic on 01/23/2020', 'new confirmed COVID-19 patient in Japan: Nagoya City, female, 70s, fever, cough, sore throat, runny nose and went to doctor 2/24', 'new confirmed COVID-19 patient in Japan: male, 30s, Kanagawa Prefecture, symptom onset 2/11 (fever), hospitalized 2/10,', 'new confirmed COVID-19 patient in Japan:', 'new confirmed COVID-19 patient in Japan: male, 40s, Wakayama, symptom onset 2/2 (fever, fatigue, cough, diarrhea), went to doctor 2/2, again 2/3, again 2/6, 2/17', 'new confirmed COVID-19 patient in Hong Kong: female, 59, Diamond Princess cruise from 1/25-2/21, returned by flight on 2/22, symptom onset 2/24 (fever, headache)', 'new confirmed COVID-19 patient in South Korea: female, 34', 'new confirmed COVID-19 patient in South Korea: male, 36, died 2/25/2020', 'new confirmed COVID-19 patient in London, UK: female, part of group skiing with 2/6-No.1 from 1/24-1/28', 'new confirmed imported COVID-19 pneumonia patient 01/24-No.1 in Shanxi: male, 49, works in Wuhan, arrived in Ankang, Shanxi from Wuhan on 01/19/2020, symptom onset on 01/19/2020 hospitalized on 01/19/2020.', 'new confirmed COVID-19 patient in France: male, 63, recently travelled to Lombardy, Italy, hospitalized in Annecy', 'new confirmed COVID-19 patient in Japan: Ishikawa Prefecture, male, 50s, fever 2/16, visited doctor 2/17, visited another doctor 2/22', 'new confirmed COVID-19 patient in Malaysia: female, 83, American, passenger of cruise ship that docked in Cambodia 2/13, flew to Malaysia 2/14', 'new confirmed COVID-19 patient in South Korea: female, 20', 'new confirmed COVID-19 patient in Singapore: male, 62, symptom onset 2/7, went to clinics on 2/7, 2/10, 2/11, admitted to NCID 2/11', 'new confirmed COVID-19 patient in Germany: contact of cases 21 and 22, NRW, employee of case 21', 'new confirmed COVID-19 patient in South Korea: male, 24', 'new confirmed COVID-19 patient in Singapore: male, 39, symptom onset 2/6, went to clinic 2/7, NCID 2/10, works at same location as case 42', 'new confirmed COVID-19 patient in Thailand: Chinese, related to someone who was previously confirmed', 'new confirmed COVID-19 patient in UK: passenger on Diamond Princess cruise ship', 'new confirmed COVID-19 patient in South Korea: male, 58, linked with Shincheonji religious sect, died 2/24', 'new confirmed COVID-19 patient in Philippines: male, 44, from Wuhan, admitted to hospital on 1/25/2020 in Manila with fever, cough, and sore throat, died 2/1/2020, arrived 1/21/2020', 'new confirmed COVID-19 patient in Singapore: male, 54, symptom onset 2/10, went to NCID 2/12', 'new confirmed COVID-19 patient in Hong Kong: female, 83, mother-in-law of engineer who contracted the disease', 'new confirmed COVID-19 patient in Hong Kong: female, 37, lives in Yau Ma Tei, daughter of 1/29-No.1 and 1/29-No.2, symptom onset 1/28/2020 (cough), hospitalized 1/30/2020, stayed with parents 1/22/2020-1/28/2020', 'new confirmed COVID-19 patient in Malaysia: male, 27, Chinese national, found to have a fever on 2/13/2020, referred to hospital 2/13', 'new confirmed imported COVID-19 pneumonia patient 01/26-No.3 in Shaanxi: male, 44, lives in Jingzhou, Hubei. symptom onset on 01/18/2020, visited Wuhan from 01/20/2020 to 01/21/2020, visited clinic on 01/24/2020, confirmed on 01/26/2020.', 'new confirmed COVID-19 patient in Germany: Rhineland-Palatinate, male, 41, infected in North Rhine-Westphalia on 2/15, admitted to hospital on 2/26, symptom onset 2/20', 'new confirmed COVID-19 patient in Japan: Nagoya City, male, 70s, fever, cough, runny nose 2/24, went to doctor 2/25', 'new confirmed COVID-19 patient in South Korea: female, 68, married to case 29, symptom onset 2/6 (cough, chill, muscle pain)', 'new confirmed COVID-19 patient in Japan: male, 80s, Nagoya, symptom onset 2/19 (fever), medical consultation 2/19, hospitalized,', 'new confirmed COVID-19 patient in Malaysia: 2/6-No.1, female, 37, tourist from Wuhan, arrived on 1/25, visited hospital 2/1 (mild fever), went to hospital 2/5', 'new confirmed COVID-19 patient in South Korea: female, 11, daughter of case 15, contact of case 15 and case 20, self-quarantine since 2/2, symptom onset 2/8', 'new confirmed COVID-19 patient in Japan: Chiba Prefecture, male, 70s, fever 2/12, on Diamond Princess and tested negative 2/14, disembarked 2/21, fever 2/21 during follow-up at health center, visited doctor 2/25 and hospitalized', 'new confirmed COVID-19 patient in Hong Kong: 2/4-No.1, male, 60, visited four private clinics before taken to hospital, no recent travel to China, lives in Kwun Tong, symptom onset 1/22/2020 (fever, myalgia, shortness of breath), first went to hospital on 1/30', 'new confirmed COVID-19 patient in Germany: female, 46, wife of case 21, NRW', 'new confirmed COVID-19 patient in Taiwan: male, 60s, symptom onset 1/27 (cough, shortness of breath), went to hospital 2/3, diagnosed with pneumonia, hospitalized 2/3, died 2/15', 'new confirmed COVID-19 patient in UAE: male, 41, 1/29-No.3 (father), arrived as tourists 1/16/2020, admitted into hospital', 'new confirmed COVID-19 patient in Japan: Hokkaido, male, 70s', 'new confirmed COVID-19 pneumonia patient in Yunnan: female, 55, Wuhan resident, arrived in Yunnan on 01/22/2020, hospitalized on 01/24/2020.', 'new confirmed COVID-19 patient in Malaysia: female, 65, mother-in-law of 2/4-No.1, exposed 1/26-1/28', 'new death from COVID-19 pneumonia, female, 65, hospitalized on 01/15/2020, death on 01/23/2020', 'new confirmed COVID-19 patient in Japan: male, in his 40s, evacuated from Wuhan 1/31/2020', 'Death from COVID-19 pneumonia in Wuhan: male, 72, symptom onset on 01/11/2020, hospitalized on 01/18/2020, death on 01/23/2020', 'new confirmed COVID-19 pneumonia patient No.16 in Tianjin: male, 78, Tianjin resident, close contact with patient No. 5, fever on 01/21/2020, visited clinic on 01/23/2020 and 01/24/2020 seperately, tested negative, fever again on 01/26/2020, visited clinic on 01/26/2020, tested positive.', 'new confirmed COVID-19 patient in Japan: female, in her 40s, living in Osaka Prefecture, tour guide on bus driven by 1/28-No.1 full of Wuhan tourists from 1/12/2020-1/17/2020, never went to Wuhan herself, symptom onset 1/20/2020 (fever), first visited medical institution 1/20/2020', 'new confirmed COVID-19 patient in Malaysia: male, 11, grandson of Singapore 1/24-No.1, treated in isolation wards in Selangor, light symptoms (dry cough), took plane from Guangzhou to Singapore on 1/20/2020.', 'new confirmed COVID-19 patient in South Korea: female, 58', 'new confirmed COVID-19 patient in Tyumen, Russia: Chinese citizens', 'new confirmed imported COVID-19 pneumonia patient in Xinjiang: male, 53, Wuhan resident, visited Kunming on 01/16/2020, symptom onset after return.', 'new COVID-19 patient confirmed in Bahrain: female, Saudi national, returning from Iran', 'new confirmed COVID-19 patient in Singapore: 35, female, family member of case 72, symptom onset 2/12, home quarantine 2/15, went to NCID 2/17', 'First confirmed imported COVID-19 pneumonia patient in Sichuan (from Wuhan): Male, 34 years old, works in Wuhan, symptoms onset on 01/11/2020 in Chengdu.', 'new confirmed COVID-19 patient in Japan: male, 70s, symptom onset 2/21 (fever, cough), visited doctor 2/22, Nagoya City', 'new confirmed COVID-19 patient in South Korea: female, 72', 'new confirmed imported COVID-19 pneumonia patient 01/27-No.6 in Shaanxi: female, 47, Xian resident, lives in Wuhan, symptom onset on 01/21/2020 in Wuhan, visited Xian, Shanxi on 01/23/2020, visit clinic on 01/23/2020, confirmed on 01/27/2020', 'new confirmed COVID-19 patient in Thailand: Thai, exposed to tourists', 'new confirmed COVID-19 patient in France: Dijon, male, elderly person returning from a trip from Egypt', 'new confirmed COVID-19 patient in Hong Kong: female, 63, symptom onset 1/26/2020 (cough, malaise), went to private doctor on 2/5/2020 and sought treatment at hospital where admitted the same day', 'new confirmed COVID-19 patient in Singapore: male, 48, symptom onset 2/3, went to clinic 2/5, 2/10', 'new confirmed COVID-19 patient in Japan: under 10 years, Saitama Prefecture, returned home with father on 2nd charter flight out of Wuhan on 1/30, negative on arrival, returned home with father 2/1, father had fever 2/8, 2/10-2/19 symptom onset (cough, fever)', 'confirmed imported COVID-19 pneumonia patient No.3 in Tianjin: female, 68, works in Wuhan, symptom onset on 01/14/2020, confirmed on 01/21/2020', 'new confirmed COVID-19 patient in Japan: male, 60s, Chiba, symptom onset 2/6 (fatigue, loss of appetite), went to check-up on 2/9, visited another medical instutition 2/19, re-examined 2/20, admitted 2/21', 'new confirmed COVID-19 patient in Hong Kong: 2/5-No.1, male, 56, tested positive at hospital in Kwai Chung, symptom onset 1/30/2020 (fever, cough, sore throat), consulted private doctor 2/1/2020, went to hospital on 2/4/2020 when admitted, worked in Shenzhen and visited onn 1/21, visited Tokyo 1/28-2/1', 'new confirmed COVID-19 patient in Philippines: female, 38, from Wuhan, arrived 1/21/2020, admitted to hospital in Manila, arrived 1/21/2020', 'new confirmed COVID-19 patient in Victoria, Australia: female, in her 20s, resident of Melbourne, recovering at home, returned from Wuhan on 1/25/2020, symptom onset 1/27/2020, seen by doctors in hospital on 1/30/2020 but assessed as well enough to stay at home', 'new confirmed COVID-19 patient in Japan: female, 50s, Hokkaido, symptom onset 2/17, went to doctor 2/19', 'new confirmed COVID-19 patient in US: male, Wuhan resident, traveling through LAX on way to China on 1/22/2020 reported feeling unwell to airport staff, taken to hospital', 'new confirmed COVID-19 patient in Hong Kong: female, 29, domestic helper of case 85, fever 2/16, consulted same private doctor 2/20 and 2/24, admitted to hospital 2/25', 'new confirmed COVID-19 patient in South Korea: female, 26, same cluster as case 31', \"new confirmed COVID-19 patient in Hong Kong: 2/10-No.1, male, 69, lives in Sai Wan Ho, symptom onset 1/30 (cough), went to doctor's on 2/7, went to hospital on 2/9 for shortness of breath and admitted for isolation\", 'new confirmed COVID-19 patient in South Korea: female, 48', 'new confirmed COVID-19 patient in Spain: Villarrealin, Castellon, recent trip to Milan, male, 31,', 'new confirmed COVID-19 patient in Japan: male, 60s, Hokkaido, symptom onset 2/3 (fever, sore throat), visited medical instutition 2/7, 2/13, 2/14, hospitalized 2/18', 'new confirmed COVID-19 patient in Thailand: Thai, driver who had driven Chinese tourists', 'new confirmed COVID-19 patient in South Korea: male, 36, attended conference in Singapore 1/18-1/23 with 2/5-No.1 where contacted Malaysian man infected with virus, self-quarantine 2/4/2020, now quarantined at medical center', 'new confirmed COVID-19 patient in Japan: Nagoya City, female, 70s, fever 2/20, hospitalized 2/21', 'new confirmed COVID-19 patient in Malaysia: female, 40, sister of 2/4-No.1, symptom onset 2/1 (fever, sore throat, cough), visited clinic', 'new confirmed COVID-19 patient in Germany: Baden-Wuerttemberg, male', 'confirmed imported COVID-19 pneumonia patient No.8 in Tianjin: male, 29, works on Tianjin high speed railroad, visited Wuhan from 01/19/2020 to 01/22/2020. and symptom onset on 01/23/2020, hospitalized on 01/24/2020, confirmed on 01/24/2020.', 'new confirmed COVID-19 patient in Singapore: male, 31, Chinese national, evacuated from Wuhan on 1/26/2020, asymptomatic on flight by symptom onset 1/28/2020, went to clinic on 1/30/2020', 'new confirmed COVID-19 patient in Spain: Valencia, male, student from Italy, currently studying in Valencia', 'new confirmed COVID-19 patient in Israel: female, returned 1/21 after being quarantined on cruise ship', 'new confirmed COVID-19 patient in Japan: male, in his 40s, Wuhan resident, arrived in Japan 1/22/2020, symptom onset 1/23/2020 (fever), hospitalized 1/24/2020, Aichi Prefecture', 'new confirmed imported COVID-19 pneumonia patient in Yunnan: male, 34, resident of Wuhan, arrived in Yunnan on 01/20/2020, visited clinic on 01/23/2020', 'new confirmed COVID-19 patient in South Korea: female, 29, same cluster as case 31', 'new confirmed COVID-19 patient in South Korea: male, 55', \"new confirmed COVID-19 patient in Taiwan: male, 40s, son of case 27, throat discomfort from 1/29-1/30 but didn't seek medical attention\", 'new confirmed imported COVID-19 pneumonia patient in Jiangxi: male, 56, visited Wuhan on 12/20/2019, return to Jiangxi on 01/09/2020, symptoms onset on 01/10/2020.', 'new confirmed COVID-19 patient in Germany: wife of a man who tested positive and worked at the company', 'new confirmed COVID-19 patient in Hong Kong: female, 67, had dinner with case 46, 48, 49 on 1/26, sister in law of case 46, symptom onset 1/31 (cough, fever, chill), went to doctors on 1/31, 2/3, 2/7, went to hospital on 2/12', 'Death from COVID-19 pneumonia in Wuhan: male, 79, symptom onset on 01/11/2020, hospitalized on 01/17/2020, death on 01/24/2020', 'new COVID-19 patient confirmed in Austria: 24, Innsbruck', 'new confirmed COVID-19 patient in Malaysia: male, 2, grandson of Singapore 1/24-No.1, treated in isolation wards in Selangor, light symptoms (dry cough), took plane from Guangzhou to Singapore on 1/20/2020.', 'new confirmed COVID-19 patient in South Korea: male, 60', 'new confirmed COVID-19 patient in Singapore: male, 41, symptom onset 2/3, went to clinics 2/3, 2/7, 2/10, 2/17, 2/21', 'Death from COVID-19 pneumonia in Wuhan: male, 82, symptom onset on 01/09/2020, hospitalized on 01/14/2020, death on 01/21/2020.', 'Second confirmed imported COVID-19 pneumonia patient in Liaoning: male, 40, works in Wuhan, visit Fushun, Liaoning on 01/12/2020, symptom onset on 01/14/2020, visit clinic in Fushun Dalian on 01/19/2020.', 'new confirmed COVID-19 patient in Thailand: male, 68, tourist visiting from Wuhan, detected with a fever on 1/19/2020', 'new confirmed imported COVID-19 pneumonia patient in Yunnan: male, 24, Works in Wuhan, returned to Yunnan on 01/21/2020, visited clinic on 01/22/2020', 'new confirmed COVID-19 patient in Singapore: male, 53, symptom onset 1/30, visited clinic 2/1, 2/3, admitted to hospital 2/6, transferred to NCID 2/8', 'new confirmed COVID-19 patient in South Korea: female, 58, Chinese, visited Korea from Wuhan for travel on 1/23', 'new confirmed imported COVID-19 pneumonia in Tianjin: male, age 58, visited fever clinic on 01/14/2020.', 'new confirmed COVID-19 patient in Japan: Kumamoto City, female, 60s, symptom onset 2/25 (fever), went to health center 2/25', 'new confirmed COVID-19 patient in Spain: female, Tenerife, traveled to Italy between 2/4-2/8', 'new confirmed COVID-19 patient in Singapore: male, 35, Wuhan resident, arrived in Singapore 1/23/2020, symptom onset 1/24/2020, hospitalized 1/24/2020, tested positive 1/27/2020, discharged 2/4/2020', 'new confirmed COVID-19 patient in Hong Kong: 1/31-No.1, male, 39, lives in Kowloon, symptom onset 1/31/2020 (myalgia, fever), hospitalized 1/31/2020 and admitted for isolation and treatment, took train from Hong Kong to Wuhan on 1/21/2020 and from Changsha to Hong Kong on 1/23/2020, died 2/4/2020', 'new confirmed COVID-19 patient in France: in contact with Briton who had been in Singapore and was positive', 'new confirmed COVID-19 patient in Singapore: male, 6 months, son of 2/4-No.1, now in isolation room in hospital', 'new confirmed COVID-19 patient in Japan: Hokkaido, female, 40s', 'new confirmed COVID-19 patient in Japan: Hokkaido, male, 40s, vomiting 2/15, cough symptoms 2/16, fever and sore throat 2/17, went to doctor 2/17 and 2/18, consulted second and third doctors 2/24', 'new confirmed COVID-19 patient in Singapore: 57, female, linked to cluster at Grace Assembly of God, symptom onset 2/9, went to clinics 2/10 and 2/17, went to NCID 2/17', 'new confirmed COVID-19 patient in US: California, evacuated from Wuhan 2/7', 'new confirmed COVID-19 patient in Kerala, India: student who returned from Wuhan last month, in hospital', 'Death from COVID-19 pneumonia in Wuhan: male, 66, hospitalized on 01/11/2020, death on 01/21/2020', 'new confirmed COVID-19 patient in Hong Kong: female, 21, passengers of DP cruise 1/25-2/22, returned to HK by flight 2/23, went to hospital 2/25, fever 2/12', 'new confirmed COVID-19 pneumonia patient in Jilin: male, Jilin resident, stopped in Wuhan on 01/19/2020 (connection flight), symptom onset on 01/25/2020, visited hospital on 01/25/2020', 'new confirmed COVID-19 patient in Malaysia: female, 49, hospitalized in Johor, married to 1/29-No.1', 'new confirmed COVID-19 patient in Singapore: 40, male, non-medical contact of case 59, symptom onset 2/10, treatment at clinic 2/11 and 2/13, sent to NCID 2/14', 'new confirmed COVID-19 patient in Japan: male, 60s, symptoms (fatigue, difficulty breathing), went to party 1/18, from Tokyo', 'new confirmed COVID-19 patient in Japan: male, 50s, Ishikawa, symptom onset 2/16 (fever), went to medical institution 2/16, again on 2/17, 2/19, 2/20', 'new confirmed COVID-19 patient in Singapore: male, 25, contact of case 66 and 70, symptom onset 2/1, went to clinic 2/10, went to hospital 2/13, NCID 2/15', 'new recovered COVID-19 pneumonia patient in Shandong, male, 37, resident of Wuhan, works in Qingdao, Shandong, symptom onset on 01/17/2020, hospitalized on 01/17/2020, recovered on 01/21/2020.', 'new confirmed COVID-19 patient in Germany: Hesse, male, 31, returned from a trip to Lombardy', 'new confirmed COVID-19 patient in South Korea: female, 30, chinese, acquaintance of 3rd case', 'new confirmed COVID-19 patient in Hong Kong: female, 32, worked for case 52, symptom onset 2/2 (fever, cough)', 'new confirmed COVID-19 patient in Iran: Qom', 'new confirmed imported COVID-19 pneumonia patient 01/23-No.2 in Shanxi: female, 32, resident of Xian, Shanxi, visited Wuhan from 01/12/2020 to 01/14/2020, returned to Xian, Shanxi on 01/14/2020, symptom onset on 01/16/2020, visited clinic on 01/20/2020.', 'new confirmed COVID-19 patient in Japan: male, 70s, lives in Tokyo, symptom onset 1/29 (fever), went to medical instution 1/29, returned 2/3, went to other medical instutition 2/6 and hospitalized', 'First confirmed imported cases in Zhejiang: patient is male, 46, lives in Wuhan, self-driving from Wuhan to Hangzhou on 01/03/2020, symptom onset 01/04/2020, hospitalized on 01/17/2020, sample deliver to China CDC for testing on 01/20/2020, test positive on 01/21/2020.', 'new confirmed COVID-19 patient in UAE: Indian national who had been in contact with another case', 'new confirmed COVID-19 patient in Taiwan: 2/7-No.1, male, in his 50s, traveled to Italy 1/22, returned 2/1, fever on arrival, went to see doctor 2/1, went again on 2/4', 'new confirmed COVID-19 patient in Japan: Hokkaido, female, 20s', 'new confirmed COVID-19 patient in Germany: Baden-Wuerttemberg, female, attended business meeting in Munich where they had contact with an Italian participant who tested positive in Italy', 'new confirmed COVID-19 patient in Malaysia: female, 65, wife of Singapore 1/24-No.1, treated in isolation wards in Selangor, light symptoms (dry cough), took plane from Guangzhou to Singapore on 1/20/2020.', 'new confirmed imported COVID-19 pneumonia patient 01/27-No.4 in Shaanxi: female, 40, wife of patient 01/27-No.3, resident of Hanzhong, Wuhan, visited Wuhan from 01/13/2020 to 01/17/2020, symptom onset on 01/18/2020, visit clinic on 01/22/2020, confirmed on 01/27/2020', 'new confirmed COVID-19 patient in France: Brest, male, 72, returning from cruise in Egypt', 'new confirmed COVID-19 patient in Germany: male, 32, Baden-Wurttemberg, returned on 2/23 from Codogno, Italy', 'new confirmed COVID-19 patient in Japan: female, in her 20s, tour guide, no symptoms, on a bus driven by 1/28-No.1, lives in Chiba Prefecture, symptom onset 1/20/2020 (cough, runny nose), went to medical instution on 1/29/2020, joined tour on 1/17-1/22 as bus guide', 'new confirmed COVID-19 patient in South Korea: male, 36', 'new confirmed COVID-19 patient in Spain: Madrid, admitted to hospital 2/28, 66', 'new confirmed imported COVID-19 pneumonia patient 01/27-No.10 in Shaanxi: female, 41, return from Wuhan on 01/18/2020, lives in Xian, symptom onset on 01/22/2020, visited clinic on 01/22/2020, confirmed on 01/27/2020.', 'new confirmed COVID-19 patient in Japan: Hokkaido, male, 30s', 'new confirmed COVID-19 patient in NSW, Australia: male, 35, arrived in Sydney from Shenzhen on 1/6/2020, symptom onset 1/15/2020, did not visit Wuhan but had contact with a person from Wuhan diagnosed with the coronavirus', 'new COVID-19 patient confirmed in Austria: 24, Innsbruck, from Lombardy', 'new confirmed COVID-19 patient in Singapore: female, 44, symptom onset 2/9, clinic on 2/9, went to hospital on 2/12', 'new confirmed COVID-19 patient in Singapore: female, 61, family member of case 50 and case 55, sent to NCID on 2/12', 'new confirmed COVID-19 patient in South Korea: female, 30', 'new confirmed COVID-19 patient in Japan: male, 20s, symptom onset 2/7 (fever), Tokyo', 'new confirmed COVID-19 patient in Vietnam: male, 28, son of 1/23-No.1, symptom onset 1/20/2020 (fever), contracted from father', 'new confirmed imported COVID-19 pneumonia patient in Beijing: female, 18, visited Wuhan on 01/12/2020, return to Beijing on 01/17/2020, symptoms onset on 01/19/2020, hospitalized on 01/20/2020.', 'new confirmed COVID-19 patient in Japan: female, 20s, Kumamoto city, symptom onset 2/17 (cough, fever, headache, nausea, vomiting, diarrhea), visited doctor 2/18, another doctor 2/19', 'new confirmed COVID-19 patient in France: Lille, male, contact of case 15', 'new confirmed COVID-19 patient in Thailand: Chinese tourist', 'new recovered COVID-19 pneumonia patient in Hubei, Huanggang: female, 28, HCW, symptom onset on 01/07/2020, hospitalized on 01/10/2020, recovered on 01/23/2020.', 'new confirmed imported COVID-19 pneumonia patient in Beijing: male, 39, visited Wuhan on 01/03/2020, return to Beijing on 01/04/2020, symptoms onset on 01/09/2020, hospitalized on 01/14/2020.', 'new confirmed COVID-19 patient in Vietnam: male, 66, 1/23-No.1, arrived from Wuhan on 1/13/2020, symptom onset 1/17/2020 (fever), hospitalized 1/17/2020', 'new confirmed COVID-19 patient in Taiwan: female, 70, Wuhan resident, arrived in Taiwan 1/22/2020, symptom onset 1/25/2020 (fever), hospitalized 1/25/2020, confirmed 1/28/2020', 'new confirmed COVID-19 patient in Vancouver, Canada: male, 40s, close contact of case 9', 'new confirmed COVID-19 patient in Kuwait: returned from Iran', 'new confirmed COVID-19 patient in Japan: male, 80s, Hokkaido, symptom onset 2/3 (difficulty breathing), hospitalized 2/3', 'new confirmed COVID-19 patient in US: California, evacuated from Wuhan', 'new confirmed COVID-19 patient in UK: male, first transmission in UK', 'new confirmed COVID-19 patient in Japan: male, 70s, lives in Sagamihara City, admitted to medical instutution 2/10, surgery 2/12, symptom onset 2/14 (fever, cough), infection found in same room 2/18', 'new confirmed COVID-19 patient in Japan: male, 80s, Sagamihara City, admitted to medical institution 1/27, symptoms relieved and discharged 2/5, symptom onset 2/18, transported 2/19', 'new confirmed COVID-19 patient in Singapore: 26, male, linked to cluster at Seletar Aerospace Heights construction site, close contact of cases 42, 47, 52, 56, quarantined from 2/11, symptom onset 2/11, went to NCID 2/14', 'new confirmed COVID-19 patient in Vietnam: Hanoi, recently returned from Wuhan', 'new confirmed COVID-19 patient in Japan: male, 70s, lives in Tokyo, symptom onset 1/20 (fever, loss of appetite), visited doctor on 1/21, home medical treatment 1/22-1/26, symptoms worsened 1/27, contacted tourist from Wuhan on 1/15', 'new confirmed COVID-19 patient in Singapore: male, 24, linked to case 82, symptom onset 2/14, went to clinics 2/16, 2/18, hospital on 2/19', 'new confirmed COVID-19 patient in UAE: Bahraini, traveled from Iran', 'new confirmed COVID-19 patient in Hong Kong: female, 86, mother-in-law of 2/10-No.1, symptom onset 1/28, transferred to hospital 2/9', 'new confirmed COVID-19 patient in US: female, recently traveled to Wuhan from Santa Clara County on 1/23/2020, never sick enough to be hospitalized', 'new confirmed COVID-19 patient in Japan: Hokkaido, male, 20s', 'Second confirmed imported COVID-19 pneumonia patient in Guangxi: male, 46, in contact with individuals from Wuhan before symptom onset. symptom onset on 01/20/2020.', 'new confirmed COVID-19 patient in South Korea: female, 40, married to 2/1-No.1, admitted to Seoul hospital', 'new confirmed COVID-19 patient in Hong Kong: female, 38, symptom onset 2/10 (fever, cough), went to doctor on 2/10, again on 2/14 and went to hospital and admitted on 2/19', 'new confirmed COVID-19 patient in Singapore: female, 56, linked to cluster at Grace Assembly of God, family member of case 61, symptom onset 2/9, sent to NCID on 2/13', 'new confirmed COVID-19 patient in Hong Kong: female, 80, symptom onset 2/8 (sore throat, cough), went to hospital 2/22 and admitted', 'new confirmed COVID-19 patient in South Korea: female, 52, Korean, confirmed on 1/31/2020, related to sixth patient 1/30-No.2, symptom onset on 1/29/2020 (headache)', 'new confirmed COVID-19 patient in Vietnam: 16, Vietnamese national from Vinh Phuc', 'new confirmed COVID-19 patient in Hong Kong: 1/29-No.1, married to 1/29-No.2, female, 73, live in Wuhan, arrived by flight 1/22/2020, admitted to hospital 1/28/2020', 'new confirmed COVID-19 patient in Japan: female, 80s, lives in Kanagawa, symptom onset 1/22 (fatigue), visited doctor 1/28, died 2/13', 'new confirmed COVID-19 patient in France: Dijon, contact of case 15', 'new confirmed COVID-19 patient in Singapore: male, 30, linked to cluster at Aerospace Heights construction site, close contact of case 47, symptom onset 2/12', 'new confirmed imported COVID-19 pneumonia patient in Beijing: male, 37, visited Wuhan on 01/10/2020, return to Beijing on 01/11/2020, symptoms onset on 01/14/2020, hospitalized on 01/20/2020.', 'new confirmed COVID-19 patient in NSW, Australia: male, 53, arrived in Sydney from Wuhan on 1/20/2020, symptom onset 1/20/2020', 'new confirmed COVID-19 patient in Japan: Nagoya, female, 60s, fever and went to doctor 2/26', 'new confirmed COVID-19 patient in South Korea: female, 57, linked with Shincheonji religious sect, died 2/23', 'new death from COVID-19 pneumonia, female, 69, symptom onset on 01/14/2020, hospitalized on 01/20/2020, death on 01/22/2020', 'new confirmed COVID-19 patient in Vancouver, Canada: female, 50s', 'new confirmed COVID-19 patient in London, UK: infected by coming into contact with known carrier in France', 'new confirmed COVID-19 patient in South Korea: male, 77, symptom onset 2/11 (cough)', 'new confirmed COVID-19 patient in Taiwan: male, 80s, father of case 28', 'new confirmed COVID-19 patient in Japan: male, 80s, Sagamihara, hospitalized 1/11, symptom onset 2/14 (fever)', 'new confirmed COVID-19 patient in Thailand: Thai, just returned from Japan, married to 2/5-No.1', 'new confirmed COVID-19 patient in Spain: Tenerife, accompanied case 3 and 4', 'new confirmed COVID-19 patient in UAE: Italian participant in UAE Tour', 'new confirmed COVID-19 patient in UK: contracted in Italy, lives in Wales, female', 'new confirmed COVID-19 patient in Taiwan: male, grandson of case 27 and son of case 28, visited case 27 in hospital 2/11 and 2/19', 'new confirmed COVID-19 patient in Japan: male, 60s, Hokkaido, symptom onset 2/10 (fever), went to doctor 2/10, fever 2/17, went to another doctor 2/19', 'First confirmed imported COVID-19 pneumonia patient in Inner Mongolia: male, 30, Wuhan resident, arrived in Inner Mongolia from Wuhan on 01/21/2020, hospitalized on 01/20/2020.', 'new COVID-19 patient confirmed in Afghanistan: 35, recently returned from Qom', 'new confirmed COVID-19 patient in Hong Kong: male, 39, tourist from Wuhan, arrived 1/21/2020 via high-speed rail from Shenzhen and detected having fever at the border, quarantined 1/22/2020 at hospital', 'new confirmed COVID-19 patient in Germany: NRW', 'new confirmed COVID-19 patient in UAE: female, 73, 1/29-No.1 (grandmother), arrived as tourists 1/16/2020, symptom onset 1/23/2020, sought medical help', 'new confirmed imported COVID-19 pneumonia patient in Yunnan: female, 34, Wuhan resident, visited Lijiang, Yunnan on 01/20/2020, hospitalized on 01/23/2020.', 'new confirmed COVID-19 patient in Taiwan: male, in his 40s, went to Wuhan for work in December 2019 and left for Liaoning China on 1/17, returned to Taiwan on 2/2, symptom onset 2/3 (fever, cough, headache), hospitalized on 2/4/2020', 'new confirmed imported COVID-19 pneumonia patient 01/25-No.2 in Shaanxi: male, 28, works in Wuhan, visited Shanxi from Wuhan on 01/20/2020, symptom onset on 01/21/2020, visited clinic on 01/23/2020, confirmed on 01/25/2020', 'new confirmed COVID-19 patient in South Korea:', 'new confirmed COVID-19 patient in Rome, Italy: male, 30s, Italian national, evacuated from Wuhan 2/3', 'new confirmed COVID-19 patient in London, UK: male, part of group skiing with 2/6-No.1 from 1/24-1/28', 'new confirmed COVID-19 patient in Taiwan: female, 55, works in Wuhan, arrived in Taiwan 1/20/2020, symptomatic (fever, cough, shortness of breath) on arrival, symptom onset 1/11/2020, confirmed 1/21/2020', 'new confirmed COVID-19 patient in Vietnam: 49, Vietnamese national from Vinh Phuc', 'new confirmed COVID-19 patient in Thailand: female, 73, Thai citizen, visited Wuhan late 2019, arrived in Thailand 1/13/2020, quarantined on arrival with a fever, returned home to China 1/21/2020', 'new confirmed COVID-19 patient in South Australia: female, 60, from Wuhan, now hospitalized, arrived on 1/21/2020', 'new confirmed COVID-19 patient in Hong Kong: male, 68, symptom onset 2/12 (cough), went to doctor on 2/18, admitted to hospital', 'new death from COVID-19 pneumonia, female, 70, symptom onset on 01/15/2020, hospitalized on 01/18/2020, death on 01/22/2020', 'new confirmed COVID-19 patient in Germany: Baden-Wuerttemberg, male, 32, was in Milan on 2/21, symptom onset 2/23', 'new confirmed COVID-19 patient in Japan: Nagoya City, male, 70s, fever, cough, malaise 2/23, went to doctor 2/25', 'Death from COVID-19 pneumonia in Wuhan: male, 81, symptom onset on 01/15/2020, hospitalized on 01/18/2020, death on 01/22/2020.', 'new confirmed COVID-19 patient in France: Nantes, female, 58, doctor of case 15, hospitalized during journey that she spent in La Baule-Escoublac', 'new confirmed COVID-19 patient in Japan: male, in his 40s, Wuhan resident, developed pneumonia and in hospital in Aichi, arrived 1/20/2020, symptom onset 1/22/2020 (fever), visited medical institution in Aichi Prefecture on 1/26/2020', 'new confirmed imported COVID-19 pneumonia patient (medical doctor No.2) in Beijing: male, traveled to Wuhan from 01/10/2020 to 01/11/2020, symptom onset on 01/14/2020, visited clinic on 01/20/2020, confirmed on 01/21/2020', 'new confirmed COVID-19 patient in Singapore: male, 37, son of 1/24-No.1, suspected case 1/23/2020, Wuhan resident, arrived in Singapore 1/20/2020, confirmed 1/24/2020, in isolation.', 'new confirmed COVID-19 patient in South Korea: female, 61', 'new confirmed COVID-19 pneumonia in Tianjin, male, 46.', 'new confirmed COVID-19 patient in Thailand: male, 8', 'new confirmed COVID-19 patient in Victoria, Australia: male, in his 60s, unwell on 1/23/2020, travelled to Wuhan, returned from China 1/21/2020', 'new confirmed COVID-19 patient in UAE: male, 37', 'new confirmed COVID-19 patient in Germany: 1/28-No.1 male, 33, caught from Chinese colleague during conference in Munich from 1/20-1/21, first human-to-human transmission in Europe, confirmed 1/27/2020, isolated, contracted 1/21/2020, symptom onset on 1/24/2020 (sore throat, chills, myalgias, fever, cough)', 'new confirmed COVID-19 patient in Toronto, Canada: female, in her 20s, arrived on 1/23/2020 from Wuhan, went to hospital on 1/24/2020 but tested negative, symptom onset 1/24/2020', 'new confirmed COVID-19 patient in Hong Kong: male, 69, symptom onset 2/8 (cough, ,shortness of breath), went to doctor between 2/8-2/13, went to clinic on 2/15 and 2/16', 'new confirmed COVID-19 patient in Toronto, Canada: female, 60s, travel history to Iran, went to hospital on 2/24', 'new confirmed COVID-19 patient in Singapore: female, 53, Wuhan resident, arrived in Singapore 1/21/2020, symptom onset 1/21/2020 (fever, cough, chills), hospitalized 1/22/2020, confirmed 1/23/2020.', 'new confirmed COVID-19 patient in UAE: Chinese, traveled from Iran', 'new confirmed imported COVID-19 pneumonia patient 01/23-No.1 in Shanxi: male, 42, lives in Xianyang, Shanxi, visited Wuhan from 01/12/2020 to 01/15/2020, returned to Xian, Shanxi on 01/15/2020, symptom onset on 01/20/2020, visited clinic on 01/21/2020', 'Death from COVID-19 pneumonia in Wuhan: male, 69, symptom onset on 12/30/2020, hospitalized on 01/03/2020, death on 01/15/2020.', 'new confirmed COVID-19 patient in Spain: Andalusia, male, 55, recently traveled to Emilia-Romagna', 'new confirmed COVID-19 patient in Toronto, Canada: female, in her 50s, has been in self-isolation at home since husband confirmed, arrived on 1/22/2020 after visiting Wuhan', 'new confirmed COVID-19 patient in Japan: female, 60s, returned home after disembarking from Diamond Princess 2/19, symptom onset 2/21 (fever), visited center 2/22, Tochigi prefecture', 'new confirmed COVID-19 patient in Singapore: male, 34, in Malaysia on 1/26, symptom onset 2/1, went to clinic on 2/2, 2/4, 2/7, 2/9, 2/10, went to NCID 2/10', 'new confirmed COVID-19 patient in South Korea: female, 38', 'new confirmed COVID-19 patient in Vancouver, Canada: male, in his 40s, home isolation and not hospitalized, was in Wuhan for work, returned to Vancouver last week, onset of symptoms after return, contacted primary care physician 1/26/2020', 'new COVID-19 patient confirmed in Bahrain: female, returning from Iran', 'Death from COVID-19 pneumonia in Wuhan: male, 61, symptom onset on 12/20/2019, hospitalized on 12/27/2019, death on 01/09/2020.', 'new confirmed COVID-19 patient in Singapore: female, 47, Singaporean, evacuated from Wuhan on 1/30/2020, found to have a fever on arrival at Changi airport, tested positive 1/31/2020, now in isolation', 'new confirmed COVID-19 patient in UAE: Filipino national', 'new confirmed COVID-19 patient in Rome, Italy: female, married to 1/31-No.1, Chinese tourist, arrived in Milan over a week ago', 'new confirmed COVID-19 patient in South Korea: male, 76', 'Death from COVID-19 pneumonia in Wuhan: female, 76, symptom onset on 01/08/2020, death on 01/24/2020', 'new confirmed imported COVID-19 pneumonia patient 01/26-No.6 in Shaanxi: female, 32, Xian, Shanxi resident. visited Hangzhou from 01/12/2020 to 01/14/2020, have contact with patient from Wuhan while in Hangzhou, returned to Xihan on 01/14/2020, symptom onset on 01/17/2020, visited clinic on 01/22/2020, confirmed on 01/26/2020.', 'new confirmed COVID-19 patient in Singapore: female, 51, linked to cluster at Grace Assembly of God, symptom onset 2/8, clinic on 2/8, went to NCID on 2/12', 'new confirmed imported COVID-19 pneumonia patient 01/23-No.3 in Shanxi: male, 22, resident of Xian, Shanxi, visited Wuhan from 01/15/2020 to 01/17/2020, returned to Xian, Shanxi on 01/17/2020, symptom onset on 01/20/2020, visited clinic on 01/21/2020.', 'new confirmed imported COVID-19 pneumonia patient in Wuhan: female, 49, returned to Guangxi from Wuhan on 01/15/2020, symptom onset on 01/21/2020, hospitalized on 01/22/2020.', 'new confirmed imported COVID-19 pneumonia patient 01/26-No.7 in Shaanxi: male, 33, Xian, Shanxi resident. close contact with 01/23-No.2 symptom onset during quarantine, confirmed on 01/26/2020', 'new confirmed COVID-19 patient in Japan: female, 60s, went to Hawaii 1/28-2/7, symptom onset 2/13 (fever, headache), went to medical instutition 2/14, lives in Aichi Prefecture, contact of case 35 and 44', 'new confirmed COVID-19 patient in Taiwan: 1/27-No.1, female, 50, arrived in Taiwan 1/25/2020, reported condition to airport officers and immediately hospitalized, visited Wuhan 1/13/2020-1/15/2020, symptom onset 1/22/2020 (no fever, mild symptoms of pneumonia, cough), confirmed 1/26/2020', 'new confirmed COVID-19 patient in Singapore: male, 39, symptom onset 2/1, clinic 2/3, hospital 2/5', 'new confirmed COVID-19 patient in Hong Kong: male, 66, symptom onset 1/31 (sore throat, chills, cough, fever), went to doctors on 2/1 and 2/10, went to hospital 2/10', 'new confirmed COVID-19 patient in Alappuzha, India: student from Wuhan, returned to Kerala on 1/24/2020, now in hospital', 'Death from COVID-19 pneumonia in Wuhan: male, 58, symptom onset on 12/23/2019, hospitalized on 01/01/2020, death on 01/23/2020', 'new confirmed COVID-19 patient in Japan: male, 60s, lives in Aichi Prefecture, symptom onset 2/17 (fever, malaise), consulted medical instutition 2/17, contact of case 44', 'new confirmed COVID-19 patient in Hong Kong: male, 70, lives in Ngau Chi Wan, cough, chills, shortness of breath 1/30, diarrhea since 2/1, went to doctors 2/1-2/7, attended hospital on 2/8 for chills and shortness of breath', 'Death from COVID-19 pneumonia in Wuhan: male, 53, symptom onset on early January, hospitalized on 01/13/2020, death on 01/21/2020.', 'new confirmed COVID-19 patient in US: California, first case of community transmission, went to medical center 2/19, arrived from another hospital', 'new confirmed COVID-19 patient in Singapore: female, 27, family member of case 66, symptom onset 2/3, treatment at clinic 2/3, NCID 2/14', 'new confirmed COVID-19 patient in Taiwan: female, 30s, caregivers who cared for case 27 in the hospital from 2/11-2/16', 'new confirmed COVID-19 patient in Zabaikalsky, Russia: Chinese citizens', 'new confirmed COVID-19 patient in Iran: Tehran', 'new confirmed COVID-19 patient in US: Texas, returned from Wuhan 2/7', 'new confirmed COVID-19 patient in Hong Kong: male, 75, living in Tsing Yi, symptom onset 1/22/2020 (cough, shortness of breath), hospitalized 1/24/2020, visited Guangdong 12/30/2019-1/7/2020, day trips to Macau 1/10/2020-1/14/2020', 'new confirmed COVID-19 patient in Taiwan: male, 50s', 'new confirmed COVID-19 patient in US: male, in his 20s, University of Massachusetts student who recently traveled from Wuhan, returned on 1/29/2020, sought medical care afterwards, quarantined at his home', 'new confirmed imported COVID-19 pneumonia patient in Xinjiang: male, 52, works in Wuhan, returned to Xinjiang on 01/19/2020, symptom onset around return, tested positive on 01/23/2020.', 'new confirmed COVID-19 patient in Lebanon: female, 45, arrived from Qom, Iran 1/20', 'new confirmed imported COVID-19 pneumonia patient in Hunan: female, 66, symptom onset on 01/17/2020, hospitalized on 01/21/2020, prior exposure to Wuhan.', 'new confirmed COVID-19 patient in Thailand: male, 29, taxi driver', 'new confirmed COVID-19 patient in Japan: Chiba Prefecture, male, 60s, fever 2/22, went to doctor 2/24, hospitalized 2/25, passenger on cruise ship diamond princess, tested negative 2/16, disembarked 2/20', 'new confirmed COVID-19 patient in Thailand: female, returned from Hokkaido, contacted case 40 (grandson)', 'new confirmed COVID-19 patient in Hong Kong: male, 48, symptom onset 2/18 (fever, cough), went to health center 2/19', 'new confirmed COVID-19 patient in South Korea: female, 61, same cluster as case 31', 'new confirmed COVID-19 patient in Hong Kong: female, 55, sister of case 76, symptom onset 2/17 (cough), went to hospital and admitted 2/24', 'new confirmed COVID-19 patient in Hong Kong: female, 70, cough with sputum 2/13, went to doctor 2/13, 2/23, admitted to hospital 2/26', 'new confirmed COVID-19 patient in Hong Kong: female, 60, symptom onset 2/12 (cough), went to doctor several times, admitted to hospital on 2/24', 'new confirmed COVID-19 patient in Hong Kong: male, 80, husband of case 74, fever and cough 2/25 and admitted to hospital 2/25', 'new confirmed imported COVID-19 pneumonia patient 01/25-No.6 in Shaanxi: female, 9, daughter of patient 01/25-No.4 and 01/25-No.5, Wuhan resident, arrived in Shanxi on 01/20/2020, symptom onset on 01/21/2020, confirmed on 01/25/2020', 'new confirmed COVID-19 patient in Japan: female, in her 20s, Chinese student who lives in Kyoto, arrived in Japan 1/22/2020 from Wuhan, hospitalized 1/28/2020 (fever), stayed in Wuhan 1/16-1/22 and contacted person with cough on 1/17-1/18, symptom onset 1/23/2020 (cough, fever)', 'new confirmed COVID-19 patient in Singapore: male, 26, symptom onset 2/11, NCID on 2/11', 'new confirmed COVID-19 patient in Thailand: female, 35, contacted patient', 'confirmed imported COVID-19 pneumonia patient No.5 in Tianjin: male, 46, works on Tianjin high speed railroad, symptom onset on 01/15/2020, visit clinic on 01/17/2020, confirmed on 01/23/2020', 'Death from COVID-19 pneumonia in Wuhan: male, 66, coughing on 12/22/2019, hospitalized on 12/31/2019, death on 01/21/2020.', 'new confirmed COVID-19 patient in Rome, Italy: male, Chinese tourist, arrived in Milan over a week ago', 'new confirmed imported COVID-19 pneumonia patient in Beijing: male, 45, visited Wuhan on 01/11/2020, returned to Beijing on 01/14/2020, symptom onset on 01/19/2020, visit clinic on 01/21/2020.', 'new confirmed COVID-19 patient in Kuwait: female, returned from Iran', 'new confirmed COVID-19 patient in Japan: male, 40s, Sapporo, symptom onset 2/8 (fatigue, muscle pain, joint pain, fever), visited medical instutition 2/13, 2/15, 2/17, admitted 2/19', 'Death from COVID-19 pneumonia in Wuhan: male, 78, symptom onset on 01/13/2020, hospitalized on 01/23/2020, death on 01/24/2020', 'First confirmed imported COVID-19 pneumonia patient in Guangxi: female, 66, lives in Wuhan. arrived in Beihai, Guangxi on 01/16/2020, and visited clinic on 01/17/2020 due to symptoms.', 'new confirmed COVID-19 patient in South Korea: 1/27-No.1, male, 55, visited Wuhan, arrived in Korea on 1/20/2020, treated at clinic on 1/21/2020 for cold symptoms, symptom onset 1/25/2020 (high fever, aching muscles).', 'new confirmed COVID-19 patient in Taiwan: female, 40s, daughter of case 24, went to doctor 2/3 and 2/6 due to reflux', 'new confirmed COVID-19 patient in Germany: male, worked at same company', 'new confirmed COVID-19 patient in Spain: Barcelona, male, 22, recently spent time in northern Italy, went to hospital 2/25 with sore throat and fever', 'new confirmed COVID-19 patient in Japan: male, 40s, Hokkaido,', 'new confirmed COVID-19 patient in Japan: male, 50s, lives in Wakayama Prefecture, symptom onset 2/4 (fever), went to doctor 2/6, hospitalized 2/14, worked at medical instution where case 29 worked', 'new confirmed COVID-19 patient in Japan: Hokkaido, male, 60s, fever, malaise, sore throat 2/22, went to doctor 2/22 and 2/25,', 'new confirmed COVID-19 patient in Japan: male, 60s, symptom onset 2/20 (fever), went to doctor 2/21, Nagoya City', 'new confirmed COVID-19 patient in Spain: Valencia, male, sportswriter who watched game in Milan on 2/19', 'new confirmed COVID-19 patient in Spain: male, German tourist diagnosed on La Gomera in Canary islands, came into contact with a man diagnosed in Germany, recovering in hospital,', 'new confirmed COVID-19 patient in South Korea: male, 28', 'new confirmed COVID-19 patient in Queensland, Australia: female, 42, Chinese national from Wuhan, member of tour group travelling with 1/29-No.1 confirmed with virus, flew into country 1/27/2020', 'new COVID-19 patient confirmed in Bahrain: male, returning from Iran', 'new confirmed COVID-19 patient in UK: Northern Ireland, recently traveled to northern Italy and Dublin', 'new confirmed imported COVID-19 pneumonia patient 01/27-No.9 in Shaanxi: male, 39, return from Wuhan on 01/22/2020, lives in Xian, symptom onset on 01/23/2020, visited clinic on 01/23/2020, confirmed on 01/27/2020.', 'new confirmed COVID-19 patient in Hong Kong: female, 41, attended family dinner on 1/26 that five others confirmed were at', 'new confirmed COVID-19 patient in South Korea: male, 49', 'new confirmed COVID-19 patient in Hong Kong: male, 71, symptom onset 2/5 (fever, cough, shortness of breath), went to hospital on 2/10', 'new confirmed COVID-19 patient in Hong Kong: male, 37, son of 2/10-No.2, symptom onset 1/30 (fever, cough), went to doctor 1/30, 2/3, 2/5', 'new confirmed COVID-19 patient in Japan: female, 50s, Hokkaido, symptom onset 2/13 (sore throat), cough and fever 2/15, went to doctor 2/15, again 2/17, another doctor 2/20, a third doctor 2/21', 'new confirmed COVID-19 patient in Hong Kong: female, 28, daughter of 2/4-No.1, sent to hospital in Kwun Tong 2/4/2020, symptom onset 1/30 (cough, sore throat, fever)', 'new confirmed COVID-19 patient in Bordeaux, France: 1/25-No.1, male, 48, French citizen of Chinese origin, visited Wuhan as part of business trip, took plane from Wuhan to Netherlands to France on 1/22/2020, symptom onset on 1/23/2020, went to clinic 1/23/2020, confirmed 1/24/2020. report date 1/25/2020.', 'new confirmed COVID-19 patient in Taiwan: female, in her 50s, arrived in Taiwan 1/21/2020, came from tour in Wuhan, hospitalized due to fever 1/23/2020', 'new confirmed COVID-19 patient in Japan: Hokkaido, female, 40s, cough and sore throat 2/24, close contact with another patient in Hokkaido', 'new confirmed COVID-19 patient in Malaysia: male, 63, Chinese national from Wuhan, been in Malaysia since 1/18, symptom onset 1/23 (fever), went to hospital, still fever on 2/2, admitted into hospital', 'new confirmed COVID-19 patient in Thailand: male, Chinese tourist, screened for high fever on 1/19/2020', 'new confirmed COVID-19 patient in Malaysia: male, 9, flown back from Wuhan on 2/4, now in hospital', 'new confirmed COVID-19 patient in South Korea: female, 41, related to 2/2-No.1, in hospital', 'new confirmed COVID-19 patient in Taiwan: male, in his 50s, evacuated from Wuhan on 2/4, hospitalized', 'new confirmed COVID-19 patient in Hong Kong: male, 42, lives in Fo Tan, developed fever and cough 2/3, went to hospital on 2/3, went to international airport from hong kong on 1/22 for flight to Hebei, returned from Hebei to Guangzhou 1/26, visited Macao 1/26, returned to HK 2/2', 'new confirmed COVID-19 patient in Singapore: male, 56, married to 1/29-No.1, arrived in Singapore 1/19/2020, warded in isolation rooms, symptom onset 1/24/2020, went to hospital 1/27/2020, confirmed 1/29/2020, church cluster', 'new recovered COVID-19 pneumonia patient in Hubei, Huanggang: female, 51, hospitalized on 01/11/2020, recovered on 01/22/2020.', 'new confirmed COVID-19 patient in Japan: male, 70s, Hokkaido, symptom onset 2/16 (fever, cough, malaise), fever 2/17, fever 2/19, went to doctor 2/20', 'new confirmed imported COVID-19 pneumonia patient in Beijing: male, 56, visited Wuhan on 01/08/2020, return to Beijing on 01/16/2020, symptoms onset on 01/16/2020, hospitalized on 01/20/2020.', 'new confirmed COVID-19 patient in Hong Kong: male, 75, married to case 63, symptom onset 1/25 (cough, shortness of breath), went to two doctors from 1/31-2/7, transferred to hospital on 2/18, made several day trips to Guangdong from 1/12-1/25', 'new confirmed COVID-19 patient in Hong Kong: male, 24, son of case 83, asymptomatic', 'new COVID-19 patient confirmed in Algeria: male, Italian who arrived in the country on 2/17', 'new confirmed COVID-19 patient in Japan: male, 60s, lives in Aichi Prefecture, contact with case 44 and case 53', 'new confirmed COVID-19 patient in South Korea: male, 67, died 2/24, Cheongdo Daenam hospital cluster', 'new confirmed COVID-19 patient in Thailand: Thai, evacuated on 2/4 from Wuhan', 'new confirmed COVID-19 patient in Germany: contact of cases 21 and 22, NRW', 'new confirmed COVID-19 patient in Japan: male, 40s, symptom onset 2/12 (joint pain, muscle pain), business trip to Hiroshima 2/12, business trip to Gifu 2/13, cough and malaise 2/14, returned home from Gifu 2/14, worked in Tokyo 2/17-2/18, fever 2/18, visited doctor 2/18, re-examined 2/19, visited another hospital and hospitalized 2/21, Chiba', 'first confirmed human-to-human COVID-19 patient in Thailand: male, 50, taxi driver infected by traveller, no history of travel to China, discharged 2/5/2020, symptom onset 1/20 (fever, cough, myalgia), went to local pharmacy 1/20, visited clinic 1/23, hospital at 1/28', 'new confirmed COVID-19 pneumonia patient in Guizhou: male, Guizhou resident, 34, travel history to Wuhan', 'new confirmed COVID-19 patient in Hong Kong: female, 70, symptom onset 2/12 (cough), went to doctor on 2/18, admitted to hospital, married to case 64', 'new confirmed COVID-19 patient in Singapore: Singaporeans, evacuated from Wuhan 1/30/2020, no symptoms on boarding, tested positive 2/3/2020 despite having no symptoms', 'First confirmed imported COVID-19 pneumonia patient in Hebei: male, 72, Wuhan resident. visited relative in Shijiazhuang, Hebei on 01/18/2020, symptom onset on 01/19/2020 and hospitalized, 6 contacts traced.', 'new confirmed COVID-19 patient in Japan: Nagoya City, female, 40s, fever and runny nose 2/23, went to doctor 2/23', 'Death from COVID-19 pneumonia in Wuhan: female, 82, hospitalized on 01/06/2020, death on 01/22/2020.', 'new confirmed COVID-19 patient in York, UK: Chinese national, taken to infirmary, related to 1/31-No.1', 'new confirmed COVID-19 patient in Japan: Hokkaido, male, 40s, fever 2/21, went to doctor 2/21, consulted second doctor 2/22, third doctor 2/23 and 2/25, hospitalized 2/27', 'new confirmed COVID-19 patient in US: male, in his 30s, confirmed sick in Sohomish County, Washington, visited Wuhan, returned to the US on 1/15/2020, sought treatment at urgent care center 1/23/2020', 'new confirmed COVID-19 patient in Vancouver, Canada: male, 30s, related to case 5, visitors from Wuhan', 'new confirmed imported COVID-19 pneumonia patient in Chengdu, Sichuan: male, 50, return to Chengdu from Wuhan on 01/12/2020, symptom onset on 01/18/2020 and hospitalized.', 'new confirmed COVID-19 patient in Taiwan: male, in his 50s, arrived in Taiwan 1/21/2020, works in Wuhan, saw doctor in Wuhan, developed influenza symptoms and hospitalized 1/23/2020', 'confirmed imported COVID-19 pneumonia patient No.7 in Tianjin: female, 29, works in Wuhan, visited Tianjin on 01/23/2020, symptom onset on 01/24/2020, visit clinic on 01/24/2020, confirmed on 01/24/2020', 'new confirmed COVID-19 patient in Hong Kong: 2/9-No.1, male, 24, lives in Wan Chai, fever cough 1/30, doctor 1/30, 2/4, hospital 2/6, 2/8', 'new confirmed COVID-19 pneumonia patient in Macau: female, 39, Wuhan resident, visited Macao on 01/22/2020, symptom onset on 01/25/2020, hospitalized on 01/25/2020, confirmed on 01/26/2020', 'new confirmed COVID-19 patient in South Korea: female, 69, died 2/24', 'Death from COVID-19 pneumonia in Wuhan: male, 86, symptom onset on 01/02/2020, hospitalized on 01/09/2020, death on 01/21/2020.', 'new confirmed COVID-19 patient in Thailand: Chinese, tourist from \"risky area\" in China', \"new confirmed COVID-19 patient in Finland: female, 32, Chinese traveler from Wuhan, in isolation at Lapland's hospital, arrived in Finland 1/23/2020 and left Wuhan 1/22/2020, symptom onset 1/26/2020 (fever), hospitalized 1/28/2020\", 'new confirmed COVID-19 patient in Egypt: \"foreigner\"', 'new confirmed COVID-19 patient in Japan: Hokkaido, female, 70s, fever and malaise 2/17, went to doctor 2/20, emergency transport to hospital 2/24', 'new confirmed COVID-19 patient in South Korea: 1/30-No.2, male, 56, in contact with third confirmed patient 1/25-No.1 on 1/22/2020, did not travel to Wuhan, receiving treatment at hospital', 'First confirmed imported COVID-19 pneumonia patient in Shandong: male, 37, visited clinic on 01/17/2020, travelled to Wuhan within to weeks of symptom onset.', 'new confirmed COVID-19 patient in Singapore: male, 56, Wuhan resident, arrived in Singapore 1/19/2020, symptom onset 1/25/2020 (cough), hospitalized 1/26/2020, tested positive 1/27/2020.', 'new confirmed COVID-19 patient in Hong Kong: male, 47, worked in Wuhan, returned to HK on 1/23/2020, symptom onset 1/20/2020 (fever), sought treatment at hospital in Wuhan on 1/21/2020, left for Hong Kong on 1/23/2020', 'new confirmed COVID-19 patient in Japan: male, 60s, lives in Aichi Prefecture, symptom onset 2/15 (fever), went to get medical help 2/15, contact of case 43 and 53', 'new confirmed COVID-19 patient in South Korea: 2/1-No.1, male, 48, male, worked as tour guide in Japan, came into contact with Japanese national also diagnosed, arrived 1/19/2020 at Gimpo airport, symptom-free upon arrival, hospitalized 2/1/2020,', 'new confirmed imported COVID-19 pneumonia patient 01/26-No.4 in Shaanxi: female, 70, Wuhan resident. have contact with 01/25-No.4, 01/25-No.5, 01/25-No.6, symptom onset on 01/23/2020, confirmed on 01/26/2020.', 'new confirmed COVID-19 patient in France: Paris, contact of case 15', 'new confirmed COVID-19 patient in Japan: Hokkaido, male, 50s, symptom onset 2/17 (cough), fever 2/20, went to doctor 2/20, went to second doctor 2/23', 'new confirmed COVID-19 patient in South Korea: female, 73, stayed with family who visited Guangdong from November 2019 to 1/31/2020, symptom onset fever, cough, sore throat, now in hospital', 'new confirmed COVID-19 patient in Japan: Hokkaido, male, under 10, fever 2/21, cough 2/22, went to doctor 2/24 and 2/25', 'new confirmed COVID-19 patient in Germany: Bavaria, male, came into contact in Germany with an Italian who tested positive on his return to Italy', 'new confirmed COVID-19 patient in Germany: caught from 1/28-No.1 during contacts on 1/20 and 1/21, symptom onset 1/26/2020', 'Death from COVID-19 pneumonia in Wuhan: female, 48, symptom onset on 12/10/2019, death on 01/20/2020.', 'new confirmed COVID-19 patient in Japan: female, 20s, Nagoya City, symptom onset 2/20 (fever, cough, breathlessness), visited medical center 2/21', 'new confirmed COVID-19 patient in Singapore: 35, male, lives in Johor Bahru, symptom onset 2/5, went to clinic 2/9, transferred to hospital 2/9', 'new confirmed COVID-19 patient in Hong Kong: 1/27-No.1, married to 1/24-No.1, male, 64, wife was third imported case, traveled with wife to Hong Kong by train 1/19/2020, put into quarantine 1/24/2020 due to wife, developed fever 1/25/2020 and transferred to hospital', 'new confirmed COVID-19 patient in Singapore: male, 46, symptom onset 2/3, went to clinic 2/8, ED on 2/8, 2/10', 'new confirmed COVID-19 pneumonia patient in Ningxia: male, 33, visited Wuhan from 01/11/2020 to 01/22/2020, returned to Ningxia on 01/22/2020, symptom onset on 01/22/2020, hospitalized on 01/24/2020, confirmed on 01/25/2020.', 'new confirmed COVID-19 patient in South Korea: male, 28, Korean, entered Incheon airport 1/23/2020 from Qingdao, Wuhan, symptom onset 1/26/2020 (cough), worked at \"The Place\" clothing store', 'new confirmed imported COVID-19 pneumonia patient in Liaoning: female, 50, return to Shenyang, Liaoning from Wuhan on 01/15/2020, symptom onset on 01/16/2020 and hospitalized, 37 contacts traced.', 'new confirmed COVID-19 patient in Japan: female, 50s, Tokyo, symptom onset 2/10 (fever, cough, sputum)', 'new confirmed COVID-19 patient in Japan: Gifu Prefecture, male, 50s, malaise and fever 2/14, went to doctor 2/15, went back to doctor due to headache 2/20, visited another doctor 2/21, visited doctor again 2/25', 'new confirmed COVID-19 patient in Japan: Nagoya City, male, 50s, fever and thirst 2/24, went to doctor 2/25', 'new confirmed COVID-19 patient in South Korea: female, 23', 'new confirmed COVID-19 patient in Vietnam: 3 months old, infected by grandma 2/9-No.1,', 'new confirmed COVID-19 patient in Japan: male, 30s, lives in Wakayama, symptom onset 2/16 (fever), hospitalized 2/17', 'new confirmed COVID-19 patient in Germany: family member of another employee of the company', 'new confirmed COVID-19 patient in Hong Kong: male, 52, uncle of 2/9-No.1, had hot pot with him on 1/26, wife and children tested positive on 2/9, lives in Wan Chai, symptom onset 2/8 (cough, sore throat, dry mouth), admitted to hospital on 2/9', 'confirmed imported COVID-19 pneumonia patient No.6 in Tianjin: male, 56, works on Tianjin high speed railroad, symptom onset on 01/19/2020, visit clinic on 01/23/2020, confirmed on 01/24/2020.', 'new confirmed imported COVID-19 pneumonia patient in Wuhan: female, 2, returned to Guangxi from Wuhan on 01/21/2020, symptom onset on 01/22/2020, hospitalized on 01/23/2020.', 'new confirmed COVID-19 patient in Japan: female, 50s, lives in Wakayama, inspected as contact 2/16, hospitalized 2/17', 'new confirmed COVID-19 patient in Taiwan: female, 80s, related to case 19 and 20, symptom onset 2/6', 'new death from COVID-19 pneumonia, male, 73, symptom onset on 12/29/2019, hospitalized on 01/05/2020, death on 01/22/2020', 'First confirmed imported COVID-19 pneumonia patient in Macau: female, 52, Wuhan resident, symptom onset one week before 01/21/2020, hospitalized on 01/22/2020', 'new confirmed COVID-19 patient in South Korea: male, 24, same cluster as case 31', 'Death from COVID-19 pneumonia in Wuhan: male, 89, symptom onset on 01/13/2020, hospitalized on 01/13/2020, death on 01/19/2020.', 'new confirmed COVID-19 patient in Singapore: female, 58, linked to case 66, symptom onset 1/23, went to clinic on 2/1, 2/6, 2/10, referred to NCID on 2/18', 'new confirmed COVID-19 patient in US: California, recently traveled from China, returned on 2/2', 'new confirmed COVID-19 patient in South Korea: female, 59', 'new confirmed COVID-19 patient in Singapore: male, 50, symptom onset 2/3, went to clinics on 2/5, 2/7, 2/10, 2/13, ED on 2/13', 'new confirmed COVID-19 patient in Spain: Andalusia, male, 42, contact of case 12', 'new confirmed COVID-19 patient in Japan: Hokkaido, male, 30s, fever 2/17, went to doctor 2/18, went to another doctor 2/20, went back to first doctor 2/22, admitted to hospital 2/24', 'Death from COVID-19 pneumonia in Wuhan: male, 89, pneumonia confirmed on 01/08/2020, death on 01/18/2020.', 'NaN', 'new confirmed COVID-19 patient in Japan: female, 50s, lives in Chiba prefecture, returned to Japan on 1/30 on second charter flight, symptom onset 1/31/2020 (fever, cough) at consultation, left for Wuhan 1/10/2020, had dinner with relative with cough on 1/19/2020', 'new confirmed COVID-19 patient in Japan: Gifu Prefecture, female, 50s, throat pain and chills 2/23, sample collected as close contact with another patient 2/26, contact with case 168 from 2/20-2/24, on 2/24 left for Osaka by train and returned to Gifu on 2/25', 'new confirmed COVID-19 patient in South Korea: female, 22', 'new confirmed COVID-19 patient in Vancouver, Canada: female, 30s, returned from Iran', 'new confirmed COVID-19 patient in Japan: male, 50s, lives in Wakayama, symptom onset 2/7 (fever), went to medical institution 2/7, 2/14', 'new confirmed COVID-19 patient in Hong Kong: female, 68, lives in Shenzhen, traveled to Hong Kong on 1/25/2020 with a fever, immediately taken to hospital for isolation, visited family members in Wuhan , symptom onset 1/21/2020 (fever, cough), had visited family member in Wuhan', 'new confirmed COVID-19 patient in Hong Kong: 2/11-No.1, female, 37, daughter-in-law of 2/10-No.2, symptom onset 2/2 (fever, cough, sore throat), went to doctor 2/3', 'new confirmed COVID-19 patient in Paris, France: male, 31, Wuhan resident, arrived in France 01/18/2020, symptom onset on 01/19/2020, hospitalized 01/25/2020.', 'new confirmed COVID-19 patient in Singapore: female, 40, symptom onset 1/27, visited clinic 1/27, 2/1, close contact of 2/4-No.1 and 2/4-No.2, home quarantine 2/4, admitted to NCID 2/6', 'new confirmed COVID-19 patient in Singapore: 75, female, linked to cluster at The Life Church and Missions Singapore, symptom onset 2/9, went to clinic 2/9, 2/17, 2/23, went to hospital 2/23', 'new confirmed COVID-19 patient in South Korea: 2/5-No.1, male, 37, attended conference in Singapore 1/18-1/23 where contacted Malaysian man infected with virus, symptom onset 1/26/2020, went to three different hospitals, lives in Guri, quarantined on hospital, visited clinic on 2/4/2020', 'new confirmed COVID-19 patient in Hong Kong: female, 57, Diamond Princess cruise from 1/25-2/21, returned by flight on 2/22', 'new confirmed COVID-19 patient in Japan: male, 50s, lives in Sagamihara City, symptom onset 2/16 (fever), visited doctor 2/17 for fever and headache, fever 2/18, returned 2/19, visited another doctor 2/21 and hospitalized', 'new confirmed COVID-19 patient in Malaysia: female, 4, hospitalized in Langkawi, arrived on 1/20, developed fever, cough, flu, went to hospital 1/26', 'new confirmed COVID-19 patient in Taiwan: male, 30s, traveled with 21 other tourists to Osaka from 2/17-2/22, after returning, developed a cough and itchy throat on 2/25', 'Death from COVID-19 pneumonia in Wuhan: male, 66, symptom onset on 01/10/2020, hospitalized on 01/16/2020, death on 01/20/2020.', 'new confirmed COVID-19 patient in Japan: male, in his 20s, in Kyoto, hospitalized 1/31/2020 after symptom onset 1/24/2020 (fever), quarantined at hospital, had not traveled to China, went to hospital 1/27/2020 and 1/29/2020 but no symptoms of pneumonia', 'new confirmed COVID-19 patient in Japan: male, 70s, Tokyo, symptom onset 2/4 (cough, malaise, shortness of breath)', 'new confirmed COVID-19 patient in US: 1/24-No.1, female, 61, treated in Chicago, traveled to Wuhan in December, returned on 1/13/2020, called doctor a few days after returning to report feeling unwell, sent to hospital', 'new confirmed COVID-19 patient in Hong Kong: male, 22, cousin of 2/9-No.1, had hot pot with him 1/26', 'new confirmed domestic COVID-19 patient in Taiwan: man, in his 50s, contracted virus from wife 1/27-No.1, symptom onset 1/26/2020 (cough), tested positive 1/28/2020', 'new confirmed COVID-19 pneumonia patient in Yunnan: male, 65, Wuhan resident, arrived in Yunnan on 01/13/2020, hospitalized on 01/21/2020.', 'new confirmed COVID-19 patient in Germany: another child of employee', 'new confirmed COVID-19 patient in Hong Kong: male, 33, son of case 72, symptom onset 2/20 (fever), went to doctor on 2/22, cough on 2/24, transferred to hospital and admitted on 2/24', 'new recovered imported COVID-19 pneumonia patient in Beijing: female, returned to Beijing from Wuhan on 01/08/2020, symptom onset afterwards, recovered on 01/24/2020.', 'new confirmed COVID-19 patient in Japan: Hokkaido, male, 30s, cough symptoms 2/20, fever and joint pain 2/23, went to doctor 2/23 and 2/25', 'new confirmed COVID-19 patient in Thailand: male, 70, moved to infectious diseases institute,Thai, driver who had driven Chinese tourists', 'new confirmed COVID-19 patient in Japan: male, 80s, Okinawa, symptom onset 2/6 (fever, malaise, diarrhea, cough), hospitalized 2/17', 'new confirmed COVID-19 patient in South Korea: female, 46, same cluster as case 31', 'First confirmed COVID-19 pneumonia patient in Gansu: male, 43, lives in Lanzhou, Gansu, visited Hunan, Jiangxi since 01/11/2020, met with individual from Wuhan during the visit, return to Lanzhou Gansu on 01/17/2020, symptom onset on 01/18/2020, visit clinic on 01/21/2020, tested positive on 01/23/2020.', 'new confirmed COVID-19 patient in Singapore: female, 39, no recent travel, went to Malaysia 1/22-1/29, now in hospital, symptom onset 1/30, went to ER 2/2, church cluster', 'new confirmed COVID-19 patient in Japan: male, 70s, Sapporo City', 'new confirmed COVID-19 patient in Hong Kong: male, 75, father of 2/11-No.1, symptom onset 2/3 (fever, cough), went to doctors on 2/3, 2/7, 2/10', 'new confirmed COVID-19 pneumonia patient No.15 in Tianjin: male, 50, Tianjin resident, arrived in Tianjin from Wuhan on 01/23/2020, symptom onset on 01/25/2020, visited clinic on 01/26/2020, confirmed on 01/26/2020', 'new confirmed COVID-19 patient in South Korea: male, 75, died 2/27', 'new confirmed imported COVID-19 pneumonia patient 01/27-No.12 in Shaanxi: male, 27, works in Wuhan, visited Shanxi on 01/18/2020, symptom onset on 01/22/2020, visit hospital on 01/24/2020, confirmed on 01/27/2020', 'new confirmed COVID-19 patient in Germany: contact of cases 21 and 22, NRW, partner of case 24', 'new confirmed imported COVID-19 pneumonia patient in Sichuan: male, 37, visited Chengdu from Wuhan on 01/18/2020, symptoms onset on 01/20/2020.', 'new confirmed COVID-19 patient in Singapore: male, 53, Singapore citizen, no recent travel history to China, but went to Malaysia on 1/6, 1/11, 1/17, currently in isolation roomin hospital, symptom onset 1/23, visited clinic 1/23, visited another clinic 1/28, admitted to hospital 2/1, Church cluster', 'new confirmed COVID-19 patient in South Korea: male, 82, admitted to hospital for chest discomfort, first visited local hospital on 2/15', 'new confirmed imported COVID-19 pneumonia patient in Shandong: male, 38, works in Zhejiang (not Wuhan!), have close contact with COVID-19 patients in Zhejiang, visit relative in Weihai, Shandong on 01/18/2020, symptom onset on 01/20/2020 and hospitalized.', 'new confirmed imported COVID-19 pneumonia patient 01/24-No.2 in Shanxi: male, 23, studied in Wuhan, arrived in Yanan, Shanxi from Wuhan on 01/22/2020, hospitalized on 01/22/2020.', 'new confirmed COVID-19 patient in Japan: Hokkaido, male, 20s, headache and fever 2/17, fever and malaise 2/18, went to doctor 2/18, again 2/20, hospitalized 2/24', 'new confirmed COVID-19 patient in Vietnam: female, 42, lives in Vinh Phuc, exposed 1/22 and 1/28, symptom onset 1/31 (fever), went to clinic', 'new confirmed COVID-19 patient in Japan: male, 50s, lives in Hubei, came to Japan on 1/22/2020, symptom onset 1/25/2020 (fever), went to medical instutition on 1/26/2020, returned to China on 1/30, same bus tour as fourth confirmed case in Japan', 'new confirmed COVID-19 pneumonia patient 01/27-No.8 in Shaanxi: male, 48, lives in Xian, symptom onset on 01/17/2020, visited clinic on 01/19/2020, confirmed on 01/27/2020', 'new confirmed COVID-19 patient in France: male, 60, hospitalized in Paris, died 2/26', 'new confirmed imported COVID-19 pneumonia patient in Tianjin: female, 29, works in Wuhan, arrived in Tianjin from Wuhan on 01/23/2020, symptom onset on 01/24/2020 hospitalized on 01/24/2020.', 'new confirmed COVID-19 patient in Malaysia: male, 40, Wuhan resident, arrived in Johor from Singapore on 1/22/2020, symptom onset 1/23/2020 (fever and cough), hospitalized 1/23/2020', 'new confirmed COVID-19 patient in Vancouver, Canada: female, 30s, returned from Shanghai', 'new confirmed COVID-19 patient in Toronto, Canada: female, 20s, travelled to Wuhan before it was quarantined, then went elsewhere before returning 2/21', 'new confirmed COVID-19 patient in US: 2/3-No.1, male, 57, San Benito County, recently traveled back from Wuhan on 1/18/2020, isolated in home, arrived in San Francisco 1/24/2020 as healthy, but symptom onset 1/25/2020 (cough, fever), hospitalized', 'new confirmed COVID-19 patient in Thailand: Chinese national, part of a family aged 6-60, traveling from Hubei province, one passenger taken to hospital after showing symptoms on arrival and other four members quarantined after showing symptoms following monitoring', 'new confirmed COVID-19 patient in Japan: male, 50s, lives in Wuhan, returned to Japan on first charter flight 1/30, symptom onset 2/7 (fever, cough), hospitalized 2/7', 'new confirmed COVID-19 patient in South Korea: female, 59, aquaintance of 1/30-No.2, in hospital', 'new confirmed COVID-19 patient in France: female, 33, Chinese woman who recently returned from China, hospitalized in Paris', 'new confirmed COVID-19 patient in South Korea: female, 62, Korean, developed symptoms during stay in Wuhan on 1/21/2020', 'new confirmed COVID-19 patient in Germany: 52, male, works at same company as patients 1-5', 'new confirmed imported COVID-19 pneumonia in Tianjin: female, age 60, recently visited Wuhan, visited fever clinic on 01/19/2020 in Tianjin then quarantined immediately.', 'new confirmed COVID-19 patient in Singapore: male, 57, symptom onset 2/6, went to clinic on 2/6 and 2/8, went to hospital on 2/9 and 2/11 and 2/12', 'new confirmed COVID-19 patient in Singapore: 2/4-No.2, female, 32, no recent travel history to China, tour guide for group of Chinese tourists, in Singapore 1/22-1/23 and 1/27, asymptomatic on arrival to NCID', 'new confirmed COVID-19 patient in Thailand: female, 60, family members infected,', 'new confirmed COVID-19 patient in Singapore: male, 54, in Malaysia 1/26, symptom onset 1/30, visited clinics on 1/30, 2/5, 2/6, hospital 2/6', 'new confirmed imported COVID-19 pneumonia patient in Beijing: female,33, Wuhan resident, visiting Beijing on 01/18/2020, seek care on 01/20/2020 after symptom onset.', 'new confirmed imported COVID-19 pneumonia patient in Hunan: male, 59, symptom onset on 01/16/2020, hospitalized on 01/21/2020, prior exposure to Wuhan.', 'new confirmed COVID-19 patient in Germany: evacuated from Wuhan, now in hospital in Frankfurt, arrived on 2/1/2020', 'new confirmed COVID-19 patient in UAE: female, 36, 1/29-No.2 (mother), arrived as tourists 1/16/2020, admitted into hospital', 'new confirmed COVID-19 patient in Thailand: Chinese national', 'new confirmed COVID-19 patient in UAE: male, 70', 'new confirmed imported COVID-19 pneumonia patient in Yunnan: male, 58, resident of Guangdong, visited Wuhan from 01/09/2020 to 01/20/2020, visited clinic on 01/24/2020', 'new confirmed COVID-19 patient in South Korea: male, 57, Cheongdo Daenam hospital cluster', 'new confirmed COVID-19 patient in Japan: Hokkaido, female, 70s, fever and cough 2/16, went to doctor 2/16, returned 2/25', 'new confirmed COVID-19 patient in South Korea: female, 58, same cluster as case 31', 'new confirmed COVID-19 patient in South Korea: 2/2-No.1 male, 43, went to Wuhan, returned 1/20/2020, worked as aircraft contactor of 1/27-No.1, self-isolating since 1/29/2020', 'new confirmed COVID-19 patient in Iran: Guilan', 'new confirmed COVID-19 patient in NSW, Australia: male, 43, arrived in Sydney from Wuhan on 1/18/2020, symptom onset 1/24/2020, hospitalized 1/24/2020', 'Death from COVID-19 pneumonia in Wuhan: male, 87, symptom onset on 01/12/2020, hospitalized on 01/19/2020, death on 01/23/2020', 'new confirmed COVID-19 patient in Singapore: 2, female, evacuated from Wuhan on 1/30, without symptoms on board, quarantined upon landing, went to hospital on 2/7', 'new confirmed COVID-19 patient in Hong Kong: female, 91, maternal grandmother of 2/9-No.1, had hot pot with him 1/26', 'new confirmed imported COVID-19 pneumonia patient in Henan: male, 68, lives in Wuhan, visited Henan on 01/11/2020, went to clinic on 01/13/2020.', 'new confirmed COVID-19 patient in Japan: Hokkaido, male, 80s, fever and cough 2/24, went to doctor 2/24', 'new confirmed COVID-19 patient in Singapore: female, 31, from Wuhan, arrived in Singapore 1/22/2020, travelling companion of 1/26-No.1, no symptoms on flight, quarantined from 1/26/2020, symptom onset 1/27/2020, confirmed 1/29/2020', 'new confirmed COVID-19 patient in Japan: male, 60s, kumamoto prefecture, symptom onset 2/15 (fatigue, cold, fever, vomiting), visited doctor 2/19, went again 2/21, visited Hokkaido 2/2-2/10', 'Death from COVID-19 pneumonia in Wuhan: female, 67, symptom onset on 01/05/2020, hospitalized on 01/12/2020, death on 01/23/2020', 'new confirmed imported COVID-19 pneumonia patient in Yunnan: female, 32, lives in Wuhan, returned to Yunnan on 01/16/2020, visited clinic on 01/24/2020', 'new confirmed COVID-19 patient in Japan: female, 50s, symptom onset 2/16 (fatigue, joint pain, fever), came home 2/18, went to doctor 2/19, moved to another hospital 2/21', 'new confirmed COVID-19 patient in South Korea: female, 65', 'new confirmed COVID-19 patient in France: female, 23, Nice, from Cannes, infected after journey in Milan', 'new confirmed COVID-19 patient in Hong Kong: female, 63, wife of 2/10-No.1, symptom onset 1/30, ,transferred to hospital 2/9, went to clinic on 1/31', 'new confirmed imported COVID-19 pneumonia patient 01/25-No.7 in Shaanxi: male, 40, Xian resident, works in Wuhan, arrived in Shanxi from Wuhan on 01/23/2020, symptom onset on 01/23/2020, visit clinic on 01/23/2020, confirmed on 01/25/2020', 'new confirmed COVID-19 patient in Japan: female, 50s, Tokyo, symptom onset 2/4 (fatigue)', 'new confirmed COVID-19 patient in South Korea: male, 58', 'new confirmed COVID-19 patient in Hong kong: male, 54, went to doctor on 2/7, hospital on 2/10', 'new confirmed COVID-19 patient in Spain: Zaragoza, 27 female, had traveled to Milan', 'new confirmed COVID-19 patient in Hong Kong: male, 56, went to Wuhan 1/10/2020-1/19/2020, visited hospital on 1/19/2020 but no fever or pneumonia, returned to hospital 1/21/2020, sent to isolation ward, symptom onset 1/18/2020 (fever)', 'new confirmed imported COVID-19 pneumonia patient 01/25-No.3 in Shaanxi: male, 41, resident of Ankang, Shanxi, visited Wuhan from 01/06/2020 to 01/07/2020, symptom onset on 01/14/2020, visited clinic on 01/23/2020, confirmed on 01/25/2020', 'new confirmed COVID-19 patient in Singapore: male, 45, married fo 2/4-No.1, warded in isolationi at NCID, symptom onset 2/1, visited clinic 2/2, isolated 2/4', 'new confirmed COVID-19 patient in London, UK: female, flew from China a few days ago,', 'new confirmed COVID-19 patient in Singapore: female, 37, from Wuhan, arrived in Singapore 1/22/2020 with family, also asymptomatic during flight, symptom onset 1/26/2020, went to hospital on 1/29/2020', 'new confirmed COVID-19 patient in Singapore: male, 36, symptom onset 1/30, visited clinic 1/30, close contact of case 19 and 20 (2/4-No.1 and 2), placed under home quarantine on 2/4, admitted to NCID 2/7', 'new confirmed COVID-19 patient in South Korea: female, 57', 'new confirmed COVID-19 patient in Malaysia: male, 45, flown back from Wuhan on 2/4, now in hospital', 'new confirmed COVID-19 patient in Japan: Kumamoto City, male, 50s, sore throat since 2/20, went to public health center 2/24', 'new confirmed imported COVID-19 pneumonia patient 01/26-No.5 in Shaanxi: female, 52, Tongchuan, Shanxi resident. have contact with 01/26-No.4, confirmed on 01/26/2020.', 'new confirmed imported COVID-19 pneumonia patient 01/27-No.2 in Shaanxi: male, 18, student in Wuhan and resident in Yanan, Shanxi, symptom onset on 01/20/2020, flight to Xian, Shanxi on 01/22/2020 from Wuhan, visit hosipital on 01/23/2020, confirmed on 01/27/2020', \"new confirmed COVID-19 patient in Vietnam: 2/9-No.1, female, 55, Vinh Phuc, neighbor of a worker who went to Wuhan, ,went to worker's house on 1/28, symptom onset 2/2 (fever, headache, runny nose)\", 'new confirmed COVID-19 patient in South Korea: female, 63', 'new confirmed COVID-19 patient in Hong Kong: male, 43, relative of case 47, symptom onset 1/29 (cough, diarrhea, vomiting), went to doctors on 1/31-2/8, went to hospital 2/12, attended banquet on 1/30 with case 47', 'new confirmed COVID-19 patient in Malaysia: male, 31, travelled to Macau for work then returned to Malaysia on 2/1, symptom onset 2/3 (cough), went to clinic, referred to hospital 2/7', 'new confirmed COVID-19 patient in Singapore: 36, male, symptom onset 2/14, went to clinic 2/14, 2/16, 2/19, went to hospital 2/19', 'new confirmed imported COVID-19 pneumonia patient in Yunnan: male, 63, resident of Wuhan, arrived in Yunnan on 01/21/2020, visited clinic on 01/23/2020', 'new recovered COVID-19 pneumonia patient in Jiangxi: male, 38, Jiangxi resident, visited Wuhan from 01/03/2020 to 01/05/2020, symptom onset afterwards, hospitalized and confirmed on 01/23/2020', 'new confirmed COVID-19 patient in Singapore: 1/24-No.1, male, 66, Wuhan resident, arrived in Singapore 1/20/2020, symptom onset 1/21/2020 (fever and cough), hospitalized 1/22/2020, confirmed 1/23/2020.', 'new confirmed COVID-19 patient in South Korea: 1/25-No.1, male, 54, visited Wuhan, arrived on 1/20/2020, symptom onset 1/22/2020 (fever, chills, muscle cramps), contacted health authorities and placed in isolation 1/25/2020, worked at \"The Place\" clothing store', 'new confirmed COVID-19 patient in Cambodia: male, 60, arrived from Wuhan 1/23/2020, Chinese national, symptom onset 1/25/2020 (fever and runny nose), confirmed 1/27/2020', 'new confirmed COVID-19 patient in Germany: Baden-Wuerttemberg, male, travelled to Bergamo, Italy', 'new confirmed COVID-19 patient in Hong Kong: female, husband had visited son in Guangdong from 1/23-1/28 but neither infected', 'new confirmed COVID-19 patient in Japan: male, 40s, Tokyo, contact of case 45', 'new confirmed COVID-19 patient in South Korea: female, 50', 'new confirmed COVID-19 patient in Japan: female, 60s, Tokyo, contact of case 28', 'new confirmed COVID-19 patient in Hong Kong: married to 2/5-No.1, female, 55, in hospital in Kwai Chung, in Japan 1/28 and returned 2/1, symptom onset 2/1 (sore throat, fever, diarrhea), consulted private doctor on 2/2/2020, visited hospital on 2/4 with husband, admitted 2/5', 'new confirmed COVID-19 patient in Japan: Hokkaido, male, 50s, detected as close contact of another case 2/24, cough and malaise 2/25, health observation started 2/25', 'new confirmed imported COVID-19 pneumonia patient 01/25-No.1 in Shaanxi: female, 24, works in Wuhan, symptom onset on 01/19/2020, returned to Shanxi from Wuhan on 01/21/2020, confirmed on 01/25/2020', 'confirmed imported COVID-19 pneumonia patient in Gansu: female, 20, lives in Wuhan, arrived in Gansu on 01/18/2020, symptom onset on 01/19/2020, visit clinic on 01/24/2020, hospitalized on 01/24/2020.', 'new confirmed COVID-19 patient in Japan: Tokyo, male, 30s, symptom onset 2/18 (fever, sore throat)', 'new confirmed COVID-19 patient in Hong Kong: male, 59, lives in Siu Sai Wan, symptom onset 2/2 (fever, cough, shortness of breath), went to doctor on 2/6, went to hospital on 2/9 and 2/10', 'new confirmed COVID-19 patient in Thailand: female, 74, Wuhan resident, quarantined since 1/13/2020 on arrival, discharged and returned to China', 'confirmed COVID-19 pneumonia patient No.11 in Tianjin: female, 55, symptom onset on 01/23/2020, hospitalized on 01/23/2020, confirmed on 01/26/2020', 'new confirmed COVID-19 patient in Spain: Andalusia, male, 28, travelled to Milan', 'new confirmed COVID-19 patient in Singapore: female, 52, symptom onset 2/3, visited clinic 2/4, admitted to NCID 2/7', 'new confirmed COVID-19 patient in Japan: female, in her 30s, Hunan resident, stayed in Wuhan 1/19/2020, arrived in Japan 1/20/2020, symptom onset 1/24/2020 (fever, cough), consulted medical institution on 1/24/2020, returned on 1/27/2020, hospitalized 1/30/2020', 'new confirmed COVID-19 patient in Taiwan: male, 50s, related to case 19', 'new confirmed COVID-19 patient in Japan: male, 80s, lives in Tokyo, symptom onset 2/9 (fever, pneumonia)', 'new confirmed COVID-19 patient in Spain: Andalusia, 81, family member of previous infected case', \"new confirmed COVID-19 patient in Germany: Hamburg, male, employee of children's medical department, called in sick 2/26/2020, went to hospital 2/27, had been on vacation in Trentino\", 'new confirmed imported COVID-19 pneumonia patient (medical doctor No.1) in Beijing: male, traveled to Wuhan from 01/08/2020 to 01/16/2020, symptom onset on 01/16/2020, visited clinic on 01/20/2020, confirmed on 01/21/2020', 'new confirmed COVID-19 patient in Hong Kong: female, 65, symptom onset 1/28/2020 (fever, cough), went to private doctor on 1/29 and 2/1, sought treatment at hospital on 2/5', 'new confirmed COVID-19 patient in Japan: male, 60s, Okinawa, symptom onset 2/11 (fever, breathlessness, malaise), consultation 2/18', 'new confirmed COVID-19 patient in Singapore: male, 64, in hospital, symptom onset 1/30, visited clinic 1/31, admitted to hospital 2/6', 'new confirmed COVID-19 patient in Germany: Baden-Wuerttemberg, male, was in Karlsruhe on business, family member also sick', 'new confirmed COVID-19 patient in US: Arizona, recently traveled to Wuhan', 'new confirmed COVID-19 patient in Hong Kong: male, 37, son of case 52, had dinner with patients of case 46, 48, 49 on 1/26, symptom onset 2/8 (fever), went to doctor on 2/9, hospital on 2/12', 'new confirmed imported COVID-19 pneumonia patient 01/25-No.10 in Shaanxi: male, 15, Shangluo resident, symptom onset in Wuhan on 01/21/2020, returned to Shanxi and visit clinic on 01/23/2020, confirmed on 01/25/2020', 'new confirmed COVID-19 patient in US: California', 'new confirmed imported COVID-19 pneumonia patient in Guizhou: female, 50, contact individuals from Wuhan in Changsha, hunan between 01/10/2020 and 01/12/2020, symptom onset on 01/14/2020, hospitalized on 01/22/2020.', 'new confirmed COVID-19 pneumonia patient in Heilongjiang: male, 49, lives in Heilongjiang, returned from Wuhan to Heilongjiang on 01/23/2020, symptom onset on 01/23/2020.', 'Death from COVID-19 pneumonia in Wuhan: male, 84, symptom onset on 01/06/2020, hospitalized on 01/09/2020, death on 01/22/2020.', 'Death from COVID-19 pneumonia in Wuhan: male, 65, symptom onset on 01/12/2020, hospitalized on 01/16/2020, death on 01/23/2020', 'new confirmed COVID-19 patient in Japan: male, 50s, lives in Wakayama, symptom onset 2/3 (fever), went to medical institution 2/4, 2/13', 'new confirmed COVID-19 patient in Spain: male, Italian, on Canary Island of Tenerife, 69, from Lombardy', 'new confirmed COVID-19 patient in France: female, 60, married to case 14', \"new confirmed COVID-19 patient in Victoria, Australia: female, in her 40s, visitor from Hubei, went to doctor's and was referred to hospital immediately, been in Australia for about a week and showed symptoms for two or three days\", 'new confirmed COVID-19 patient in Queensland, Australia: male, 8, Chinese citizen from Wuhan, traveling with 1/29-No.1, isolated at hospital', 'new confirmed COVID-19 patient in Belgium: evacuated from Wuhan on 2/2', 'new confirmed COVID-19 patient in Paris, France: 1/28-No.1, male, 80, hospitalized in Paris on 1/25/2020 for fever, \"severe\", visiting France from Hubei province, arrived on 1/23/2020', 'new confirmed COVID-19 patient in Japan: Tokyo, female, 60, fever, cough, sputum 2/10', 'First confirmed imported COVID-19 pneumonia patient in Liaoning: male, 33, works in Wuhan, symptom onset on 01/11/2020, visit clinic in Liaoning Dalian on 01/17/2020.', 'Death from COVID-19 pneumonia in Wuhan: male, 58, symptom onset on 01/03/2020, hospitalized on 01/18/2020, death on 01/24/2020', 'new confirmed COVID-19 patient in Singapore: female, 79, family member of case 66, symptom onset 1/30, went to NCID 2/14', 'new confirmed COVID-19 patient in Japan: Sagamihara City, female, 20s, symptom onset 2/19, visited doctor 2/19, re-examined 2/20 due to fever, chills, joint pain, heavy head, throat discomfort', 'new confirmed COVID-19 patient in Malaysia: female, daughter-in-law of Singapore 1/24-No.1,', 'new confirmed COVID-19 patient in South Korea: male, 22', 'new confirmed COVID-19 patient in Queensland, Australia: 1/29-No.1, 44, Chinese National, currently in hospital, travelled from Melbourne to the Gold Coast 1/27/2020, symptom onset and hospitalized 1/28/2020', 'new confirmed imported COVID-19 pneumonia patient in Yunnan: female, 39, visited Wuhan from 12/17/2019 to 01/15/2020, returned to Xishuangbannan, Yunnan on 01/15/2020, hospitalized on 01/22/2020.', 'new confirmed COVID-19 patient in Hong Kong: female, 64, worked at clothing store in Kowloon, symptom onset 1/23/2020 (cough) and consulted private doctor 1/23/2020, shortness of breath on 2/1/2020, sought treatment at hospital, no recent travel to China', 'new confirmed COVID-19 patient in Singapore: 2/6-No.1, male, 27, Singapore citizen, no recent travel history, attended business meeting 1/20-1/22 with people from Hubei and confirmed cases from Malaysia and South Korea, now in NCID, symptom onset 1/21, visited clinic 1/28, another clinic 2/3, admitted to NCID 2/6', 'new recovered imported COVID-19 pneumonia patient in Beijing: male, returned to Beijing from Wuhan on 01/08/2020, symptom onset afterwards, recovered on 01/25/2020.', 'new confirmed COVID-19 patient in Taiwan: 1/30-No.1, male, experiencing symptoms on arrival 1/12/2020 (cough, runny nose, no fever), recently returned from business in Wuhan', 'new confirmed COVID-19 patient in Japan: male, 60s, Wakayama Prefecture, contact of case 29, 50, 51', 'new confirmed COVID-19 patient in Japan: Tokyo, male, 70s, symptom onset 2/14 (fever, cough, sputum)', 'new confirmed COVID-19 patient in Japan: male, 50s, lives in Wuhan', 'new confirmed COVID-19 patient in Spain: Barcelona, female, 22, traveled to Italy from 2/19-2/25', 'new confirmed COVID-19 patient in Spain: Madrid, 77', 'new confirmed COVID-19 patient in South Korea: male, 46, related to 2/4-No.1, in hospital', 'new confirmed imported COVID-19 pneumonia patient 01/27-No.1 in Shaanxi: female, 36, Wuhan resident, flight to Xian, Shanxi on 01/21/2020, symptom onset on the plane, visited hospital on 01/25/2020, confirmed on 01/27/2020.', 'new confirmed COVID-19 patient in US: Wisconsin, came into contact with someone infected while traveling in China', 'new confirmed COVID-19 patient in Sri Lanka: female, 40, from Hubei, tested positive at a screening, arrived on 1/19/2020, symptom onset 1/25/2020 (fever), confirmed 1/27/2020, admitted to hospital 1/25/2020', 'new confirmed COVID-19 patient in Hong Kong: male, 45, colleague of case 57, ,symptom onset 2/12 (fever, sore throat), went to doctor 2/13, went to hospital 2/16, went to Vietnam from 1/30-2/1', 'First confirmed imported COVID-19 pneumonia patient in Ningxia: male, 29, works in Wuhan. Ningxia and visit clinic on 01/19/2020.', 'First confirmed imported COVID-19 pneumonia patient in Heilongjiang: male, 69, returned to Mudanjiang, Heilongjiang from Wuhan on 01/12/2020, symptom onset after return and has been hospitalized.', 'new confirmed COVID-19 patient in France: Saint-Mande, contact of case 15', 'new confirmed COVID-19 patient in Japan: female, 60s, Chiba, symptom onset 2/12 (nausea), went to doctor, worked 2/13-2/19, cough appeared 2/18, went back to doctor 2/18, fever 2/21', 'new confirmed COVID-19 patient in Singapore: male, 30, family member of case 50, symptom onset 1/30, went to clinic on 1/30, 2/3, NCID on 2/12', 'new confirmed COVID-19 patient in Singapore: female, 56, Wuhan resident, arrived in Singapore 1/18/2020 asymptomatic, symptom onset 1/24/2020, hospitalized 1/26/2020.', 'new confirmed COVID-19 patient in Hong Kong: female, 72, no recent history of travel, caught from son 1/31-No.1, quarantined since 2/1/2020, symptom onset 2/1/2020 (fever, cough), sent to hospital', 'new confirmed COVID-19 patient in Malaysia: female, 32, Chinese national, went to China 1/22-1/30 to visit family, symptom onset 2/13 (sore throat), referred to hospital', 'new confirmed COVID-19 patient in Japan: Tokyo, male, 70s, symptom onset 2/12 (fever, cough, sputum, dyspnea)', 'new confirmed COVID-19 patient in Japan: male, 50s, Kumamoto city, symptom onset 2/20 (cough, fever), admitted to infectious disease institution 2/21', 'new confirmed COVID-19 patient in Japan: Nagoya City, female, 70s, fever and cough 2/23, went to doctor 2/23', 'new confirmed COVID-19 patient in Thailand: male, returned from Hokkaido, contacted case 40 (grandson), came into hospital 2/23 with cough and fever', 'First confirmed imported COVID-19 pneumonia patient in Yunnan: male, 51, Wuhan resident, visited Yunan on 01/15/2020, symptom onset on 01/16/2020 and hospitalized.', 'new confirmed COVID-19 patient in Japan: male, 60s, Aichi Prefecture, symptoms 2/3 (fever), visited doctor 2/8, went to medical instutition 2/13, went to Hawaii 1/28-2/7', 'new confirmed COVID-19 patient in Japan: Nagoya City, male, 60s, fever and went to doctor 2/25', 'new confirmed COVID-19 pneumonia patient in Macau: female, 58, Wuhan resident, visited Macao on 01/23/2020, symptom onset on 01/23/2020, hospitalized on 01/23/2020, confirmed on 01/26/2020', 'new confirmed COVID-19 patient in Japan: male, 60s, Fukuoka Prefecture, symptom onset 2/13 (fever, pneumonia), went to medical institution 2/13, returned 2/19', 'new confirmed COVID-19 patient in Singapore: female, 42, Singapore citizen, no recent travel, warded in NCID, symptom onset 2/2, admitted to hospital 2/5', 'new confirmed COVID-19 patient in South Korea: male, 55, arrived at Gimpo International Airport 1/22/2020, works in Wuhan, visited Chinese clinic 1/19/2020 after suffering from sore throat and other symptoms, symptom onset 1/10/2020, confirmed 1/23/2020, recovered 2/4/2020', 'new confirmed COVID-19 patient in Japan: Chiba Prefecture, male, 50s, fever 2/22, visited doctor 2/25, on Diamond Princess 2/12-2/18 as part of diaster team doctor', 'Death from COVID-19 pneumonia in Wuhan: male, 67, symptom onset on 01/10/2020, hospitalized on 01/15/2020, death on 01/24/2020', 'new confirmed COVID-19 patient in Hong Kong: male, 51, symptom onset 2/3 (fever), hospitalized 2/10, coworker of case 37', 'new confirmed COVID-19 patient in Sweden: female, in her 20s, in Jonkoping county who had visited Wuhan, landed in Sweden 1/24/2020, a few days later developed cough and contacted local hospital,', 'new confirmed imported COVID-19 pneumonia patient in Jiangxi: male, 50, visited Wuhan for poultry trading, return to Jiangxi on 01/02/2020, symptoms onset on 01/10/2020.', 'new confirmed COVID-19 patient in Japan: female, 40s, Hokkaido, symptom onset 2/16 (fever), went to medical instutition 2/18', 'new confirmed COVID-19 patient in Germany: caught from same Chinese colleague as 1/28-No.1, symptom onset 1/25/2020', 'new confirmed COVID-19 patient in Hong Kong: female, 76, symptom onset 2/13 (muscle pain, fever), went to two private doctors and sought medical attention at hospital on 2/22, admitted for treatment', 'new confirmed imported COVID-19 pneumonia patient 01/27-No.3 in Shaanxi: male, 50, resident of Hanzhong, Wuhan, visited Wuhan from 01/13/2020 to 01/17/2020, symptom onset on 01/18/2020, visit clinic on 01/22/2020, confirmed on 01/27/2020', 'new confirmed COVID-19 patient in Singapore: 2/8-No.2, male, 51, travelled to malaysia from 1/23 to 2/2, symptom onset 1/29, visited clinic 2/3, 2/5, admitted to NCID 2/6, attended same private business meeting as case 30 (2/6-No.1) and 36 (2/8-No.2) from 1/20 to 1/22', 'new confirmed imported COVID-19 pneumonia patient in Henan: female, 32, Wuhan resident, visited Sanmenxi, Henan on 01/18/2020.', 'new confirmed COVID-19 patient in Japan: Ishikawa Prefecture, female, 50s', 'new confirmed COVID-19 patient in Vietnam: female, 29, in Vinh Phuc, sent to train for two months in Wuhan, returned 1/17', 'new confirmed COVID-19 patient in Vietnam: male, 50, Vinh Phuc, lives with daughter who was sent to Wuhan for training and confirmed to be infected, symptom onset 2/11 (tired)', 'new confirmed COVID-19 patient in Hong Kong: male, 70, returned from day trip to mainland China on 1/22, visited hospital on 2/12, shortness of breath for more than 10 days, symptom onset 2/2', 'new confirmed COVID-19 patient in Hong Kong: male, 58, symptom onset 2/8 (fever, cough), went to private doctor 2/10 and 2/17, went to hospital on 2/18 and admitted 2/19', 'new confirmed COVID-19 patient in Queensland, Australia: female, 37, hospital, same member of tour group as four other people in the state', 'new confirmed COVID-19 patient in Hong Kong: female, 49, cough and sputum and sore throat 2/18, went to hospital 2/22, admitted 2/23', 'new confirmed imported COVID-19 pneumonia patient in Henan: male, 55, lives in Wuhan, visited Henan on 01/11/2020, symptom onset durnig the visit.', 'new confirmed imported COVID-19 pneumonia patient in Guangxi: male, 49, lives in Wuhan,arrived in Liuzhou, Guangxi on 01/20/2020, symptom onset on 01/21/2020, hospitalized on 01/21/2020, tested postive on 01/22/2020.', 'new confirmed COVID-19 patient in Japan: female, 30s, lives in Wuhan, symptom onset 1/30 (fever, runny nose), consulted medical instution in Chiba prefecture 1/31/2020, hospitalized', 'new confirmed imported COVID-19 pneumonia patient in Yunnan: male, 31, Wuhan resident, visited Kunming, Yunnan on 01/20/2020, screened and isolated by local health authorities on 01/24/2020, hospitalized on 01/24/2020', 'new confirmed COVID-19 patient in Japan: female, 40s, lives in Kanagawa Prefecture symptom onset 2/14 (fever, vomiting, diarrhea), went to medical consultation 2/14, worked at a hospital where infected patient was from 2/1-2/5', 'new confirmed COVID-19 patient in South Korea: female, 35, Wuhan resident, arrived in Incheon international airport on 1/19/2020, isolated on entering South Korea with symptoms, symptom onset 1/18/2020 (high fever, chills, muscle pain), discharged 2/6', 'new confirmed COVID-19 patient in Spain: Andalusia, male, 53, contact of case 12', 'new confirmed COVID-19 patient in Paris, France: female, daughter of 1/28-No.1, hospitalized, arrived in Paris 1/23/2020', 'new confirmed COVID-19 patient in Taiwan: female, in her 20s, lived in Wuhan, on 1/21/2020 left Wuhan to Taiwan, symptom onset 2/1/2020 (cough, chest pain), hospitalized 2/4/2020', 'new confirmed COVID-19 patient in UAE: arrived from Wuhan', 'First confirmed imported COVID-19 pneumonia patient in Shanxi: male, visited Wuhan from 01/12/2020 to 01/15/2020, symptom onset on 01/19/2020, visit clinic on 01/20/2020, 6 contacts traced.', 'new confirmed imported COVID-19 pneumonia patient in Xinjiang: male, 47, visited Wuhan on 01/15/2020, returned to Xinjiang on 01/20/2020, symptom onset around return, tested positive on 01/23/2020.', 'new confirmed COVID-19 patient in France: male, stayed in Munich from 2/18-2/22, in solitary confinement at home, symptom onset 2/24, Bois-Guillaume', 'new confirmed COVID-19 patient in Iran: died, in Qom', 'new confirmed COVID-19 patient in Japan: female, 50s, Hokkaido, symptom onset 2/15 (fatigue), visited doctor 2/16 due to malaise and headache, another doctor 2/19', 'Death from COVID-19 pneumonia in Wuhan: male, 75, symptom onset on 01/06/2020, hospitalized on 01/11/2020, death on 01/20/2020.', 'new confirmed COVID-19 patient in Japan: female, 40s, symptom onset 2/20 (fever), went to doctor 2/21, Nagoya City', 'new confirmed COVID-19 patient in Japan: male, 50s, lives in Wakayama Prefecture, symptom onset 1/31 (fever, abdominal pain, diarrhea), visited doctor 2/8, hospitalization 2/10', 'new confirmed COVID-19 patient in Japan: female, 50s, lives in Tokyo, symptom onset 2/4 (vomiting, diarrhea, fever, cough), went to medical instutition on 2/7', 'new confirmed COVID-19 patient in South Korea: female, 39', 'Death from COVID-19 pneumonia in Wuhan: female, 82, symptom onset on 01/10/2020, hospitalized on 01/17/2020, death on 01/23/2020', 'confirmed imported COVID-19 pneumonia patient No.2 in Tianjin: male, 57, works on Tianjin high speed railroad, travel history to Wuhan, symptom onset on 01/18/2020, confirmed on 01/21/2020', 'new confirmed COVID-19 patient in Hong Kong: female, 60, colleague of case 30, lives in Ap Lei Chau, symptom onset 2/1 (cough), went to doctor on 2/2, ,went to hospital on 2/10', 'new COVID-19 patient confirmed in Switzerland: male, 70, infected in Milan during an event 2/15, symptom onset 2/17', 'new confirmed COVID-19 patient in Japan: Hokkaido, male, 70s, during hospitalization, fever 2/23', 'new confirmed COVID-19 patient in Singapore: male, 32, evacuated from Wuhan 2/9', 'new confirmed COVID-19 patient in Germany: 33, male, works at same company', 'new confirmed COVID-19 patient in US: Orange County, at local hospital, recently traveled to Wuhan, confirmed 1/25/2020', 'new confirmed COVID-19 patient in Germany: male, 58, employee of the same company', 'new confirmed COVID-19 patient in Japan: male, 20s, lives in Wuhan', 'new confirmed COVID-19 patient in Paris, France: female, 30, Wuhan resident, arrived in France 01/18/2020, symptom onset on 01/23/2020, hospitalized 01/25/2020.', 'new confirmed COVID-19 patient in Singapore: 2/8-No.1, female, 38, in isolation, symptom onset 1/24, visited clinic 2/1, admitted to hospital 2/4, attended same private business meeting as case 30 (2/6-No.1)and 39 (2/8-No.2) from 1/20-1/22', 'new confirmed COVID-19 pneumonia patient in Xinjiang: male, 49, have contacted friend from Wuhan before infection, symptom onset on 01/21/2020, visit clinic on 01/21/2020, confirmed on 01/25/2020', 'new COVID-19 patient confirmed in Croatia: male, recently returned from Milan, was there from 2/19-2/21', 'new confirmed COVID-19 patient in Hong Kong: female, 46, wife of case 57, symptom onset 2/8 (runny nose, cough), went to doctor 2/10, hospital 2/16', 'new confirmed COVID-19 patient in Hong Kong: male, 16, brother of case 87, passengers of DP cruise 1/25-2/22, returned to HK by flight 2/23, went to hospital 2/25, runny nose since 2/17', 'new confirmed COVID-19 patient in Japan: Hokkaido, male, under 10, fever and cough 2/21, went to doctor 2/22, 2/24, 2/25', 'confirmed imported COVID-19 pneumonia patient No.4 in Tianjin: male, 40, works in Wuhan, symptom onset on 01/14/2020, confirmed on 01/21/2020', 'new confirmed COVID-19 patient in Japan: Sagamihara City, male, 50s, symptom onset 2/16, went to doctor 2/17 due to fever and headache, went to doctor again on 2/19 due to fever and malaise, went to another doctor 2/21 due to severe fever and headache', 'new confirmed COVID-19 patient in Singapore: 38, male, Chinese national, arrived in Singapore from Wuhan 1/22/2020, asymptomatic during flight, symptom onset 1/23/2020, stayed home until 1/29/2020 when he took a taxi to SGH, conformed 1/31/2020', 'new confirmed COVID-19 patient in Hong Kong: female, 50, aunt of 2/9-No.1, had hot pot with him 1/26', 'new confirmed COVID-19 patient in Japan: male, 60s, lives in Kanagawa Prefecture, symptom onset 2/3 (fever), went to medical instutition 2/5, again 2/8, 2/10, hospitalized 2/13', 'new confirmed COVID-19 patient in York, UK: 1/31-No.1, Chinese national, taken to infirmary', 'confirmed imported COVID-19 pneumonia patient No.9 in Tianjin: male, 57, return to Tianjin from Wuhan on 01/17/2020, symptom onset on 01/24/2020, visited clinic on 01/24/2020, hospitalized on 01/25/2020. Have close contact with patient No. 3, confirmed on 01/25/2020.', 'First confirmed imported COVID-19 pneumonia patient in Jiangsu: male,37, returned to Jiangsu from Wuhan on 01/10/2020.', 'Second confirmed imported COVID-19 pneumonia patient in Sichuan: male, 57, Wuhan resident, visited Sichuan on 01/15/2020, symptom onset on 01/16/2020 and hospitalized.', 'new confirmed COVID-19 patient in South Korea: female, 69, same cluster as case 31', 'new confirmed COVID-19 patient in Singapore: male, 61, symptom onset 2/7, went to clinic 2/10, hospital on 2/12, NCID on 2/13', 'new confirmed COVID-19 patient in Japan: Tokyo, male, 50s, symptom onset 2/19 (Fever, malaise)', 'new confirmed COVID-19 patient in Taiwan: female, 20s, granddaughter of case 24, symptom onset 1/28 (cough, fever), went to doctor on 1/30, 2/4, 2/11', 'new confirmed COVID-19 patient in Japan: female, 60s, Fukuoka Prefecture', 'new confirmed COVID-19 patient in South Korea: female, 56', 'new confirmed COVID-19 patient in Japan: male, 20s, lives in Chiba Prefecture, symptom onset 2/2 (fever, cough), visited medical instutition 2/10, hospitalized for pneumonia 2/10', 'new confirmed COVID-19 patient in Hong Kong: female, 57, symptom onset 2/8 (sore throat), fever on 2/10, went to hospital between 2/12-2/16 and admitted on 2/16 and 2/17, went to hospital again on 2/23 and admitted, went to Osaka in Japan 1/26-1/30, returned 1/31', 'new confirmed COVID-19 patient in Spain: Valencia, male, 44, went to Pisa by plane and Milan by car to watch game on 2/19, sports journalist,', 'new confirmed COVID-19 patient in France: male, 36, back from Lombardy, hospitalized in Strasbourg', 'new confirmed COVID-19 patient in Japan: Kanagawa Prefecture, male, 50s, visited doctor 2/20 with fever, headache, malaise, re-examined 2/21 and 2/25', 'new confirmed COVID-19 patient in Spain: Castile and Leon, 18, student from Italy studying in Spain', 'new confirmed imported COVID-19 pneumonia patient 01/26-No.2 in Shaanxi: female, 64, healthcare worker in Wuhan, symptom onset on 01/10/2020 in Wuhan, arrived in Xian on 01/14/2020, visited clinic on 01/20/2020, confirmed on 01/26/2020', 'new confirmed imported COVID-19 pneumonia patient in Yunnan: female, 48, Wuhan resident, visited Tengchong, Yunnan on 01/22/2020, screened and isolated by local health authorities on 01/23/2020, hospitalized on 01/24/2020', 'new confirmed COVID-19 patient in Vietnam: male, 30, Vinh Phuc, returned from Wuhan for training, returned 1/17', 'new confirmed COVID-19 patient in South Korea: male, 74, Shincheonji cluster, died 2/26/2020', 'new confirmed COVID-19 patient in South Korea: male, 59, Cheongdo Daenam hospital cluster', 'new confirmed imported COVID-19 pneumonia patient 01/27-No.11 in Shaanxi: male, 31, lives in Hubei, symptom onset at the end of December, visited Shanxi on 01/21/2020, visited clinic on 01/21/2020, confirmed on 01/27 2020.', 'new confirmed imported COVID-19 pneumonia patient in Beijing: female, 32, visited Wuhan on 01/13/2020, return to Beijing on 01/17/2020, symptoms onset while in Wuhan, hospitalized on 01/20/2020.', 'confirmed imported COVID-19 pneumonia patient in Gansu: female, 33, works in Wuhan, arrived in Gansu on 01/18/2020, symptom onset on 01/18/2020, visit clinic on 01/23/2020, hospitalized on 01/23/2020.', 'new confirmed COVID-19 patient in Iran: Araq, doctor', 'new confirmed COVID-19 patient in South Korea: female, 40, contact of case 31', 'new confirmed COVID-19 patient in Singapore: male, 38', 'new confirmed COVID-19 patient in Japan: female, 70s, Chiba, symptom onset 2/14 (fever), went to medical instutition 2/15, transferred to airport 2/16, went to tour 2/16-2/18, visited medical instution 2/18, visited other instutition 2/19, hospitalized 2/20', 'new confirmed COVID-19 patient in Spain: male, Seville (Andalusia), 62', 'new confirmed COVID-19 patient in US: male, from Santa Clara County, traveled to Wuhan and Shanghai before returning on 1/24/2020, never sick enough to be hospitalized and \"self-isolated\" at home, left twice to seek care at local clinic and hospital', 'new confirmed COVID-19 patient in France: Paris, returning from Italy', 'new confirmed COVID-19 patient in Spain: male, British, in Mallorca, under observation in hospital on 2/7 after came into contact with Brit holidaying in France who was then diagnosed', 'new confirmed COVID-19 patient in Hong Kong: female, 25, cousin of 2/9-No.1, had hot pot with him 1/26', 'new confirmed COVID-19 patient in Japan: male, under 10 years, Hokkaido, symptom onset 2/15 (fever), medical consultation 2/17, 2/18, 2/19', 'First recovered imported COVID-19 pneumonia patient in Shanghai: female, 56, lives in Wuhan, symptom onset on 01/10/2020 while in Wuhan, arrived in Shanghai on 01/12/2020, visit clinic on 01/15/2020.', 'new confirmed COVID-19 patient in Germany: male, 25, took trip to Milan, admitted to hospital 2/24, Baden-Wurttemberg', 'new confirmed COVID-19 patient in Germany: male, 47, North Rhine-Westphalia, isolated 2/24 with symptoms of severe pneumonia, symptom onset 2/16 (fever, cough)', 'confirmed COVID-19 pneumonia patient No.13 in Tianjin: female, 19, symptom onset on 01/19/2020, hospitalized on 01/20/2020, confirmed on 01/26/2020', 'new confirmed imported COVID-19 pneumonia patient 01/25-No.8 in Shaanxi: male, 28, Xian resident, visited Wuhan from 01/09/2020 to 01/22/2020, symptom onset on 01/20/2020, visit clinic on 01/23/2020, confirmed on 01/25/2020', 'new confirmed COVID-19 patient in Japan: Hokkaido, male, 80s', 'new confirmed COVID-19 patient in Japan: Hokkaido, male, 60s, fever 2/18, went to doctor 2/22, sore throat, joint pain, dyspnea 2/23, hospitalized 2/24', 'new confirmed COVID-19 patient in Malaysia: female, 59, from Wuhan, holidaying in Johor Baru, arrived in Singapore on 1/17, went to Johor Baru 1/21, symptom onset 1/26 (fever)', 'new confirmed COVID-19 patient in Singapore: female, 44, Indonesian national, symptom onset 2/2/2020, did not leave house until admitted to hospital 2/3/2020, no recent travel history to China, domestic helpers of 2/4-No.1', 'new confirmed COVID-19 patient in Taiwan: 2/7-No.2, female, in her 50s, married to 2/7-No.1, traveled to Italy 1/22, returned 2/1, diagnosed with common cold 2/3', 'new confirmed COVID-19 patient in US: female, 57, married to 2/3-No.1, San Benito County, symptom onset 1/29/2020, hospitalized', 'new confirmed COVID-19 patient in Hong Kong: female, 55, aunt of 2/9-No.1, had hot pot with him on 1/26, lives in Sha Tin, symptom onset 1/30 (fever, cough, runny nose), went to doctor 1/30, admitted to hospital 2/9', 'new confirmed imported COVID-19 pneumonia patient in Tianjin: male, 39, visited Wuhan recently.', 'new confirmed COVID-19 patient in South Korea: female, 48, same cluster as case 31', 'new confirmed COVID-19 patient in Japan: male, 60s, symptom onset 2/12 (fever, cough), Tokyo', 'new confirmed COVID-19 patient in Germany: child of employee at same company', 'new confirmed COVID-19 patient in Spain: Madrid, returned from trip to northern Italy', 'new confirmed COVID-19 patient in Singapore: male, husband of 2/4-No.2, had not been to China recently, at NCID, symptom onset 1/24/2020 (fever), visited clinic with wife on 1/30/2020, went to NCID on 2/3/2020', 'new confirmed imported COVID-19 pneumonia patient in Beijing: female,33, Wuhan resident, visiting Beijing, seek care on 01/20/2020 after symptom onset.', 'new confirmed COVID-19 patient in South Korea: female, 21, daughter of 2/4-No.1', 'new confirmed COVID-19 patient in Singapore: female, 30, symptom onset 2/16, went to clinic 2/17, identified as contact of case 66, went to NCID 2/21', 'new confirmed imported COVID-19 pneumonia patient 01/25-No.9 in Shaanxi: male, 27, Xianyang resident, works in Wuhan, returned to Shanxi on 01/18/2020, symptom onset on 01/21/2020, visit clinic on 01/21/2020, confirmed on 01/25/2020', 'new confirmed COVID-19 patient in South Korea: female, 61, symptom onset 2/7 (fever, chill), tested on 2/17, hospitalized 2/17', 'new confirmed COVID-19 patient in Japan: male, 60s, symptom onset 2/20 (fever, cough, malaise), went to doctor 2/21, Nagoya City', 'new confirmed COVID-19 patient in Germany: caught from 1/28-No.1 during contacts from 1/21-1/24, symptom onset 1/27/2020', 'new confirmed COVID-19 patient in Singapore: 2/4-No.1, female, 28, Singaporean, symptom onset 1/29/2020 (fever, sore throat), went to clinic 1/29/2020, hospital 1/30/2020 but discharged after found to not have pneumonia, stayed at home from 1/31/2020 to 2/2/2020 before being admitted to hospital on 2/3/3030, no recent travel history to China, work at shop tour group visited, group visited store 1/23', 'new confirmed COVID-19 patient in Japan: Hokkaido, male, 50s, close contact of another case, detected as contact 2/24, fever 2/25, health observation started 2/25', 'new confirmed COVID-19 patient in Taiwan: male, 20s, son of 2/7-No.1 and 2/7-No.2, traveled to Italy with parents from 1/22 to 1/31, transited through HK for Taiwan on 2/1, symptom onset 1/27 while in Italy', 'new death from COVID-19 pneumonia, female, 85, death on 01/21/2020', 'new confirmed COVID-19 patient in Thailand: Chinese national, from Chongqing province in China', 'new confirmed COVID-19 patient in Singapore: 43, male, linked to cluster at Grace Assembly of God, symptom onset 2/9, went to clinic 2/10, close contact of cases 51, home quarantine order on 2/13', 'new confirmed COVID-19 patient in Germany: Baden-Wuerttemberg, male, directly related to case 17', 'new confirmed COVID-19 patient in Japan: Osaka, female, 40s, went to doctor 2/6 with cough, again 2/13, 2/19 throat discomfort and chest pain, went to doctor 2/21, 2/22, 2/25', 'new confirmed COVID-19 patient in London, UK: 2/6-No.1, male, 53, caught in Singapore from 1/20-1/22, stayed at French resort between 1/24-1/28', 'new confirmed COVID-19 patient in Singapore: 1, male, evacuated from Wuhan 2/9', 'new confirmed COVID-19 patient in Singapore: 37, male, symptom onset 1/31/2020, clinic 2/2, hospital 2/6', 'new confirmed COVID-19 patient in UK: contracted virus in Tenerife', 'new death from COVID-19 pneumonia, male, 36, symptom onset on 01/06/2020, hospitalized on 01/09/2020, death on 01/23/2020', 'new confirmed COVID-19 patient in Japan: Sagamihara City, female, 50s, symptom onset 2/20 (mild cough, sputum, throat discomfort), husband diagnosed 2/22', 'new confirmed COVID-19 patient in UK: contracted virus in Italy', 'new confirmed COVID-19 patient in Vietnam: Thanh Hoa, recently returned from Wuhan', 'new confirmed COVID-19 patient in Philippines: female, 60, Chinese woman, arrived from Wuhan via HK on 1/20,', 'new confirmed COVID-19 patient in Japan: Sapporo City, male, 50s, symptom onset 2/14 (chills), visited doctor 2/17, slight fever, runny nose, nausea 2/17, re-examined 2/19 and 2/21, went to hospital 2/23', 'new confirmed COVID-19 patient in Japan: Sapporo City, female, 60s, symptom onset 2/17 (fever), visited doctor 2/17, re-examined 2/18, visited again 2/21, medical examination 2/24', 'new confirmed COVID-19 patient in Germany: male, 49, employee of Starnberf', 'new confirmed COVID-19 patient in Spain: female, on Canary Island of Tenerife', 'new confirmed COVID-19 patient in South Korea: male, 51, family member of 25th confirmed case, visited Guangdong from November 2019-January 31, 2020', 'new confirmed COVID-19 patient in Spain: Andalusia, female, 25, nurse who treated a coronavirus positive patient', 'new confirmed imported COVID-19 pneumonia patient 01/27-No.5 in Shaanxi: female, 63, lives in Wuhan, symptom onset on 01/10/2020, visited Xian, Shanxi on 01/15/2020, visit clinic on 01/24/2020, confirmed on 01/27/2020', 'new confirmed COVID-19 patient in Japan: Nagano Prefecture, male, 60s, stayed in Hokkaido 2/14-2/17, stayed in Tokyo 2/17-2/19, symptom onset 2/20 (fatigue), fever on 2/21, went to doctor on 2/21, went to health center 2/23, fever 2/24, hospitalized 2/24', 'confirmed COVID-19 pneumonia patient No.12 in Tianjin: female, 79, symptom onset on 01/24/2020, hospitalized on 01/24/2020, confirmed on 01/26/2020', 'new confirmed COVID-19 patient in Japan: male, 70s, Nagoya City, symptom onset 2/19 (fever, cough), went to medical consultation 2/21', 'new confirmed COVID-19 patient in Spain: Valencia, male, contact of case 14', 'new confirmed COVID-19 patient in Germany: male, 60, father of case 19, Baden-Wurttemberg', 'new confirmed COVID-19 patient in Japan: female, 60s, symptom onset 2/19 (fever, nasal discharge, headache), went to doctor 2/21, Nagoya City', 'new confirmed COVID-19 patient in Paris, France: doctor infected by patient 1/25-No.1, hospitalized', 'new confirmed COVID-19 patient in Queensland, Australia: male, 37, Chinese national from Wuhan, isolated in hospital, part of same tour group as 1/29-No.1', 'new confirmed imported COVID-19 pneumonia patient in Hunan: female, 23, symptom onset on 01/16/2020, hospitalized on 01/21/2020, prior exposure to Wuhan.', 'new confirmed COVID-19 patient in Japan: male, in his 40s, from Chiba prefecture, resident of Wuhan, wife (17th case) tested positive earlier, visited medical institution on 2/4/2020, arrived in Japan 1/21/2020 (no symptoms), symptom onset 1/24/2020 (fever, cough), went to medical institution 1/27/2020', 'new confirmed COVID-19 patient in Singapore: male, 37, Bangladesh national, symptom onset 2/7, close contact of cases 42, 47, went to hospital on 2/11', 'new confirmed COVID-19 patient in Singapore: 1/30-No.1, female, 73, from Wuhan, arrived in Singapore with family 1/21/2020, tested positive on 1/30/2020, symptom onset 1/28/2020', 'new confirmed imported COVID-19 pneumonia patient 01/27-No.7 in Shaanxi: female, 42, Xian resident, lives in Xian, visited Wuhan on 01/19/2020, symptom onset on 01/23/2020 in Xiaogan, Hubei, visited clinic there, returned to Xian, Shanxi on 01/24/2020, visit clinic on 01/24/2020, confirmed on 01/27/2020.', 'new confirmed COVID-19 patient in Taiwan: female, 60, younger sister of case 19, attended event on 1/27', 'new confirmed COVID-19 patient in Taiwan: male, 30s, related to case 19 and 20, symptom onset 1/28-2/6 (fever, cough), attended 1/27', 'new confirmed COVID-19 patient in Spain: Madrid, 24, also visited Italy', 'new confirmed COVID-19 patient in Hong Kong: male, 68, father of 2/9-No.1, had hot pot with him 1/26', 'new confirmed COVID-19 patient in Hong Kong: 2/10-No.2, female, 62, lives in same building as case 12 in Tsing Yi, symptom onset 2/3 (cough), went to doctor on 2/3, 2/5, 2/7 went to hospital 2/9, visited Macao from 1/18-1/19', 'new confirmed COVID-19 patient in South Korea: female, 52', 'new confirmed COVID-19 patient in Japan: male, 50s, lives in Wuhan, charter flight 2/17 to Japan', 'new confirmed COVID-19 patient in Singapore: 2/4-No.2, female, 48, Singaporean, symptom onset 1/25/2020, admitted 2/3/2020 to NCID, no recent travel history to China, work at shop tour group visited, group visited store 1/23', 'new confirmed COVID-19 patient in Japan: male, in his 40s, Wuhan resident, arrived in Japan 1/19/2020, symptom onset 1/14/2020 (fever, sore throat), went to medical institution on 1/15 and 1/17, hospitalized 1/22/2020, confirmed 1/24/2020', 'new confirmed COVID-19 patient in Japan: male, 50s, symptom onset 2/5 (fever, cough, sputum, malaise), Tokyo', 'new confirmed COVID-19 patient in Singapore: 54, male, travels frequently to Malaysia, symptom onset 1/28, went to clinic on 2/1, 2/5, 2/6, 2/10, NCID 2/18', 'new confirmed imported COVID-19 pneumonia patient 01/25-No.5 in Shaanxi: female, 45, wife of patient 01/25-No.4 Wuhan resident, arrived in Shanxi on 01/20/2020, symptom onset on 01/23/2020, confirmed on 01/25/2020', 'new confirmed COVID-19 patient in Taiwan: female, in her 40s, traveled to Macau 1/21-1/24, symptom onset 2/1 (fever, chills, sore throat, runny nose, shortness of breath), medical attention on 2/3', 'new confirmed COVID-19 patient in Japan: Hokkaido, male, 80s, cough 2/22, fever 2/23, hospitalized 2/24', 'new confirmed COVID-19 patient in Taiwan: female, 50, working in Wuhan since October 2019 and returned to Taiwan 1/20/2020, hospitalized 1/25/2020 after developing a fever and muscle aches, confirmed 1/27/2020', 'new confirmed COVID-19 patient in Taiwan: male, 20s, son of 2/7-No.1 and 2/7-No.2, traveled to Italy with parents from 1/22 to 1/31, transited through HK for Taiwan on 2/1', 'new confirmed COVID-19 patient in Spain: Valencia, female, travelled to Milan', 'new confirmed imported COVID-19 pneumonia patient 01/26-No.1 in Shaanxi: female, 30, Xian resident, close contact with 01/23-No.2 symptom onset during quarantine, confirmed on 01/26/2020', 'new confirmed COVID-19 patient in South Korea: male, 29', 'new confirmed COVID-19 patient in Germany: NRW, female, attended carnival event in Gangelt on 2/15', 'new confirmed COVID-19 patient in UAE: female, 64', 'new COVID-19 patient confirmed in Bahrain: female, Saudi Arabian, returning from Iran', 'new confirmed COVID-19 patient in Singapore: female, 56, married to 1/29-No.2, arrived in Singapore 1/19/2020, warded in isolation rooms, symptom onset 1/24/2020, went to hospital on 1/27/2020, confirmed 1/28/2020, Church cluster', 'new confirmed COVID-19 patient in Taiwan: female, 70s, wife of case 27, physical discomfort on 2/6 and saw doctor on 2/6, sought medical attentio four times for respiratory symptoms from 2/10-2/19', 'new confirmed COVID-19 patient in Thailand: female, 54, Chinese tourist from Wuhan, admitted to hospital on 2/6', 'new confirmed COVID-19 patient in Japan: female, 50s, Wakayama, symptom onset 2/7 (fever, cough), married to case 38', 'new confirmed COVID-19 patient in Hong Kong: male, 80, visited Shenzhen for a few hours on 1/10/2020, flight to Japan on 1/17/2020 and returned to HK on cruise on 1/25/2020, symptom onset 1/19/2020, hospitalized on 1/30/2020 for high fever', 'new confirmed imported COVID-19 pneumonia patient in Hunan: male, 45, symptom onset on 01/16/2020, hospitalized on 01/21/2020, prior exposure to Wuhan.', 'new confirmed COVID-19 patient in Hong Kong: male, 68, passenger of Diamond Princess cruise, stayed on cruise from 1/25-2/20, returned to Hong Kong by chartered flight on 2/20, symptom onset 2/20 (cough, fever), transferred to hospital 2/22 and admitted', 'confirmed imported COVID-19 pneumonia patient No.1 in Tianjin: female, 59, travel history to Wuhan, symptom onset on 01/14/2020, confirmed on 01/21/2020', 'new confirmed COVID-19 patient in Germany: Rhineland-Palatinate, doctor who was infected by case 21'}\n",
      "location ######### values:  {'Fukuoka Prefecture', 'Tsing Yi', 'Preah Sihanouk Province', 'Tehran', 'Henan', 'Guizhou', 'Strasbourg', 'Zhejiang', 'Shaanxi', 'Zabaikalsky', 'Rhineland-Palatinate', 'Sichuan', 'Belgium', 'Japan', 'Vancouver', 'Valencia', 'France', 'Paris', 'Mallorca', 'Washington', 'Manila', 'Wan Chai', 'Jonkoping', 'Liaoning', 'Kwai Chung', 'Ho Chi Minh City', 'Shanxi (陕西)', 'Osaka Prefecture', 'Lebanon', 'Hokkaido', 'Hunan', 'Bern', 'Kowloon', 'Johor', 'Chongqing', 'Malaysia', 'Alappuzha', 'Araq', 'Bavaria', 'Toronto', 'Nortern Ireland', 'Kathmandu', 'Arizona', 'NSW', 'Wales', 'Tenerife', 'Nagano Prefecture', 'Thanh Hoa', 'Tyumen', 'Singapore', 'Qom', 'Amiens', 'Wuhan, Hubei', 'Hechi, Guangxi', 'Nantes', 'Nagoya City', 'Wisconsin', 'Mie', 'Lyon', 'Vinh Phuc', 'Nara Prefecture', 'Kumamoto City', 'Kyoto', 'Gansu', 'Shandong', 'Shanghai', 'Heilongjiang', 'Seoul', 'Kuwait', 'Massachusetts', 'North Rhine-Westphalia', 'Rome', 'California', 'South Korea', 'Phillipines', 'Annecy', 'Guilan', 'Yau Ma Tei', 'Gifu Prefecture', 'Innsbruck', 'Hamburg', 'Fujian', 'Xinjiang', 'Hebei', 'Castile and Leon', 'Queensland', 'Algeria', 'Ningxia', 'Montpellier', 'Kumamoto Prefecture', 'Tianjin', 'Canary Islands', 'York', 'Hong Kong', 'Lapland', 'Chiba Prefecture', 'Zaragoza', 'Egypt', 'Kerala', 'Bois-Guillaume', 'Jilin', 'Ngau Chi Wan', 'Victoria', 'Texas', 'Dijon', 'UAE', 'Bahrain', 'Hanoi', 'Thailand', 'Castellon', 'Andalusia', 'Nice', 'South Australia', 'Kwun Tong', 'Langkawi', 'Wakayama Prefecture', 'Baden-Wuerttemberg', 'Fo Tan', 'Sapporo', 'Taiwan', 'Croatia', 'London', 'Zhuhai', 'Hubei', 'Bordeaux', 'Aichi Prefecture', 'Vietnam', 'Guangxi', 'Sagamihara', 'Yunnan', 'Lile', 'Brest', 'Tubingen', 'Frankfurt', 'Sri Lanka', 'Beijing', 'Illinois', 'Jiangsu', 'Macau', 'Shanxi', 'Inner Mongolia', 'Madrid', 'Saitama Prefecture', 'Hesse', 'Afghanistan', 'Okinawa Prefecture', 'Haneda', 'Saint-Mande', 'UK', 'Jiangxi', 'Kanagawa', 'Barcelona', 'Tokyo', 'Ishikawa', 'Israel'}\n",
      "country ######### values:  {'Malaysia', 'Australia', 'Sweden', 'Finland', 'Russia', 'USA', 'Algeria', 'Taiwan', 'Italy', 'Iran', 'Cambodia', 'Croatia', 'Spain', 'Belgium', 'Japan', 'France', 'Hong Kong', 'Austria', 'Singapore', 'Vietnam', 'Egypt', 'Switzerland', 'Germany', 'Sri Lanka', 'Nepal', 'Canada', 'India', 'Afghanistan', 'Kuwait', 'UAE', 'Bahrain', 'Thailand', 'UK', 'China', 'South Korea', 'Phillipines', 'Lebanon', 'Israel'}\n",
      "gender ######### values:  {'male', 'NaN', 'female'}\n",
      "age ######### values:  {0.5, 1.0, 2.0, 0.25, 4.0, 5.0, 6.0, 8.0, 9.0, 11.0, 15.0, 16.0, 18.0, 19.0, 20.0, 21.0, 22.0, 23.0, 24.0, 25.0, 26.0, 27.0, 28.0, 29.0, 30.0, 31.0, 32.0, 33.0, 34.0, 35.0, 36.0, 37.0, 38.0, 39.0, 40.0, 41.0, 42.0, 43.0, 44.0, 45.0, 46.0, 47.0, 48.0, 49.0, 50.0, 51.0, 52.0, 53.0, 54.0, 55.0, 56.0, 57.0, 58.0, 59.0, 60.0, 61.0, 62.0, 63.0, 64.0, 65.0, 66.0, 67.0, 68.0, 69.0, 70.0, 71.0, 72.0, 73.0, 74.0, 75.0, 76.0, 77.0, 78.0, 79.0, 80.0, 81.0, 82.0, 83.0, 84.0, 85.0, 86.0, 87.0, 89.0, 91.0, 96.0, 'NaN'}\n",
      "symptom_onset ######### values:  {'2/20/2020', '1/24/2020', '01/10/20', '01/05/20', '01/21/2020', '02/10/20', '1/28/2020', '2/19/2020', '12/23/2019', '12/22/2019', '01/20/2020', '01/17/2020', '01/03/20', '2/23/2020', '01/13/2020', '01/08/20', '1/29/2020', '01/11/20', '02/01/20', '02/11/20', '2/13/2020', '2/21/2020', '2/25/2020', '02/06/20', '1/22/2020', '1/19/2020', '1/31/2020', '1/16/2020', '01/04/20', '01/12/20', '01/02/20', '02/02/20', '1/21/2020', '2/16/2020', '1/27/2020', '2/22/2020', '1/25/2020', '01/22/2020', '02/03/20', '12/10/19', '1/13/2020', '01/15/2020', '2/14/2020', '01/23/2020', '01/07/20', '02/09/20', '01/18/2020', '2/26/2020', '12/20/2019', '1/17/2020', '1/18/2020', '02/07/20', '02/04/20', '2/18/2020', '2/17/2020', '01/06/20', '1/26/2020', 'NaN', '2/24/2020', '01/09/20', '1/14/2020', '1/30/2020', '1/20/2020', '1/15/2020', '1/23/2020', '02/12/20', '02/08/20', '02/05/20', '12/29/2019', '2/15/2020', '12/30/2019'}\n",
      "If_onset_approximated ######### values:  {0.0, 1.0, 'NaN'}\n",
      "hosp_visit_date ######### values:  {'2/20/2020', '12/27/2019', '1/24/2020', '01/10/20', '01/05/20', '1/28/2020', '02/10/20', '2/19/2020', '1/27/2020', '01/03/20', '2/23/2020', '1/29/2020', '02/01/20', '01/08/20', '01/11/20', '2/13/2020', '02/11/20', '2/21/2020', '12/31/2019', '2/25/2020', '02/06/20', '1/22/2020', '1/19/2020', '1/31/2020', '2/28/2020', '1/16/2020', '01/12/20', '02/02/20', '1/21/2020', '2/16/2020', '2/22/2020', '1/25/2020', '02/03/20', '1/13/2020', '2/14/2020', '02/09/20', '2/26/2020', '1/18/2020', '1/17/2020', '02/07/20', '02/04/20', '2/18/2020', '2/17/2020', '2//2020', '01/06/20', '1/26/2020', 'NaN', '2/24/2020', '01/09/20', '1/14/2020', '2/27/2020', '1/20/2020', '1/15/2020', '1/23/2020', '1/30/2020', '02/12/20', '02/08/20', '2/22/20', '02/05/20', '01/01/20', '2/15/2020'}\n",
      "exposure_start ######### values:  {'2/20/2020', '1/24/2020', '01/10/20', '02/10/20', '1/28/2020', '2/19/2020', '1/27/2020', '01/03/20', '01/13/2020', '01/08/20', '01/11/20', '12/17/2019', '12/24/2019', '02/11/20', '2/21/2020', '1/22/2020', '1/19/2020', '01/12/20', '1/16/2020', '1/21/2020', '1/25/2020', '1/13/2020', '12/20/2019', '1/18/2020', '1/17/2020', '02/04/20', '01/19/2020', '2/17/2020', '01/06/20', '1/26/2020', 'NaN', '01/09/20', '1/14/2020', '1/30/2020', '1/20/2020', '1/15/2020', '1/23/2020', '02/12/20', '2/15/2020'}\n",
      "exposure_end ######### values:  {'2/20/2020', '1/24/2020', '01/10/20', '01/05/20', '1/28/2020', '2/19/2020', '1/27/2020', '01/03/20', '2/23/2020', '01/08/20', '1/29/2020', '02/01/20', '01/11/20', '2/13/2020', '2/21/2020', '2/25/2020', '1/22/2020', '1/19/2020', '1/31/2020', '01/12/20', '01/04/20', '1/16/2020', '01/02/20', '02/02/20', '1/21/2020', '2/16/2020', '2/22/2020', '01/22/2020', '1/25/2020', '02/03/20', '1/13/2020', '01/07/20', '02/09/20', '01/18/2020', '1/18/2020', '1/17/2020', '02/04/20', '2/18/2020', '02/07/20', '2/17/2020', '01/06/20', '2/24/2020', 'NaN', '1/26/2020', '01/09/20', '1/14/2020', '1/30/2020', '1/20/2020', '1/15/2020', '1/23/2020', '02/08/20', '02/05/20', '2/15/2020'}\n",
      "visiting Wuhan ######### values:  {0, 1}\n",
      "from Wuhan ######### values:  {0.0, 1.0, 'NaN'}\n",
      "death ######### values:  {'2/24/2020', '2/25/2020', '0', '2/27/2020', '2/14/2020', '2/28/2020', '2/19/2020', '2/22/2020', '2/23/2020', '02/01/20', '2/26/2020', '2/13/2020', '2/21/2020', '1'}\n",
      "recovered ######### values:  {'2/20/2020', '2/19/2020', '2/23/2020', '2/13/2020', '02/11/20', '2/21/2020', '2/25/2020', '02/06/20', '1/31/2020', '2/28/2020', '02/02/20', '2/16/2020', '1', '2/22/2020', '0', '2/14/2020', '02/09/20', '2/26/2020', '02/07/20', '1/17/2020', '02/04/20', '2/18/2020', '2/17/2020', '2/24/2020', '12/30/1899', '2/27/2020', '1/30/2020', '1/15/2020', '02/12/20', '02/08/20', '02/05/20', '2/15/2020'}\n",
      "symptom ######### values:  {'throat discomfort', 'fatigue, malaise, headache', 'cough, malaise', 'fever, cough', 'reflux', 'fever, runny nose', 'cough, sore throat', 'fever, nasal discharge, headache', 'mild cough, sputum, throat discomfort', 'throat pain, chills', 'fever, fatigue, cough, diarrhea', 'malaise, fever, headache', 'cough, sputum, dyspnea', 'difficulty breathing', 'cough, joint pain', 'fever, vomiting, diarrhea', 'fever, abdominal pain, diarrhea', 'vomiting, diarrhea, fever, cough', 'fever, sore throat', 'sore throat, fever', 'cough, fever, chills', 'fever, sore throat, cough', 'joint pain, muscle pain, cough, malaise', 'fever, muscle aches', 'fever, breathlessness, malaise', 'fever, thirst', 'cold, fever, pneumonia', 'fever, chills, muscle cramps', 'cough, chills, shortness of breath, diarrhea', 'fever, loss of appetite', 'fever, malaise', 'fever, respiratory distress', 'fever, cough, chills', 'fever, cough, sore throat, runny nose', 'nausea', 'fatigue, joint pain, fever', 'fever', 'headache', 'cough, fever, headache, nausea, vomiting, diarrhea', 'cough, shortness of breath', 'fever, cough, malaise', 'fever, cough, sputum', 'sore throat, fever, joint pain, dyspnea', 'cough, runny nose', 'cough, diarrhea, vomiting', 'fever, headache', 'fever, headache, malaise, joint pain', 'runny nose', 'NaN', 'tired', 'chills', 'cough, fever', 'fever, cough, sore throat', 'throat pain, fever', 'cough', 'fatigue, difficulty breathing', 'fever, cough, breathlessness', 'sore throat', 'fever, malaise, diarrhea, cough', 'cough, chill, muscle pain', 'cough, chills, joint pain', 'feaver, cough, difficult in breathing', 'fatigue, fever', 'high fever, chills, muscle pain', 'sore body', 'vomiting, cough, fever, sore throat', 'high fever, aching muscles', 'fever, malaise, sore throat', 'sore throat, fever, diarrhea', 'cough, fever, joint pain', 'cough, runny nose, diarrhea', 'cough, sputum, sore throat', 'fever, chills, sore throat, headache', 'throat discomfort, cough, chest pain', 'fever, chills, joint pain, heavy head', 'cough, malaise, shortness of breath', 'mild fever', 'fatigue, loss of appetite', 'cough, chest pain', 'fatigue', 'headache, fever, malaise', 'fever, myalgia, shortness of breath', 'sore throat, cough, fever', 'fatigue, cold, fever, vomiting', 'flu symptoms', 'cough, sputum', 'fever, cough, sputum, dyspnea', 'fever, difficulty breathing', 'fever, cough, sputum, malaise', 'fever, coughing, muscle aches', 'fever, chills, sore throat, runny nose, shortness of breath', 'fever, headache, malaise', 'fever, pneumonia', 'fever, cough, headache', 'fever, sore throat, malaise', 'cough, sneeze', 'cough, itchy throat', 'fever, cough, shortness of breath', 'fever, cough, flu', 'fatigue, muscle pain, joint pain, fever', 'sore throat, chills, myalgias, fever, cough', 'myalgia, fever', 'runny nose, cough', 'physical discomfort', 'chest discomfort', 'fever, headache, runny nose', 'fever, cough, runny nose', 'feve\\\\', 'cough with sputum'}\n"
     ]
    }
   ],
   "source": [
    "#we'll drop the first 2 columns because it's clear that they are indexes, \n",
    "#Last two \"source\" and \"link\" are meta-data, we'll not need them also\n",
    "\n",
    "list_to_drop2=[ \"id\", \"source\", \"link\"]\n",
    "data3= data2.drop(columns=list_to_drop2)\n",
    "\n",
    "for col in data3.columns:\n",
    "  print(col, \"######### values: \", set(data3[col]))"
   ]
  },
  {
   "cell_type": "code",
   "execution_count": 10,
   "metadata": {
    "id": "D8h3u46zi5tJ"
   },
   "outputs": [],
   "source": [
    "data4=data3.copy()"
   ]
  },
  {
   "cell_type": "markdown",
   "metadata": {
    "id": "I4aBgZ5rt0rV"
   },
   "source": [
    "Now we'll try to fill in missing data based on summary"
   ]
  },
  {
   "cell_type": "code",
   "execution_count": 11,
   "metadata": {
    "colab": {
     "base_uri": "https://localhost:8080/"
    },
    "id": "t519q7VpsgZ8",
    "outputId": "cfea6573-c4e6-4a4f-a7f3-7ead96a8b96a"
   },
   "outputs": [
    {
     "data": {
      "text/plain": [
       "Series([], Name: summary, dtype: object)"
      ]
     },
     "execution_count": 11,
     "metadata": {},
     "output_type": "execute_result"
    }
   ],
   "source": [
    "#let's start with country\n",
    "data5=data4.copy()\n",
    "data5.loc[data5.country=='NaN'].summary"
   ]
  },
  {
   "cell_type": "code",
   "execution_count": 12,
   "metadata": {
    "id": "ZZWCusyIuuKE"
   },
   "outputs": [],
   "source": [
    "data5.loc[data5.summary.str.contains('patient in Japan'), \"country\"]= data5.loc[data5.summary.str.contains('patient in Japan'), \"country\"].replace(['NaN'], 'Japan')\n",
    "data5.loc[data5.summary.str.contains('patient in UK'), \"country\"]= data5.loc[data5.summary.str.contains('patient in UK'), \"country\"].replace(['NaN'], 'Japan')"
   ]
  },
  {
   "cell_type": "code",
   "execution_count": 13,
   "metadata": {
    "colab": {
     "base_uri": "https://localhost:8080/"
    },
    "id": "ViFw1-4sJjap",
    "outputId": "2e5a6ae7-451b-41b7-c651-2aea34f49105"
   },
   "outputs": [
    {
     "data": {
      "text/plain": [
       "Series([], Name: country, dtype: object)"
      ]
     },
     "execution_count": 13,
     "metadata": {},
     "output_type": "execute_result"
    }
   ],
   "source": [
    "data5.loc[data5.summary=='new confirmed COVID-19 patient in'].country"
   ]
  },
  {
   "cell_type": "markdown",
   "metadata": {
    "id": "sx-WrshNsN3L"
   },
   "source": [
    "We can conclude (based on summary) that the remaining missing NaN are probably linked to USA"
   ]
  },
  {
   "cell_type": "code",
   "execution_count": 14,
   "metadata": {
    "id": "la-cIOXIMhfC"
   },
   "outputs": [],
   "source": [
    "data5.loc[data5.summary=='new confirmed COVID-19 patient in', \"country\"]= data5.loc[data5.summary=='new confirmed COVID-19 patient in', \"country\"].replace('NaN', \"USA\")"
   ]
  },
  {
   "cell_type": "code",
   "execution_count": 15,
   "metadata": {
    "colab": {
     "base_uri": "https://localhost:8080/",
     "height": 86
    },
    "id": "mPwcW5JHqsr9",
    "outputId": "cc240859-2423-46cc-d3d3-fd644df7c38c"
   },
   "outputs": [
    {
     "data": {
      "text/html": [
       "<div>\n",
       "<style scoped>\n",
       "    .dataframe tbody tr th:only-of-type {\n",
       "        vertical-align: middle;\n",
       "    }\n",
       "\n",
       "    .dataframe tbody tr th {\n",
       "        vertical-align: top;\n",
       "    }\n",
       "\n",
       "    .dataframe thead th {\n",
       "        text-align: right;\n",
       "    }\n",
       "</style>\n",
       "<table border=\"1\" class=\"dataframe\">\n",
       "  <thead>\n",
       "    <tr style=\"text-align: right;\">\n",
       "      <th></th>\n",
       "      <th>case_in_country</th>\n",
       "      <th>reporting date</th>\n",
       "      <th>summary</th>\n",
       "      <th>location</th>\n",
       "      <th>country</th>\n",
       "      <th>gender</th>\n",
       "      <th>age</th>\n",
       "      <th>symptom_onset</th>\n",
       "      <th>If_onset_approximated</th>\n",
       "      <th>hosp_visit_date</th>\n",
       "      <th>exposure_start</th>\n",
       "      <th>exposure_end</th>\n",
       "      <th>visiting Wuhan</th>\n",
       "      <th>from Wuhan</th>\n",
       "      <th>death</th>\n",
       "      <th>recovered</th>\n",
       "      <th>symptom</th>\n",
       "    </tr>\n",
       "  </thead>\n",
       "  <tbody>\n",
       "  </tbody>\n",
       "</table>\n",
       "</div>"
      ],
      "text/plain": [
       "Empty DataFrame\n",
       "Columns: [case_in_country, reporting date, summary, location, country, gender, age, symptom_onset, If_onset_approximated, hosp_visit_date, exposure_start, exposure_end, visiting Wuhan, from Wuhan, death, recovered, symptom]\n",
       "Index: []"
      ]
     },
     "execution_count": 15,
     "metadata": {},
     "output_type": "execute_result"
    }
   ],
   "source": [
    "data5.loc[data5.country=='NaN']"
   ]
  },
  {
   "cell_type": "markdown",
   "metadata": {
    "id": "NgJLhUIjt0w-"
   },
   "source": [
    "Now country is clear, let's move to gender"
   ]
  },
  {
   "cell_type": "code",
   "execution_count": 16,
   "metadata": {
    "colab": {
     "base_uri": "https://localhost:8080/"
    },
    "id": "yho8UybCsvuS",
    "outputId": "533ffaa5-2d24-4fc8-cdb8-5e2af351ea2b"
   },
   "outputs": [
    {
     "data": {
      "text/plain": [
       "202     new confirmed COVID-19 patient in Paris, Franc...\n",
       "203     new confirmed COVID-19 patient in France: 9, i...\n",
       "204     new confirmed COVID-19 patient in France: in c...\n",
       "205     new confirmed COVID-19 patient in France: in c...\n",
       "206     new confirmed COVID-19 patient in France: in c...\n",
       "                              ...                        \n",
       "1062    new COVID-19 patient confirmed in Bahrain: ret...\n",
       "1063           new COVID-19 patient confirmed in Bahrain:\n",
       "1079    new COVID-19 patient confirmed in Austria: 24,...\n",
       "1080    new COVID-19 patient confirmed in Austria: 24,...\n",
       "1081    new COVID-19 patient confirmed in Afghanistan:...\n",
       "Name: summary, Length: 183, dtype: object"
      ]
     },
     "execution_count": 16,
     "metadata": {},
     "output_type": "execute_result"
    }
   ],
   "source": [
    "data6=data5.copy()\n",
    "data6.loc[data6.gender=='NaN'].summary"
   ]
  },
  {
   "cell_type": "code",
   "execution_count": 17,
   "metadata": {
    "colab": {
     "base_uri": "https://localhost:8080/"
    },
    "id": "TJ3k4E1x0i68",
    "outputId": "f1430d30-d0e4-4030-b1b4-4ae2e8045c89"
   },
   "outputs": [
    {
     "data": {
      "text/plain": [
       "{'NaN', 'female', 'male'}"
      ]
     },
     "execution_count": 17,
     "metadata": {},
     "output_type": "execute_result"
    }
   ],
   "source": [
    "data6.gender.replace(['20'], 'male', inplace=True) #replace one value of 20 by \"male\"\n",
    "set(data6.gender)"
   ]
  },
  {
   "cell_type": "code",
   "execution_count": 18,
   "metadata": {
    "id": "GP_xSiqluSRv"
   },
   "outputs": [],
   "source": [
    "#Fill NaN based on descriptions\n",
    "data6.loc[data6.summary.str.contains('male'), \"gender\"]= data6.loc[data6.summary.str.contains('male'), \"gender\"].replace(['NaN'], 'male')\n",
    "data6.loc[data6.summary.str.contains('female'), \"gender\"]= data6.loc[data6.summary.str.contains('female'), \"gender\"].replace(['NaN'], 'female')\n",
    "data6.loc[data6.summary.str.contains('Male'), \"gender\"]= data6.loc[data6.summary.str.contains('Male'), \"gender\"].replace(['NaN'], 'male')\n",
    "data6.loc[data6.summary.str.contains('Female'), \"gender\"]= data6.loc[data6.summary.str.contains('Female'), \"gender\"].replace(['NaN'], 'female')\n",
    "data6.loc[data6.summary.str.contains('man'), \"gender\"]= data6.loc[data6.summary.str.contains('man'), \"gender\"].replace(['NaN'], 'male')\n",
    "data6.loc[data6.summary.str.contains('Man'), \"gender\"]= data6.loc[data6.summary.str.contains('Man'), \"gender\"].replace(['NaN'], 'male')\n",
    "data6.loc[data6.summary.str.contains('woman'), \"gender\"]= data6.loc[data6.summary.str.contains('woman'), \"gender\"].replace(['NaN'], 'male')\n",
    "data6.loc[data6.summary.str.contains('Woman'), \"gender\"]= data6.loc[data6.summary.str.contains('Woman'), \"gender\"].replace(['NaN'], 'male')"
   ]
  },
  {
   "cell_type": "code",
   "execution_count": 19,
   "metadata": {
    "colab": {
     "base_uri": "https://localhost:8080/"
    },
    "id": "_N7vuovhzQ1A",
    "outputId": "ede6ea2d-4bb9-4975-e402-7552a218f282"
   },
   "outputs": [
    {
     "name": "stdout",
     "output_type": "stream",
     "text": [
      "Not resolved:  152\n",
      "new confirmed COVID-19 patient in Paris, France: doctor infected by patient 1/25-No.1, hospitalized\n",
      "new confirmed COVID-19 patient in France: 9, in contact with Briton who had been in Singapore and was positive\n",
      "new confirmed COVID-19 patient in France: in contact with Briton who had been in Singapore and was positive\n",
      "new confirmed COVID-19 patient in France: in contact with Briton who had been in Singapore and was positive\n",
      "new confirmed COVID-19 patient in France: in contact with Briton who had been in Singapore and was positive\n",
      "new confirmed COVID-19 patient in France: in contact with Briton who had been in Singapore and was positive\n",
      "new confirmed COVID-19 patient in France: in contact with Briton who had been in Singapore and was positive\n",
      "new confirmed COVID-19 patient in France: Paris, contact of case 15\n",
      "new confirmed COVID-19 patient in France: Paris, contact of case 15\n",
      "new confirmed COVID-19 patient in France: Dijon, contact of case 15\n",
      "new confirmed COVID-19 patient in France: Dijon, contact of case 15\n",
      "new confirmed COVID-19 patient in France: Dijon, contact of case 15\n",
      "new confirmed COVID-19 patient in France: Paris, returning from Italy\n",
      "new confirmed COVID-19 patient in France: Annecy, 60s, friend of case 14 and 18\n",
      "NaN\n",
      "new confirmed COVID-19 patient in Japan:\n",
      "new confirmed COVID-19 patient in Japan:\n",
      "new confirmed COVID-19 patient in Japan: under 10 years, Saitama Prefecture, returned home with father on 2nd charter flight out of Wuhan on 1/30, negative on arrival, returned home with father 2/1, father had fever 2/8, 2/10-2/19 symptom onset (cough, fever)\n",
      "new confirmed COVID-19 patient in Japan: Hokkaido, symptom onset 2/16 (cough), hospitalized 2/17, died 2/25\n",
      "new confirmed COVID-19 patient in Singapore: Singaporeans, evacuated from Wuhan 1/30/2020, no symptoms on boarding, tested positive 2/3/2020 despite having no symptoms\n",
      "new confirmed COVID-19 patient in Singapore: Singaporeans, evacuated from Wuhan 1/30/2020, no symptoms on boarding, tested positive 2/3/2020 despite having no symptoms\n",
      "new confirmed COVID-19 patient in South Korea:\n",
      "new confirmed COVID-19 patient in South Korea:\n",
      "new confirmed COVID-19 patient in South Korea:\n",
      "new confirmed COVID-19 patient in South Korea:\n",
      "new confirmed COVID-19 patient in South Korea:\n",
      "new confirmed COVID-19 patient in South Korea:\n",
      "new confirmed COVID-19 patient in South Korea:\n",
      "new confirmed COVID-19 patient in South Korea:\n",
      "new confirmed COVID-19 patient in South Korea:\n",
      "new confirmed COVID-19 patient in South Korea:\n",
      "new confirmed COVID-19 patient in South Korea:\n",
      "new confirmed COVID-19 patient in South Korea:\n",
      "new confirmed COVID-19 patient in South Korea:\n",
      "new confirmed COVID-19 patient in South Korea:\n",
      "new confirmed COVID-19 patient in South Korea:\n",
      "new confirmed COVID-19 patient in South Korea:\n",
      "new confirmed COVID-19 patient in South Korea:\n",
      "new confirmed COVID-19 patient in South Korea:\n",
      "new confirmed COVID-19 patient in South Korea:\n",
      "new confirmed COVID-19 patient in South Korea:\n",
      "new confirmed COVID-19 patient in South Korea:\n",
      "new confirmed COVID-19 patient in South Korea:\n",
      "new confirmed COVID-19 patient in Thailand: Chinese national, part of a family aged 6-60, traveling from Hubei province, one passenger taken to hospital after showing symptoms on arrival and other four members quarantined after showing symptoms following monitoring\n",
      "new confirmed COVID-19 patient in Thailand: Chinese national, part of a family aged 6-60, traveling from Hubei province, one passenger taken to hospital after showing symptoms on arrival and other four members quarantined after showing symptoms following monitoring\n",
      "new confirmed COVID-19 patient in Thailand: Chinese national, part of a family aged 6-60, traveling from Hubei province, one passenger taken to hospital after showing symptoms on arrival and other four members quarantined after showing symptoms following monitoring\n",
      "new confirmed COVID-19 patient in Thailand: Chinese national, part of a family aged 6-60, traveling from Hubei province, one passenger taken to hospital after showing symptoms on arrival and other four members quarantined after showing symptoms following monitoring\n",
      "new confirmed COVID-19 patient in Thailand: Chinese national, part of a family aged 6-60, traveling from Hubei province, one passenger taken to hospital after showing symptoms on arrival and other four members quarantined after showing symptoms following monitoring\n",
      "new confirmed COVID-19 patient in Thailand: Chinese national, from Chongqing province in China\n",
      "new confirmed COVID-19 patient in Thailand: Chinese national\n",
      "new confirmed COVID-19 patient in Thailand: Chinese national\n",
      "new confirmed COVID-19 patient in Thailand: Chinese national\n",
      "new confirmed COVID-19 patient in Thailand: Chinese national\n",
      "new confirmed COVID-19 patient in Thailand: Chinese national\n",
      "new confirmed COVID-19 patient in Thailand: 2/5-No.1, Thai, just returned from Japan\n",
      "new confirmed COVID-19 patient in Thailand: Thai, just returned from Japan, married to 2/5-No.1\n",
      "new confirmed COVID-19 patient in Thailand: Thai, driver who had driven Chinese tourists\n",
      "new confirmed COVID-19 patient in Thailand: Chinese tourist\n",
      "new confirmed COVID-19 patient in Thailand: Thai, evacuated on 2/4 from Wuhan\n",
      "new confirmed COVID-19 patient in Thailand: Thai, exposed to tourists\n",
      "new confirmed COVID-19 patient in Thailand: Thai, exposed to tourists\n",
      "new confirmed COVID-19 patient in Thailand: Chinese, related to someone who was previously confirmed\n",
      "new confirmed COVID-19 patient in Thailand: Chinese, related to someone who was previously confirmed\n",
      "new confirmed COVID-19 patient in Thailand: Chinese, related to someone who was previously confirmed\n",
      "new confirmed COVID-19 patient in Thailand: Chinese, tourist from \"risky area\" in China\n",
      "new confirmed COVID-19 patient in US: Orange County, at local hospital, recently traveled to Wuhan, confirmed 1/25/2020\n",
      "new confirmed COVID-19 patient in US: Arizona, recently traveled to Wuhan\n",
      "new confirmed COVID-19 patient in US: Wisconsin, came into contact with someone infected while traveling in China\n",
      "new confirmed COVID-19 patient in US: California, evacuated from Wuhan\n",
      "new confirmed COVID-19 patient in US: California, evacuated from Wuhan 2/7\n",
      "new confirmed COVID-19 patient in US: Texas, returned from Wuhan 2/7\n",
      "new confirmed COVID-19 patient in US: California\n",
      "new confirmed COVID-19 patient in US: California, recently traveled from China, returned on 2/2\n",
      "new confirmed COVID-19 patient in US: California, first case of community transmission, went to medical center 2/19, arrived from another hospital\n",
      "new confirmed COVID-19 patient in Vietnam: Hanoi, recently returned from Wuhan\n",
      "new confirmed COVID-19 patient in Vietnam: Hanoi, recently returned from Wuhan\n",
      "new confirmed COVID-19 patient in Vietnam: Thanh Hoa, recently returned from Wuhan\n",
      "new confirmed COVID-19 patient in Vietnam: same flight from Wuhan to Vietnam as three patients detected on 1/30\n",
      "new confirmed COVID-19 patient in Vietnam: same flight from Wuhan to Vietnam as three patients detected on 1/30\n",
      "new confirmed COVID-19 patient in Vietnam: same flight from Wuhan to Vietnam as three patients detected on 1/30\n",
      "new confirmed COVID-19 patient in Vietnam: 49, Vietnamese national from Vinh Phuc\n",
      "new confirmed COVID-19 patient in Vietnam: 3 months old, infected by grandma 2/9-No.1,\n",
      "new confirmed COVID-19 patient in UAE: arrived from Wuhan\n",
      "new confirmed COVID-19 patient in UAE: Chinese national\n",
      "new confirmed COVID-19 patient in UAE: Filipino national\n",
      "new confirmed COVID-19 patient in UAE: Indian national who had been in contact with another case\n",
      "new confirmed COVID-19 patient in UAE: Filipino national, 34\n",
      "new confirmed COVID-19 patient in UAE: from Bangladesh, 39\n",
      "new confirmed COVID-19 patient in UAE: Iranian, traveled from Iran\n",
      "new confirmed COVID-19 patient in UAE: Iranian, traveled from Iran\n",
      "new confirmed COVID-19 patient in UAE: Iranian, traveled from Iran\n",
      "new confirmed COVID-19 patient in UAE: Iranian, traveled from Iran\n",
      "new confirmed COVID-19 patient in UAE: Bahraini, traveled from Iran\n",
      "new confirmed COVID-19 patient in UAE: Chinese, traveled from Iran\n",
      "new confirmed COVID-19 patient in UAE: Italian participant in UAE Tour\n",
      "new confirmed COVID-19 patient in UAE: Italian participant in UAE Tour\n",
      "new confirmed COVID-19 patient in York, UK: 1/31-No.1, Chinese national, taken to infirmary\n",
      "new confirmed COVID-19 patient in York, UK: Chinese national, taken to infirmary, related to 1/31-No.1\n",
      "new confirmed COVID-19 patient in London, UK: infected by coming into contact with known carrier in France\n",
      "new confirmed COVID-19 patient in UK: passenger on Diamond Princess cruise ship\n",
      "new confirmed COVID-19 patient in UK: passenger on Diamond Princess cruise ship\n",
      "new confirmed COVID-19 patient in UK: passenger on Diamond Princess cruise ship\n",
      "new confirmed COVID-19 patient in UK: passenger on Diamond Princess cruise ship\n",
      "new confirmed COVID-19 patient in UK: contracted virus in Tenerife\n",
      "new confirmed COVID-19 patient in UK: contracted virus in Italy\n",
      "new confirmed COVID-19 patient in UK: Northern Ireland, recently traveled to northern Italy and Dublin\n",
      "new confirmed COVID-19 patient in UK: contracted while in Iran\n",
      "new confirmed COVID-19 patient in UK: contracted while in Iran\n",
      "new confirmed COVID-19 patient in Alappuzha, India: student from Wuhan, returned to Kerala on 1/24/2020, now in hospital\n",
      "new confirmed COVID-19 patient in Kerala, India: student who returned from Wuhan last month, in hospital\n",
      "new confirmed COVID-19 patient in Spain: Madrid, 24, also visited Italy\n",
      "new confirmed COVID-19 patient in Spain: Madrid, returned from trip to northern Italy\n",
      "new confirmed COVID-19 patient in Spain: Tenerife, accompanied case 3 and 4\n",
      "new confirmed COVID-19 patient in Spain: Tenerife, accompanied case 3 and 4\n",
      "new confirmed COVID-19 patient in Spain: Madrid, 77\n",
      "new confirmed COVID-19 patient in Spain: Madrid, 50\n",
      "new confirmed COVID-19 patient in Spain: Castile and Leon, 18, student from Italy studying in Spain\n",
      "new confirmed COVID-19 patient in Spain: Andalusia, 81, family member of previous infected case\n",
      "new confirmed COVID-19 patient in Spain: Madrid, admitted to hospital 2/28, 66\n",
      "new confirmed COVID-19 patient in Belgium: evacuated from Wuhan on 2/2\n",
      "new confirmed COVID-19 patient in Egypt: \"foreigner\"\n",
      "new confirmed COVID-19 patient in Iran: died, in Qom\n",
      "new confirmed COVID-19 patient in Iran: died, in Qom\n",
      "new confirmed COVID-19 patient in Iran: Qom\n",
      "new confirmed COVID-19 patient in Iran: Qom\n",
      "new confirmed COVID-19 patient in Iran: Araq, doctor\n",
      "new confirmed COVID-19 patient in Iran: Qom\n",
      "new confirmed COVID-19 patient in Iran: Qom\n",
      "new confirmed COVID-19 patient in Iran: Qom\n",
      "new confirmed COVID-19 patient in Iran: Qom\n",
      "new confirmed COVID-19 patient in Iran: Qom\n",
      "new confirmed COVID-19 patient in Iran: Qom\n",
      "new confirmed COVID-19 patient in Iran: Qom\n",
      "new confirmed COVID-19 patient in Iran: Tehran\n",
      "new confirmed COVID-19 patient in Iran: Tehran\n",
      "new confirmed COVID-19 patient in Iran: Tehran\n",
      "new confirmed COVID-19 patient in Iran: Tehran\n",
      "new confirmed COVID-19 patient in Iran: Guilan\n",
      "new confirmed COVID-19 patient in Iran: Guilan\n",
      "new confirmed COVID-19 patient in Kuwait: returned from Iran\n",
      "new confirmed COVID-19 patient in Kuwait: returned from Iran\n",
      "new confirmed COVID-19 patient in Kuwait: returned from Iran\n",
      "new confirmed COVID-19 patient in Kuwait: returned from Iran\n",
      "new confirmed COVID-19 patient in Kuwait: returned from Iran\n",
      "new confirmed COVID-19 patient in Kuwait: returned from Iran\n",
      "new confirmed COVID-19 patient in Kuwait: returned from Iran\n",
      "new confirmed COVID-19 patient in Kuwait: returned from Iran\n",
      "new COVID-19 patient confirmed in Bahrain: returning from Iran\n",
      "new COVID-19 patient confirmed in Bahrain:\n",
      "new COVID-19 patient confirmed in Austria: 24, Innsbruck, from Lombardy\n",
      "new COVID-19 patient confirmed in Austria: 24, Innsbruck\n",
      "new COVID-19 patient confirmed in Afghanistan: 35, recently returned from Qom\n"
     ]
    }
   ],
   "source": [
    "#how many still not resolved (gender) ?\n",
    "print(\"Not resolved: \", len(data6.loc[data6.gender=='NaN']))\n",
    "for sum in data6.loc[data6.gender=='NaN'].summary:\n",
    "  print(sum)"
   ]
  },
  {
   "cell_type": "markdown",
   "metadata": {
    "id": "ERwOnyB8r3J1"
   },
   "source": [
    "As of now for the rest, there is no information about gender in summary, we'll get back to them later, let's move to location"
   ]
  },
  {
   "cell_type": "code",
   "execution_count": 20,
   "metadata": {
    "colab": {
     "base_uri": "https://localhost:8080/"
    },
    "id": "m-y3vhCGzrqQ",
    "outputId": "94918298-09e4-4bd3-e75f-de0c0e78bef1"
   },
   "outputs": [
    {
     "data": {
      "text/plain": [
       "Series([], Name: summary, dtype: object)"
      ]
     },
     "execution_count": 20,
     "metadata": {},
     "output_type": "execute_result"
    }
   ],
   "source": [
    "data7=data6.copy()\n",
    "data7.loc[data7.location=='NaN'].summary"
   ]
  },
  {
   "cell_type": "code",
   "execution_count": 21,
   "metadata": {
    "colab": {
     "base_uri": "https://localhost:8080/"
    },
    "id": "IdlOTydbuv4F",
    "outputId": "fc9015cc-b3c6-43cc-d26a-38a584b92d06"
   },
   "outputs": [
    {
     "data": {
      "text/plain": [
       "set()"
      ]
     },
     "execution_count": 21,
     "metadata": {},
     "output_type": "execute_result"
    }
   ],
   "source": [
    "#We can't extract locations from summary (though they might not be existing), so we'll fill in by the corresponding country capital\n",
    "set(data7.loc[data7.location=='NaN'].country)"
   ]
  },
  {
   "cell_type": "code",
   "execution_count": 22,
   "metadata": {
    "id": "2v5B2e2A30MY"
   },
   "outputs": [],
   "source": [
    "data7.loc[(data7.location=='NaN') & (data7.country=='Japan'), 'location']= data7.loc[(data7.location=='NaN') & (data7.country=='Japan'), 'location'].replace(['NaN'], 'Tokyo')\n",
    "data7.loc[(data7.location=='NaN') & (data7.country=='USA'), 'location']= data7.loc[(data7.location=='NaN') & (data7.country=='USA'), 'location'].replace(['NaN'], 'Washington')"
   ]
  },
  {
   "cell_type": "code",
   "execution_count": 23,
   "metadata": {
    "colab": {
     "base_uri": "https://localhost:8080/",
     "height": 86
    },
    "id": "mJMLRS_jxYrU",
    "outputId": "6e524486-bae4-45f7-9fb7-891af9070c32"
   },
   "outputs": [
    {
     "data": {
      "text/html": [
       "<div>\n",
       "<style scoped>\n",
       "    .dataframe tbody tr th:only-of-type {\n",
       "        vertical-align: middle;\n",
       "    }\n",
       "\n",
       "    .dataframe tbody tr th {\n",
       "        vertical-align: top;\n",
       "    }\n",
       "\n",
       "    .dataframe thead th {\n",
       "        text-align: right;\n",
       "    }\n",
       "</style>\n",
       "<table border=\"1\" class=\"dataframe\">\n",
       "  <thead>\n",
       "    <tr style=\"text-align: right;\">\n",
       "      <th></th>\n",
       "      <th>case_in_country</th>\n",
       "      <th>reporting date</th>\n",
       "      <th>summary</th>\n",
       "      <th>location</th>\n",
       "      <th>country</th>\n",
       "      <th>gender</th>\n",
       "      <th>age</th>\n",
       "      <th>symptom_onset</th>\n",
       "      <th>If_onset_approximated</th>\n",
       "      <th>hosp_visit_date</th>\n",
       "      <th>exposure_start</th>\n",
       "      <th>exposure_end</th>\n",
       "      <th>visiting Wuhan</th>\n",
       "      <th>from Wuhan</th>\n",
       "      <th>death</th>\n",
       "      <th>recovered</th>\n",
       "      <th>symptom</th>\n",
       "    </tr>\n",
       "  </thead>\n",
       "  <tbody>\n",
       "  </tbody>\n",
       "</table>\n",
       "</div>"
      ],
      "text/plain": [
       "Empty DataFrame\n",
       "Columns: [case_in_country, reporting date, summary, location, country, gender, age, symptom_onset, If_onset_approximated, hosp_visit_date, exposure_start, exposure_end, visiting Wuhan, from Wuhan, death, recovered, symptom]\n",
       "Index: []"
      ]
     },
     "execution_count": 23,
     "metadata": {},
     "output_type": "execute_result"
    }
   ],
   "source": [
    "data7.loc[data7.location=='NaN']"
   ]
  },
  {
   "cell_type": "markdown",
   "metadata": {
    "id": "sFIl4K2VyUkt"
   },
   "source": [
    "location is now cleared, let's move to If_onset_approximated"
   ]
  },
  {
   "cell_type": "code",
   "execution_count": 24,
   "metadata": {
    "colab": {
     "base_uri": "https://localhost:8080/"
    },
    "id": "X9uRfKOSzl2M",
    "outputId": "0a27771c-9910-4cc2-d0b2-795716faa71c"
   },
   "outputs": [
    {
     "data": {
      "text/plain": [
       "case_in_country          object\n",
       "reporting date           object\n",
       "summary                  object\n",
       "location                 object\n",
       "country                  object\n",
       "gender                   object\n",
       "age                      object\n",
       "symptom_onset            object\n",
       "If_onset_approximated    object\n",
       "hosp_visit_date          object\n",
       "exposure_start           object\n",
       "exposure_end             object\n",
       "visiting Wuhan            int64\n",
       "from Wuhan               object\n",
       "death                    object\n",
       "recovered                object\n",
       "symptom                  object\n",
       "dtype: object"
      ]
     },
     "execution_count": 24,
     "metadata": {},
     "output_type": "execute_result"
    }
   ],
   "source": [
    "data8=data7.copy()\n",
    "data8.dtypes"
   ]
  },
  {
   "cell_type": "code",
   "execution_count": 25,
   "metadata": {
    "colab": {
     "base_uri": "https://localhost:8080/"
    },
    "id": "QS3TE_o00Kam",
    "outputId": "b24c4bc7-ddcc-460b-d9b7-b1493b4e2525"
   },
   "outputs": [
    {
     "data": {
      "text/plain": [
       "{0.0, 1.0, 'NaN'}"
      ]
     },
     "execution_count": 25,
     "metadata": {},
     "output_type": "execute_result"
    }
   ],
   "source": [
    "set(data8.If_onset_approximated)"
   ]
  },
  {
   "cell_type": "code",
   "execution_count": 26,
   "metadata": {
    "id": "M0wElanPOFNN"
   },
   "outputs": [],
   "source": [
    "data8.If_onset_approximated.replace([53], 1, inplace=True) #replace 53 value  by 1"
   ]
  },
  {
   "cell_type": "code",
   "execution_count": 27,
   "metadata": {
    "colab": {
     "base_uri": "https://localhost:8080/"
    },
    "id": "RsHot7E12-O0",
    "outputId": "b757aa22-4ecf-4b50-d551-f438dad2fe3c"
   },
   "outputs": [
    {
     "data": {
      "text/plain": [
       "525"
      ]
     },
     "execution_count": 27,
     "metadata": {},
     "output_type": "execute_result"
    }
   ],
   "source": [
    "len(data8.loc[data8.If_onset_approximated=='NaN'])"
   ]
  },
  {
   "cell_type": "code",
   "execution_count": 28,
   "metadata": {
    "id": "6NhIs_-E4qA8"
   },
   "outputs": [],
   "source": [
    "data8.loc[data8.summary.str.contains('related'), \"If_onset_approximated\"]= data8.loc[data8.summary.str.contains('related'), \"If_onset_approximated\"].replace(['NaN'], 1)\n",
    "data8.loc[data8.summary.str.contains('father'), \"If_onset_approximated\"]= data8.loc[data8.summary.str.contains('father'), \"If_onset_approximated\"].replace(['NaN'], 1)\n",
    "data8.loc[data8.summary.str.contains('mother'), \"If_onset_approximated\"]= data8.loc[data8.summary.str.contains('mother'), \"If_onset_approximated\"].replace(['NaN'], 1)\n",
    "data8.loc[data8.summary.str.contains('aunt'), \"If_onset_approximated\"]= data8.loc[data8.summary.str.contains('aunt'), \"If_onset_approximated\"].replace(['NaN'], 1)\n",
    "data8.loc[data8.summary.str.contains('cousin'), \"If_onset_approximated\"]= data8.loc[data8.summary.str.contains('cousin'), \"If_onset_approximated\"].replace(['NaN'], 1)\n",
    "data8.loc[data8.summary.str.contains('husband'), \"If_onset_approximated\"]= data8.loc[data8.summary.str.contains('husband'), \"If_onset_approximated\"].replace(['NaN'], 1)\n",
    "data8.loc[data8.summary.str.contains('wife'), \"If_onset_approximated\"]= data8.loc[data8.summary.str.contains('wife'), \"If_onset_approximated\"].replace(['NaN'], 1)\n",
    "data8.loc[data8.summary.str.contains('traveled'), \"If_onset_approximated\"]= data8.loc[data8.summary.str.contains('traveled'), \"If_onset_approximated\"].replace(['NaN'], 1)\n",
    "data8.loc[data8.summary.str.contains('went to'), \"If_onset_approximated\"]= data8.loc[data8.summary.str.contains('went to'), \"If_onset_approximated\"].replace(['NaN'], 1)\n",
    "data8.loc[data8.summary.str.contains('link to'), \"If_onset_approximated\"]= data8.loc[data8.summary.str.contains('link to'), \"If_onset_approximated\"].replace(['NaN'], 1)\n",
    "data8.loc[data8.summary.str.contains('contracted'), \"If_onset_approximated\"]= data8.loc[data8.summary.str.contains('contracted'), \"If_onset_approximated\"].replace(['NaN'], 1)\n",
    "data8.loc[data8.summary.str.contains('returned'), \"If_onset_approximated\"]= data8.loc[data8.summary.str.contains('returned'), \"If_onset_approximated\"].replace(['NaN'], 1)\n",
    "data8.loc[data8.summary.str.contains('health personnel'), \"If_onset_approximated\"]= data8.loc[data8.summary.str.contains('health personnel'), \"If_onset_approximated\"].replace(['NaN'], 1)\n",
    "data8.loc[data8.summary.str.contains('healthcare professional'), \"If_onset_approximated\"]= data8.loc[data8.summary.str.contains('healthcare professional'), \"If_onset_approximated\"].replace(['NaN'], 1)\n",
    "data8.loc[data8.summary.str.contains('resident'), \"If_onset_approximated\"]= data8.loc[data8.summary.str.contains('resident'), \"If_onset_approximated\"].replace(['NaN'], 1)\n",
    "data8.loc[data8.summary.str.contains('traveler'), \"If_onset_approximated\"]= data8.loc[data8.summary.str.contains('traveler'), \"If_onset_approximated\"].replace(['NaN'], 1)\n",
    "data8.loc[data8.summary.str.contains('travelled'), \"If_onset_approximated\"]= data8.loc[data8.summary.str.contains('travelled'), \"If_onset_approximated\"].replace(['NaN'], 1)\n",
    "data8.loc[data8.summary.str.contains('doctor'), \"If_onset_approximated\"]= data8.loc[data8.summary.str.contains('doctor'), \"If_onset_approximated\"].replace(['NaN'], 1)\n",
    "data8.loc[data8.summary.str.contains('nurse'), \"If_onset_approximated\"]= data8.loc[data8.summary.str.contains('nurse'), \"If_onset_approximated\"].replace(['NaN'], 1)\n",
    "data8.loc[data8.summary.str.contains('member'), \"If_onset_approximated\"]= data8.loc[data8.summary.str.contains('member'), \"If_onset_approximated\"].replace(['NaN'], 1)\n",
    "data8.loc[data8.summary.str.contains('attended'), \"If_onset_approximated\"]= data8.loc[data8.summary.str.contains('attended'), \"If_onset_approximated\"].replace(['NaN'], 1)\n",
    "data8.loc[data8.summary.str.contains('flew'), \"If_onset_approximated\"]= data8.loc[data8.summary.str.contains('flew'), \"If_onset_approximated\"].replace(['NaN'], 1)\n",
    "data8.loc[data8.summary.str.contains('part of'), \"If_onset_approximated\"]= data8.loc[data8.summary.str.contains('part of'), \"If_onset_approximated\"].replace(['NaN'], 1)\n",
    "data8.loc[data8.summary.str.contains('went'), \"If_onset_approximated\"]= data8.loc[data8.summary.str.contains('went'), \"If_onset_approximated\"].replace(['NaN'], 1)\n",
    "data8.loc[data8.summary.str.contains('previously in'), \"If_onset_approximated\"]= data8.loc[data8.summary.str.contains('previously in'), \"If_onset_approximated\"].replace(['NaN'], 1)"
   ]
  },
  {
   "cell_type": "code",
   "execution_count": 29,
   "metadata": {
    "colab": {
     "base_uri": "https://localhost:8080/"
    },
    "id": "5-C-lWbjNkno",
    "outputId": "18b92295-0ce6-49b0-caf5-8c99739bdff6"
   },
   "outputs": [
    {
     "data": {
      "text/plain": [
       "339"
      ]
     },
     "execution_count": 29,
     "metadata": {},
     "output_type": "execute_result"
    }
   ],
   "source": [
    "len(data8.loc[data8.If_onset_approximated=='NaN'])"
   ]
  },
  {
   "cell_type": "markdown",
   "metadata": {
    "id": "NLqFhfsHWjnC"
   },
   "source": [
    "Still 2042 not resolved, we'll get back to them later. Now let's move on to case_in_country"
   ]
  },
  {
   "cell_type": "code",
   "execution_count": 30,
   "metadata": {
    "colab": {
     "base_uri": "https://localhost:8080/"
    },
    "id": "gE-jsCQ_Wu0a",
    "outputId": "428f4cec-4a68-42f4-9faf-91bda8b56243"
   },
   "outputs": [
    {
     "data": {
      "text/plain": [
       "{1.0,\n",
       " 10.0,\n",
       " 100.0,\n",
       " 101.0,\n",
       " 102.0,\n",
       " 103.0,\n",
       " 104.0,\n",
       " 105.0,\n",
       " 106.0,\n",
       " 107.0,\n",
       " 108.0,\n",
       " 109.0,\n",
       " 11.0,\n",
       " 110.0,\n",
       " 111.0,\n",
       " 112.0,\n",
       " 113.0,\n",
       " 114.0,\n",
       " 115.0,\n",
       " 116.0,\n",
       " 117.0,\n",
       " 118.0,\n",
       " 119.0,\n",
       " 12.0,\n",
       " 120.0,\n",
       " 121.0,\n",
       " 122.0,\n",
       " 123.0,\n",
       " 124.0,\n",
       " 125.0,\n",
       " 126.0,\n",
       " 127.0,\n",
       " 128.0,\n",
       " 129.0,\n",
       " 13.0,\n",
       " 130.0,\n",
       " 131.0,\n",
       " 132.0,\n",
       " 133.0,\n",
       " 134.0,\n",
       " 135.0,\n",
       " 136.0,\n",
       " 137.0,\n",
       " 138.0,\n",
       " 139.0,\n",
       " 14.0,\n",
       " 140.0,\n",
       " 141.0,\n",
       " 142.0,\n",
       " 143.0,\n",
       " 144.0,\n",
       " 1443.0,\n",
       " 145.0,\n",
       " 146.0,\n",
       " 147.0,\n",
       " 148.0,\n",
       " 149.0,\n",
       " 15.0,\n",
       " 150.0,\n",
       " 151.0,\n",
       " 152.0,\n",
       " 153.0,\n",
       " 154.0,\n",
       " 155.0,\n",
       " 156.0,\n",
       " 157.0,\n",
       " 158.0,\n",
       " 159.0,\n",
       " 16.0,\n",
       " 160.0,\n",
       " 161.0,\n",
       " 162.0,\n",
       " 163.0,\n",
       " 164.0,\n",
       " 165.0,\n",
       " 166.0,\n",
       " 167.0,\n",
       " 168.0,\n",
       " 169.0,\n",
       " 17.0,\n",
       " 170.0,\n",
       " 171.0,\n",
       " 172.0,\n",
       " 173.0,\n",
       " 174.0,\n",
       " 175.0,\n",
       " 176.0,\n",
       " 177.0,\n",
       " 178.0,\n",
       " 179.0,\n",
       " 18.0,\n",
       " 180.0,\n",
       " 181.0,\n",
       " 182.0,\n",
       " 183.0,\n",
       " 184.0,\n",
       " 185.0,\n",
       " 186.0,\n",
       " 187.0,\n",
       " 188.0,\n",
       " 189.0,\n",
       " 19.0,\n",
       " 190.0,\n",
       " 2.0,\n",
       " 20.0,\n",
       " 21.0,\n",
       " 22.0,\n",
       " 23.0,\n",
       " 24.0,\n",
       " 25.0,\n",
       " 26.0,\n",
       " 27.0,\n",
       " 28.0,\n",
       " 286.0,\n",
       " 29.0,\n",
       " 298.0,\n",
       " 3.0,\n",
       " 30.0,\n",
       " 31.0,\n",
       " 32.0,\n",
       " 33.0,\n",
       " 34.0,\n",
       " 35.0,\n",
       " 36.0,\n",
       " 365.0,\n",
       " 37.0,\n",
       " 38.0,\n",
       " 39.0,\n",
       " 4.0,\n",
       " 40.0,\n",
       " 41.0,\n",
       " 42.0,\n",
       " 43.0,\n",
       " 44.0,\n",
       " 443.0,\n",
       " 45.0,\n",
       " 46.0,\n",
       " 47.0,\n",
       " 48.0,\n",
       " 49.0,\n",
       " 5.0,\n",
       " 50.0,\n",
       " 51.0,\n",
       " 52.0,\n",
       " 53.0,\n",
       " 54.0,\n",
       " 55.0,\n",
       " 56.0,\n",
       " 57.0,\n",
       " 58.0,\n",
       " 59.0,\n",
       " 6.0,\n",
       " 60.0,\n",
       " 61.0,\n",
       " 62.0,\n",
       " 63.0,\n",
       " 64.0,\n",
       " 65.0,\n",
       " 66.0,\n",
       " 67.0,\n",
       " 68.0,\n",
       " 69.0,\n",
       " 7.0,\n",
       " 70.0,\n",
       " 71.0,\n",
       " 72.0,\n",
       " 73.0,\n",
       " 74.0,\n",
       " 75.0,\n",
       " 76.0,\n",
       " 77.0,\n",
       " 78.0,\n",
       " 79.0,\n",
       " 8.0,\n",
       " 80.0,\n",
       " 81.0,\n",
       " 82.0,\n",
       " 83.0,\n",
       " 84.0,\n",
       " 85.0,\n",
       " 86.0,\n",
       " 87.0,\n",
       " 875.0,\n",
       " 88.0,\n",
       " 89.0,\n",
       " 9.0,\n",
       " 90.0,\n",
       " 91.0,\n",
       " 92.0,\n",
       " 925.0,\n",
       " 93.0,\n",
       " 94.0,\n",
       " 95.0,\n",
       " 96.0,\n",
       " 97.0,\n",
       " 98.0,\n",
       " 99.0,\n",
       " 'NaN'}"
      ]
     },
     "execution_count": 30,
     "metadata": {},
     "output_type": "execute_result"
    }
   ],
   "source": [
    "data9=data8.copy()\n",
    "set(data9.case_in_country)"
   ]
  },
  {
   "cell_type": "code",
   "execution_count": 31,
   "metadata": {
    "colab": {
     "base_uri": "https://localhost:8080/"
    },
    "id": "C7GVxVrOXv43",
    "outputId": "635c5b07-de0f-4de7-b17e-3caff5e0cc35"
   },
   "outputs": [
    {
     "data": {
      "text/plain": [
       "196"
      ]
     },
     "execution_count": 31,
     "metadata": {},
     "output_type": "execute_result"
    }
   ],
   "source": [
    "len(data9.loc[data9.case_in_country=='NaN'])"
   ]
  },
  {
   "cell_type": "code",
   "execution_count": 32,
   "metadata": {
    "colab": {
     "base_uri": "https://localhost:8080/"
    },
    "id": "DrMkbE1UZC_F",
    "outputId": "e3a45e7f-82fd-4430-8d41-22de9f50bc4e"
   },
   "outputs": [
    {
     "data": {
      "text/plain": [
       "{'China'}"
      ]
     },
     "execution_count": 32,
     "metadata": {},
     "output_type": "execute_result"
    }
   ],
   "source": [
    "set(data9.loc[data9.case_in_country=='NaN'].country)"
   ]
  },
  {
   "cell_type": "code",
   "execution_count": 33,
   "metadata": {
    "colab": {
     "base_uri": "https://localhost:8080/"
    },
    "id": "Cg4Qv5SUZF9g",
    "outputId": "2f956287-512d-4b89-c1ff-eda3240c14e3"
   },
   "outputs": [
    {
     "data": {
      "text/plain": [
       "{'NaN'}"
      ]
     },
     "execution_count": 33,
     "metadata": {},
     "output_type": "execute_result"
    }
   ],
   "source": [
    "set(data9.loc[data9.country=='China'].case_in_country)"
   ]
  },
  {
   "cell_type": "code",
   "execution_count": 34,
   "metadata": {
    "colab": {
     "base_uri": "https://localhost:8080/"
    },
    "id": "xYOqtfc8aSqZ",
    "outputId": "5c281409-aab7-4b43-979f-2a2f4daf5a5f"
   },
   "outputs": [
    {
     "name": "stdout",
     "output_type": "stream",
     "text": [
      "196\n"
     ]
    }
   ],
   "source": [
    "#The only country missind 'Case_in_country' is 'China' and this value is not present in any line related to china, so we'll count them and fill in\n",
    "china_cases=len(data9.loc[data9.country=='China'])\n",
    "print(china_cases)"
   ]
  },
  {
   "cell_type": "code",
   "execution_count": 35,
   "metadata": {
    "id": "s9mQQWWKa85g"
   },
   "outputs": [],
   "source": [
    "data9.loc[data9.country=='China', \"case_in_country\"]= data9.loc[data9.country=='China', \"case_in_country\"].replace(['NaN'], china_cases)"
   ]
  },
  {
   "cell_type": "code",
   "execution_count": 36,
   "metadata": {
    "colab": {
     "base_uri": "https://localhost:8080/"
    },
    "id": "iiIJyuYybYGo",
    "outputId": "adc11b99-b0d2-4e8d-8347-f4f14b303738"
   },
   "outputs": [
    {
     "data": {
      "text/plain": [
       "0"
      ]
     },
     "execution_count": 36,
     "metadata": {},
     "output_type": "execute_result"
    }
   ],
   "source": [
    "len(data9.loc[data9.case_in_country=='NaN'])"
   ]
  },
  {
   "cell_type": "markdown",
   "metadata": {
    "id": "BN4fLuFnbdgY"
   },
   "source": [
    "setting up outcome"
   ]
  },
  {
   "cell_type": "code",
   "execution_count": 37,
   "metadata": {},
   "outputs": [],
   "source": [
    "data9['outcome']='NaN'\n",
    "data9.loc[data9[\"recovered\"] != '0','outcome'] = 'recovered'\n",
    "data9.loc[data9[\"death\"] != '0','outcome'] = 'dead'\n",
    "data9.loc[(data9[\"outcome\"] != 'dead') & (data9[\"outcome\"] != 'recovered'),'outcome'] = 'in_process'"
   ]
  },
  {
   "cell_type": "markdown",
   "metadata": {
    "id": "BN4fLuFnbdgY"
   },
   "source": [
    "case_in_country is now resolved, let's move to age"
   ]
  },
  {
   "cell_type": "code",
   "execution_count": 38,
   "metadata": {
    "colab": {
     "base_uri": "https://localhost:8080/"
    },
    "id": "xHuqstmnbshU",
    "outputId": "28899e91-ab52-4f04-a400-7a883ff5ca84"
   },
   "outputs": [
    {
     "data": {
      "text/plain": [
       "{0.25,\n",
       " 0.5,\n",
       " 1.0,\n",
       " 11.0,\n",
       " 15.0,\n",
       " 16.0,\n",
       " 18.0,\n",
       " 19.0,\n",
       " 2.0,\n",
       " 20.0,\n",
       " 21.0,\n",
       " 22.0,\n",
       " 23.0,\n",
       " 24.0,\n",
       " 25.0,\n",
       " 26.0,\n",
       " 27.0,\n",
       " 28.0,\n",
       " 29.0,\n",
       " 30.0,\n",
       " 31.0,\n",
       " 32.0,\n",
       " 33.0,\n",
       " 34.0,\n",
       " 35.0,\n",
       " 36.0,\n",
       " 37.0,\n",
       " 38.0,\n",
       " 39.0,\n",
       " 4.0,\n",
       " 40.0,\n",
       " 41.0,\n",
       " 42.0,\n",
       " 43.0,\n",
       " 44.0,\n",
       " 45.0,\n",
       " 46.0,\n",
       " 47.0,\n",
       " 48.0,\n",
       " 49.0,\n",
       " 5.0,\n",
       " 50.0,\n",
       " 51.0,\n",
       " 52.0,\n",
       " 53.0,\n",
       " 54.0,\n",
       " 55.0,\n",
       " 56.0,\n",
       " 57.0,\n",
       " 58.0,\n",
       " 59.0,\n",
       " 6.0,\n",
       " 60.0,\n",
       " 61.0,\n",
       " 62.0,\n",
       " 63.0,\n",
       " 64.0,\n",
       " 65.0,\n",
       " 66.0,\n",
       " 67.0,\n",
       " 68.0,\n",
       " 69.0,\n",
       " 70.0,\n",
       " 71.0,\n",
       " 72.0,\n",
       " 73.0,\n",
       " 74.0,\n",
       " 75.0,\n",
       " 76.0,\n",
       " 77.0,\n",
       " 78.0,\n",
       " 79.0,\n",
       " 8.0,\n",
       " 80.0,\n",
       " 81.0,\n",
       " 82.0,\n",
       " 83.0,\n",
       " 84.0,\n",
       " 85.0,\n",
       " 86.0,\n",
       " 87.0,\n",
       " 89.0,\n",
       " 9.0,\n",
       " 91.0,\n",
       " 96.0,\n",
       " 'NaN'}"
      ]
     },
     "execution_count": 38,
     "metadata": {},
     "output_type": "execute_result"
    }
   ],
   "source": [
    "data10=data9.copy()\n",
    "set(data10.age)"
   ]
  },
  {
   "cell_type": "markdown",
   "metadata": {
    "id": "M73IHr310uyL"
   },
   "source": [
    "##Encoding and replacing missing values by Mean, Median, Mode"
   ]
  },
  {
   "cell_type": "code",
   "execution_count": 39,
   "metadata": {
    "colab": {
     "base_uri": "https://localhost:8080/"
    },
    "id": "O15X-4vQz0rq",
    "outputId": "6a8c3eb6-67b9-4425-e590-7c3dfae42c47"
   },
   "outputs": [
    {
     "name": "stdout",
     "output_type": "stream",
     "text": [
      "case_in_country ######### values:  {1.0, 2.0, 3.0, 4.0, 5.0, 6.0, 7.0, 8.0, 9.0, 10.0, 11.0, 12.0, 13.0, 14.0, 15.0, 16.0, 17.0, 18.0, 19.0, 20.0, 21.0, 22.0, 23.0, 24.0, 25.0, 26.0, 27.0, 28.0, 29.0, 30.0, 31.0, 32.0, 33.0, 34.0, 35.0, 36.0, 37.0, 38.0, 39.0, 40.0, 41.0, 42.0, 43.0, 44.0, 45.0, 46.0, 47.0, 48.0, 49.0, 50.0, 51.0, 52.0, 53.0, 54.0, 55.0, 56.0, 57.0, 58.0, 59.0, 60.0, 61.0, 62.0, 63.0, 64.0, 65.0, 66.0, 67.0, 68.0, 69.0, 70.0, 71.0, 72.0, 73.0, 74.0, 75.0, 76.0, 77.0, 78.0, 79.0, 80.0, 81.0, 82.0, 83.0, 84.0, 85.0, 86.0, 87.0, 88.0, 89.0, 90.0, 91.0, 92.0, 93.0, 94.0, 95.0, 96.0, 97.0, 98.0, 99.0, 100.0, 101.0, 102.0, 103.0, 104.0, 105.0, 106.0, 107.0, 108.0, 109.0, 110.0, 111.0, 112.0, 113.0, 114.0, 115.0, 116.0, 117.0, 118.0, 119.0, 120.0, 121.0, 122.0, 123.0, 124.0, 125.0, 126.0, 127.0, 128.0, 129.0, 130.0, 131.0, 132.0, 133.0, 134.0, 135.0, 136.0, 137.0, 138.0, 139.0, 140.0, 141.0, 142.0, 143.0, 144.0, 145.0, 146.0, 147.0, 148.0, 149.0, 150.0, 151.0, 152.0, 153.0, 154.0, 155.0, 156.0, 157.0, 158.0, 159.0, 160.0, 161.0, 162.0, 163.0, 164.0, 165.0, 166.0, 167.0, 168.0, 169.0, 170.0, 171.0, 172.0, 173.0, 174.0, 175.0, 176.0, 177.0, 178.0, 179.0, 180.0, 181.0, 182.0, 183.0, 184.0, 185.0, 186.0, 187.0, 188.0, 189.0, 190.0, 196, 286.0, 298.0, 875.0, 365.0, 925.0, 1443.0, 443.0}\n",
      "reporting date ######### values:  {'2/20/2020', '1/24/2020', '1/28/2020', '02/10/20', '2/19/2020', '1/27/2020', '2/23/2020', '1/29/2020', '02/01/20', '2/13/2020', '02/11/20', '2/21/2020', '2/25/2020', '02/06/20', '1/22/2020', '1/31/2020', '2/28/2020', '02/02/20', '1/21/2020', '2/16/2020', '2/22/2020', '1/25/2020', '02/03/20', '1/13/2020', '2/14/2020', '02/09/20', '2/26/2020', '02/07/20', '1/17/2020', '02/04/20', '2/18/2020', '2/17/2020', '2/24/2020', '1/26/2020', 'NaN', '1/30/2020', '1/20/2020', '1/23/2020', '2/27/2020', '1/15/2020', '02/12/20', '02/08/20', '02/05/20', '2/15/2020'}\n",
      "location ######### values:  {'Fukuoka Prefecture', 'Tsing Yi', 'Preah Sihanouk Province', 'Tehran', 'Henan', 'Guizhou', 'Strasbourg', 'Zhejiang', 'Shaanxi', 'Zabaikalsky', 'Rhineland-Palatinate', 'Sichuan', 'Belgium', 'Japan', 'Vancouver', 'Valencia', 'France', 'Paris', 'Mallorca', 'Washington', 'Manila', 'Wan Chai', 'Jonkoping', 'Liaoning', 'Kwai Chung', 'Ho Chi Minh City', 'Shanxi (陕西)', 'Osaka Prefecture', 'Lebanon', 'Hokkaido', 'Hunan', 'Bern', 'Kowloon', 'Johor', 'Chongqing', 'Malaysia', 'Alappuzha', 'Araq', 'Bavaria', 'Toronto', 'Nortern Ireland', 'Kathmandu', 'Arizona', 'NSW', 'Wales', 'Tenerife', 'Nagano Prefecture', 'Thanh Hoa', 'Tyumen', 'Singapore', 'Qom', 'Amiens', 'Wuhan, Hubei', 'Hechi, Guangxi', 'Nantes', 'Nagoya City', 'Wisconsin', 'Mie', 'Lyon', 'Vinh Phuc', 'Nara Prefecture', 'Kumamoto City', 'Kyoto', 'Gansu', 'Shandong', 'Shanghai', 'Heilongjiang', 'Seoul', 'Kuwait', 'Massachusetts', 'North Rhine-Westphalia', 'Rome', 'California', 'South Korea', 'Phillipines', 'Annecy', 'Guilan', 'Yau Ma Tei', 'Gifu Prefecture', 'Innsbruck', 'Hamburg', 'Fujian', 'Xinjiang', 'Hebei', 'Castile and Leon', 'Queensland', 'Algeria', 'Ningxia', 'Montpellier', 'Kumamoto Prefecture', 'Tianjin', 'Canary Islands', 'York', 'Hong Kong', 'Lapland', 'Chiba Prefecture', 'Zaragoza', 'Egypt', 'Kerala', 'Bois-Guillaume', 'Jilin', 'Ngau Chi Wan', 'Victoria', 'Texas', 'Dijon', 'UAE', 'Bahrain', 'Hanoi', 'Thailand', 'Castellon', 'Andalusia', 'Nice', 'South Australia', 'Kwun Tong', 'Langkawi', 'Wakayama Prefecture', 'Baden-Wuerttemberg', 'Fo Tan', 'Sapporo', 'Taiwan', 'Croatia', 'London', 'Zhuhai', 'Hubei', 'Bordeaux', 'Aichi Prefecture', 'Vietnam', 'Guangxi', 'Sagamihara', 'Yunnan', 'Lile', 'Brest', 'Tubingen', 'Frankfurt', 'Sri Lanka', 'Beijing', 'Illinois', 'Jiangsu', 'Macau', 'Shanxi', 'Inner Mongolia', 'Madrid', 'Saitama Prefecture', 'Hesse', 'Afghanistan', 'Okinawa Prefecture', 'Haneda', 'Saint-Mande', 'UK', 'Jiangxi', 'Kanagawa', 'Barcelona', 'Tokyo', 'Ishikawa', 'Israel'}\n",
      "country ######### values:  {'Malaysia', 'Australia', 'Sweden', 'Finland', 'Russia', 'USA', 'Algeria', 'Taiwan', 'Italy', 'Iran', 'Cambodia', 'Croatia', 'Spain', 'Belgium', 'Japan', 'France', 'Hong Kong', 'Austria', 'Singapore', 'Vietnam', 'Egypt', 'Switzerland', 'Germany', 'Sri Lanka', 'Nepal', 'Canada', 'India', 'Afghanistan', 'Kuwait', 'UAE', 'Bahrain', 'Thailand', 'UK', 'China', 'South Korea', 'Phillipines', 'Lebanon', 'Israel'}\n",
      "gender ######### values:  {'male', 'NaN', 'female'}\n",
      "age ######### values:  {0.5, 1.0, 2.0, 0.25, 4.0, 5.0, 6.0, 8.0, 9.0, 11.0, 15.0, 16.0, 18.0, 19.0, 20.0, 21.0, 22.0, 23.0, 24.0, 25.0, 26.0, 27.0, 28.0, 29.0, 30.0, 31.0, 32.0, 33.0, 34.0, 35.0, 36.0, 37.0, 38.0, 39.0, 40.0, 41.0, 42.0, 43.0, 44.0, 45.0, 46.0, 47.0, 48.0, 49.0, 50.0, 51.0, 52.0, 53.0, 54.0, 55.0, 56.0, 57.0, 58.0, 59.0, 60.0, 61.0, 62.0, 63.0, 64.0, 65.0, 66.0, 67.0, 68.0, 69.0, 70.0, 71.0, 72.0, 73.0, 74.0, 75.0, 76.0, 77.0, 78.0, 79.0, 80.0, 81.0, 82.0, 83.0, 84.0, 85.0, 86.0, 87.0, 89.0, 91.0, 96.0, 'NaN'}\n",
      "symptom_onset ######### values:  {'2/20/2020', '1/24/2020', '01/10/20', '01/05/20', '01/21/2020', '02/10/20', '1/28/2020', '2/19/2020', '12/23/2019', '12/22/2019', '01/20/2020', '01/17/2020', '01/03/20', '2/23/2020', '01/13/2020', '01/08/20', '1/29/2020', '01/11/20', '02/01/20', '02/11/20', '2/13/2020', '2/21/2020', '2/25/2020', '02/06/20', '1/22/2020', '1/19/2020', '1/31/2020', '1/16/2020', '01/04/20', '01/12/20', '01/02/20', '02/02/20', '1/21/2020', '2/16/2020', '1/27/2020', '2/22/2020', '1/25/2020', '01/22/2020', '02/03/20', '12/10/19', '1/13/2020', '01/15/2020', '2/14/2020', '01/23/2020', '01/07/20', '02/09/20', '01/18/2020', '2/26/2020', '12/20/2019', '1/17/2020', '1/18/2020', '02/07/20', '02/04/20', '2/18/2020', '2/17/2020', '01/06/20', '1/26/2020', 'NaN', '2/24/2020', '01/09/20', '1/14/2020', '1/30/2020', '1/20/2020', '1/15/2020', '1/23/2020', '02/12/20', '02/08/20', '02/05/20', '12/29/2019', '2/15/2020', '12/30/2019'}\n",
      "If_onset_approximated ######### values:  {0.0, 1.0, 'NaN'}\n",
      "hosp_visit_date ######### values:  {'2/20/2020', '12/27/2019', '1/24/2020', '01/10/20', '01/05/20', '1/28/2020', '02/10/20', '2/19/2020', '1/27/2020', '01/03/20', '2/23/2020', '1/29/2020', '02/01/20', '01/08/20', '01/11/20', '2/13/2020', '02/11/20', '2/21/2020', '12/31/2019', '2/25/2020', '02/06/20', '1/22/2020', '1/19/2020', '1/31/2020', '2/28/2020', '1/16/2020', '01/12/20', '02/02/20', '1/21/2020', '2/16/2020', '2/22/2020', '1/25/2020', '02/03/20', '1/13/2020', '2/14/2020', '02/09/20', '2/26/2020', '1/18/2020', '1/17/2020', '02/07/20', '02/04/20', '2/18/2020', '2/17/2020', '2//2020', '01/06/20', '1/26/2020', 'NaN', '2/24/2020', '01/09/20', '1/14/2020', '2/27/2020', '1/20/2020', '1/15/2020', '1/23/2020', '1/30/2020', '02/12/20', '02/08/20', '2/22/20', '02/05/20', '01/01/20', '2/15/2020'}\n",
      "exposure_start ######### values:  {'2/20/2020', '1/24/2020', '01/10/20', '02/10/20', '1/28/2020', '2/19/2020', '1/27/2020', '01/03/20', '01/13/2020', '01/08/20', '01/11/20', '12/17/2019', '12/24/2019', '02/11/20', '2/21/2020', '1/22/2020', '1/19/2020', '01/12/20', '1/16/2020', '1/21/2020', '1/25/2020', '1/13/2020', '12/20/2019', '1/18/2020', '1/17/2020', '02/04/20', '01/19/2020', '2/17/2020', '01/06/20', '1/26/2020', 'NaN', '01/09/20', '1/14/2020', '1/30/2020', '1/20/2020', '1/15/2020', '1/23/2020', '02/12/20', '2/15/2020'}\n",
      "exposure_end ######### values:  {'2/20/2020', '1/24/2020', '01/10/20', '01/05/20', '1/28/2020', '2/19/2020', '1/27/2020', '01/03/20', '2/23/2020', '01/08/20', '1/29/2020', '02/01/20', '01/11/20', '2/13/2020', '2/21/2020', '2/25/2020', '1/22/2020', '1/19/2020', '1/31/2020', '01/12/20', '01/04/20', '1/16/2020', '01/02/20', '02/02/20', '1/21/2020', '2/16/2020', '2/22/2020', '01/22/2020', '1/25/2020', '02/03/20', '1/13/2020', '01/07/20', '02/09/20', '01/18/2020', '1/18/2020', '1/17/2020', '02/04/20', '2/18/2020', '02/07/20', '2/17/2020', '01/06/20', '2/24/2020', 'NaN', '1/26/2020', '01/09/20', '1/14/2020', '1/30/2020', '1/20/2020', '1/15/2020', '1/23/2020', '02/08/20', '02/05/20', '2/15/2020'}\n",
      "visiting Wuhan ######### values:  {0, 1}\n",
      "from Wuhan ######### values:  {0.0, 1.0, 'NaN'}\n",
      "death ######### values:  {'2/24/2020', '2/25/2020', '0', '2/27/2020', '2/14/2020', '2/28/2020', '2/19/2020', '2/22/2020', '2/23/2020', '02/01/20', '2/26/2020', '2/13/2020', '2/21/2020', '1'}\n",
      "recovered ######### values:  {'2/20/2020', '2/19/2020', '2/23/2020', '2/13/2020', '02/11/20', '2/21/2020', '2/25/2020', '02/06/20', '1/31/2020', '2/28/2020', '02/02/20', '2/16/2020', '1', '2/22/2020', '0', '2/14/2020', '02/09/20', '2/26/2020', '02/07/20', '1/17/2020', '02/04/20', '2/18/2020', '2/17/2020', '2/24/2020', '12/30/1899', '2/27/2020', '1/30/2020', '1/15/2020', '02/12/20', '02/08/20', '02/05/20', '2/15/2020'}\n",
      "symptom ######### values:  {'throat discomfort', 'fatigue, malaise, headache', 'cough, malaise', 'fever, cough', 'reflux', 'fever, runny nose', 'cough, sore throat', 'fever, nasal discharge, headache', 'mild cough, sputum, throat discomfort', 'throat pain, chills', 'fever, fatigue, cough, diarrhea', 'malaise, fever, headache', 'cough, sputum, dyspnea', 'difficulty breathing', 'cough, joint pain', 'fever, vomiting, diarrhea', 'fever, abdominal pain, diarrhea', 'vomiting, diarrhea, fever, cough', 'fever, sore throat', 'sore throat, fever', 'cough, fever, chills', 'fever, sore throat, cough', 'joint pain, muscle pain, cough, malaise', 'fever, muscle aches', 'fever, breathlessness, malaise', 'fever, thirst', 'cold, fever, pneumonia', 'fever, chills, muscle cramps', 'cough, chills, shortness of breath, diarrhea', 'fever, loss of appetite', 'fever, malaise', 'fever, respiratory distress', 'fever, cough, chills', 'fever, cough, sore throat, runny nose', 'nausea', 'fatigue, joint pain, fever', 'fever', 'headache', 'cough, fever, headache, nausea, vomiting, diarrhea', 'cough, shortness of breath', 'fever, cough, malaise', 'fever, cough, sputum', 'sore throat, fever, joint pain, dyspnea', 'cough, runny nose', 'cough, diarrhea, vomiting', 'fever, headache', 'fever, headache, malaise, joint pain', 'runny nose', 'NaN', 'tired', 'chills', 'cough, fever', 'fever, cough, sore throat', 'throat pain, fever', 'cough', 'fatigue, difficulty breathing', 'fever, cough, breathlessness', 'sore throat', 'fever, malaise, diarrhea, cough', 'cough, chill, muscle pain', 'cough, chills, joint pain', 'feaver, cough, difficult in breathing', 'fatigue, fever', 'high fever, chills, muscle pain', 'sore body', 'vomiting, cough, fever, sore throat', 'high fever, aching muscles', 'fever, malaise, sore throat', 'sore throat, fever, diarrhea', 'cough, fever, joint pain', 'cough, runny nose, diarrhea', 'cough, sputum, sore throat', 'fever, chills, sore throat, headache', 'throat discomfort, cough, chest pain', 'fever, chills, joint pain, heavy head', 'cough, malaise, shortness of breath', 'mild fever', 'fatigue, loss of appetite', 'cough, chest pain', 'fatigue', 'headache, fever, malaise', 'fever, myalgia, shortness of breath', 'sore throat, cough, fever', 'fatigue, cold, fever, vomiting', 'flu symptoms', 'cough, sputum', 'fever, cough, sputum, dyspnea', 'fever, difficulty breathing', 'fever, cough, sputum, malaise', 'fever, coughing, muscle aches', 'fever, chills, sore throat, runny nose, shortness of breath', 'fever, headache, malaise', 'fever, pneumonia', 'fever, cough, headache', 'fever, sore throat, malaise', 'cough, sneeze', 'cough, itchy throat', 'fever, cough, shortness of breath', 'fever, cough, flu', 'fatigue, muscle pain, joint pain, fever', 'sore throat, chills, myalgias, fever, cough', 'myalgia, fever', 'runny nose, cough', 'physical discomfort', 'chest discomfort', 'fever, headache, runny nose', 'fever, cough, runny nose', 'feve\\\\', 'cough with sputum'}\n",
      "outcome ######### values:  {'recovered', 'dead', 'in_process'}\n"
     ]
    }
   ],
   "source": [
    "data11=data10.copy()\n",
    "data11=data11.drop('summary', axis=1) #we no longer need summary\n",
    "for col in data11.columns:\n",
    "  print(col, \"######### values: \", set(data11[col]))"
   ]
  },
  {
   "cell_type": "code",
   "execution_count": 40,
   "metadata": {
    "id": "XrHQblU6g-W0"
   },
   "outputs": [],
   "source": [
    "numeric_cols=['case_in_country', 'age','If_onset_approximated',  'visiting Wuhan','from Wuhan'  ]\n",
    "data11[numeric_cols] = data11[numeric_cols].apply(pd.to_numeric, errors='coerce')"
   ]
  },
  {
   "cell_type": "code",
   "execution_count": 41,
   "metadata": {
    "colab": {
     "base_uri": "https://localhost:8080/"
    },
    "id": "XnbQ6GHi_fzS",
    "outputId": "610670ef-17e1-4646-9a49-49cf60131352"
   },
   "outputs": [
    {
     "data": {
      "text/plain": [
       "case_in_country            int64\n",
       "reporting date            object\n",
       "location                  object\n",
       "country                   object\n",
       "gender                    object\n",
       "age                      float64\n",
       "symptom_onset             object\n",
       "If_onset_approximated    float64\n",
       "hosp_visit_date           object\n",
       "exposure_start            object\n",
       "exposure_end              object\n",
       "visiting Wuhan             int64\n",
       "from Wuhan               float64\n",
       "death                     object\n",
       "recovered                 object\n",
       "symptom                   object\n",
       "outcome                   object\n",
       "dtype: object"
      ]
     },
     "execution_count": 41,
     "metadata": {},
     "output_type": "execute_result"
    }
   ],
   "source": [
    "data11.dtypes"
   ]
  },
  {
   "cell_type": "code",
   "execution_count": 42,
   "metadata": {
    "id": "JipzY-l6uujW"
   },
   "outputs": [],
   "source": [
    "location_enc = OrdinalEncoder()\n",
    "res=location_enc.fit_transform(data11['location'].values.reshape(-1, 1))\n",
    "data11['location']=pd.Series(res.reshape(-1))"
   ]
  },
  {
   "cell_type": "code",
   "execution_count": 43,
   "metadata": {
    "id": "sy-qVQa5n7RK"
   },
   "outputs": [],
   "source": [
    "country_enc = OrdinalEncoder()\n",
    "res=country_enc.fit_transform(data11['country'].values.reshape(-1, 1))\n",
    "data11['country']=pd.Series(res.reshape(-1))"
   ]
  },
  {
   "cell_type": "code",
   "execution_count": 44,
   "metadata": {
    "id": "30QWHTXLvfli"
   },
   "outputs": [],
   "source": [
    "gender_enc = OrdinalEncoder()\n",
    "res=gender_enc.fit_transform(data11['gender'].values.reshape(-1, 1))\n",
    "data11['gender']=pd.Series(res.reshape(-1))"
   ]
  },
  {
   "cell_type": "code",
   "execution_count": 45,
   "metadata": {
    "id": "Lty6CYean6_I"
   },
   "outputs": [],
   "source": [
    "symptom_enc = OrdinalEncoder()\n",
    "res=symptom_enc.fit_transform(data11['symptom'].values.reshape(-1, 1))\n",
    "data11['symptom']=pd.Series(res.reshape(-1))"
   ]
  },
  {
   "cell_type": "code",
   "execution_count": 46,
   "metadata": {},
   "outputs": [],
   "source": [
    "symptom_enc = OrdinalEncoder()\n",
    "res=symptom_enc.fit_transform(data11['outcome'].values.reshape(-1, 1))\n",
    "data11['outcome']=pd.Series(res.reshape(-1))"
   ]
  },
  {
   "cell_type": "code",
   "execution_count": 47,
   "metadata": {
    "colab": {
     "base_uri": "https://localhost:8080/"
    },
    "id": "G8UBWbxNn6zD",
    "outputId": "8fa1ba94-6482-4956-d371-a2334c7cbc95"
   },
   "outputs": [
    {
     "name": "stdout",
     "output_type": "stream",
     "text": [
      "case_in_country ######### values:  {1, 2, 3, 4, 5, 6, 7, 8, 9, 10, 11, 12, 13, 14, 15, 16, 17, 18, 19, 20, 21, 22, 23, 24, 25, 26, 27, 28, 29, 30, 31, 32, 33, 34, 35, 36, 37, 38, 39, 40, 41, 42, 43, 44, 45, 46, 47, 48, 49, 50, 51, 52, 53, 54, 55, 56, 57, 58, 59, 60, 61, 62, 63, 64, 65, 66, 67, 68, 69, 70, 71, 72, 73, 74, 75, 76, 77, 78, 79, 80, 81, 82, 83, 84, 85, 86, 87, 88, 89, 90, 91, 92, 93, 94, 95, 96, 97, 98, 99, 100, 101, 102, 103, 104, 105, 106, 107, 108, 109, 110, 111, 112, 113, 114, 115, 116, 117, 118, 119, 120, 121, 122, 123, 124, 125, 126, 127, 128, 129, 130, 131, 132, 133, 134, 135, 136, 137, 138, 139, 140, 141, 142, 143, 144, 145, 146, 147, 148, 149, 150, 151, 152, 153, 154, 155, 156, 157, 158, 159, 160, 161, 162, 163, 164, 165, 166, 167, 168, 169, 170, 171, 172, 173, 174, 175, 176, 177, 178, 179, 180, 181, 182, 183, 184, 185, 186, 187, 188, 189, 190, 196, 286, 298, 875, 365, 925, 1443, 443}\n",
      "reporting date ######### values:  {'2/20/2020', '1/24/2020', '1/28/2020', '02/10/20', '2/19/2020', '1/27/2020', '2/23/2020', '1/29/2020', '02/01/20', '2/13/2020', '02/11/20', '2/21/2020', '2/25/2020', '02/06/20', '1/22/2020', '1/31/2020', '2/28/2020', '02/02/20', '1/21/2020', '2/16/2020', '2/22/2020', '1/25/2020', '02/03/20', '1/13/2020', '2/14/2020', '02/09/20', '2/26/2020', '02/07/20', '1/17/2020', '02/04/20', '2/18/2020', '2/17/2020', '2/24/2020', '1/26/2020', 'NaN', '1/30/2020', '1/20/2020', '1/23/2020', '2/27/2020', '1/15/2020', '02/12/20', '02/08/20', '02/05/20', '2/15/2020'}\n",
      "location ######### values:  {0.0, 1.0, 2.0, 3.0, 4.0, 5.0, 6.0, 7.0, 8.0, 9.0, 10.0, 11.0, 12.0, 13.0, 14.0, 15.0, 16.0, 17.0, 18.0, 19.0, 20.0, 21.0, 22.0, 23.0, 24.0, 25.0, 26.0, 27.0, 28.0, 29.0, 30.0, 31.0, 32.0, 33.0, 34.0, 35.0, 36.0, 37.0, 38.0, 39.0, 40.0, 41.0, 42.0, 43.0, 44.0, 45.0, 46.0, 47.0, 48.0, 49.0, 50.0, 51.0, 52.0, 53.0, 54.0, 55.0, 56.0, 57.0, 58.0, 59.0, 60.0, 61.0, 62.0, 63.0, 64.0, 65.0, 66.0, 67.0, 68.0, 69.0, 70.0, 71.0, 72.0, 73.0, 74.0, 75.0, 76.0, 77.0, 78.0, 79.0, 80.0, 81.0, 82.0, 83.0, 84.0, 85.0, 86.0, 87.0, 88.0, 89.0, 90.0, 91.0, 92.0, 93.0, 94.0, 95.0, 96.0, 97.0, 98.0, 99.0, 100.0, 101.0, 102.0, 103.0, 104.0, 105.0, 106.0, 107.0, 108.0, 109.0, 110.0, 111.0, 112.0, 113.0, 114.0, 115.0, 116.0, 117.0, 118.0, 119.0, 120.0, 121.0, 122.0, 123.0, 124.0, 125.0, 126.0, 127.0, 128.0, 129.0, 130.0, 131.0, 132.0, 133.0, 134.0, 135.0, 136.0, 137.0, 138.0, 139.0, 140.0, 141.0, 142.0, 143.0, 144.0, 145.0, 146.0, 147.0, 148.0, 149.0, 150.0, 151.0, 152.0, 153.0, 154.0, 'NaN'}\n",
      "country ######### values:  {0.0, 1.0, 2.0, 3.0, 4.0, 5.0, 6.0, 7.0, 8.0, 9.0, 10.0, 11.0, 12.0, 13.0, 14.0, 15.0, 16.0, 17.0, 18.0, 19.0, 20.0, 21.0, 22.0, 23.0, 24.0, 25.0, 26.0, 27.0, 28.0, 29.0, 30.0, 31.0, 32.0, 33.0, 34.0, 35.0, 36.0, 37.0, 'NaN'}\n",
      "gender ######### values:  {0.0, 1.0, 2.0, 'NaN'}\n",
      "age ######### values:  {0.5, 1.0, 2.0, 0.25, 4.0, 5.0, 6.0, 8.0, 9.0, 11.0, 15.0, 16.0, 18.0, 19.0, 20.0, 21.0, 22.0, 23.0, 24.0, 25.0, 26.0, 27.0, 28.0, 29.0, 30.0, 31.0, 32.0, 33.0, 34.0, 35.0, 36.0, 37.0, 38.0, 39.0, 40.0, 41.0, 42.0, 43.0, 44.0, 45.0, 46.0, 47.0, 48.0, 49.0, 50.0, 51.0, 52.0, 53.0, 54.0, 55.0, 56.0, 57.0, 58.0, 59.0, 60.0, 61.0, 62.0, 63.0, 64.0, 65.0, 66.0, 67.0, 68.0, 69.0, 70.0, 71.0, 72.0, 73.0, 74.0, 75.0, 76.0, 77.0, 78.0, 79.0, 80.0, 81.0, 82.0, 83.0, 84.0, 85.0, 86.0, 87.0, 89.0, 91.0, 96.0, 'NaN'}\n",
      "symptom_onset ######### values:  {'2/20/2020', '1/24/2020', '01/10/20', '01/05/20', '01/21/2020', '02/10/20', '1/28/2020', '2/19/2020', '12/23/2019', '12/22/2019', '01/20/2020', '01/17/2020', '01/03/20', '2/23/2020', '01/13/2020', '01/08/20', '1/29/2020', '01/11/20', '02/01/20', '02/11/20', '2/13/2020', '2/21/2020', '2/25/2020', '02/06/20', '1/22/2020', '1/19/2020', '1/31/2020', '1/16/2020', '01/04/20', '01/12/20', '01/02/20', '02/02/20', '1/21/2020', '2/16/2020', '1/27/2020', '2/22/2020', '1/25/2020', '01/22/2020', '02/03/20', '12/10/19', '1/13/2020', '01/15/2020', '2/14/2020', '01/23/2020', '01/07/20', '02/09/20', '01/18/2020', '2/26/2020', '12/20/2019', '1/17/2020', '1/18/2020', '02/07/20', '02/04/20', '2/18/2020', '2/17/2020', '01/06/20', '1/26/2020', 'NaN', '2/24/2020', '01/09/20', '1/14/2020', '1/30/2020', '1/20/2020', '1/15/2020', '1/23/2020', '02/12/20', '02/08/20', '02/05/20', '12/29/2019', '2/15/2020', '12/30/2019'}\n",
      "If_onset_approximated ######### values:  {0.0, 1.0, 'NaN'}\n",
      "hosp_visit_date ######### values:  {'2/20/2020', '12/27/2019', '1/24/2020', '01/10/20', '01/05/20', '1/28/2020', '02/10/20', '2/19/2020', '1/27/2020', '01/03/20', '2/23/2020', '1/29/2020', '02/01/20', '01/08/20', '01/11/20', '2/13/2020', '02/11/20', '2/21/2020', '12/31/2019', '2/25/2020', '02/06/20', '1/22/2020', '1/19/2020', '1/31/2020', '2/28/2020', '1/16/2020', '01/12/20', '02/02/20', '1/21/2020', '2/16/2020', '2/22/2020', '1/25/2020', '02/03/20', '1/13/2020', '2/14/2020', '02/09/20', '2/26/2020', '1/18/2020', '1/17/2020', '02/07/20', '02/04/20', '2/18/2020', '2/17/2020', '2//2020', '01/06/20', '1/26/2020', 'NaN', '2/24/2020', '01/09/20', '1/14/2020', '2/27/2020', '1/20/2020', '1/15/2020', '1/23/2020', '1/30/2020', '02/12/20', '02/08/20', '2/22/20', '02/05/20', '01/01/20', '2/15/2020'}\n",
      "exposure_start ######### values:  {'2/20/2020', '1/24/2020', '01/10/20', '02/10/20', '1/28/2020', '2/19/2020', '1/27/2020', '01/03/20', '01/13/2020', '01/08/20', '01/11/20', '12/17/2019', '12/24/2019', '02/11/20', '2/21/2020', '1/22/2020', '1/19/2020', '01/12/20', '1/16/2020', '1/21/2020', '1/25/2020', '1/13/2020', '12/20/2019', '1/18/2020', '1/17/2020', '02/04/20', '01/19/2020', '2/17/2020', '01/06/20', '1/26/2020', 'NaN', '01/09/20', '1/14/2020', '1/30/2020', '1/20/2020', '1/15/2020', '1/23/2020', '02/12/20', '2/15/2020'}\n",
      "exposure_end ######### values:  {'2/20/2020', '1/24/2020', '01/10/20', '01/05/20', '1/28/2020', '2/19/2020', '1/27/2020', '01/03/20', '2/23/2020', '01/08/20', '1/29/2020', '02/01/20', '01/11/20', '2/13/2020', '2/21/2020', '2/25/2020', '1/22/2020', '1/19/2020', '1/31/2020', '01/12/20', '01/04/20', '1/16/2020', '01/02/20', '02/02/20', '1/21/2020', '2/16/2020', '2/22/2020', '01/22/2020', '1/25/2020', '02/03/20', '1/13/2020', '01/07/20', '02/09/20', '01/18/2020', '1/18/2020', '1/17/2020', '02/04/20', '2/18/2020', '02/07/20', '2/17/2020', '01/06/20', '2/24/2020', 'NaN', '1/26/2020', '01/09/20', '1/14/2020', '1/30/2020', '1/20/2020', '1/15/2020', '1/23/2020', '02/08/20', '02/05/20', '2/15/2020'}\n",
      "visiting Wuhan ######### values:  {0, 1}\n",
      "from Wuhan ######### values:  {0.0, 1.0, 'NaN'}\n",
      "death ######### values:  {'2/24/2020', '2/25/2020', '0', '2/27/2020', '2/14/2020', '2/28/2020', '2/19/2020', '2/22/2020', '2/23/2020', '02/01/20', '2/26/2020', '2/13/2020', '2/21/2020', '1'}\n",
      "recovered ######### values:  {'2/20/2020', '2/19/2020', '2/23/2020', '2/13/2020', '02/11/20', '2/21/2020', '2/25/2020', '02/06/20', '1/31/2020', '2/28/2020', '02/02/20', '2/16/2020', '1', '2/22/2020', '0', '2/14/2020', '02/09/20', '2/26/2020', '02/07/20', '1/17/2020', '02/04/20', '2/18/2020', '2/17/2020', '2/24/2020', '12/30/1899', '2/27/2020', '1/30/2020', '1/15/2020', '02/12/20', '02/08/20', '02/05/20', '2/15/2020'}\n",
      "symptom ######### values:  {0.0, 1.0, 2.0, 3.0, 4.0, 5.0, 6.0, 7.0, 8.0, 9.0, 10.0, 11.0, 12.0, 13.0, 14.0, 15.0, 16.0, 17.0, 18.0, 19.0, 20.0, 21.0, 22.0, 23.0, 24.0, 25.0, 26.0, 27.0, 28.0, 29.0, 30.0, 31.0, 32.0, 33.0, 34.0, 35.0, 36.0, 37.0, 38.0, 39.0, 40.0, 41.0, 42.0, 43.0, 44.0, 45.0, 46.0, 47.0, 48.0, 49.0, 50.0, 51.0, 52.0, 53.0, 54.0, 55.0, 56.0, 57.0, 58.0, 59.0, 60.0, 61.0, 62.0, 63.0, 64.0, 65.0, 66.0, 67.0, 68.0, 69.0, 70.0, 71.0, 72.0, 73.0, 74.0, 75.0, 76.0, 77.0, 78.0, 79.0, 80.0, 81.0, 82.0, 83.0, 84.0, 85.0, 86.0, 87.0, 88.0, 89.0, 90.0, 91.0, 92.0, 93.0, 94.0, 95.0, 96.0, 97.0, 98.0, 99.0, 100.0, 101.0, 102.0, 103.0, 104.0, 105.0, 106.0, 107.0, 108.0, 'NaN'}\n",
      "outcome ######### values:  {0.0, 1.0, 2.0, 'NaN'}\n"
     ]
    }
   ],
   "source": [
    "data11.fillna(\"NaN\", inplace=True)\n",
    "for col in data11.columns:\n",
    "  print(col, \"######### values: \", set(data11[col]))"
   ]
  },
  {
   "cell_type": "code",
   "execution_count": 48,
   "metadata": {
    "colab": {
     "base_uri": "https://localhost:8080/"
    },
    "id": "aj3gE1Jb0-IB",
    "outputId": "40f5bf45-7af6-44c5-835c-100f3b45b445"
   },
   "outputs": [
    {
     "data": {
      "text/plain": [
       "case_in_country            0\n",
       "reporting date             1\n",
       "location                   1\n",
       "country                    1\n",
       "gender                     1\n",
       "age                      242\n",
       "symptom_onset            522\n",
       "If_onset_approximated    339\n",
       "hosp_visit_date          578\n",
       "exposure_start           957\n",
       "exposure_end             744\n",
       "visiting Wuhan             0\n",
       "from Wuhan                 4\n",
       "death                      0\n",
       "recovered                  0\n",
       "symptom                    1\n",
       "outcome                    1\n",
       "dtype: int64"
      ]
     },
     "execution_count": 48,
     "metadata": {},
     "output_type": "execute_result"
    }
   ],
   "source": [
    "data11.replace(to_replace='NaN',value=np.nan, inplace=True)\n",
    "data11.isna().sum()"
   ]
  },
  {
   "cell_type": "code",
   "execution_count": 49,
   "metadata": {
    "id": "l_hDKiEK1bf3"
   },
   "outputs": [],
   "source": [
    "data11.fillna({'location': data11['location'].mode()[0],\n",
    "           'country': data11['country'].mode()[0],\n",
    "           'gender': data11['gender'].median(), \n",
    "           'age': data11['age'].mean(),\n",
    "           'If_onset_approximated': data11['If_onset_approximated'].mode()[0],\n",
    "           'visiting Wuhan': data11['visiting Wuhan'].median(),\n",
    "           'from Wuhan': data11['from Wuhan'].mode()[0],\n",
    "           'symptom': data11['symptom'].mode()[0] ,\n",
    "           'outcome': data11['outcome'].mode()[0]},inplace=True)"
   ]
  },
  {
   "cell_type": "code",
   "execution_count": 50,
   "metadata": {
    "colab": {
     "base_uri": "https://localhost:8080/"
    },
    "id": "MD_v9yqd6iyI",
    "outputId": "46ca4b0b-ff8e-4c62-bbef-240d2b8db3de"
   },
   "outputs": [
    {
     "data": {
      "text/plain": [
       "case_in_country            0\n",
       "reporting date             1\n",
       "location                   0\n",
       "country                    0\n",
       "gender                     0\n",
       "age                        0\n",
       "symptom_onset            522\n",
       "If_onset_approximated      0\n",
       "hosp_visit_date          578\n",
       "exposure_start           957\n",
       "exposure_end             744\n",
       "visiting Wuhan             0\n",
       "from Wuhan                 0\n",
       "death                      0\n",
       "recovered                  0\n",
       "symptom                    0\n",
       "outcome                    0\n",
       "dtype: int64"
      ]
     },
     "execution_count": 50,
     "metadata": {},
     "output_type": "execute_result"
    }
   ],
   "source": [
    "data11.isna().sum()"
   ]
  },
  {
   "cell_type": "markdown",
   "metadata": {
    "id": "7eGTH8gR3KIS"
   },
   "source": [
    "##A"
   ]
  },
  {
   "cell_type": "code",
   "execution_count": 51,
   "metadata": {
    "colab": {
     "base_uri": "https://localhost:8080/",
     "height": 329
    },
    "id": "ikGqxUgK3Iv6",
    "outputId": "14e2a299-24d1-45dd-f61e-c7847e784e19"
   },
   "outputs": [
    {
     "data": {
      "text/html": [
       "<style  type=\"text/css\" >\n",
       "#T_e849c_row0_col0,#T_e849c_row1_col1,#T_e849c_row2_col2,#T_e849c_row3_col3,#T_e849c_row4_col4,#T_e849c_row5_col5,#T_e849c_row6_col6,#T_e849c_row7_col7,#T_e849c_row8_col8,#T_e849c_row9_col9{\n",
       "            background-color:  #b40426;\n",
       "            color:  #f1f1f1;\n",
       "        }#T_e849c_row0_col1{\n",
       "            background-color:  #6282ea;\n",
       "            color:  #000000;\n",
       "        }#T_e849c_row0_col2,#T_e849c_row0_col5,#T_e849c_row0_col9,#T_e849c_row2_col0,#T_e849c_row2_col3,#T_e849c_row2_col7,#T_e849c_row5_col8,#T_e849c_row7_col6,#T_e849c_row8_col1,#T_e849c_row9_col4{\n",
       "            background-color:  #3b4cc0;\n",
       "            color:  #f1f1f1;\n",
       "        }#T_e849c_row0_col3{\n",
       "            background-color:  #b2ccfb;\n",
       "            color:  #000000;\n",
       "        }#T_e849c_row0_col4,#T_e849c_row9_col6{\n",
       "            background-color:  #85a8fc;\n",
       "            color:  #000000;\n",
       "        }#T_e849c_row0_col6,#T_e849c_row4_col7,#T_e849c_row5_col7{\n",
       "            background-color:  #84a7fc;\n",
       "            color:  #000000;\n",
       "        }#T_e849c_row0_col7{\n",
       "            background-color:  #9abbff;\n",
       "            color:  #000000;\n",
       "        }#T_e849c_row0_col8{\n",
       "            background-color:  #5f7fe8;\n",
       "            color:  #000000;\n",
       "        }#T_e849c_row1_col0{\n",
       "            background-color:  #a1c0ff;\n",
       "            color:  #000000;\n",
       "        }#T_e849c_row1_col2{\n",
       "            background-color:  #d4dbe6;\n",
       "            color:  #000000;\n",
       "        }#T_e849c_row1_col3,#T_e849c_row3_col6{\n",
       "            background-color:  #6b8df0;\n",
       "            color:  #000000;\n",
       "        }#T_e849c_row1_col4,#T_e849c_row7_col9{\n",
       "            background-color:  #6f92f3;\n",
       "            color:  #000000;\n",
       "        }#T_e849c_row1_col5,#T_e849c_row2_col4,#T_e849c_row6_col1{\n",
       "            background-color:  #6180e9;\n",
       "            color:  #000000;\n",
       "        }#T_e849c_row1_col6,#T_e849c_row6_col3{\n",
       "            background-color:  #7da0f9;\n",
       "            color:  #000000;\n",
       "        }#T_e849c_row1_col7{\n",
       "            background-color:  #9ebeff;\n",
       "            color:  #000000;\n",
       "        }#T_e849c_row1_col8,#T_e849c_row3_col5,#T_e849c_row7_col8,#T_e849c_row9_col0{\n",
       "            background-color:  #485fd1;\n",
       "            color:  #f1f1f1;\n",
       "        }#T_e849c_row1_col9{\n",
       "            background-color:  #8badfd;\n",
       "            color:  #000000;\n",
       "        }#T_e849c_row2_col1{\n",
       "            background-color:  #a9c6fd;\n",
       "            color:  #000000;\n",
       "        }#T_e849c_row2_col5,#T_e849c_row7_col4{\n",
       "            background-color:  #80a3fa;\n",
       "            color:  #000000;\n",
       "        }#T_e849c_row2_col6,#T_e849c_row3_col2{\n",
       "            background-color:  #4f69d9;\n",
       "            color:  #000000;\n",
       "        }#T_e849c_row2_col8,#T_e849c_row9_col5{\n",
       "            background-color:  #7597f6;\n",
       "            color:  #000000;\n",
       "        }#T_e849c_row2_col9{\n",
       "            background-color:  #cfdaea;\n",
       "            color:  #000000;\n",
       "        }#T_e849c_row3_col0{\n",
       "            background-color:  #c0d4f5;\n",
       "            color:  #000000;\n",
       "        }#T_e849c_row3_col1{\n",
       "            background-color:  #3d50c3;\n",
       "            color:  #f1f1f1;\n",
       "        }#T_e849c_row3_col4{\n",
       "            background-color:  #7093f3;\n",
       "            color:  #000000;\n",
       "        }#T_e849c_row3_col7{\n",
       "            background-color:  #88abfd;\n",
       "            color:  #000000;\n",
       "        }#T_e849c_row3_col8,#T_e849c_row8_col9{\n",
       "            background-color:  #8fb1fe;\n",
       "            color:  #000000;\n",
       "        }#T_e849c_row3_col9{\n",
       "            background-color:  #89acfd;\n",
       "            color:  #000000;\n",
       "        }#T_e849c_row4_col0,#T_e849c_row6_col0{\n",
       "            background-color:  #a6c4fe;\n",
       "            color:  #000000;\n",
       "        }#T_e849c_row4_col1{\n",
       "            background-color:  #516ddb;\n",
       "            color:  #000000;\n",
       "        }#T_e849c_row4_col2,#T_e849c_row8_col4{\n",
       "            background-color:  #86a9fc;\n",
       "            color:  #000000;\n",
       "        }#T_e849c_row4_col3,#T_e849c_row5_col6{\n",
       "            background-color:  #81a4fb;\n",
       "            color:  #000000;\n",
       "        }#T_e849c_row4_col5,#T_e849c_row6_col8{\n",
       "            background-color:  #4961d2;\n",
       "            color:  #f1f1f1;\n",
       "        }#T_e849c_row4_col6,#T_e849c_row6_col4,#T_e849c_row8_col5{\n",
       "            background-color:  #3e51c5;\n",
       "            color:  #f1f1f1;\n",
       "        }#T_e849c_row4_col8{\n",
       "            background-color:  #799cf8;\n",
       "            color:  #000000;\n",
       "        }#T_e849c_row4_col9{\n",
       "            background-color:  #536edd;\n",
       "            color:  #000000;\n",
       "        }#T_e849c_row5_col0{\n",
       "            background-color:  #6c8ff1;\n",
       "            color:  #000000;\n",
       "        }#T_e849c_row5_col1{\n",
       "            background-color:  #506bda;\n",
       "            color:  #000000;\n",
       "        }#T_e849c_row5_col2{\n",
       "            background-color:  #abc8fd;\n",
       "            color:  #000000;\n",
       "        }#T_e849c_row5_col3{\n",
       "            background-color:  #6485ec;\n",
       "            color:  #000000;\n",
       "        }#T_e849c_row5_col4{\n",
       "            background-color:  #5572df;\n",
       "            color:  #000000;\n",
       "        }#T_e849c_row5_col9{\n",
       "            background-color:  #97b8ff;\n",
       "            color:  #000000;\n",
       "        }#T_e849c_row6_col2,#T_e849c_row6_col5{\n",
       "            background-color:  #7699f6;\n",
       "            color:  #000000;\n",
       "        }#T_e849c_row6_col7{\n",
       "            background-color:  #4055c8;\n",
       "            color:  #f1f1f1;\n",
       "        }#T_e849c_row6_col9{\n",
       "            background-color:  #9bbcff;\n",
       "            color:  #000000;\n",
       "        }#T_e849c_row7_col0{\n",
       "            background-color:  #b5cdfa;\n",
       "            color:  #000000;\n",
       "        }#T_e849c_row7_col1{\n",
       "            background-color:  #7ea1fa;\n",
       "            color:  #000000;\n",
       "        }#T_e849c_row7_col2,#T_e849c_row9_col7{\n",
       "            background-color:  #5b7ae5;\n",
       "            color:  #000000;\n",
       "        }#T_e849c_row7_col3,#T_e849c_row8_col0{\n",
       "            background-color:  #93b5fe;\n",
       "            color:  #000000;\n",
       "        }#T_e849c_row7_col5{\n",
       "            background-color:  #7396f5;\n",
       "            color:  #000000;\n",
       "        }#T_e849c_row8_col2{\n",
       "            background-color:  #a5c3fe;\n",
       "            color:  #000000;\n",
       "        }#T_e849c_row8_col3{\n",
       "            background-color:  #aac7fd;\n",
       "            color:  #000000;\n",
       "        }#T_e849c_row8_col6{\n",
       "            background-color:  #5977e3;\n",
       "            color:  #000000;\n",
       "        }#T_e849c_row8_col7{\n",
       "            background-color:  #5d7ce6;\n",
       "            color:  #000000;\n",
       "        }#T_e849c_row9_col1{\n",
       "            background-color:  #5673e0;\n",
       "            color:  #000000;\n",
       "        }#T_e849c_row9_col2{\n",
       "            background-color:  #d7dce3;\n",
       "            color:  #000000;\n",
       "        }#T_e849c_row9_col3{\n",
       "            background-color:  #82a6fb;\n",
       "            color:  #000000;\n",
       "        }#T_e849c_row9_col8{\n",
       "            background-color:  #688aef;\n",
       "            color:  #000000;\n",
       "        }</style><table id=\"T_e849c_\" ><thead>    <tr>        <th class=\"blank level0\" ></th>        <th class=\"col_heading level0 col0\" >case_in_country</th>        <th class=\"col_heading level0 col1\" >location</th>        <th class=\"col_heading level0 col2\" >country</th>        <th class=\"col_heading level0 col3\" >gender</th>        <th class=\"col_heading level0 col4\" >age</th>        <th class=\"col_heading level0 col5\" >If_onset_approximated</th>        <th class=\"col_heading level0 col6\" >visiting Wuhan</th>        <th class=\"col_heading level0 col7\" >from Wuhan</th>        <th class=\"col_heading level0 col8\" >symptom</th>        <th class=\"col_heading level0 col9\" >outcome</th>    </tr></thead><tbody>\n",
       "                <tr>\n",
       "                        <th id=\"T_e849c_level0_row0\" class=\"row_heading level0 row0\" >case_in_country</th>\n",
       "                        <td id=\"T_e849c_row0_col0\" class=\"data row0 col0\" >1.000000</td>\n",
       "                        <td id=\"T_e849c_row0_col1\" class=\"data row0 col1\" >0.062501</td>\n",
       "                        <td id=\"T_e849c_row0_col2\" class=\"data row0 col2\" >-0.350315</td>\n",
       "                        <td id=\"T_e849c_row0_col3\" class=\"data row0 col3\" >0.191251</td>\n",
       "                        <td id=\"T_e849c_row0_col4\" class=\"data row0 col4\" >0.084018</td>\n",
       "                        <td id=\"T_e849c_row0_col5\" class=\"data row0 col5\" >-0.137631</td>\n",
       "                        <td id=\"T_e849c_row0_col6\" class=\"data row0 col6\" >0.084519</td>\n",
       "                        <td id=\"T_e849c_row0_col7\" class=\"data row0 col7\" >0.141077</td>\n",
       "                        <td id=\"T_e849c_row0_col8\" class=\"data row0 col8\" >0.011200</td>\n",
       "                        <td id=\"T_e849c_row0_col9\" class=\"data row0 col9\" >-0.288117</td>\n",
       "            </tr>\n",
       "            <tr>\n",
       "                        <th id=\"T_e849c_level0_row1\" class=\"row_heading level0 row1\" >location</th>\n",
       "                        <td id=\"T_e849c_row1_col0\" class=\"data row1 col0\" >0.062501</td>\n",
       "                        <td id=\"T_e849c_row1_col1\" class=\"data row1 col1\" >1.000000</td>\n",
       "                        <td id=\"T_e849c_row1_col2\" class=\"data row1 col2\" >0.280310</td>\n",
       "                        <td id=\"T_e849c_row1_col3\" class=\"data row1 col3\" >-0.060632</td>\n",
       "                        <td id=\"T_e849c_row1_col4\" class=\"data row1 col4\" >0.011837</td>\n",
       "                        <td id=\"T_e849c_row1_col5\" class=\"data row1 col5\" >0.003645</td>\n",
       "                        <td id=\"T_e849c_row1_col6\" class=\"data row1 col6\" >0.058119</td>\n",
       "                        <td id=\"T_e849c_row1_col7\" class=\"data row1 col7\" >0.151759</td>\n",
       "                        <td id=\"T_e849c_row1_col8\" class=\"data row1 col8\" >-0.071724</td>\n",
       "                        <td id=\"T_e849c_row1_col9\" class=\"data row1 col9\" >0.024774</td>\n",
       "            </tr>\n",
       "            <tr>\n",
       "                        <th id=\"T_e849c_level0_row2\" class=\"row_heading level0 row2\" >country</th>\n",
       "                        <td id=\"T_e849c_row2_col0\" class=\"data row2 col0\" >-0.350315</td>\n",
       "                        <td id=\"T_e849c_row2_col1\" class=\"data row2 col1\" >0.280310</td>\n",
       "                        <td id=\"T_e849c_row2_col2\" class=\"data row2 col2\" >1.000000</td>\n",
       "                        <td id=\"T_e849c_row2_col3\" class=\"data row2 col3\" >-0.256558</td>\n",
       "                        <td id=\"T_e849c_row2_col4\" class=\"data row2 col4\" >-0.037767</td>\n",
       "                        <td id=\"T_e849c_row2_col5\" class=\"data row2 col5\" >0.103533</td>\n",
       "                        <td id=\"T_e849c_row2_col6\" class=\"data row2 col6\" >-0.102165</td>\n",
       "                        <td id=\"T_e849c_row2_col7\" class=\"data row2 col7\" >-0.207176</td>\n",
       "                        <td id=\"T_e849c_row2_col8\" class=\"data row2 col8\" >0.078821</td>\n",
       "                        <td id=\"T_e849c_row2_col9\" class=\"data row2 col9\" >0.294534</td>\n",
       "            </tr>\n",
       "            <tr>\n",
       "                        <th id=\"T_e849c_level0_row3\" class=\"row_heading level0 row3\" >gender</th>\n",
       "                        <td id=\"T_e849c_row3_col0\" class=\"data row3 col0\" >0.191251</td>\n",
       "                        <td id=\"T_e849c_row3_col1\" class=\"data row3 col1\" >-0.060632</td>\n",
       "                        <td id=\"T_e849c_row3_col2\" class=\"data row3 col2\" >-0.256558</td>\n",
       "                        <td id=\"T_e849c_row3_col3\" class=\"data row3 col3\" >1.000000</td>\n",
       "                        <td id=\"T_e849c_row3_col4\" class=\"data row3 col4\" >0.017204</td>\n",
       "                        <td id=\"T_e849c_row3_col5\" class=\"data row3 col5\" >-0.085697</td>\n",
       "                        <td id=\"T_e849c_row3_col6\" class=\"data row3 col6\" >-0.001026</td>\n",
       "                        <td id=\"T_e849c_row3_col7\" class=\"data row3 col7\" >0.079182</td>\n",
       "                        <td id=\"T_e849c_row3_col8\" class=\"data row3 col8\" >0.161818</td>\n",
       "                        <td id=\"T_e849c_row3_col9\" class=\"data row3 col9\" >0.019340</td>\n",
       "            </tr>\n",
       "            <tr>\n",
       "                        <th id=\"T_e849c_level0_row4\" class=\"row_heading level0 row4\" >age</th>\n",
       "                        <td id=\"T_e849c_row4_col0\" class=\"data row4 col0\" >0.084018</td>\n",
       "                        <td id=\"T_e849c_row4_col1\" class=\"data row4 col1\" >0.011837</td>\n",
       "                        <td id=\"T_e849c_row4_col2\" class=\"data row4 col2\" >-0.037767</td>\n",
       "                        <td id=\"T_e849c_row4_col3\" class=\"data row4 col3\" >0.017204</td>\n",
       "                        <td id=\"T_e849c_row4_col4\" class=\"data row4 col4\" >1.000000</td>\n",
       "                        <td id=\"T_e849c_row4_col5\" class=\"data row4 col5\" >-0.081513</td>\n",
       "                        <td id=\"T_e849c_row4_col6\" class=\"data row4 col6\" >-0.166934</td>\n",
       "                        <td id=\"T_e849c_row4_col7\" class=\"data row4 col7\" >0.066266</td>\n",
       "                        <td id=\"T_e849c_row4_col8\" class=\"data row4 col8\" >0.092606</td>\n",
       "                        <td id=\"T_e849c_row4_col9\" class=\"data row4 col9\" >-0.185155</td>\n",
       "            </tr>\n",
       "            <tr>\n",
       "                        <th id=\"T_e849c_level0_row5\" class=\"row_heading level0 row5\" >If_onset_approximated</th>\n",
       "                        <td id=\"T_e849c_row5_col0\" class=\"data row5 col0\" >-0.137631</td>\n",
       "                        <td id=\"T_e849c_row5_col1\" class=\"data row5 col1\" >0.003645</td>\n",
       "                        <td id=\"T_e849c_row5_col2\" class=\"data row5 col2\" >0.103533</td>\n",
       "                        <td id=\"T_e849c_row5_col3\" class=\"data row5 col3\" >-0.085697</td>\n",
       "                        <td id=\"T_e849c_row5_col4\" class=\"data row5 col4\" >-0.081513</td>\n",
       "                        <td id=\"T_e849c_row5_col5\" class=\"data row5 col5\" >1.000000</td>\n",
       "                        <td id=\"T_e849c_row5_col6\" class=\"data row5 col6\" >0.073508</td>\n",
       "                        <td id=\"T_e849c_row5_col7\" class=\"data row5 col7\" >0.065029</td>\n",
       "                        <td id=\"T_e849c_row5_col8\" class=\"data row5 col8\" >-0.124084</td>\n",
       "                        <td id=\"T_e849c_row5_col9\" class=\"data row5 col9\" >0.070490</td>\n",
       "            </tr>\n",
       "            <tr>\n",
       "                        <th id=\"T_e849c_level0_row6\" class=\"row_heading level0 row6\" >visiting Wuhan</th>\n",
       "                        <td id=\"T_e849c_row6_col0\" class=\"data row6 col0\" >0.084519</td>\n",
       "                        <td id=\"T_e849c_row6_col1\" class=\"data row6 col1\" >0.058119</td>\n",
       "                        <td id=\"T_e849c_row6_col2\" class=\"data row6 col2\" >-0.102165</td>\n",
       "                        <td id=\"T_e849c_row6_col3\" class=\"data row6 col3\" >-0.001026</td>\n",
       "                        <td id=\"T_e849c_row6_col4\" class=\"data row6 col4\" >-0.166934</td>\n",
       "                        <td id=\"T_e849c_row6_col5\" class=\"data row6 col5\" >0.073508</td>\n",
       "                        <td id=\"T_e849c_row6_col6\" class=\"data row6 col6\" >1.000000</td>\n",
       "                        <td id=\"T_e849c_row6_col7\" class=\"data row6 col7\" >-0.182719</td>\n",
       "                        <td id=\"T_e849c_row6_col8\" class=\"data row6 col8\" >-0.067207</td>\n",
       "                        <td id=\"T_e849c_row6_col9\" class=\"data row6 col9\" >0.087759</td>\n",
       "            </tr>\n",
       "            <tr>\n",
       "                        <th id=\"T_e849c_level0_row7\" class=\"row_heading level0 row7\" >from Wuhan</th>\n",
       "                        <td id=\"T_e849c_row7_col0\" class=\"data row7 col0\" >0.141077</td>\n",
       "                        <td id=\"T_e849c_row7_col1\" class=\"data row7 col1\" >0.151759</td>\n",
       "                        <td id=\"T_e849c_row7_col2\" class=\"data row7 col2\" >-0.207176</td>\n",
       "                        <td id=\"T_e849c_row7_col3\" class=\"data row7 col3\" >0.079182</td>\n",
       "                        <td id=\"T_e849c_row7_col4\" class=\"data row7 col4\" >0.066266</td>\n",
       "                        <td id=\"T_e849c_row7_col5\" class=\"data row7 col5\" >0.065029</td>\n",
       "                        <td id=\"T_e849c_row7_col6\" class=\"data row7 col6\" >-0.182719</td>\n",
       "                        <td id=\"T_e849c_row7_col7\" class=\"data row7 col7\" >1.000000</td>\n",
       "                        <td id=\"T_e849c_row7_col8\" class=\"data row7 col8\" >-0.073543</td>\n",
       "                        <td id=\"T_e849c_row7_col9\" class=\"data row7 col9\" >-0.075896</td>\n",
       "            </tr>\n",
       "            <tr>\n",
       "                        <th id=\"T_e849c_level0_row8\" class=\"row_heading level0 row8\" >symptom</th>\n",
       "                        <td id=\"T_e849c_row8_col0\" class=\"data row8 col0\" >0.011200</td>\n",
       "                        <td id=\"T_e849c_row8_col1\" class=\"data row8 col1\" >-0.071724</td>\n",
       "                        <td id=\"T_e849c_row8_col2\" class=\"data row8 col2\" >0.078821</td>\n",
       "                        <td id=\"T_e849c_row8_col3\" class=\"data row8 col3\" >0.161818</td>\n",
       "                        <td id=\"T_e849c_row8_col4\" class=\"data row8 col4\" >0.092606</td>\n",
       "                        <td id=\"T_e849c_row8_col5\" class=\"data row8 col5\" >-0.124084</td>\n",
       "                        <td id=\"T_e849c_row8_col6\" class=\"data row8 col6\" >-0.067207</td>\n",
       "                        <td id=\"T_e849c_row8_col7\" class=\"data row8 col7\" >-0.073543</td>\n",
       "                        <td id=\"T_e849c_row8_col8\" class=\"data row8 col8\" >1.000000</td>\n",
       "                        <td id=\"T_e849c_row8_col9\" class=\"data row8 col9\" >0.041763</td>\n",
       "            </tr>\n",
       "            <tr>\n",
       "                        <th id=\"T_e849c_level0_row9\" class=\"row_heading level0 row9\" >outcome</th>\n",
       "                        <td id=\"T_e849c_row9_col0\" class=\"data row9 col0\" >-0.288117</td>\n",
       "                        <td id=\"T_e849c_row9_col1\" class=\"data row9 col1\" >0.024774</td>\n",
       "                        <td id=\"T_e849c_row9_col2\" class=\"data row9 col2\" >0.294534</td>\n",
       "                        <td id=\"T_e849c_row9_col3\" class=\"data row9 col3\" >0.019340</td>\n",
       "                        <td id=\"T_e849c_row9_col4\" class=\"data row9 col4\" >-0.185155</td>\n",
       "                        <td id=\"T_e849c_row9_col5\" class=\"data row9 col5\" >0.070490</td>\n",
       "                        <td id=\"T_e849c_row9_col6\" class=\"data row9 col6\" >0.087759</td>\n",
       "                        <td id=\"T_e849c_row9_col7\" class=\"data row9 col7\" >-0.075896</td>\n",
       "                        <td id=\"T_e849c_row9_col8\" class=\"data row9 col8\" >0.041763</td>\n",
       "                        <td id=\"T_e849c_row9_col9\" class=\"data row9 col9\" >1.000000</td>\n",
       "            </tr>\n",
       "    </tbody></table>"
      ],
      "text/plain": [
       "<pandas.io.formats.style.Styler at 0x26f26ce1940>"
      ]
     },
     "execution_count": 51,
     "metadata": {},
     "output_type": "execute_result"
    }
   ],
   "source": [
    "corr = data11.corr()\n",
    "corr.style.background_gradient(cmap ='coolwarm')"
   ]
  },
  {
   "cell_type": "markdown",
   "metadata": {
    "id": "YujTOr9q5Ahj"
   },
   "source": [
    "Outcome is highly correlated with country"
   ]
  },
  {
   "cell_type": "markdown",
   "metadata": {
    "id": "aPba_LWv6wWa"
   },
   "source": [
    "##B"
   ]
  },
  {
   "cell_type": "code",
   "execution_count": 52,
   "metadata": {
    "id": "hUnYtVY43OSM"
   },
   "outputs": [],
   "source": [
    "no_dates=[\"case_in_country\",\"location\",\"country\",\"gender\",\"age\",\"If_onset_approximated\",\"visiting Wuhan\",\"from Wuhan\",\"symptom\",\"outcome\"]\n",
    "data12=data11[no_dates]"
   ]
  },
  {
   "cell_type": "code",
   "execution_count": 53,
   "metadata": {
    "id": "Ky2Avipp6gft"
   },
   "outputs": [],
   "source": [
    "pca = PCA(n_components=2)\n",
    "principalComponents = pca.fit_transform(data12)"
   ]
  },
  {
   "cell_type": "code",
   "execution_count": 54,
   "metadata": {
    "colab": {
     "base_uri": "https://localhost:8080/",
     "height": 282
    },
    "id": "XPmQn-p2-ONd",
    "outputId": "839118cd-d055-49fd-aaa6-5b306894aeaa"
   },
   "outputs": [
    {
     "data": {
      "text/plain": [
       "<matplotlib.collections.PathCollection at 0x26f26ee63d0>"
      ]
     },
     "execution_count": 54,
     "metadata": {},
     "output_type": "execute_result"
    },
    {
     "data": {
      "image/png": "[encoded data removed]",
      "text/plain": [
       "<Figure size 432x288 with 1 Axes>"
      ]
     },
     "metadata": {
      "needs_background": "light"
     },
     "output_type": "display_data"
    }
   ],
   "source": [
    "plt.scatter(principalComponents[:,0], principalComponents[:,1])"
   ]
  },
  {
   "cell_type": "markdown",
   "metadata": {
    "id": "WKIMicUZBYYJ"
   },
   "source": [
    "#2- Bayes nets"
   ]
  },
  {
   "cell_type": "markdown",
   "metadata": {
    "id": "w66H9qn9DxvR"
   },
   "source": [
    "A- The probability for a person to have symptoms of COVID-19 (sympton_onset=date) if this person visited Wuhan (visiting Wuhan=1)"
   ]
  },
  {
   "cell_type": "code",
   "execution_count": 55,
   "metadata": {
    "id": "4M8hXfKsrYTG"
   },
   "outputs": [],
   "source": [
    "data11.replace('NaN', np.nan, inplace=True)"
   ]
  },
  {
   "cell_type": "code",
   "execution_count": 56,
   "metadata": {
    "colab": {
     "base_uri": "https://localhost:8080/"
    },
    "id": "B1PAx9Z3BaEi",
    "outputId": "58699937-0bd2-4423-ca8a-65f6ad70a4e1"
   },
   "outputs": [
    {
     "name": "stdout",
     "output_type": "stream",
     "text": [
      "The probability is:  10.70110701107011 %\n"
     ]
    }
   ],
   "source": [
    "p1= (len(data11.loc[(data11[\"symptom_onset\"].notna()) & (data11[\"visiting Wuhan\"]==1)])/len(data11[\"visiting Wuhan\"]==1))*100\n",
    "print(\"The probability is: \", p1, \"%\")"
   ]
  },
  {
   "cell_type": "markdown",
   "metadata": {
    "id": "vB_b73Y7SKRw"
   },
   "source": [
    "B- The probability for a person to be a true patient if this person has symptoms of COVID-19 and this person visited Wuhan"
   ]
  },
  {
   "cell_type": "code",
   "execution_count": 57,
   "metadata": {
    "colab": {
     "base_uri": "https://localhost:8080/"
    },
    "id": "SLy7COxDO3X7",
    "outputId": "4aaee879-25c5-48a6-9867-e2b7db5984bf"
   },
   "outputs": [
    {
     "name": "stdout",
     "output_type": "stream",
     "text": [
      "The probability is:  76.72413793103449 %\n"
     ]
    }
   ],
   "source": [
    "symptoms_wuhan= data11.loc[data11[\"symptom_onset\"].notna() & data11[\"visiting Wuhan\"]==1]\n",
    "truePatient_symtoms_wuhan=data11.loc[(data11[\"symptom_onset\"].notna()) & (data11[\"visiting Wuhan\"]==1) & (data11['hosp_visit_date'].notna())]\n",
    "p2=(len(truePatient_symtoms_wuhan)/len(symptoms_wuhan))*100\n",
    "print(\"The probability is: \", p2, \"%\")"
   ]
  },
  {
   "cell_type": "markdown",
   "metadata": {
    "id": "d8enCMAYakbT"
   },
   "source": [
    "C- The probability for a person to death if this person visited Wuhan"
   ]
  },
  {
   "cell_type": "code",
   "execution_count": 58,
   "metadata": {
    "colab": {
     "base_uri": "https://localhost:8080/"
    },
    "id": "aVC98O1PaDjU",
    "outputId": "0db87a1a-4183-4800-acae-bc79e29004f3"
   },
   "outputs": [
    {
     "name": "stdout",
     "output_type": "stream",
     "text": [
      "The probability is:  100.0 %\n"
     ]
    }
   ],
   "source": [
    "visit_wuhan= data11.loc[data11[\"visiting Wuhan\"]==1]\n",
    "death_wuhan= data11.loc[(data11[\"death\"].notna()) & (data11[\"visiting Wuhan\"]==1)]\n",
    "p3= (len(death_wuhan)/len(visit_wuhan))*100\n",
    "print(\"The probability is: \", p3, \"%\")"
   ]
  },
  {
   "cell_type": "markdown",
   "metadata": {
    "id": "QK7DwoGerscW"
   },
   "source": [
    "#D- the average recovery interval for a patient if this person visited Wuhan"
   ]
  },
  {
   "cell_type": "code",
   "execution_count": 59,
   "metadata": {
    "colab": {
     "base_uri": "https://localhost:8080/"
    },
    "id": "30Qor2OBd6Ya",
    "outputId": "cd067b71-169d-4ed4-92b2-489de3583303"
   },
   "outputs": [
    {
     "data": {
      "text/html": [
       "<div>\n",
       "<style scoped>\n",
       "    .dataframe tbody tr th:only-of-type {\n",
       "        vertical-align: middle;\n",
       "    }\n",
       "\n",
       "    .dataframe tbody tr th {\n",
       "        vertical-align: top;\n",
       "    }\n",
       "\n",
       "    .dataframe thead th {\n",
       "        text-align: right;\n",
       "    }\n",
       "</style>\n",
       "<table border=\"1\" class=\"dataframe\">\n",
       "  <thead>\n",
       "    <tr style=\"text-align: right;\">\n",
       "      <th></th>\n",
       "      <th>case_in_country</th>\n",
       "      <th>reporting date</th>\n",
       "      <th>location</th>\n",
       "      <th>country</th>\n",
       "      <th>gender</th>\n",
       "      <th>age</th>\n",
       "      <th>symptom_onset</th>\n",
       "      <th>If_onset_approximated</th>\n",
       "      <th>hosp_visit_date</th>\n",
       "      <th>exposure_start</th>\n",
       "      <th>exposure_end</th>\n",
       "      <th>visiting Wuhan</th>\n",
       "      <th>from Wuhan</th>\n",
       "      <th>death</th>\n",
       "      <th>recovered</th>\n",
       "      <th>symptom</th>\n",
       "      <th>outcome</th>\n",
       "    </tr>\n",
       "  </thead>\n",
       "  <tbody>\n",
       "  </tbody>\n",
       "</table>\n",
       "</div>"
      ],
      "text/plain": [
       "Empty DataFrame\n",
       "Columns: [case_in_country, reporting date, location, country, gender, age, symptom_onset, If_onset_approximated, hosp_visit_date, exposure_start, exposure_end, visiting Wuhan, from Wuhan, death, recovered, symptom, outcome]\n",
       "Index: []"
      ]
     },
     "execution_count": 59,
     "metadata": {},
     "output_type": "execute_result"
    }
   ],
   "source": [
    "# data11.columns\n",
    "data11.loc[data11[\"outcome\"] == 'recovered']"
   ]
  },
  {
   "cell_type": "code",
   "execution_count": 60,
   "metadata": {
    "id": "i-qmLhK8r2u4"
   },
   "outputs": [],
   "source": [
    "data12=data11.copy()\n",
    "data12['symptom_onset2']=pd.to_datetime(data12['symptom_onset'], errors=\"coerce\")\n",
    "data12['recovered2']=pd.to_datetime(data12['recovered'], errors=\"coerce\")"
   ]
  },
  {
   "cell_type": "code",
   "execution_count": 61,
   "metadata": {
    "colab": {
     "base_uri": "https://localhost:8080/",
     "height": 419
    },
    "id": "Fh1wMwtyIR01",
    "outputId": "ab774f63-4845-4fd0-bee5-021d696bbf54"
   },
   "outputs": [
    {
     "data": {
      "text/html": [
       "<div>\n",
       "<style scoped>\n",
       "    .dataframe tbody tr th:only-of-type {\n",
       "        vertical-align: middle;\n",
       "    }\n",
       "\n",
       "    .dataframe tbody tr th {\n",
       "        vertical-align: top;\n",
       "    }\n",
       "\n",
       "    .dataframe thead th {\n",
       "        text-align: right;\n",
       "    }\n",
       "</style>\n",
       "<table border=\"1\" class=\"dataframe\">\n",
       "  <thead>\n",
       "    <tr style=\"text-align: right;\">\n",
       "      <th></th>\n",
       "      <th>recovered</th>\n",
       "      <th>recovered2</th>\n",
       "    </tr>\n",
       "  </thead>\n",
       "  <tbody>\n",
       "    <tr>\n",
       "      <th>1</th>\n",
       "      <td>0</td>\n",
       "      <td>NaT</td>\n",
       "    </tr>\n",
       "    <tr>\n",
       "      <th>2</th>\n",
       "      <td>0</td>\n",
       "      <td>NaT</td>\n",
       "    </tr>\n",
       "    <tr>\n",
       "      <th>3</th>\n",
       "      <td>0</td>\n",
       "      <td>NaT</td>\n",
       "    </tr>\n",
       "    <tr>\n",
       "      <th>4</th>\n",
       "      <td>0</td>\n",
       "      <td>NaT</td>\n",
       "    </tr>\n",
       "    <tr>\n",
       "      <th>5</th>\n",
       "      <td>0</td>\n",
       "      <td>NaT</td>\n",
       "    </tr>\n",
       "    <tr>\n",
       "      <th>...</th>\n",
       "      <td>...</td>\n",
       "      <td>...</td>\n",
       "    </tr>\n",
       "    <tr>\n",
       "      <th>1080</th>\n",
       "      <td>0</td>\n",
       "      <td>NaT</td>\n",
       "    </tr>\n",
       "    <tr>\n",
       "      <th>1081</th>\n",
       "      <td>0</td>\n",
       "      <td>NaT</td>\n",
       "    </tr>\n",
       "    <tr>\n",
       "      <th>1082</th>\n",
       "      <td>0</td>\n",
       "      <td>NaT</td>\n",
       "    </tr>\n",
       "    <tr>\n",
       "      <th>1083</th>\n",
       "      <td>0</td>\n",
       "      <td>NaT</td>\n",
       "    </tr>\n",
       "    <tr>\n",
       "      <th>1084</th>\n",
       "      <td>0</td>\n",
       "      <td>NaT</td>\n",
       "    </tr>\n",
       "  </tbody>\n",
       "</table>\n",
       "<p>932 rows × 2 columns</p>\n",
       "</div>"
      ],
      "text/plain": [
       "     recovered recovered2\n",
       "1            0        NaT\n",
       "2            0        NaT\n",
       "3            0        NaT\n",
       "4            0        NaT\n",
       "5            0        NaT\n",
       "...        ...        ...\n",
       "1080         0        NaT\n",
       "1081         0        NaT\n",
       "1082         0        NaT\n",
       "1083         0        NaT\n",
       "1084         0        NaT\n",
       "\n",
       "[932 rows x 2 columns]"
      ]
     },
     "execution_count": 61,
     "metadata": {},
     "output_type": "execute_result"
    }
   ],
   "source": [
    "#lines that we couldn't parse all all zeros\n",
    "data12['recovered']= data12['recovered'].replace('NaN', None)\n",
    "data12[['recovered', 'recovered2']].loc[data12['recovered2'].isna() & data12['recovered'].notna()]\n",
    "  "
   ]
  },
  {
   "cell_type": "code",
   "execution_count": 62,
   "metadata": {
    "colab": {
     "base_uri": "https://localhost:8080/",
     "height": 576
    },
    "id": "LcQElK-hLKjp",
    "outputId": "2371400e-1ad2-4f03-eb78-95cd0d5196e8"
   },
   "outputs": [
    {
     "data": {
      "text/html": [
       "<div>\n",
       "<style scoped>\n",
       "    .dataframe tbody tr th:only-of-type {\n",
       "        vertical-align: middle;\n",
       "    }\n",
       "\n",
       "    .dataframe tbody tr th {\n",
       "        vertical-align: top;\n",
       "    }\n",
       "\n",
       "    .dataframe thead th {\n",
       "        text-align: right;\n",
       "    }\n",
       "</style>\n",
       "<table border=\"1\" class=\"dataframe\">\n",
       "  <thead>\n",
       "    <tr style=\"text-align: right;\">\n",
       "      <th></th>\n",
       "      <th>symptom_onset2</th>\n",
       "      <th>recovered2</th>\n",
       "      <th>recovery_period</th>\n",
       "    </tr>\n",
       "  </thead>\n",
       "  <tbody>\n",
       "    <tr>\n",
       "      <th>236</th>\n",
       "      <td>2020-01-03</td>\n",
       "      <td>2020-01-15</td>\n",
       "      <td>12 days</td>\n",
       "    </tr>\n",
       "    <tr>\n",
       "      <th>319</th>\n",
       "      <td>2020-02-14</td>\n",
       "      <td>1899-12-30</td>\n",
       "      <td>-43875 days</td>\n",
       "    </tr>\n",
       "    <tr>\n",
       "      <th>457</th>\n",
       "      <td>2020-01-24</td>\n",
       "      <td>2020-02-18</td>\n",
       "      <td>25 days</td>\n",
       "    </tr>\n",
       "    <tr>\n",
       "      <th>458</th>\n",
       "      <td>2020-01-24</td>\n",
       "      <td>2020-02-23</td>\n",
       "      <td>30 days</td>\n",
       "    </tr>\n",
       "    <tr>\n",
       "      <th>459</th>\n",
       "      <td>2020-01-21</td>\n",
       "      <td>2020-02-09</td>\n",
       "      <td>19 days</td>\n",
       "    </tr>\n",
       "    <tr>\n",
       "      <th>463</th>\n",
       "      <td>2020-01-28</td>\n",
       "      <td>2020-02-17</td>\n",
       "      <td>20 days</td>\n",
       "    </tr>\n",
       "    <tr>\n",
       "      <th>464</th>\n",
       "      <td>2020-01-30</td>\n",
       "      <td>2020-02-17</td>\n",
       "      <td>18 days</td>\n",
       "    </tr>\n",
       "    <tr>\n",
       "      <th>465</th>\n",
       "      <td>2020-01-23</td>\n",
       "      <td>2020-02-20</td>\n",
       "      <td>28 days</td>\n",
       "    </tr>\n",
       "    <tr>\n",
       "      <th>466</th>\n",
       "      <td>2020-01-30</td>\n",
       "      <td>2020-02-11</td>\n",
       "      <td>12 days</td>\n",
       "    </tr>\n",
       "    <tr>\n",
       "      <th>544</th>\n",
       "      <td>2020-01-10</td>\n",
       "      <td>2020-02-04</td>\n",
       "      <td>25 days</td>\n",
       "    </tr>\n",
       "    <tr>\n",
       "      <th>555</th>\n",
       "      <td>2020-02-01</td>\n",
       "      <td>2020-02-24</td>\n",
       "      <td>23 days</td>\n",
       "    </tr>\n",
       "    <tr>\n",
       "      <th>694</th>\n",
       "      <td>2020-01-13</td>\n",
       "      <td>2020-02-06</td>\n",
       "      <td>24 days</td>\n",
       "    </tr>\n",
       "    <tr>\n",
       "      <th>732</th>\n",
       "      <td>2020-01-16</td>\n",
       "      <td>2020-02-20</td>\n",
       "      <td>35 days</td>\n",
       "    </tr>\n",
       "    <tr>\n",
       "      <th>733</th>\n",
       "      <td>2020-01-16</td>\n",
       "      <td>2020-02-06</td>\n",
       "      <td>21 days</td>\n",
       "    </tr>\n",
       "    <tr>\n",
       "      <th>767</th>\n",
       "      <td>2020-01-24</td>\n",
       "      <td>2020-02-13</td>\n",
       "      <td>20 days</td>\n",
       "    </tr>\n",
       "    <tr>\n",
       "      <th>768</th>\n",
       "      <td>2020-01-20</td>\n",
       "      <td>2020-01-30</td>\n",
       "      <td>10 days</td>\n",
       "    </tr>\n",
       "    <tr>\n",
       "      <th>770</th>\n",
       "      <td>2020-01-24</td>\n",
       "      <td>2020-02-02</td>\n",
       "      <td>9 days</td>\n",
       "    </tr>\n",
       "  </tbody>\n",
       "</table>\n",
       "</div>"
      ],
      "text/plain": [
       "    symptom_onset2 recovered2 recovery_period\n",
       "236     2020-01-03 2020-01-15         12 days\n",
       "319     2020-02-14 1899-12-30     -43875 days\n",
       "457     2020-01-24 2020-02-18         25 days\n",
       "458     2020-01-24 2020-02-23         30 days\n",
       "459     2020-01-21 2020-02-09         19 days\n",
       "463     2020-01-28 2020-02-17         20 days\n",
       "464     2020-01-30 2020-02-17         18 days\n",
       "465     2020-01-23 2020-02-20         28 days\n",
       "466     2020-01-30 2020-02-11         12 days\n",
       "544     2020-01-10 2020-02-04         25 days\n",
       "555     2020-02-01 2020-02-24         23 days\n",
       "694     2020-01-13 2020-02-06         24 days\n",
       "732     2020-01-16 2020-02-20         35 days\n",
       "733     2020-01-16 2020-02-06         21 days\n",
       "767     2020-01-24 2020-02-13         20 days\n",
       "768     2020-01-20 2020-01-30         10 days\n",
       "770     2020-01-24 2020-02-02          9 days"
      ]
     },
     "execution_count": 62,
     "metadata": {},
     "output_type": "execute_result"
    }
   ],
   "source": [
    "correct_format=data12[['symptom_onset2', 'recovered2']].loc[data12['symptom_onset2'].notna() & data12['recovered2'].notna() & data12[\"visiting Wuhan\"]==1]\n",
    "correct_format['recovery_period']=data12['recovered2']-data12['symptom_onset2']\n",
    "correct_format"
   ]
  },
  {
   "cell_type": "code",
   "execution_count": 63,
   "metadata": {
    "colab": {
     "base_uri": "https://localhost:8080/"
    },
    "id": "AuViwivZNAK1",
    "outputId": "9dc924c8-037d-408e-cb71-146182b481a1"
   },
   "outputs": [
    {
     "name": "stdout",
     "output_type": "stream",
     "text": [
      "The average recovery interval for a person who has visited Wuhan is:  20 days 16:30:00\n"
     ]
    }
   ],
   "source": [
    "from datetime import datetime, timedelta\n",
    "correct_format= correct_format.loc[correct_format['recovery_period']>timedelta(days=0)]\n",
    "print('The average recovery interval for a person who has visited Wuhan is: ', correct_format['recovery_period'].mean())\n"
   ]
  },
  {
   "cell_type": "markdown",
   "metadata": {
    "id": "xxOj1LpGRR1l"
   },
   "source": [
    "# 3- Machine learning"
   ]
  },
  {
   "cell_type": "markdown",
   "metadata": {},
   "source": [
    "### A"
   ]
  },
  {
   "cell_type": "code",
   "execution_count": 81,
   "metadata": {},
   "outputs": [],
   "source": [
    "X=data12[['location', 'country', 'gender','If_onset_approximated',\n",
    "        'visiting Wuhan', 'from Wuhan', 'symptom','age']]\n",
    "y=data12.outcome"
   ]
  },
  {
   "cell_type": "code",
   "execution_count": 82,
   "metadata": {},
   "outputs": [],
   "source": [
    "from sklearn.model_selection import train_test_split\n",
    "\n",
    "xtrain, xtest, ytrain, ytest = train_test_split(X, y, train_size=0.8)"
   ]
  },
  {
   "cell_type": "code",
   "execution_count": 85,
   "metadata": {},
   "outputs": [
    {
     "data": {
      "image/png": "[encoded data removed]",
      "text/plain": [
       "<Figure size 432x288 with 1 Axes>"
      ]
     },
     "metadata": {
      "needs_background": "light"
     },
     "output_type": "display_data"
    }
   ],
   "source": [
    "errors = []\n",
    "for k in range(2,15):\n",
    "    knn = neighbors.KNeighborsClassifier(k)\n",
    "    errors.append(100*(1 - knn.fit(xtrain, ytrain).score(xtest, ytest)))\n",
    "plt.plot(range(2,15), errors, 'o-')\n",
    "plt.show()\n",
    "# 22 will give us the best results"
   ]
  },
  {
   "cell_type": "code",
   "execution_count": 87,
   "metadata": {},
   "outputs": [
    {
     "data": {
      "text/plain": [
       "KNeighborsClassifier(n_neighbors=22)"
      ]
     },
     "execution_count": 87,
     "metadata": {},
     "output_type": "execute_result"
    }
   ],
   "source": [
    "from sklearn import neighbors\n",
    "\n",
    "knn = neighbors.KNeighborsClassifier(n_neighbors=22)\n",
    "knn.fit(xtrain, ytrain)"
   ]
  },
  {
   "cell_type": "code",
   "execution_count": 89,
   "metadata": {},
   "outputs": [
    {
     "name": "stdout",
     "output_type": "stream",
     "text": [
      "accuracy: 0.788018\n"
     ]
    }
   ],
   "source": [
    "accuracy =  knn.score(xtest, ytest)\n",
    "print('accuracy: %f' % accuracy)\n",
    "# 0.78 is not bad as a first result now we need to tune our model for this dataset"
   ]
  },
  {
   "cell_type": "markdown",
   "metadata": {
    "id": "jhT3j9t9VvI1"
   },
   "source": [
    "## B"
   ]
  },
  {
   "cell_type": "code",
   "execution_count": 64,
   "metadata": {
    "colab": {
     "base_uri": "https://localhost:8080/"
    },
    "id": "pHgjldwjP7eg",
    "outputId": "7cc4f2e0-5ad5-4898-81e7-94a26c57efba"
   },
   "outputs": [
    {
     "data": {
      "text/plain": [
       "Index(['case_in_country', 'reporting date', 'location', 'country', 'gender',\n",
       "       'age', 'symptom_onset', 'If_onset_approximated', 'hosp_visit_date',\n",
       "       'exposure_start', 'exposure_end', 'visiting Wuhan', 'from Wuhan',\n",
       "       'death', 'recovered', 'symptom', 'outcome', 'symptom_onset2',\n",
       "       'recovered2'],\n",
       "      dtype='object')"
      ]
     },
     "execution_count": 64,
     "metadata": {},
     "output_type": "execute_result"
    }
   ],
   "source": [
    "data12.columns"
   ]
  },
  {
   "cell_type": "code",
   "execution_count": 76,
   "metadata": {
    "id": "UyqzBlKARpJ-"
   },
   "outputs": [],
   "source": [
    "#Use the Regression to predict the age of persons based on other variables\n",
    "X=data12[['location', 'country', 'gender','If_onset_approximated',\n",
    "        'visiting Wuhan', 'from Wuhan', 'symptom','outcome']]\n",
    "y=data12.age"
   ]
  },
  {
   "cell_type": "code",
   "execution_count": 78,
   "metadata": {
    "colab": {
     "base_uri": "https://localhost:8080/",
     "height": 231
    },
    "id": "7obdOe4IR3Jx",
    "outputId": "67834684-9544-4c48-bba6-eec5b4baa77a"
   },
   "outputs": [
    {
     "name": "stdout",
     "output_type": "stream",
     "text": [
      "Mean Squared Error of Linear regression on outcome: \n",
      "Train:  247.07544105565165\n",
      "Test:  217.29213444277678\n"
     ]
    }
   ],
   "source": [
    "X_train, X_test, y_train, y_test = train_test_split(X, y, test_size=0.2, shuffle=True)\n",
    "scaler=StandardScaler()\n",
    "X_train_scaled=scaler.fit_transform(X_train)\n",
    "X_test_scaled=scaler.fit_transform(X_test)\n",
    "model=lr()\n",
    "model.fit(X_train_scaled, y_train);\n",
    "y_train_pred=model.predict(X_train_scaled)\n",
    "y_test_pred=model.predict(X_test_scaled)\n",
    "train_mse=mse(y_train_pred, y_train)\n",
    "test_mse=mse(y_test_pred, y_test)\n",
    "print('Mean Squared Error of Linear regression on outcome: ')\n",
    "print('Train: ', train_mse)\n",
    "print('Test: ', test_mse)\n",
    "# these values are really good because first of all they are really high which \n",
    "# means the values are not close close to the regression line and the difference betwenn these values \n",
    "# is low for training and testing datasets => less accured"
   ]
  },
  {
   "cell_type": "markdown",
   "metadata": {
    "id": "XM10mNAEWBYj"
   },
   "source": [
    "C"
   ]
  },
  {
   "cell_type": "code",
   "execution_count": 74,
   "metadata": {
    "colab": {
     "base_uri": "https://localhost:8080/"
    },
    "id": "JbTpE_e9Yg1j",
    "outputId": "d2dc964d-c5b7-411b-d5f3-0e09717074d2"
   },
   "outputs": [
    {
     "name": "stdout",
     "output_type": "stream",
     "text": [
      "Best number of clusters based on Silhouette score is:  2\n"
     ]
    }
   ],
   "source": [
    "max_score=-1\n",
    "best_n=0\n",
    "for n in range(2,10):\n",
    "  cl=KMeans(n_clusters=n).fit(X)\n",
    "  labels=cl.labels_\n",
    "  score= silhouette_score(X, labels)\n",
    "  if score > max_score:\n",
    "    max_score=score\n",
    "    best_n= n\n",
    "print('Best number of clusters based on Silhouette score is: ', best_n)"
   ]
  },
  {
   "cell_type": "code",
   "execution_count": 75,
   "metadata": {
    "colab": {
     "base_uri": "https://localhost:8080/",
     "height": 265
    },
    "id": "WWj0oEXVWV5c",
    "outputId": "4fed0032-0cc0-451d-87b5-08275b642061"
   },
   "outputs": [
    {
     "data": {
      "text/plain": [
       "<matplotlib.collections.PathCollection at 0x26f26cc7af0>"
      ]
     },
     "execution_count": 75,
     "metadata": {},
     "output_type": "execute_result"
    },
    {
     "data": {
      "image/png": "[encoded data removed]",
      "text/plain": [
       "<Figure size 432x288 with 1 Axes>"
      ]
     },
     "metadata": {
      "needs_background": "light"
     },
     "output_type": "display_data"
    }
   ],
   "source": [
    "cl=KMeans(n_clusters=best_n).fit(X)\n",
    "labels=cl.labels_\n",
    "clusters_colors=list(map(lambda v: ['red', 'green','blue', 'black'][v], labels));\n",
    "pca = PCA(n_components=2)\n",
    "principalComponents = pca.fit_transform(X)\n",
    "plt.scatter(principalComponents[:,0], principalComponents[:,1], c=clusters_colors)"
   ]
  },
  {
   "cell_type": "markdown",
   "metadata": {},
   "source": [
    "# Improving the results and Theoretical formalism"
   ]
  },
  {
   "cell_type": "markdown",
   "metadata": {},
   "source": [
    "# A- \n",
    "Random undersampling deletes examples from the majority class and can result in losing information invaluable to a model.This has the effect of reducing the number of examples in the majority class in the transformed version of the training dataset. This process can be repeated until the desired class distribution is achieved, such as an equal number of examples for each class. So the predicted result will be more accurate if it is from the majority side."
   ]
  },
  {
   "cell_type": "markdown",
   "metadata": {},
   "source": [
    "# B-\n",
    "Predicting The Missing Values\n",
    "Using the features which do not have missing values, we can predict the nulls with the help of a machine learning algorithm. This method may result in better accuracy, unless a missing value is expected to have a very high variance. We will be using linear regression to replace the nulls in the feature ‘age’, using other available features. One can experiment with different algorithms and check which gives the best accuracy instead of sticking to a single algorithm."
   ]
  }
 ],
 "metadata": {
  "colab": {
   "collapsed_sections": [],
   "name": "Yassine_AI_Project.ipynb",
   "provenance": [],
   "toc_visible": true
  },
  "kernelspec": {
   "display_name": "Python 3",
   "language": "python",
   "name": "python3"
  },
  "language_info": {
   "codemirror_mode": {
    "name": "ipython",
    "version": 3
   },
   "file_extension": ".py",
   "mimetype": "text/x-python",
   "name": "python",
   "nbconvert_exporter": "python",
   "pygments_lexer": "ipython3",
   "version": "3.8.8"
  }
 },
 "nbformat": 4,
 "nbformat_minor": 1
}
